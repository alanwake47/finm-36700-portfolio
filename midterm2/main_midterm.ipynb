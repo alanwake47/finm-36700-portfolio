{
 "cells": [
  {
   "cell_type": "code",
   "execution_count": 52,
   "metadata": {},
   "outputs": [],
   "source": [
    "import pandas as pd\n",
    "import numpy as np\n",
    "import matplotlib.pyplot as plt\n",
    "import statsmodels.api as sm\n",
    "from arch import arch_model\n",
    "from arch.univariate import GARCH, EWMAVariance \n",
    "from sklearn import linear_model\n",
    "import scipy.stats as stats\n",
    "from statsmodels.regression.rolling import RollingOLS\n",
    "from sklearn.linear_model import LinearRegression\n",
    "import seaborn as sns\n",
    "import warnings\n",
    "from scipy.stats import norm\n",
    "warnings.filterwarnings(\"ignore\")\n",
    "pd.set_option(\"display.precision\", 5)"
   ]
  },
  {
   "cell_type": "code",
   "execution_count": 53,
   "metadata": {},
   "outputs": [
    {
     "data": {
      "text/html": [
       "<div>\n",
       "<style scoped>\n",
       "    .dataframe tbody tr th:only-of-type {\n",
       "        vertical-align: middle;\n",
       "    }\n",
       "\n",
       "    .dataframe tbody tr th {\n",
       "        vertical-align: top;\n",
       "    }\n",
       "\n",
       "    .dataframe thead th {\n",
       "        text-align: right;\n",
       "    }\n",
       "</style>\n",
       "<table border=\"1\" class=\"dataframe\">\n",
       "  <thead>\n",
       "    <tr style=\"text-align: right;\">\n",
       "      <th></th>\n",
       "      <th>MKT</th>\n",
       "      <th>RMW</th>\n",
       "    </tr>\n",
       "    <tr>\n",
       "      <th>Date</th>\n",
       "      <th></th>\n",
       "      <th></th>\n",
       "    </tr>\n",
       "  </thead>\n",
       "  <tbody>\n",
       "    <tr>\n",
       "      <th>2009-04-30</th>\n",
       "      <td>0.1018</td>\n",
       "      <td>0.0131</td>\n",
       "    </tr>\n",
       "    <tr>\n",
       "      <th>2009-05-31</th>\n",
       "      <td>0.0521</td>\n",
       "      <td>-0.0078</td>\n",
       "    </tr>\n",
       "  </tbody>\n",
       "</table>\n",
       "</div>"
      ],
      "text/plain": [
       "               MKT     RMW\n",
       "Date                      \n",
       "2009-04-30  0.1018  0.0131\n",
       "2009-05-31  0.0521 -0.0078"
      ]
     },
     "execution_count": 53,
     "metadata": {},
     "output_type": "execute_result"
    }
   ],
   "source": [
    "assets = pd.read_excel('midterm_2.xlsx', 0, index_col=0)\n",
    "factors = pd.read_excel('midterm_2.xlsx', 1, index_col=0)\n",
    "factors.head(2)"
   ]
  },
  {
   "cell_type": "code",
   "execution_count": 54,
   "metadata": {},
   "outputs": [
    {
     "data": {
      "text/html": [
       "<div>\n",
       "<style scoped>\n",
       "    .dataframe tbody tr th:only-of-type {\n",
       "        vertical-align: middle;\n",
       "    }\n",
       "\n",
       "    .dataframe tbody tr th {\n",
       "        vertical-align: top;\n",
       "    }\n",
       "\n",
       "    .dataframe thead th {\n",
       "        text-align: right;\n",
       "    }\n",
       "</style>\n",
       "<table border=\"1\" class=\"dataframe\">\n",
       "  <thead>\n",
       "    <tr style=\"text-align: right;\">\n",
       "      <th></th>\n",
       "      <th>BWX</th>\n",
       "      <th>DBC</th>\n",
       "      <th>EEM</th>\n",
       "      <th>EFA</th>\n",
       "      <th>HYG</th>\n",
       "      <th>IEF</th>\n",
       "      <th>IYR</th>\n",
       "      <th>PSP</th>\n",
       "      <th>QAI</th>\n",
       "      <th>SPY</th>\n",
       "      <th>TIP</th>\n",
       "    </tr>\n",
       "    <tr>\n",
       "      <th>Date</th>\n",
       "      <th></th>\n",
       "      <th></th>\n",
       "      <th></th>\n",
       "      <th></th>\n",
       "      <th></th>\n",
       "      <th></th>\n",
       "      <th></th>\n",
       "      <th></th>\n",
       "      <th></th>\n",
       "      <th></th>\n",
       "      <th></th>\n",
       "    </tr>\n",
       "  </thead>\n",
       "  <tbody>\n",
       "    <tr>\n",
       "      <th>2009-04-30</th>\n",
       "      <td>0.00844</td>\n",
       "      <td>-0.00155</td>\n",
       "      <td>0.15503</td>\n",
       "      <td>0.11464</td>\n",
       "      <td>0.13791</td>\n",
       "      <td>-0.0280</td>\n",
       "      <td>0.2956</td>\n",
       "      <td>0.22965</td>\n",
       "      <td>0.02233</td>\n",
       "      <td>0.09879</td>\n",
       "      <td>-0.01850</td>\n",
       "    </tr>\n",
       "    <tr>\n",
       "      <th>2009-05-31</th>\n",
       "      <td>0.05414</td>\n",
       "      <td>0.16313</td>\n",
       "      <td>0.15987</td>\n",
       "      <td>0.13239</td>\n",
       "      <td>0.02903</td>\n",
       "      <td>-0.0203</td>\n",
       "      <td>0.0232</td>\n",
       "      <td>0.05436</td>\n",
       "      <td>0.02834</td>\n",
       "      <td>0.05892</td>\n",
       "      <td>0.02044</td>\n",
       "    </tr>\n",
       "  </tbody>\n",
       "</table>\n",
       "</div>"
      ],
      "text/plain": [
       "                BWX      DBC      EEM      EFA      HYG     IEF     IYR  \\\n",
       "Date                                                                      \n",
       "2009-04-30  0.00844 -0.00155  0.15503  0.11464  0.13791 -0.0280  0.2956   \n",
       "2009-05-31  0.05414  0.16313  0.15987  0.13239  0.02903 -0.0203  0.0232   \n",
       "\n",
       "                PSP      QAI      SPY      TIP  \n",
       "Date                                            \n",
       "2009-04-30  0.22965  0.02233  0.09879 -0.01850  \n",
       "2009-05-31  0.05436  0.02834  0.05892  0.02044  "
      ]
     },
     "execution_count": 54,
     "metadata": {},
     "output_type": "execute_result"
    }
   ],
   "source": [
    "assets.head(2)"
   ]
  },
  {
   "cell_type": "markdown",
   "metadata": {},
   "source": [
    "# 1 Short Answer"
   ]
  },
  {
   "cell_type": "markdown",
   "metadata": {},
   "source": [
    "### 1.1 What is done in the construction of the value factor, HML, to reduce its correlation to\n",
    "- MKT?\n",
    "- SMB?"
   ]
  },
  {
   "cell_type": "markdown",
   "metadata": {},
   "source": [
    "Ans:- Given that small cap and value stocks are imperfectly correlated with the overall market, these holdings will reduce risk at the margin for any investor completely invested in funds tracking the broader equity\n",
    "index. Thus, DFA's proposition to investors is that their funds can diversify a portfolio while adding edge relative to other small-cap and value-stock investments, through their efficient trading and deeper understanding of these factors"
   ]
  },
  {
   "cell_type": "markdown",
   "metadata": {},
   "source": [
    "### 1.2 The Value factor underperformed in the time since the DFA-case. What might DFA say in defense of value as a good investment, not withstanding these statistics?"
   ]
  },
  {
   "cell_type": "markdown",
   "metadata": {},
   "source": [
    "Ans:- Inspite of these statistics of low mean excess return the Value factor  as it still provides a good diversification benefit to the portfolio."
   ]
  },
  {
   "cell_type": "markdown",
   "metadata": {},
   "source": [
    "### 1.3 We found these tangency portfolio weights for the 4 factor model considered by AQR. What might we conclude from this about this “AQR” pricing model?"
   ]
  },
  {
   "cell_type": "markdown",
   "metadata": {},
   "source": [
    "Ans:- We might conclude that MKT, HML and UMD are the most important factors in the AQR pricing model, and SMB is the least important factor, as it has the lowest almost negligible weight."
   ]
  },
  {
   "cell_type": "markdown",
   "metadata": {},
   "source": [
    "### 1.4 True or False. (And very briefly explain your reasoning.)If the CAPM model worked perfectly, then the MKT factor would have the highest Sharpe ratio and highest Treynor ratio of all assets."
   ]
  },
  {
   "cell_type": "markdown",
   "metadata": {},
   "source": [
    "Ans:- False. CAPM states that the expected excess return of a portfolio is proportional to the expected excess return of the market. The Alpha and Information Ratio should be equal to zero. As a consequence, the Treynor Ratio should be equal to mean excess return of the market."
   ]
  },
  {
   "cell_type": "markdown",
   "metadata": {},
   "source": [
    "### 1.5 What is the biggest difference in performance between long-only momentum and long- short momentum?"
   ]
  },
  {
   "cell_type": "markdown",
   "metadata": {},
   "source": [
    "Ans:- The biggest difference in performance between long-only momentum and long- short momentum is that the long only momentum has a higher Sharpe ratio, almost 2x, than the long-short momentum at a comparable level of risk (vols)."
   ]
  },
  {
   "cell_type": "markdown",
   "metadata": {},
   "source": [
    "### 1.6  We find the following regression results for BTC (bitcoin) returns. Do you think we could operate an effective momentum strategy given just BTC? Explain and be specific."
   ]
  },
  {
   "cell_type": "markdown",
   "metadata": {},
   "source": [
    "Ans:- Given a only a single asset would lead to huge level or specific or idisyosyncratic risk. Hence, it is not advisable to operate an effective momentum strategy given just BTC. Moreover, the R-squared is very low, which means that the BTC returns are not predictable."
   ]
  },
  {
   "cell_type": "markdown",
   "metadata": {},
   "source": [
    "### 1.7 In the factor model using MKT, SMB, HML, UMD, (the “AQR model”,) which factors can the entire market have a positive net exposure, and which must the market must have net 0 exposure?"
   ]
  },
  {
   "cell_type": "markdown",
   "metadata": {},
   "source": [
    "Ans:- When conducting the cross sectional regression of the market portfolio on the factors, we find that the HML Cross Sectional premia is negative while the rest of the factors have a positive Cross Sectional premia. This means that the market portfolio has a positive net exposure to the HML factor and a negative net exposure to the rest of the factors."
   ]
  },
  {
   "cell_type": "markdown",
   "metadata": {},
   "source": [
    "### 1.8 The APT says that a ”perfect” Linear Factor Decomposition (LFD) will work as a perfect Linear Factor Pricing Model (LFPM). What must the factors achieve as an LFD to meet the APT’s condition?"
   ]
  },
  {
   "cell_type": "markdown",
   "metadata": {},
   "source": [
    "The factor must achieve below conditions to meet the APT’s condition:\n",
    "- The set of factors explains realized returns across time. (Covariation)\n",
    "- The residual is uncorrelated with the factors. (Orthogonality)\n",
    "- The residuals are uncorrelated with each other. (Independence)"
   ]
  },
  {
   "cell_type": "markdown",
   "metadata": {},
   "source": [
    "### 1.9 Is it possible for a factor model to fit perfectly as an LFPM yet to fit imperfectly as an LFD?\n"
   ]
  },
  {
   "cell_type": "markdown",
   "metadata": {},
   "source": [
    "Yes, it is possible. For instance, the cross section regression of factors leads to a good fit in terms of pricing but the factors do not provide a good R-squared for the time series regression. This means that the factors do not explain the realized returns across time, and hence imperfect as an LFD."
   ]
  },
  {
   "cell_type": "markdown",
   "metadata": {},
   "source": [
    "# 2 Pricing Model"
   ]
  },
  {
   "cell_type": "markdown",
   "metadata": {},
   "source": [
    "### 2.1 Estimate the time-series test of the pricing model."
   ]
  },
  {
   "cell_type": "markdown",
   "metadata": {},
   "source": [
    "### 2.1(a)"
   ]
  },
  {
   "cell_type": "code",
   "execution_count": 55,
   "metadata": {},
   "outputs": [],
   "source": [
    "def ts_test(df, factor_df, factors, constant = True,annualization=12):\n",
    "    res = pd.DataFrame(data = None, index = df.columns, columns = ['alpha','f_1','f_2', 'r_2', 'treynor', 'info'])\n",
    "    \n",
    "    for port in df.columns:\n",
    "        y = df[port]\n",
    "        if constant:\n",
    "            X = sm.add_constant(factor_df[factors])\n",
    "        else:\n",
    "            X = factor_df[factors]\n",
    "        model = sm.OLS(y, X).fit()\n",
    "        \n",
    "        if constant:\n",
    "            beta = model.params[1:]\n",
    "            alpha = model.params[0] * annualization\n",
    "            information_ratio = model.params[0] * np.sqrt(annualization) / model.resid.std()\n",
    "        else:\n",
    "            beta = model.params\n",
    "    \n",
    "        treynor = df[port].mean() * annualization / beta[0]\n",
    "        tracking_error = model.resid.std() * np.sqrt(annualization)\n",
    "        if constant:\n",
    "            res.loc[port] = [alpha, model.params[1], model.params[2], model.rsquared, treynor, information_ratio]\n",
    "        else:\n",
    "            res.loc[port] = [None, model.params[0], model.params[1], model.rsquared, treynor, None]\n",
    "    return res\n",
    "\n",
    "#df is the asset portfolios which we are regressing\n",
    "#factor_df is the factor data\n",
    "#intercept is whether we want to include an intercept in the regression"
   ]
  },
  {
   "cell_type": "code",
   "execution_count": 56,
   "metadata": {},
   "outputs": [],
   "source": [
    "#Calculate mean, standard deviation and sharpe ratio\n",
    "def mean_vol_sharpe(df,ann=12):\n",
    "    mean = df.mean() * ann\n",
    "    volatility = df.std() * np.sqrt(ann)\n",
    "    sharpe_ratio = mean/volatility\n",
    "    return pd.DataFrame({'mean': mean, 'volatility': volatility, 'sharpe_ratio': sharpe_ratio})"
   ]
  },
  {
   "cell_type": "code",
   "execution_count": 57,
   "metadata": {},
   "outputs": [],
   "source": [
    "def ts_premia(df_ts, factor_mean):\n",
    "    #multiply factor premium row wise to each f_1 an f_2 in factor and sum\n",
    "    premia = pd.DataFrame(data = None, index = df_ts.index, columns = ['TS Premia'])\n",
    "    for row in df_ts.index:\n",
    "        a = df_ts.loc[row, 'beta_MKT']* factor_mean[0]\n",
    "        b = df_ts.loc[row, 'beta_RMW']* factor_mean[1]\n",
    "        premia.loc[row] = a + b\n",
    "        \n",
    "    return premia"
   ]
  },
  {
   "cell_type": "code",
   "execution_count": 58,
   "metadata": {},
   "outputs": [
    {
     "data": {
      "text/html": [
       "<div>\n",
       "<style scoped>\n",
       "    .dataframe tbody tr th:only-of-type {\n",
       "        vertical-align: middle;\n",
       "    }\n",
       "\n",
       "    .dataframe tbody tr th {\n",
       "        vertical-align: top;\n",
       "    }\n",
       "\n",
       "    .dataframe thead th {\n",
       "        text-align: right;\n",
       "    }\n",
       "</style>\n",
       "<table border=\"1\" class=\"dataframe\">\n",
       "  <thead>\n",
       "    <tr style=\"text-align: right;\">\n",
       "      <th></th>\n",
       "      <th>alpha</th>\n",
       "      <th>beta_MKT</th>\n",
       "      <th>beta_RMW</th>\n",
       "      <th>r_2</th>\n",
       "      <th>treynor</th>\n",
       "      <th>info</th>\n",
       "    </tr>\n",
       "  </thead>\n",
       "  <tbody>\n",
       "    <tr>\n",
       "      <th>BWX</th>\n",
       "      <td>-0.04057</td>\n",
       "      <td>0.2363</td>\n",
       "      <td>0.10237</td>\n",
       "      <td>0.20469</td>\n",
       "      <td>-0.02151</td>\n",
       "      <td>-0.56708</td>\n",
       "    </tr>\n",
       "    <tr>\n",
       "      <th>DBC</th>\n",
       "      <td>-0.05202</td>\n",
       "      <td>0.59318</td>\n",
       "      <td>-0.10859</td>\n",
       "      <td>0.25679</td>\n",
       "      <td>0.04584</td>\n",
       "      <td>-0.33285</td>\n",
       "    </tr>\n",
       "    <tr>\n",
       "      <th>EEM</th>\n",
       "      <td>-0.06886</td>\n",
       "      <td>0.94362</td>\n",
       "      <td>-0.09481</td>\n",
       "      <td>0.56011</td>\n",
       "      <td>0.06278</td>\n",
       "      <td>-0.53446</td>\n",
       "    </tr>\n",
       "    <tr>\n",
       "      <th>EFA</th>\n",
       "      <td>-0.05819</td>\n",
       "      <td>0.93126</td>\n",
       "      <td>-0.07749</td>\n",
       "      <td>0.76222</td>\n",
       "      <td>0.07375</td>\n",
       "      <td>-0.72669</td>\n",
       "    </tr>\n",
       "    <tr>\n",
       "      <th>HYG</th>\n",
       "      <td>-0.00039</td>\n",
       "      <td>0.45323</td>\n",
       "      <td>0.03615</td>\n",
       "      <td>0.58864</td>\n",
       "      <td>0.13976</td>\n",
       "      <td>-0.0068</td>\n",
       "    </tr>\n",
       "    <tr>\n",
       "      <th>IEF</th>\n",
       "      <td>0.02399</td>\n",
       "      <td>-0.08183</td>\n",
       "      <td>0.16934</td>\n",
       "      <td>0.082</td>\n",
       "      <td>-0.21053</td>\n",
       "      <td>0.41106</td>\n",
       "    </tr>\n",
       "    <tr>\n",
       "      <th>IYR</th>\n",
       "      <td>0.00101</td>\n",
       "      <td>0.91336</td>\n",
       "      <td>0.27314</td>\n",
       "      <td>0.55137</td>\n",
       "      <td>0.14765</td>\n",
       "      <td>0.00801</td>\n",
       "    </tr>\n",
       "    <tr>\n",
       "      <th>PSP</th>\n",
       "      <td>-0.06593</td>\n",
       "      <td>1.34076</td>\n",
       "      <td>-0.10979</td>\n",
       "      <td>0.83931</td>\n",
       "      <td>0.08709</td>\n",
       "      <td>-0.7301</td>\n",
       "    </tr>\n",
       "    <tr>\n",
       "      <th>QAI</th>\n",
       "      <td>-0.02371</td>\n",
       "      <td>0.27825</td>\n",
       "      <td>0.00284</td>\n",
       "      <td>0.71738</td>\n",
       "      <td>0.05356</td>\n",
       "      <td>-0.88525</td>\n",
       "    </tr>\n",
       "    <tr>\n",
       "      <th>SPY</th>\n",
       "      <td>0.0006</td>\n",
       "      <td>0.96286</td>\n",
       "      <td>0.12585</td>\n",
       "      <td>0.99235</td>\n",
       "      <td>0.14263</td>\n",
       "      <td>0.04648</td>\n",
       "    </tr>\n",
       "    <tr>\n",
       "      <th>TIP</th>\n",
       "      <td>0.00686</td>\n",
       "      <td>0.093</td>\n",
       "      <td>0.17559</td>\n",
       "      <td>0.11577</td>\n",
       "      <td>0.2632</td>\n",
       "      <td>0.14148</td>\n",
       "    </tr>\n",
       "  </tbody>\n",
       "</table>\n",
       "</div>"
      ],
      "text/plain": [
       "       alpha beta_MKT beta_RMW      r_2  treynor     info\n",
       "BWX -0.04057   0.2363  0.10237  0.20469 -0.02151 -0.56708\n",
       "DBC -0.05202  0.59318 -0.10859  0.25679  0.04584 -0.33285\n",
       "EEM -0.06886  0.94362 -0.09481  0.56011  0.06278 -0.53446\n",
       "EFA -0.05819  0.93126 -0.07749  0.76222  0.07375 -0.72669\n",
       "HYG -0.00039  0.45323  0.03615  0.58864  0.13976  -0.0068\n",
       "IEF  0.02399 -0.08183  0.16934    0.082 -0.21053  0.41106\n",
       "IYR  0.00101  0.91336  0.27314  0.55137  0.14765  0.00801\n",
       "PSP -0.06593  1.34076 -0.10979  0.83931  0.08709  -0.7301\n",
       "QAI -0.02371  0.27825  0.00284  0.71738  0.05356 -0.88525\n",
       "SPY   0.0006  0.96286  0.12585  0.99235  0.14263  0.04648\n",
       "TIP  0.00686    0.093  0.17559  0.11577   0.2632  0.14148"
      ]
     },
     "execution_count": 58,
     "metadata": {},
     "output_type": "execute_result"
    }
   ],
   "source": [
    "df_ts = ts_test(assets,factors,['MKT','RMW'])\n",
    "df_ts.rename(columns={'f_1':'beta_MKT','f_2':'beta_RMW'}, inplace=True)\n",
    "df_ts"
   ]
  },
  {
   "cell_type": "code",
   "execution_count": 59,
   "metadata": {},
   "outputs": [
    {
     "name": "stdout",
     "output_type": "stream",
     "text": [
      "MAE:- 0.0311\n"
     ]
    }
   ],
   "source": [
    "### MAE\n",
    "print('MAE:-',round(df_ts['alpha'].abs().mean(),5))"
   ]
  },
  {
   "cell_type": "code",
   "execution_count": 60,
   "metadata": {},
   "outputs": [
    {
     "name": "stdout",
     "output_type": "stream",
     "text": [
      "Mean r-squared:- 0.51551\n"
     ]
    }
   ],
   "source": [
    "### Mean r-squared\n",
    "print('Mean r-squared:-',round(df_ts['r_2'].mean(),5))"
   ]
  },
  {
   "cell_type": "markdown",
   "metadata": {},
   "source": [
    "### 2.1(b) If the pricing model worked perfectly, what would these statistics be?"
   ]
  },
  {
   "cell_type": "markdown",
   "metadata": {},
   "source": [
    "Ans:- If the pricing model worked perfectly, Regression fit should pass through the market portfolio in case of CAPM. We don’t care about the R-Squared when it comes to pricing,but the alphas should be 0. As a result the MAE would also be 0."
   ]
  },
  {
   "cell_type": "markdown",
   "metadata": {},
   "source": [
    "#### 2.1(c) What do you conclude from the time-series test of this model? That is, give some interpretation as to how well it prices the assets, and be specific."
   ]
  },
  {
   "cell_type": "markdown",
   "metadata": {},
   "source": [
    "Ans:- The model is not able to price the assets well. The MAE is around 3% which means that there is a component of return which is not being explained by our two factors RWA and MKT. The R-Squared is also very low. As per our knowledge from the case studies, we would expect the UMD and HML to be the extra factors that would benefit the model in terms of fit."
   ]
  },
  {
   "cell_type": "markdown",
   "metadata": {},
   "source": [
    "### 2.2. Estimate the cross-sectional test of the pricing model. Include an intercept in the cross-sectional regression."
   ]
  },
  {
   "cell_type": "markdown",
   "metadata": {},
   "source": [
    "#### 2.2 (a)"
   ]
  },
  {
   "cell_type": "code",
   "execution_count": 61,
   "metadata": {},
   "outputs": [],
   "source": [
    "def cross_regression(asset_df, factors_df, factors, intercept=True, annualization=12):\n",
    "    \n",
    "    res = pd.DataFrame(data = None, index = factors, columns = ['cs_premia'])\n",
    "    \n",
    "    factors_df = factors_df.iloc[:,1:(len(factors)+1)]\n",
    "    \n",
    "    y = asset_df.mean() * annualization\n",
    "    if intercept == True:\n",
    "        X = sm.add_constant(factors_df[factors].astype(float))\n",
    "    else:\n",
    "        X = factors_df[factors].astype(float)\n",
    "    model = sm.OLS(y, X).fit()\n",
    "    if intercept:\n",
    "        alpha = model.params[0]\n",
    "        mae = model.resid.abs().mean()\n",
    "        for i in range(len(factors)):\n",
    "            res.loc[factors[i]] = model.params[i+1]\n",
    "        predicted_premia = pd.DataFrame(model.resid.abs(), columns=['predicted_premia'])\n",
    "    else:\n",
    "        alpha = None\n",
    "        mae = model.resid.abs().mean()\n",
    "        for i in range(len(factors)):\n",
    "            res.loc[factors[i]] = model.params[i]\n",
    "        predicted_premia = pd.DataFrame(model.resid.abs(), columns=['predicted_premia'])\n",
    "    \n",
    "    if intercept:\n",
    "        return predicted_premia,res, f'r-squared = {round(model.rsquared, 4)}', f'alpha = {round(alpha, 4)}', f'mae = {round(mae, 4)}'\n",
    "    else:\n",
    "        return predicted_premia,res, f'r-squared = {round(model.rsquared, 4)}', f'mae = {round(mae, 4)}'"
   ]
  },
  {
   "cell_type": "code",
   "execution_count": 62,
   "metadata": {},
   "outputs": [],
   "source": [
    "factor = ['beta_MKT','beta_RMW']\n",
    "predicted_premia,cs_premia,r2,alpha,mae = cross_regression(assets,df_ts,factor,intercept=True)\n"
   ]
  },
  {
   "cell_type": "markdown",
   "metadata": {},
   "source": [
    "#### annualized intercept."
   ]
  },
  {
   "cell_type": "code",
   "execution_count": 63,
   "metadata": {},
   "outputs": [
    {
     "data": {
      "text/plain": [
       "'alpha = -0.0214'"
      ]
     },
     "execution_count": 63,
     "metadata": {},
     "output_type": "execute_result"
    }
   ],
   "source": [
    "alpha"
   ]
  },
  {
   "cell_type": "markdown",
   "metadata": {},
   "source": [
    "#### annualized factor premia."
   ]
  },
  {
   "cell_type": "code",
   "execution_count": 64,
   "metadata": {},
   "outputs": [
    {
     "data": {
      "text/html": [
       "<div>\n",
       "<style scoped>\n",
       "    .dataframe tbody tr th:only-of-type {\n",
       "        vertical-align: middle;\n",
       "    }\n",
       "\n",
       "    .dataframe tbody tr th {\n",
       "        vertical-align: top;\n",
       "    }\n",
       "\n",
       "    .dataframe thead th {\n",
       "        text-align: right;\n",
       "    }\n",
       "</style>\n",
       "<table border=\"1\" class=\"dataframe\">\n",
       "  <thead>\n",
       "    <tr style=\"text-align: right;\">\n",
       "      <th></th>\n",
       "      <th>cs_premia</th>\n",
       "    </tr>\n",
       "  </thead>\n",
       "  <tbody>\n",
       "    <tr>\n",
       "      <th>beta_MKT</th>\n",
       "      <td>0.11865</td>\n",
       "    </tr>\n",
       "    <tr>\n",
       "      <th>beta_RMW</th>\n",
       "      <td>0.21007</td>\n",
       "    </tr>\n",
       "  </tbody>\n",
       "</table>\n",
       "</div>"
      ],
      "text/plain": [
       "         cs_premia\n",
       "beta_MKT   0.11865\n",
       "beta_RMW   0.21007"
      ]
     },
     "execution_count": 64,
     "metadata": {},
     "output_type": "execute_result"
    }
   ],
   "source": [
    "cs_premia"
   ]
  },
  {
   "cell_type": "markdown",
   "metadata": {},
   "source": [
    "#### r-squared."
   ]
  },
  {
   "cell_type": "code",
   "execution_count": 65,
   "metadata": {},
   "outputs": [
    {
     "data": {
      "text/plain": [
       "'r-squared = 0.9055'"
      ]
     },
     "execution_count": 65,
     "metadata": {},
     "output_type": "execute_result"
    }
   ],
   "source": [
    "r2"
   ]
  },
  {
   "cell_type": "markdown",
   "metadata": {},
   "source": [
    "#### annualized mean-absolute error."
   ]
  },
  {
   "cell_type": "code",
   "execution_count": 66,
   "metadata": {},
   "outputs": [
    {
     "data": {
      "text/plain": [
       "'mae = 0.0109'"
      ]
     },
     "execution_count": 66,
     "metadata": {},
     "output_type": "execute_result"
    }
   ],
   "source": [
    "mae"
   ]
  },
  {
   "cell_type": "markdown",
   "metadata": {},
   "source": [
    "### 2.2(b)If the pricing model worked perfectly, what would these statistics be?"
   ]
  },
  {
   "cell_type": "markdown",
   "metadata": {},
   "source": [
    "Ans:- If the pricing model worked perfectly, Betas should line up linearly, R-Squared should be 1 and intercepts should be 0. As a result the MAE would also be 0."
   ]
  },
  {
   "cell_type": "markdown",
   "metadata": {},
   "source": [
    "### 2.2(c) What do you conclude from the cross-sectional test of this model? That is, give some interpretation as to how well it prices the assets, and be specific."
   ]
  },
  {
   "cell_type": "markdown",
   "metadata": {},
   "source": [
    "Ans:- As per the low MAE stats of around 1% and high R_squared of 90% we can say that the model is able to price the assets well. The model is able to explain 90% of the variation in the returns of the assets. Though the alphas are not 0."
   ]
  },
  {
   "cell_type": "markdown",
   "metadata": {},
   "source": [
    "## 2.3 Is the RMW factor more lucrative according to the cross-sectional or time-series estimates?"
   ]
  },
  {
   "cell_type": "markdown",
   "metadata": {},
   "source": [
    "Ans:- Yes, the RMW factor is more lucrative according to the cross-sectional estimates. The RMW factor has a higher premia of 0.21 against 0.11 of MKT."
   ]
  },
  {
   "cell_type": "markdown",
   "metadata": {},
   "source": [
    "## 2.4 Make a chart showing the annualized 11 asset premia, (that is, expected excess returns,) as implied by the\n",
    "- sample average\n",
    "- LFPM in equation (1) with time-series estimated factor premia\n",
    "- LFPM in equation (1) with cross-sectional estimated factor premia.1"
   ]
  },
  {
   "cell_type": "code",
   "execution_count": null,
   "metadata": {},
   "outputs": [],
   "source": [
    "\n",
    "sample_average = pd.DataFrame(assets.mean() * 12,columns=['sample average'])\n",
    "\n",
    "#sample_average"
   ]
  },
  {
   "cell_type": "code",
   "execution_count": null,
   "metadata": {},
   "outputs": [],
   "source": [
    "factor_mean = mean_vol_sharpe(factors).iloc[:,0]\n",
    "\n",
    "ts_premia_1 = ts_premia(df_ts, factor_mean)\n",
    "\n",
    "#ts_premia_1"
   ]
  },
  {
   "cell_type": "code",
   "execution_count": null,
   "metadata": {},
   "outputs": [],
   "source": [
    "\n",
    "predicted_premia.rename(columns={'predicted_premia':'cross section premia'}, inplace=True)\n",
    "#predicted_premia"
   ]
  },
  {
   "cell_type": "code",
   "execution_count": 73,
   "metadata": {},
   "outputs": [
    {
     "data": {
      "text/html": [
       "<div>\n",
       "<style scoped>\n",
       "    .dataframe tbody tr th:only-of-type {\n",
       "        vertical-align: middle;\n",
       "    }\n",
       "\n",
       "    .dataframe tbody tr th {\n",
       "        vertical-align: top;\n",
       "    }\n",
       "\n",
       "    .dataframe thead th {\n",
       "        text-align: right;\n",
       "    }\n",
       "</style>\n",
       "<table border=\"1\" class=\"dataframe\">\n",
       "  <thead>\n",
       "    <tr style=\"text-align: right;\">\n",
       "      <th></th>\n",
       "      <th>sample average</th>\n",
       "      <th>TS Premia</th>\n",
       "      <th>cross section premia</th>\n",
       "    </tr>\n",
       "  </thead>\n",
       "  <tbody>\n",
       "    <tr>\n",
       "      <th>BWX</th>\n",
       "      <td>-0.00508</td>\n",
       "      <td>0.03548</td>\n",
       "      <td>0.03320</td>\n",
       "    </tr>\n",
       "    <tr>\n",
       "      <th>DBC</th>\n",
       "      <td>0.02719</td>\n",
       "      <td>0.07921</td>\n",
       "      <td>0.00104</td>\n",
       "    </tr>\n",
       "    <tr>\n",
       "      <th>EEM</th>\n",
       "      <td>0.05924</td>\n",
       "      <td>0.12811</td>\n",
       "      <td>0.01138</td>\n",
       "    </tr>\n",
       "    <tr>\n",
       "      <th>EFA</th>\n",
       "      <td>0.06868</td>\n",
       "      <td>0.12686</td>\n",
       "      <td>0.00412</td>\n",
       "    </tr>\n",
       "    <tr>\n",
       "      <th>HYG</th>\n",
       "      <td>0.06334</td>\n",
       "      <td>0.06374</td>\n",
       "      <td>0.02339</td>\n",
       "    </tr>\n",
       "    <tr>\n",
       "      <th>IEF</th>\n",
       "      <td>0.01723</td>\n",
       "      <td>-0.00676</td>\n",
       "      <td>0.01278</td>\n",
       "    </tr>\n",
       "    <tr>\n",
       "      <th>IYR</th>\n",
       "      <td>0.13486</td>\n",
       "      <td>0.13385</td>\n",
       "      <td>0.00946</td>\n",
       "    </tr>\n",
       "    <tr>\n",
       "      <th>PSP</th>\n",
       "      <td>0.11676</td>\n",
       "      <td>0.1827</td>\n",
       "      <td>0.00217</td>\n",
       "    </tr>\n",
       "    <tr>\n",
       "      <th>QAI</th>\n",
       "      <td>0.01490</td>\n",
       "      <td>0.03861</td>\n",
       "      <td>0.00271</td>\n",
       "    </tr>\n",
       "    <tr>\n",
       "      <th>SPY</th>\n",
       "      <td>0.13733</td>\n",
       "      <td>0.13673</td>\n",
       "      <td>0.01807</td>\n",
       "    </tr>\n",
       "    <tr>\n",
       "      <th>TIP</th>\n",
       "      <td>0.02448</td>\n",
       "      <td>0.01762</td>\n",
       "      <td>0.00202</td>\n",
       "    </tr>\n",
       "  </tbody>\n",
       "</table>\n",
       "</div>"
      ],
      "text/plain": [
       "     sample average TS Premia  cross section premia\n",
       "BWX        -0.00508   0.03548               0.03320\n",
       "DBC         0.02719   0.07921               0.00104\n",
       "EEM         0.05924   0.12811               0.01138\n",
       "EFA         0.06868   0.12686               0.00412\n",
       "HYG         0.06334   0.06374               0.02339\n",
       "IEF         0.01723  -0.00676               0.01278\n",
       "IYR         0.13486   0.13385               0.00946\n",
       "PSP         0.11676    0.1827               0.00217\n",
       "QAI         0.01490   0.03861               0.00271\n",
       "SPY         0.13733   0.13673               0.01807\n",
       "TIP         0.02448   0.01762               0.00202"
      ]
     },
     "execution_count": 73,
     "metadata": {},
     "output_type": "execute_result"
    }
   ],
   "source": [
    "#combine all premia\n",
    "premia_all = pd.concat([sample_average, ts_premia_1, predicted_premia], axis=1)\n",
    "premia_all"
   ]
  },
  {
   "cell_type": "code",
   "execution_count": 77,
   "metadata": {},
   "outputs": [
    {
     "data": {
      "text/plain": [
       "[<matplotlib.lines.Line2D at 0x15abb07c0>,\n",
       " <matplotlib.lines.Line2D at 0x15abb0760>,\n",
       " <matplotlib.lines.Line2D at 0x15abb0910>]"
      ]
     },
     "execution_count": 77,
     "metadata": {},
     "output_type": "execute_result"
    },
    {
     "data": {
      "image/png": "[encoded data removed]",
      "text/plain": [
       "<Figure size 432x288 with 1 Axes>"
      ]
     },
     "metadata": {
      "needs_background": "light"
     },
     "output_type": "display_data"
    }
   ],
   "source": [
    "#Make a chart showing the annualized 11 asset premia\n",
    "plt.plot(premia_all)"
   ]
  },
  {
   "cell_type": "markdown",
   "metadata": {},
   "source": [
    "# 3 Applications to Previously Seen Topics (15 pts)"
   ]
  },
  {
   "cell_type": "markdown",
   "metadata": {},
   "source": [
    "### 3.1 Calculate the tangency portfolio of the 11 excess return assets based on sample data. Report the-\n",
    "- tangency weights\n",
    "- sharpe ratio of the tangency portfolio"
   ]
  },
  {
   "cell_type": "code",
   "execution_count": null,
   "metadata": {},
   "outputs": [],
   "source": [
    "## TANGENCY for Portfolio with excess returns\n",
    "\n",
    "def compute_tangency(df_tilde, diagonalize_Sigma=False):\n",
    "\n",
    "    Sigma = df_tilde.cov()\n",
    "\n",
    "    # N is the number of assets\n",
    "\n",
    "    N = Sigma.shape[0]\n",
    "\n",
    "    Sigma_adj = Sigma.copy()\n",
    "\n",
    "    if diagonalize_Sigma:\n",
    "\n",
    "        Sigma_adj.loc[:,:] = np.diag(np.diag(Sigma_adj))\n",
    "\n",
    "    mu_tilde = df_tilde.mean()\n",
    "\n",
    "    Sigma_inv = np.linalg.inv(Sigma_adj)\n",
    "\n",
    "    weights = Sigma_inv @ mu_tilde / (np.ones(N) @ Sigma_inv @ mu_tilde)\n",
    "\n",
    "    # For convenience, I'll wrap the solution back into a pandas.Series object.\n",
    "    omega_tangency = pd.Series(weights, index=mu_tilde.index)\n",
    "    \n",
    "    return omega_tangency, mu_tilde, Sigma_adj"
   ]
  },
  {
   "cell_type": "code",
   "execution_count": null,
   "metadata": {},
   "outputs": [
    {
     "data": {
      "text/plain": [
       "BWX   -16.68339\n",
       "DBC     2.66167\n",
       "EEM     5.00229\n",
       "EFA    -1.65281\n",
       "HYG    15.84554\n",
       "IEF    31.67142\n",
       "IYR    -4.25101\n",
       "PSP    -6.98019\n",
       "QAI   -60.26529\n",
       "SPY    33.17112\n",
       "TIP     2.48065\n",
       "dtype: float64"
      ]
     },
     "execution_count": 43,
     "metadata": {},
     "output_type": "execute_result"
    }
   ],
   "source": [
    "omega_tangency,_,_ = compute_tangency(assets)\n",
    "omega_tangency"
   ]
  },
  {
   "cell_type": "code",
   "execution_count": null,
   "metadata": {},
   "outputs": [],
   "source": [
    "# Calclulating mean, vol and sharpe ratio of tangency portfolio\n",
    "\n",
    "def portfolio_stats(df, weights):\n",
    "    N = df.shape[1]\n",
    "    mu = df.mean() * 12 #mean\n",
    "    sig = df.cov() * 12 #covariance\n",
    "    \n",
    "    mu_p = weights.T @ mu\n",
    "    sig_p = np.sqrt(weights.T @ sig @ weights)\n",
    "    sharpe_p = mu_p/sig_p\n",
    "    \n",
    "    print('Mean: ', mu_p, ',\\nVol: ', sig_p, ',\\nSharpe Ratio: ', sharpe_p)\n"
   ]
  },
  {
   "cell_type": "code",
   "execution_count": null,
   "metadata": {},
   "outputs": [
    {
     "name": "stdout",
     "output_type": "stream",
     "text": [
      "Mean:  4.219052147146743 ,\n",
      "Vol:  2.2913908214976004 ,\n",
      "Sharpe Ratio:  1.841262567504424\n"
     ]
    }
   ],
   "source": [
    "portfolio_stats(assets, omega_tangency)"
   ]
  },
  {
   "cell_type": "markdown",
   "metadata": {},
   "source": [
    "### 3.2 Re-do the previous question regarding the tangency portfolio. But this time, utilize the expected returns as implied by the cross-sectional estimation of the pricing model in the tangency portfolio estimation. That is, use the cross-sectional premia shown in your table from Question 2.4."
   ]
  },
  {
   "cell_type": "code",
   "execution_count": 123,
   "metadata": {},
   "outputs": [
    {
     "data": {
      "text/html": [
       "<div>\n",
       "<style scoped>\n",
       "    .dataframe tbody tr th:only-of-type {\n",
       "        vertical-align: middle;\n",
       "    }\n",
       "\n",
       "    .dataframe tbody tr th {\n",
       "        vertical-align: top;\n",
       "    }\n",
       "\n",
       "    .dataframe thead th {\n",
       "        text-align: right;\n",
       "    }\n",
       "</style>\n",
       "<table border=\"1\" class=\"dataframe\">\n",
       "  <thead>\n",
       "    <tr style=\"text-align: right;\">\n",
       "      <th></th>\n",
       "      <th>tangency portfolio</th>\n",
       "    </tr>\n",
       "  </thead>\n",
       "  <tbody>\n",
       "    <tr>\n",
       "      <th>BWX</th>\n",
       "      <td>9.60414</td>\n",
       "    </tr>\n",
       "    <tr>\n",
       "      <th>DBC</th>\n",
       "      <td>0.19301</td>\n",
       "    </tr>\n",
       "    <tr>\n",
       "      <th>EEM</th>\n",
       "      <td>-0.16934</td>\n",
       "    </tr>\n",
       "    <tr>\n",
       "      <th>EFA</th>\n",
       "      <td>-3.05148</td>\n",
       "    </tr>\n",
       "    <tr>\n",
       "      <th>HYG</th>\n",
       "      <td>6.97621</td>\n",
       "    </tr>\n",
       "    <tr>\n",
       "      <th>IEF</th>\n",
       "      <td>4.09572</td>\n",
       "    </tr>\n",
       "    <tr>\n",
       "      <th>IYR</th>\n",
       "      <td>-1.34249</td>\n",
       "    </tr>\n",
       "    <tr>\n",
       "      <th>PSP</th>\n",
       "      <td>-2.90257</td>\n",
       "    </tr>\n",
       "    <tr>\n",
       "      <th>QAI</th>\n",
       "      <td>-11.30125</td>\n",
       "    </tr>\n",
       "    <tr>\n",
       "      <th>SPY</th>\n",
       "      <td>7.74753</td>\n",
       "    </tr>\n",
       "    <tr>\n",
       "      <th>TIP</th>\n",
       "      <td>-8.84947</td>\n",
       "    </tr>\n",
       "  </tbody>\n",
       "</table>\n",
       "</div>"
      ],
      "text/plain": [
       "     tangency portfolio\n",
       "BWX             9.60414\n",
       "DBC             0.19301\n",
       "EEM            -0.16934\n",
       "EFA            -3.05148\n",
       "HYG             6.97621\n",
       "IEF             4.09572\n",
       "IYR            -1.34249\n",
       "PSP            -2.90257\n",
       "QAI           -11.30125\n",
       "SPY             7.74753\n",
       "TIP            -8.84947"
      ]
     },
     "execution_count": 123,
     "metadata": {},
     "output_type": "execute_result"
    }
   ],
   "source": [
    "N = assets.shape[1]\n",
    "mu = predicted_premia\n",
    "sig = assets.cov() * 12 #covariance\n",
    "sig_inv = np.linalg.inv(sig)\n",
    "scaling = np.ones(N) @ sig_inv @ mu\n",
    "om_t = (sig_inv @ mu )/ scaling\n",
    "om_t.rename(columns={'cross section premia':'tangency portfolio'}, inplace=True)\n",
    "om_t.index = assets.columns\n",
    "om_t"
   ]
  },
  {
   "cell_type": "markdown",
   "metadata": {},
   "source": [
    "### 3.3 Assume lognormal, iid returns. Suppose for this question that, (in log returns,) the expected excess return of RMW is 3% with a 7% volatility. What is the probability that RMW will have positive excess returns over the next 5 years?"
   ]
  },
  {
   "cell_type": "code",
   "execution_count": 90,
   "metadata": {},
   "outputs": [],
   "source": [
    "def prob_calc(h, tilde_mu, tilde_sigma):\n",
    "    return stats.norm.cdf(- np.sqrt(h) * tilde_mu / tilde_sigma)\n",
    "\n",
    "def prob(h, tilde_mu, tilde_sigma):\n",
    "    prob_df = pd.DataFrame(data = h, columns = ['h'])\n",
    "    \n",
    "    prob_df['Probability'] = prob_calc(prob_df['h'], tilde_mu, tilde_sigma)\n",
    "    \n",
    "    prob_df = prob_df.set_index('h')\n",
    "    \n",
    "    return prob_df"
   ]
  },
  {
   "cell_type": "code",
   "execution_count": null,
   "metadata": {},
   "outputs": [],
   "source": [
    "corr = assets.corr()\n",
    "sns.heatmap(corr, annot=True, cmap='coolwarm')"
   ]
  },
  {
   "cell_type": "code",
   "execution_count": 128,
   "metadata": {},
   "outputs": [
    {
     "data": {
      "text/html": [
       "<div>\n",
       "<style scoped>\n",
       "    .dataframe tbody tr th:only-of-type {\n",
       "        vertical-align: middle;\n",
       "    }\n",
       "\n",
       "    .dataframe tbody tr th {\n",
       "        vertical-align: top;\n",
       "    }\n",
       "\n",
       "    .dataframe thead th {\n",
       "        text-align: right;\n",
       "    }\n",
       "</style>\n",
       "<table border=\"1\" class=\"dataframe\">\n",
       "  <thead>\n",
       "    <tr style=\"text-align: right;\">\n",
       "      <th></th>\n",
       "      <th>Probability</th>\n",
       "    </tr>\n",
       "    <tr>\n",
       "      <th>h</th>\n",
       "      <th></th>\n",
       "    </tr>\n",
       "  </thead>\n",
       "  <tbody>\n",
       "    <tr>\n",
       "      <th>1</th>\n",
       "      <td>0.33412</td>\n",
       "    </tr>\n",
       "    <tr>\n",
       "      <th>2</th>\n",
       "      <td>0.27223</td>\n",
       "    </tr>\n",
       "    <tr>\n",
       "      <th>3</th>\n",
       "      <td>0.22895</td>\n",
       "    </tr>\n",
       "    <tr>\n",
       "      <th>4</th>\n",
       "      <td>0.19568</td>\n",
       "    </tr>\n",
       "    <tr>\n",
       "      <th>5</th>\n",
       "      <td>0.16895</td>\n",
       "    </tr>\n",
       "  </tbody>\n",
       "</table>\n",
       "</div>"
      ],
      "text/plain": [
       "   Probability\n",
       "h             \n",
       "1      0.33412\n",
       "2      0.27223\n",
       "3      0.22895\n",
       "4      0.19568\n",
       "5      0.16895"
      ]
     },
     "execution_count": 128,
     "metadata": {},
     "output_type": "execute_result"
    }
   ],
   "source": [
    "mu_tilde = 0.03\n",
    "sigma_tilde = 0.07\n",
    "prob([1,2,3,4,5], mu_tilde, sigma_tilde)"
   ]
  }
 ],
 "metadata": {
  "kernelspec": {
   "display_name": "Python 3.9.7 ('base')",
   "language": "python",
   "name": "python3"
  },
  "language_info": {
   "codemirror_mode": {
    "name": "ipython",
    "version": 3
   },
   "file_extension": ".py",
   "mimetype": "text/x-python",
   "name": "python",
   "nbconvert_exporter": "python",
   "pygments_lexer": "ipython3",
   "version": "3.9.7"
  },
  "orig_nbformat": 4,
  "vscode": {
   "interpreter": {
    "hash": "5e62c483ecf48ad4e1bb5f903abeb626d4ffc56eab47e05d9eff835eeb907be7"
   }
  }
 },
 "nbformat": 4,
 "nbformat_minor": 2
}
