{
 "cells": [
  {
   "cell_type": "markdown",
   "metadata": {},
   "source": [
    "### 1 Suppose the Fama-French 3-factor model works perfectly for pricing. Then the three Fama-French factors have the three highest Sharpe ratios of all assets."
   ]
  },
  {
   "cell_type": "markdown",
   "metadata": {},
   "source": [
    "False. It is not necessary for the three Fama-French factors to have the highest Sharpe Ratio as the model also depends on the cross-correlations among the factors."
   ]
  },
  {
   "cell_type": "markdown",
   "metadata": {},
   "source": [
    "### 2 The Fama-French 5-Factor model indicates that, all else equal, a stock with higher investment beta has higher expected returns."
   ]
  },
  {
   "cell_type": "markdown",
   "metadata": {},
   "source": [
    "True. The Fama-French 5-Factor model indicates that, all else equal, a stock with higher investment beta has higher expected returns. This is the CMA factor."
   ]
  },
  {
   "cell_type": "markdown",
   "metadata": {},
   "source": [
    "### 3 Suppose you show DFA that Size and Value have had Sharpe Ratios near 0 since the end of the case. Do you think they would give up on Size and Value factor strategies? Why?"
   ]
  },
  {
   "cell_type": "markdown",
   "metadata": {},
   "source": [
    "No, since Value and Size still provide diversification benefits."
   ]
  },
  {
   "cell_type": "markdown",
   "metadata": {},
   "source": [
    "### 4 Suppose a stock is uncorrelated to each asset and to each Fama-French factor. Suppose this stock has a relatively high book-to-market ratio. What would the Fama-French 3-factor model predict about the mean return of this stock?"
   ]
  },
  {
   "cell_type": "markdown",
   "metadata": {},
   "source": [
    "The FF3 model would predict a higher return for this stock as per the Value factor."
   ]
  },
  {
   "cell_type": "markdown",
   "metadata": {},
   "source": [
    "### 5 In constructing the momentum factor, how do we ensure that the factor does not take too much idiosyncratic risk? How do we ensure it does not have too much turnover?"
   ]
  },
  {
   "cell_type": "markdown",
   "metadata": {},
   "source": [
    "More Idiosyncratic risk is avoided by using more deciles as in increase the number of individual assets or stocks in the portfolio.\n",
    "Less turnover is achieved by using a longer lookback period."
   ]
  },
  {
   "cell_type": "markdown",
   "metadata": {},
   "source": [
    "### 6 Is a long-only momentum fund an attractive investment strategy? Be specific."
   ]
  },
  {
   "cell_type": "markdown",
   "metadata": {},
   "source": [
    "Undless mandated by regulatory and liquidity constraints, a long-only momentum fund is not an attractive investment strategy as it is not diversified enough. It is also not a good strategy as it is not a good risk-adjusted strategy. We see this in the case of AQR as they have a long-only momentum fund which would perform better if it was a long-short fund."
   ]
  },
  {
   "cell_type": "markdown",
   "metadata": {},
   "source": [
    "### 7 Suppose the CAPM is true, and we test n assets. For these n assets, what do we know about their..."
   ]
  },
  {
   "cell_type": "markdown",
   "metadata": {},
   "source": [
    "- time-series r-squared metrics?\n",
    "  - R-squared is close to 1 for all assets.\n",
    "- Treynor Ratios?\n",
    "  - Treynor Ratio is equal to mean excess return.\n",
    "- Information Ratios?\n",
    "  - Equal to 0."
   ]
  },
  {
   "cell_type": "markdown",
   "metadata": {},
   "source": [
    "### 8 Which of the following do you think Barnstable should be confident about, and which do you think they should reconsider. . ."
   ]
  },
  {
   "cell_type": "markdown",
   "metadata": {},
   "source": [
    "Over 100 years,\n",
    "- The average Market return will outperform the average risk-free rate.\n",
    "  - Need not reconsider. We see and inverted curve.\n",
    "- The 100-year Market Sharpe Ratio will outperform the 1-year Market Sharpe Ratio.\n",
    "  - Reconsider\n",
    "- The volatility of the 100-year cumulative Market return is smaller than volatility of the 1-year cumulative Market return.\n",
    "  - Need not reconsider. We see an inverted U-shaped relationship between volatility and time horizon."
   ]
  },
  {
   "cell_type": "markdown",
   "metadata": {},
   "source": [
    "# 2"
   ]
  },
  {
   "cell_type": "code",
   "execution_count": 2,
   "metadata": {},
   "outputs": [],
   "source": [
    "import pandas as pd\n",
    "import numpy as np\n",
    "import matplotlib.pyplot as plt\n",
    "import statsmodels.api as sm\n",
    "from arch import arch_model\n",
    "from arch.univariate import GARCH, EWMAVariance \n",
    "from sklearn import linear_model\n",
    "import scipy.stats as stats\n",
    "from statsmodels.regression.rolling import RollingOLS\n",
    "from sklearn.linear_model import LinearRegression\n",
    "import seaborn as sns\n",
    "import warnings\n",
    "from scipy.stats import norm\n",
    "warnings.filterwarnings(\"ignore\")\n",
    "pd.set_option(\"display.precision\", 5)"
   ]
  },
  {
   "cell_type": "code",
   "execution_count": 3,
   "metadata": {},
   "outputs": [
    {
     "data": {
      "text/html": [
       "<div>\n",
       "<style scoped>\n",
       "    .dataframe tbody tr th:only-of-type {\n",
       "        vertical-align: middle;\n",
       "    }\n",
       "\n",
       "    .dataframe tbody tr th {\n",
       "        vertical-align: top;\n",
       "    }\n",
       "\n",
       "    .dataframe thead th {\n",
       "        text-align: right;\n",
       "    }\n",
       "</style>\n",
       "<table border=\"1\" class=\"dataframe\">\n",
       "  <thead>\n",
       "    <tr style=\"text-align: right;\">\n",
       "      <th></th>\n",
       "      <th>NG1</th>\n",
       "      <th>KC1</th>\n",
       "      <th>CC1</th>\n",
       "      <th>LB1</th>\n",
       "      <th>CT1</th>\n",
       "      <th>SB1</th>\n",
       "      <th>LC1</th>\n",
       "      <th>W1</th>\n",
       "      <th>S1</th>\n",
       "      <th>C1</th>\n",
       "      <th>GC1</th>\n",
       "      <th>SI1</th>\n",
       "      <th>HG1</th>\n",
       "      <th>PA1</th>\n",
       "    </tr>\n",
       "    <tr>\n",
       "      <th>Date</th>\n",
       "      <th></th>\n",
       "      <th></th>\n",
       "      <th></th>\n",
       "      <th></th>\n",
       "      <th></th>\n",
       "      <th></th>\n",
       "      <th></th>\n",
       "      <th></th>\n",
       "      <th></th>\n",
       "      <th></th>\n",
       "      <th></th>\n",
       "      <th></th>\n",
       "      <th></th>\n",
       "      <th></th>\n",
       "    </tr>\n",
       "  </thead>\n",
       "  <tbody>\n",
       "    <tr>\n",
       "      <th>2000-01-31</th>\n",
       "      <td>0.13888</td>\n",
       "      <td>-0.12165</td>\n",
       "      <td>-0.05428</td>\n",
       "      <td>-0.01098</td>\n",
       "      <td>0.13622</td>\n",
       "      <td>-0.11848</td>\n",
       "      <td>0.02044</td>\n",
       "      <td>0.02709</td>\n",
       "      <td>0.09606</td>\n",
       "      <td>0.07169</td>\n",
       "      <td>-0.02620</td>\n",
       "      <td>-0.02738</td>\n",
       "      <td>-0.01407</td>\n",
       "      <td>0.07493</td>\n",
       "    </tr>\n",
       "    <tr>\n",
       "      <th>2000-02-29</th>\n",
       "      <td>0.03289</td>\n",
       "      <td>-0.10511</td>\n",
       "      <td>-0.05713</td>\n",
       "      <td>-0.05162</td>\n",
       "      <td>-0.02608</td>\n",
       "      <td>-0.14637</td>\n",
       "      <td>-0.01000</td>\n",
       "      <td>-0.04040</td>\n",
       "      <td>-0.01759</td>\n",
       "      <td>-0.02703</td>\n",
       "      <td>0.03454</td>\n",
       "      <td>-0.04951</td>\n",
       "      <td>-0.07184</td>\n",
       "      <td>0.46465</td>\n",
       "    </tr>\n",
       "  </tbody>\n",
       "</table>\n",
       "</div>"
      ],
      "text/plain": [
       "                NG1      KC1      CC1      LB1      CT1      SB1      LC1  \\\n",
       "Date                                                                        \n",
       "2000-01-31  0.13888 -0.12165 -0.05428 -0.01098  0.13622 -0.11848  0.02044   \n",
       "2000-02-29  0.03289 -0.10511 -0.05713 -0.05162 -0.02608 -0.14637 -0.01000   \n",
       "\n",
       "                 W1       S1       C1      GC1      SI1      HG1      PA1  \n",
       "Date                                                                       \n",
       "2000-01-31  0.02709  0.09606  0.07169 -0.02620 -0.02738 -0.01407  0.07493  \n",
       "2000-02-29 -0.04040 -0.01759 -0.02703  0.03454 -0.04951 -0.07184  0.46465  "
      ]
     },
     "execution_count": 3,
     "metadata": {},
     "output_type": "execute_result"
    }
   ],
   "source": [
    "factors = pd.read_excel('midterm_2_data_pricing.xlsx',1, index_col=0)\n",
    "assets = pd.read_excel('midterm_2_data_pricing.xlsx',2, index_col=0)\n",
    "assets.head(2)"
   ]
  },
  {
   "cell_type": "markdown",
   "metadata": {},
   "source": [
    "# 2.1"
   ]
  },
  {
   "cell_type": "code",
   "execution_count": 4,
   "metadata": {},
   "outputs": [
    {
     "data": {
      "text/plain": [
       "const    0.00995\n",
       "MKT     -0.03769\n",
       "CL1      0.25016\n",
       "dtype: float64"
      ]
     },
     "execution_count": 4,
     "metadata": {},
     "output_type": "execute_result"
    }
   ],
   "source": [
    "y = assets['NG1']\n",
    "#del df['SPY US Equity']\n",
    "x = sm.add_constant(factors)\n",
    "\n",
    "reg = sm.OLS(y,x).fit()\n",
    "reg.params"
   ]
  },
  {
   "cell_type": "markdown",
   "metadata": {},
   "source": [
    "# 2.2"
   ]
  },
  {
   "cell_type": "code",
   "execution_count": 5,
   "metadata": {},
   "outputs": [],
   "source": [
    "def ts_test(df, factor_df, factors, constant = True,annualization=12):\n",
    "    res = pd.DataFrame(data = None, index = df.columns, columns = ['alpha','f_1','f_2', 'r_2', 'treynor', 'info'])\n",
    "    \n",
    "    for port in df.columns:\n",
    "        y = df[port]\n",
    "        if constant:\n",
    "            X = sm.add_constant(factor_df[factors])\n",
    "        else:\n",
    "            X = factor_df[factors]\n",
    "        model = sm.OLS(y, X).fit()\n",
    "        \n",
    "        if constant:\n",
    "            beta = model.params[1:]\n",
    "            alpha = model.params[0] * annualization\n",
    "            information_ratio = model.params[0] * np.sqrt(annualization) / model.resid.std()\n",
    "        else:\n",
    "            beta = model.params\n",
    "    \n",
    "        treynor = df[port].mean() * annualization / beta[0]\n",
    "        tracking_error = model.resid.std() * np.sqrt(annualization)\n",
    "        if constant:\n",
    "            res.loc[port] = [alpha, model.params[1], model.params[2], model.rsquared, treynor, information_ratio]\n",
    "        else:\n",
    "            res.loc[port] = [None, model.params[0], model.params[1], model.rsquared, treynor, None]\n",
    "    return res\n",
    "\n",
    "#df is the asset portfolios which we are regressing\n",
    "#factor_df is the factor data\n",
    "#intercept is whether we want to include an intercept in the regression"
   ]
  },
  {
   "cell_type": "code",
   "execution_count": 6,
   "metadata": {},
   "outputs": [],
   "source": [
    "#Calculate mean, standard deviation and sharpe ratio\n",
    "def mean_vol_sharpe(df,ann=12):\n",
    "    mean = df.mean() * ann\n",
    "    volatility = df.std() * np.sqrt(ann)\n",
    "    sharpe_ratio = mean/volatility\n",
    "    return pd.DataFrame({'mean': mean, 'volatility': volatility, 'sharpe_ratio': sharpe_ratio})"
   ]
  },
  {
   "cell_type": "code",
   "execution_count": 7,
   "metadata": {},
   "outputs": [
    {
     "data": {
      "text/html": [
       "<div>\n",
       "<style scoped>\n",
       "    .dataframe tbody tr th:only-of-type {\n",
       "        vertical-align: middle;\n",
       "    }\n",
       "\n",
       "    .dataframe tbody tr th {\n",
       "        vertical-align: top;\n",
       "    }\n",
       "\n",
       "    .dataframe thead th {\n",
       "        text-align: right;\n",
       "    }\n",
       "</style>\n",
       "<table border=\"1\" class=\"dataframe\">\n",
       "  <thead>\n",
       "    <tr style=\"text-align: right;\">\n",
       "      <th></th>\n",
       "      <th>alpha</th>\n",
       "      <th>f_1</th>\n",
       "      <th>f_2</th>\n",
       "      <th>r_2</th>\n",
       "      <th>treynor</th>\n",
       "      <th>info</th>\n",
       "    </tr>\n",
       "  </thead>\n",
       "  <tbody>\n",
       "    <tr>\n",
       "      <th>NG1</th>\n",
       "      <td>0.11946</td>\n",
       "      <td>-0.03769</td>\n",
       "      <td>0.25016</td>\n",
       "      <td>0.03186</td>\n",
       "      <td>-3.82052</td>\n",
       "      <td>0.22564</td>\n",
       "    </tr>\n",
       "    <tr>\n",
       "      <th>KC1</th>\n",
       "      <td>0.02032</td>\n",
       "      <td>0.29916</td>\n",
       "      <td>0.03211</td>\n",
       "      <td>0.02702</td>\n",
       "      <td>0.15026</td>\n",
       "      <td>0.06420</td>\n",
       "    </tr>\n",
       "    <tr>\n",
       "      <th>CC1</th>\n",
       "      <td>0.06321</td>\n",
       "      <td>0.11390</td>\n",
       "      <td>0.12434</td>\n",
       "      <td>0.03138</td>\n",
       "      <td>0.74433</td>\n",
       "      <td>0.19789</td>\n",
       "    </tr>\n",
       "    <tr>\n",
       "      <th>LB1</th>\n",
       "      <td>0.05550</td>\n",
       "      <td>0.77915</td>\n",
       "      <td>0.18740</td>\n",
       "      <td>0.16620</td>\n",
       "      <td>0.16804</td>\n",
       "      <td>0.15166</td>\n",
       "    </tr>\n",
       "    <tr>\n",
       "      <th>CT1</th>\n",
       "      <td>0.01302</td>\n",
       "      <td>0.52907</td>\n",
       "      <td>0.06292</td>\n",
       "      <td>0.09491</td>\n",
       "      <td>0.10820</td>\n",
       "      <td>0.04455</td>\n",
       "    </tr>\n",
       "    <tr>\n",
       "      <th>SB1</th>\n",
       "      <td>0.06957</td>\n",
       "      <td>0.05791</td>\n",
       "      <td>0.16275</td>\n",
       "      <td>0.03789</td>\n",
       "      <td>1.57755</td>\n",
       "      <td>0.20455</td>\n",
       "    </tr>\n",
       "    <tr>\n",
       "      <th>LC1</th>\n",
       "      <td>0.01627</td>\n",
       "      <td>0.10678</td>\n",
       "      <td>0.05289</td>\n",
       "      <td>0.02714</td>\n",
       "      <td>0.27690</td>\n",
       "      <td>0.08794</td>\n",
       "    </tr>\n",
       "    <tr>\n",
       "      <th>W1</th>\n",
       "      <td>0.05576</td>\n",
       "      <td>0.29115</td>\n",
       "      <td>-0.00255</td>\n",
       "      <td>0.02120</td>\n",
       "      <td>0.26123</td>\n",
       "      <td>0.18090</td>\n",
       "    </tr>\n",
       "    <tr>\n",
       "      <th>S1</th>\n",
       "      <td>0.04210</td>\n",
       "      <td>0.35327</td>\n",
       "      <td>0.03860</td>\n",
       "      <td>0.05547</td>\n",
       "      <td>0.20171</td>\n",
       "      <td>0.16343</td>\n",
       "    </tr>\n",
       "    <tr>\n",
       "      <th>C1</th>\n",
       "      <td>0.06094</td>\n",
       "      <td>0.25509</td>\n",
       "      <td>0.06522</td>\n",
       "      <td>0.03342</td>\n",
       "      <td>0.33735</td>\n",
       "      <td>0.20759</td>\n",
       "    </tr>\n",
       "    <tr>\n",
       "      <th>GC1</th>\n",
       "      <td>0.07500</td>\n",
       "      <td>0.00894</td>\n",
       "      <td>0.06339</td>\n",
       "      <td>0.02377</td>\n",
       "      <td>9.22910</td>\n",
       "      <td>0.46149</td>\n",
       "    </tr>\n",
       "    <tr>\n",
       "      <th>SI1</th>\n",
       "      <td>0.06294</td>\n",
       "      <td>0.26037</td>\n",
       "      <td>0.21179</td>\n",
       "      <td>0.11579</td>\n",
       "      <td>0.40081</td>\n",
       "      <td>0.21768</td>\n",
       "    </tr>\n",
       "    <tr>\n",
       "      <th>HG1</th>\n",
       "      <td>0.03327</td>\n",
       "      <td>0.60994</td>\n",
       "      <td>0.16239</td>\n",
       "      <td>0.25874</td>\n",
       "      <td>0.15416</td>\n",
       "      <td>0.14853</td>\n",
       "    </tr>\n",
       "    <tr>\n",
       "      <th>PA1</th>\n",
       "      <td>0.08176</td>\n",
       "      <td>0.47105</td>\n",
       "      <td>0.13122</td>\n",
       "      <td>0.08732</td>\n",
       "      <td>0.27453</td>\n",
       "      <td>0.24342</td>\n",
       "    </tr>\n",
       "  </tbody>\n",
       "</table>\n",
       "</div>"
      ],
      "text/plain": [
       "       alpha      f_1      f_2      r_2  treynor     info\n",
       "NG1  0.11946 -0.03769  0.25016  0.03186 -3.82052  0.22564\n",
       "KC1  0.02032  0.29916  0.03211  0.02702  0.15026  0.06420\n",
       "CC1  0.06321  0.11390  0.12434  0.03138  0.74433  0.19789\n",
       "LB1  0.05550  0.77915  0.18740  0.16620  0.16804  0.15166\n",
       "CT1  0.01302  0.52907  0.06292  0.09491  0.10820  0.04455\n",
       "SB1  0.06957  0.05791  0.16275  0.03789  1.57755  0.20455\n",
       "LC1  0.01627  0.10678  0.05289  0.02714  0.27690  0.08794\n",
       "W1   0.05576  0.29115 -0.00255  0.02120  0.26123  0.18090\n",
       "S1   0.04210  0.35327  0.03860  0.05547  0.20171  0.16343\n",
       "C1   0.06094  0.25509  0.06522  0.03342  0.33735  0.20759\n",
       "GC1  0.07500  0.00894  0.06339  0.02377  9.22910  0.46149\n",
       "SI1  0.06294  0.26037  0.21179  0.11579  0.40081  0.21768\n",
       "HG1  0.03327  0.60994  0.16239  0.25874  0.15416  0.14853\n",
       "PA1  0.08176  0.47105  0.13122  0.08732  0.27453  0.24342"
      ]
     },
     "execution_count": 7,
     "metadata": {},
     "output_type": "execute_result"
    }
   ],
   "source": [
    "df_ts = ts_test(assets, factors, ['MKT','CL1'], constant = True)\n",
    "#change type to float\n",
    "df_ts = df_ts.astype(float)\n",
    "df_ts"
   ]
  },
  {
   "cell_type": "markdown",
   "metadata": {},
   "source": [
    "# 2.3"
   ]
  },
  {
   "cell_type": "code",
   "execution_count": 8,
   "metadata": {},
   "outputs": [
    {
     "data": {
      "text/plain": [
       "0.05494"
      ]
     },
     "execution_count": 8,
     "metadata": {},
     "output_type": "execute_result"
    }
   ],
   "source": [
    "round(df_ts['alpha'].abs().mean(),5)\n",
    "#Already annualized"
   ]
  },
  {
   "cell_type": "markdown",
   "metadata": {},
   "source": [
    "# 2.4\n",
    "Report the the largest predicted premium from the model, and note which asset it is."
   ]
  },
  {
   "cell_type": "markdown",
   "metadata": {},
   "source": [
    "Ans: CL1 has the largest predicted timeseries premium of 0.10"
   ]
  },
  {
   "cell_type": "code",
   "execution_count": 9,
   "metadata": {},
   "outputs": [
    {
     "data": {
      "text/plain": [
       "MKT    0.07067\n",
       "CL1    0.10869\n",
       "Name: mean, dtype: float64"
      ]
     },
     "execution_count": 9,
     "metadata": {},
     "output_type": "execute_result"
    }
   ],
   "source": [
    "factor_mean = mean_vol_sharpe(factors).iloc[:,0]\n",
    "factor_mean"
   ]
  },
  {
   "cell_type": "code",
   "execution_count": 10,
   "metadata": {},
   "outputs": [],
   "source": [
    "def ts_premia(df_ts, factor_mean):\n",
    "    #multiply factor premium row wise to each f_1 an f_2 in factor and sum\n",
    "    premia = pd.DataFrame(data = None, index = df_ts.index, columns = ['TS Premia'])\n",
    "    for row in df_ts.index:\n",
    "        a = df_ts.loc[row, 'f_1']* factor_mean[0]\n",
    "        b = df_ts.loc[row, 'f_2']* factor_mean[1]\n",
    "        premia.loc[row] = a + b\n",
    "        \n",
    "    return premia\n"
   ]
  },
  {
   "cell_type": "code",
   "execution_count": 11,
   "metadata": {},
   "outputs": [
    {
     "data": {
      "text/html": [
       "<div>\n",
       "<style scoped>\n",
       "    .dataframe tbody tr th:only-of-type {\n",
       "        vertical-align: middle;\n",
       "    }\n",
       "\n",
       "    .dataframe tbody tr th {\n",
       "        vertical-align: top;\n",
       "    }\n",
       "\n",
       "    .dataframe thead th {\n",
       "        text-align: right;\n",
       "    }\n",
       "</style>\n",
       "<table border=\"1\" class=\"dataframe\">\n",
       "  <thead>\n",
       "    <tr style=\"text-align: right;\">\n",
       "      <th></th>\n",
       "      <th>TS Premia</th>\n",
       "    </tr>\n",
       "  </thead>\n",
       "  <tbody>\n",
       "    <tr>\n",
       "      <th>LB1</th>\n",
       "      <td>0.07543</td>\n",
       "    </tr>\n",
       "    <tr>\n",
       "      <th>HG1</th>\n",
       "      <td>0.06075</td>\n",
       "    </tr>\n",
       "    <tr>\n",
       "      <th>PA1</th>\n",
       "      <td>0.04755</td>\n",
       "    </tr>\n",
       "    <tr>\n",
       "      <th>CT1</th>\n",
       "      <td>0.04423</td>\n",
       "    </tr>\n",
       "    <tr>\n",
       "      <th>SI1</th>\n",
       "      <td>0.04142</td>\n",
       "    </tr>\n",
       "    <tr>\n",
       "      <th>S1</th>\n",
       "      <td>0.02916</td>\n",
       "    </tr>\n",
       "    <tr>\n",
       "      <th>C1</th>\n",
       "      <td>0.02512</td>\n",
       "    </tr>\n",
       "    <tr>\n",
       "      <th>KC1</th>\n",
       "      <td>0.02463</td>\n",
       "    </tr>\n",
       "    <tr>\n",
       "      <th>NG1</th>\n",
       "      <td>0.02453</td>\n",
       "    </tr>\n",
       "    <tr>\n",
       "      <th>SB1</th>\n",
       "      <td>0.02178</td>\n",
       "    </tr>\n",
       "    <tr>\n",
       "      <th>CC1</th>\n",
       "      <td>0.02156</td>\n",
       "    </tr>\n",
       "    <tr>\n",
       "      <th>W1</th>\n",
       "      <td>0.0203</td>\n",
       "    </tr>\n",
       "    <tr>\n",
       "      <th>LC1</th>\n",
       "      <td>0.01329</td>\n",
       "    </tr>\n",
       "    <tr>\n",
       "      <th>GC1</th>\n",
       "      <td>0.00752</td>\n",
       "    </tr>\n",
       "  </tbody>\n",
       "</table>\n",
       "</div>"
      ],
      "text/plain": [
       "    TS Premia\n",
       "LB1   0.07543\n",
       "HG1   0.06075\n",
       "PA1   0.04755\n",
       "CT1   0.04423\n",
       "SI1   0.04142\n",
       "S1    0.02916\n",
       "C1    0.02512\n",
       "KC1   0.02463\n",
       "NG1   0.02453\n",
       "SB1   0.02178\n",
       "CC1   0.02156\n",
       "W1     0.0203\n",
       "LC1   0.01329\n",
       "GC1   0.00752"
      ]
     },
     "execution_count": 11,
     "metadata": {},
     "output_type": "execute_result"
    }
   ],
   "source": [
    "ts_premia(df_ts, factor_mean).sort_values(by='TS Premia', ascending=False)"
   ]
  },
  {
   "cell_type": "code",
   "execution_count": 59,
   "metadata": {},
   "outputs": [],
   "source": [
    "def cross_regression(asset_df, factors_df, factors, intercept=True, annualization=12):\n",
    "    \n",
    "    res = pd.DataFrame(data = None, index = factors, columns = ['cs_premia'])\n",
    "    \n",
    "    factors_df = factors_df.iloc[:,1:(len(factors)+1)]\n",
    "    \n",
    "    y = asset_df.mean() * annualization\n",
    "    if intercept == True:\n",
    "        X = sm.add_constant(factors_df[factors].astype(float))\n",
    "    else:\n",
    "        X = factors_df[factors].astype(float)\n",
    "    model = sm.OLS(y, X).fit()\n",
    "    if intercept:\n",
    "        alpha = model.params[0]\n",
    "        mae = model.resid.abs().mean()\n",
    "        for i in range(len(factors)):\n",
    "            res.loc[factors[i]] = model.params[i+1]\n",
    "        predicted_premia = pd.DataFrame(model.resid.abs(), columns=['predicted_premia'])\n",
    "    else:\n",
    "        alpha = None\n",
    "        mae = model.resid.abs().mean()\n",
    "        for i in range(len(factors)):\n",
    "            res.loc[factors[i]] = model.params[i]\n",
    "        predicted_premia = pd.DataFrame(model.resid.abs(), columns=['predicted_premia'])\n",
    "    \n",
    "    if intercept:\n",
    "        return predicted_premia, res, f'r-squared = {round(model.rsquared, 4)}', f'alpha = {round(alpha, 4)}', f'mae = {round(mae, 4)}'\n",
    "    else:\n",
    "        return predicted_premia,res, f'r-squared = {round(model.rsquared, 4)}', f'mae = {round(mae, 4)}'"
   ]
  },
  {
   "cell_type": "markdown",
   "metadata": {},
   "source": [
    "# 3.1"
   ]
  },
  {
   "cell_type": "code",
   "execution_count": 60,
   "metadata": {},
   "outputs": [
    {
     "data": {
      "text/plain": [
       "(     predicted_premia\n",
       " NG1           0.01581\n",
       " KC1           0.00721\n",
       " CC1           0.01178\n",
       " LB1           0.02164\n",
       " CT1           0.01272\n",
       " SB1           0.00219\n",
       " LC1           0.00557\n",
       " W1            0.05700\n",
       " S1            0.02633\n",
       " C1            0.03408\n",
       " GC1           0.04875\n",
       " SI1           0.02463\n",
       " HG1           0.03361\n",
       " PA1           0.02770,\n",
       "     cs_premia\n",
       " f_1   0.07005\n",
       " f_2   0.52292,\n",
       " 'r-squared = 0.9084',\n",
       " 'mae = 0.0235')"
      ]
     },
     "execution_count": 60,
     "metadata": {},
     "output_type": "execute_result"
    }
   ],
   "source": [
    "# y = assets.mean()\n",
    "# X = sm.add_constant(df_ts[['f_1','f_2']])\n",
    "# model = sm.OLS(y,X).fit()\n",
    "# model.rsquared\n",
    "cross_regression(assets, df_ts, ['f_1','f_2'], intercept=False)"
   ]
  },
  {
   "cell_type": "code",
   "execution_count": null,
   "metadata": {},
   "outputs": [],
   "source": []
  },
  {
   "cell_type": "markdown",
   "metadata": {},
   "source": [
    "# 3.2\n",
    "Are either, neither, or both of these estimated metrics evidence against the model?"
   ]
  },
  {
   "cell_type": "markdown",
   "metadata": {},
   "source": [
    "Ans: Both are evidence against the model as the R-squared is not close to 1 and the alphas are not close to 0."
   ]
  },
  {
   "cell_type": "markdown",
   "metadata": {},
   "source": [
    "# 3.3\n",
    "Report the estimated factor premia. (i.e. the two cross-sectional regression slopes).\n",
    "Annualize this number"
   ]
  },
  {
   "cell_type": "code",
   "execution_count": 14,
   "metadata": {},
   "outputs": [
    {
     "data": {
      "text/html": [
       "<div>\n",
       "<style scoped>\n",
       "    .dataframe tbody tr th:only-of-type {\n",
       "        vertical-align: middle;\n",
       "    }\n",
       "\n",
       "    .dataframe tbody tr th {\n",
       "        vertical-align: top;\n",
       "    }\n",
       "\n",
       "    .dataframe thead th {\n",
       "        text-align: right;\n",
       "    }\n",
       "</style>\n",
       "<table border=\"1\" class=\"dataframe\">\n",
       "  <thead>\n",
       "    <tr style=\"text-align: right;\">\n",
       "      <th></th>\n",
       "      <th>Estimated Factor Premia</th>\n",
       "    </tr>\n",
       "  </thead>\n",
       "  <tbody>\n",
       "    <tr>\n",
       "      <th>f_1</th>\n",
       "      <td>0.01858</td>\n",
       "    </tr>\n",
       "    <tr>\n",
       "      <th>f_2</th>\n",
       "      <td>0.33194</td>\n",
       "    </tr>\n",
       "  </tbody>\n",
       "</table>\n",
       "</div>"
      ],
      "text/plain": [
       "     Estimated Factor Premia\n",
       "f_1                  0.01858\n",
       "f_2                  0.33194"
      ]
     },
     "execution_count": 14,
     "metadata": {},
     "output_type": "execute_result"
    }
   ],
   "source": [
    "(model.params[1:] * 12).to_frame('Estimated Factor Premia')"
   ]
  },
  {
   "cell_type": "markdown",
   "metadata": {},
   "source": [
    "# 3.4"
   ]
  },
  {
   "cell_type": "code",
   "execution_count": 15,
   "metadata": {},
   "outputs": [
    {
     "data": {
      "text/plain": [
       "MKT    float64\n",
       "CL1    float64\n",
       "dtype: object"
      ]
     },
     "execution_count": 15,
     "metadata": {},
     "output_type": "execute_result"
    }
   ],
   "source": [
    "factors = factors.astype(float)\n",
    "factor_1 = factors[['MKT','CL1']]\n",
    "factor_1.dtypes"
   ]
  },
  {
   "cell_type": "code",
   "execution_count": 16,
   "metadata": {},
   "outputs": [
    {
     "data": {
      "text/plain": [
       "0.7619409144951016"
      ]
     },
     "execution_count": 16,
     "metadata": {},
     "output_type": "execute_result"
    }
   ],
   "source": [
    "predicted = model.params[0] + (factor_1 * model.params[1:]).sum(axis=1)\n",
    "MAE_cs = (assets.mean() - predicted).abs().mean() * 12\n",
    "\n",
    "premia = pd.DataFrame(data=None, index = factor_1.index,columns=['premia'])\n",
    "for row in factor_1.index:\n",
    "    a = factor_1.loc[row, 'MKT']* model.params[1]\n",
    "    b = factor_1.loc[row, 'CL1']* model.params[2]\n",
    "    premia.loc[row] = a + b\n",
    "predicted = premia.sum()[0]+model.params[0]\n",
    "MAE_cs = (assets.mean() - predicted).abs().mean() * 12\n",
    "MAE_cs"
   ]
  },
  {
   "cell_type": "code",
   "execution_count": 17,
   "metadata": {},
   "outputs": [
    {
     "data": {
      "text/plain": [
       "0.016879605249218617"
      ]
     },
     "execution_count": 17,
     "metadata": {},
     "output_type": "execute_result"
    }
   ],
   "source": [
    "model.resid.abs().mean() *12"
   ]
  },
  {
   "cell_type": "markdown",
   "metadata": {},
   "source": [
    "# 3.5\n",
    "Report the the largest predicted premium from the model, and note which asset it is."
   ]
  },
  {
   "cell_type": "markdown",
   "metadata": {},
   "source": [
    "#### LB1 has highest"
   ]
  },
  {
   "cell_type": "code",
   "execution_count": 18,
   "metadata": {},
   "outputs": [
    {
     "ename": "NameError",
     "evalue": "name 'df_cs_cs' is not defined",
     "output_type": "error",
     "traceback": [
      "\u001b[0;31m---------------------------------------------------------------------------\u001b[0m",
      "\u001b[0;31mNameError\u001b[0m                                 Traceback (most recent call last)",
      "\u001b[0;32m/var/folders/js/d6m3lmg13x1dqjyw_1h8pr8h0000gn/T/ipykernel_29323/457021536.py\u001b[0m in \u001b[0;36m<module>\u001b[0;34m\u001b[0m\n\u001b[0;32m----> 1\u001b[0;31m \u001b[0mdf_cs_cs\u001b[0m\u001b[0;34m.\u001b[0m\u001b[0msort_values\u001b[0m\u001b[0;34m(\u001b[0m\u001b[0;34m'Predicted'\u001b[0m\u001b[0;34m,\u001b[0m \u001b[0mascending\u001b[0m\u001b[0;34m=\u001b[0m\u001b[0;32mFalse\u001b[0m\u001b[0;34m)\u001b[0m\u001b[0;34m.\u001b[0m\u001b[0mhead\u001b[0m\u001b[0;34m(\u001b[0m\u001b[0;36m2\u001b[0m\u001b[0;34m)\u001b[0m\u001b[0;34m\u001b[0m\u001b[0;34m\u001b[0m\u001b[0m\n\u001b[0m",
      "\u001b[0;31mNameError\u001b[0m: name 'df_cs_cs' is not defined"
     ]
    }
   ],
   "source": [
    "df_cs_cs.sort_values('Predicted', ascending=False).head(2)"
   ]
  },
  {
   "cell_type": "markdown",
   "metadata": {},
   "source": [
    "# 4.1\n",
    "Which is more useful in assessing the model’s fit for pricing: the r-squared of the time-series regressions, the r-squared of the cross-sectional regression, or neither?"
   ]
  },
  {
   "cell_type": "markdown",
   "metadata": {},
   "source": [
    "Ans: The r-squared of the cross-sectional regression. We do not care about the r-squared of the time series regressions for pricing, while for the cross-sectional regression if r-squared is not equal to one then we know the pricing model is not completely explaining all premia that exist."
   ]
  },
  {
   "cell_type": "markdown",
   "metadata": {},
   "source": [
    "# 4.2 \n",
    "We calculated the MAE from the time-series estimation and from the cross-sectional (with\n",
    "intercept) estimation. Is one always bigger than the other? Why or why not?"
   ]
  },
  {
   "cell_type": "markdown",
   "metadata": {},
   "source": [
    "The MAE from the time-series estimation is always bigger than the MAE from the cross-sectional estimation. This is because the time-series estimation is a regression of the asset returns on the factor returns. The cross-sectional estimation is a regression of the asset returns on the factor returns and the intercept. The intercept is the asset’s alpha. The intercept is always bigger than the factor returns."
   ]
  },
  {
   "cell_type": "markdown",
   "metadata": {},
   "source": [
    "# 4.3\n",
    "If we add another factor, will the time-series MAE decrease? And how about the cross-\n",
    "sectional MAE? Explain"
   ]
  },
  {
   "cell_type": "markdown",
   "metadata": {},
   "source": [
    "- It is unclear whether MAE will increase or decrease in the time series test, as the intercept may increase or decrease when we add a factor.\n",
    "- In the cross-sectional regression the fit must improve, as when we add a factor $R^{2}$ must increase."
   ]
  },
  {
   "cell_type": "markdown",
   "metadata": {},
   "source": [
    "# 4.4 (a)\n",
    "Suppose we built a tangency portfolio using only the factors.\n",
    "Compute tangency weights using just the two factors as the asset space. Does CL1\n",
    "have much weight in this factor-tangency portfolio?"
   ]
  },
  {
   "cell_type": "markdown",
   "metadata": {},
   "source": [
    "Ans: No CL1 holds jusy 11.8% of the weight in the factor tangency portfolio."
   ]
  },
  {
   "cell_type": "code",
   "execution_count": null,
   "metadata": {},
   "outputs": [],
   "source": [
    "def compute_tangency(df_tilde, diagonalize_Sigma=False):\n",
    "\n",
    "    Sigma = df_tilde.cov()\n",
    "\n",
    "    # N is the number of assets\n",
    "\n",
    "    N = Sigma.shape[0]\n",
    "\n",
    "    Sigma_adj = Sigma.copy()\n",
    "\n",
    "    if diagonalize_Sigma:\n",
    "\n",
    "        Sigma_adj.loc[:,:] = np.diag(np.diag(Sigma_adj))\n",
    "\n",
    "    mu_tilde = df_tilde.mean()\n",
    "\n",
    "    Sigma_inv = np.linalg.inv(Sigma_adj)\n",
    "\n",
    "    weights = Sigma_inv @ mu_tilde / (np.ones(N) @ Sigma_inv @ mu_tilde)\n",
    "\n",
    "    # For convenience, I'll wrap the solution back into a pandas.Series object.\n",
    "    omega_tangency = pd.Series(weights, index=mu_tilde.index)\n",
    "    \n",
    "    return omega_tangency\n",
    "\n",
    "# tangent = compute_tangency(portfolios_excess_1981)\n",
    "# tangent.shape"
   ]
  },
  {
   "cell_type": "code",
   "execution_count": null,
   "metadata": {},
   "outputs": [
    {
     "data": {
      "text/plain": [
       "MKT    0.88109\n",
       "CL1    0.11891\n",
       "dtype: float64"
      ]
     },
     "execution_count": 58,
     "metadata": {},
     "output_type": "execute_result"
    }
   ],
   "source": [
    "tangent = compute_tangency(factors)\n",
    "tangent"
   ]
  },
  {
   "cell_type": "markdown",
   "metadata": {},
   "source": [
    "# 4.4 (b)\n",
    "Conceptually, does this seem like evidence that CL1 is a useful pricing factor? Why?"
   ]
  },
  {
   "cell_type": "markdown",
   "metadata": {},
   "source": [
    "Ans: Conceptually, the factors with the highest weights in the factor tangency portfolio are the most useful pricing factors. Mkt has the 88.1% weight in the factor tangency portfolio. This is evidence that Mkt is a useful pricing factor, and CL1 is not.\n",
    "We also checked the correlation between CL1 and MKT to ascertain whether that was the driver of a lower tangency weight."
   ]
  },
  {
   "cell_type": "code",
   "execution_count": null,
   "metadata": {},
   "outputs": [
    {
     "data": {
      "text/plain": [
       "<AxesSubplot:>"
      ]
     },
     "execution_count": 59,
     "metadata": {},
     "output_type": "execute_result"
    },
    {
     "data": {
      "image/png": "[encoded data removed]",
      "text/plain": [
       "<Figure size 432x288 with 2 Axes>"
      ]
     },
     "metadata": {
      "needs_background": "light"
     },
     "output_type": "display_data"
    }
   ],
   "source": [
    "corr = factors.corr()\n",
    "sns.heatmap(corr, annot=True, cmap='RdYlGn', linewidths=0.2)"
   ]
  }
 ],
 "metadata": {
  "kernelspec": {
   "display_name": "Python 3.9.7 ('base')",
   "language": "python",
   "name": "python3"
  },
  "language_info": {
   "codemirror_mode": {
    "name": "ipython",
    "version": 3
   },
   "file_extension": ".py",
   "mimetype": "text/x-python",
   "name": "python",
   "nbconvert_exporter": "python",
   "pygments_lexer": "ipython3",
   "version": "3.9.7"
  },
  "orig_nbformat": 4,
  "vscode": {
   "interpreter": {
    "hash": "5e62c483ecf48ad4e1bb5f903abeb626d4ffc56eab47e05d9eff835eeb907be7"
   }
  }
 },
 "nbformat": 4,
 "nbformat_minor": 2
}
