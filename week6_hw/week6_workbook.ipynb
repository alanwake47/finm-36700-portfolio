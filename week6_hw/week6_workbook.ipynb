{
 "cells": [
  {
   "cell_type": "code",
   "execution_count": 1,
   "metadata": {},
   "outputs": [],
   "source": [
    "import pandas as pd\n",
    "import numpy as np\n",
    "import matplotlib.pyplot as plt\n",
    "import statsmodels.api as sm\n",
    "from sklearn import linear_model\n",
    "import scipy.stats as stats\n",
    "import seaborn as sns\n",
    "import warnings\n",
    "warnings.filterwarnings(\"ignore\")\n",
    "pd.set_option(\"display.precision\", 4)"
   ]
  },
  {
   "cell_type": "code",
   "execution_count": 2,
   "metadata": {},
   "outputs": [],
   "source": [
    "#Calculate mean, standard deviation and sharpe ratio\n",
    "def mean_vol_sharpe(df,ann=12):\n",
    "    mean = df.mean() * ann\n",
    "    volatility = df.std() * np.sqrt(ann)\n",
    "    sharpe_ratio = mean/volatility\n",
    "    return pd.DataFrame({'mean': mean, 'volatility': volatility, 'sharpe_ratio': sharpe_ratio})"
   ]
  },
  {
   "cell_type": "code",
   "execution_count": 3,
   "metadata": {},
   "outputs": [],
   "source": [
    "def stats_by_date(df, start_date, end_date):\n",
    "    df = mean_vol_sharpe(df.loc[start_date:end_date])\n",
    "    df.rename(columns={'mean':'mean '+start_date+'-'+end_date}, inplace=True)\n",
    "    df.rename(columns={'volatility':'volatility '+start_date+'-'+end_date}, inplace=True)\n",
    "    df.rename(columns={'sharpe_ratio':'sharpe_ratio '+start_date+'-'+end_date}, inplace=True)\n",
    "    return df"
   ]
  },
  {
   "cell_type": "code",
   "execution_count": 4,
   "metadata": {},
   "outputs": [],
   "source": [
    "def table_row(df, portfolio, annualize_factor=12):\n",
    "    mean = df[portfolio].mean() * annualize_factor\n",
    "    vol = df[portfolio].std() * np.sqrt(annualize_factor)\n",
    "    sharpe_ratio = mean/vol\n",
    "    skew = df[portfolio].skew() #unscaled\n",
    "    corr = df[[portfolio, 'MKT', 'HML']].corr()\n",
    "    corr_to_mkt = corr.loc[portfolio, 'MKT']\n",
    "    corr_to_value = corr.loc[portfolio, 'HML']\n",
    "    return [mean, vol, sharpe_ratio, skew, corr_to_mkt, corr_to_value]\n",
    "\n",
    "\n",
    "#table1 = pd.DataFrame(index=['1927-2021', '1927-1993', '1994-2008', '2009-2021'],\n",
    "    #columns=['mean ', 'vol ', 'sharpe_ratio ', 'skew ', 'corr_to_mkt ', 'corr_to_value', ])\n",
    "\n",
    "# table1.loc['1927-2021', :] = table_row(df_mom_size.loc['1927':'2020',:], portfolio='rx_mom_FF')\n",
    "# table1.loc['1927-1993', :] = table_row(df_mom_size.loc['1927':'1993',:], portfolio='rx_mom_FF')\n",
    "# table1.loc['1994-2008', :] = table_row(df_mom_size.loc['1994':'2008',:], portfolio='rx_mom_FF')\n",
    "# table1.loc['2009-2021', :] = table_row(df_mom_size.loc['2009':'2020',:], portfolio='rx_mom_FF')\n",
    "# table1.style.set_caption('Solution Table 1: Momentum performance over time.')"
   ]
  },
  {
   "cell_type": "markdown",
   "metadata": {},
   "source": [
    "# Homework #6"
   ]
  },
  {
   "cell_type": "markdown",
   "metadata": {},
   "source": [
    "## 2. Investigating Momentum"
   ]
  },
  {
   "cell_type": "markdown",
   "metadata": {},
   "source": [
    "### 2.1 . Is momentum still profitable?\n",
    "The excess returns of lucrative trading strategies often disappear once the strategy is well-known. The first widely-cited paper on momentum was published in 1993. Have momentum returns or risk changed since then? The AQR case takes place at the end of 2008. Have momentum returns changed in 2009-2022?\n",
    "Investigate by filling out the summary statistics below for the full-sample and three sub-samples.\n"
   ]
  },
  {
   "cell_type": "markdown",
   "metadata": {},
   "source": [
    "### 2.1 (a)  Using the data provided, fill in Table 1 with the appropriate stats for $ \\tilde{r}^{mom:FF} $"
   ]
  },
  {
   "cell_type": "code",
   "execution_count": 5,
   "metadata": {},
   "outputs": [],
   "source": [
    "df_factors = pd.read_excel('momentum_data.xlsx', 1, index_col=0)\n",
    "df_mom = pd.read_excel('momentum_data.xlsx', 2, index_col=0)\n",
    "df_momentum = pd.read_excel('momentum_data.xlsx', 3, index_col=0)\n",
    "df_mom_size = pd.read_excel('momentum_data.xlsx', 4, index_col=0)\n",
    "rf = pd.read_excel('momentum_data.xlsx', 5, index_col=0)\n",
    "df_mom_size = df_mom_size.join(df_factors)\n",
    "df_mom_size = df_mom_size.join(rf)"
   ]
  },
  {
   "cell_type": "code",
   "execution_count": 6,
   "metadata": {},
   "outputs": [],
   "source": [
    "df_mom_size['FF'] = pd.DataFrame(0.5*(df_mom_size['BIG HiPRIOR']+df_mom_size['SMALL HiPRIOR'])-0.5*(df_mom_size['BIG LoPRIOR']+df_mom_size['SMALL LoPRIOR']), columns=['fama'])\n"
   ]
  },
  {
   "cell_type": "code",
   "execution_count": 7,
   "metadata": {},
   "outputs": [
    {
     "data": {
      "text/html": [
       "<style type=\"text/css\">\n",
       "</style>\n",
       "<table id=\"T_70e89_\">\n",
       "  <caption>Solution Table 1: Momentum performance over time.</caption>\n",
       "  <thead>\n",
       "    <tr>\n",
       "      <th class=\"blank level0\" >&nbsp;</th>\n",
       "      <th class=\"col_heading level0 col0\" >mean </th>\n",
       "      <th class=\"col_heading level0 col1\" >vol </th>\n",
       "      <th class=\"col_heading level0 col2\" >sharpe_ratio </th>\n",
       "      <th class=\"col_heading level0 col3\" >skew </th>\n",
       "      <th class=\"col_heading level0 col4\" >corr_to_mkt </th>\n",
       "      <th class=\"col_heading level0 col5\" >corr_to_value</th>\n",
       "    </tr>\n",
       "  </thead>\n",
       "  <tbody>\n",
       "    <tr>\n",
       "      <th id=\"T_70e89_level0_row0\" class=\"row_heading level0 row0\" >1927-2022</th>\n",
       "      <td id=\"T_70e89_row0_col0\" class=\"data row0 col0\" >0.0772</td>\n",
       "      <td id=\"T_70e89_row0_col1\" class=\"data row0 col1\" >0.1626</td>\n",
       "      <td id=\"T_70e89_row0_col2\" class=\"data row0 col2\" >0.4749</td>\n",
       "      <td id=\"T_70e89_row0_col3\" class=\"data row0 col3\" >-3.0157</td>\n",
       "      <td id=\"T_70e89_row0_col4\" class=\"data row0 col4\" >-0.3448</td>\n",
       "      <td id=\"T_70e89_row0_col5\" class=\"data row0 col5\" >-0.4176</td>\n",
       "    </tr>\n",
       "    <tr>\n",
       "      <th id=\"T_70e89_level0_row1\" class=\"row_heading level0 row1\" >1927-1993</th>\n",
       "      <td id=\"T_70e89_row1_col0\" class=\"data row1 col0\" >0.0901</td>\n",
       "      <td id=\"T_70e89_row1_col1\" class=\"data row1 col1\" >0.1600</td>\n",
       "      <td id=\"T_70e89_row1_col2\" class=\"data row1 col2\" >0.5630</td>\n",
       "      <td id=\"T_70e89_row1_col3\" class=\"data row1 col3\" >-3.8093</td>\n",
       "      <td id=\"T_70e89_row1_col4\" class=\"data row1 col4\" >-0.3625</td>\n",
       "      <td id=\"T_70e89_row1_col5\" class=\"data row1 col5\" >-0.4949</td>\n",
       "    </tr>\n",
       "    <tr>\n",
       "      <th id=\"T_70e89_level0_row2\" class=\"row_heading level0 row2\" >1994-2008</th>\n",
       "      <td id=\"T_70e89_row2_col0\" class=\"data row2 col0\" >0.1043</td>\n",
       "      <td id=\"T_70e89_row2_col1\" class=\"data row2 col1\" >0.1755</td>\n",
       "      <td id=\"T_70e89_row2_col2\" class=\"data row2 col2\" >0.5943</td>\n",
       "      <td id=\"T_70e89_row2_col3\" class=\"data row2 col3\" >-0.5824</td>\n",
       "      <td id=\"T_70e89_row2_col4\" class=\"data row2 col4\" >-0.2345</td>\n",
       "      <td id=\"T_70e89_row2_col5\" class=\"data row2 col5\" >-0.1307</td>\n",
       "    </tr>\n",
       "    <tr>\n",
       "      <th id=\"T_70e89_level0_row3\" class=\"row_heading level0 row3\" >2009-2022</th>\n",
       "      <td id=\"T_70e89_row3_col0\" class=\"data row3 col0\" >-0.0149</td>\n",
       "      <td id=\"T_70e89_row3_col1\" class=\"data row3 col1\" >0.1593</td>\n",
       "      <td id=\"T_70e89_row3_col2\" class=\"data row3 col2\" >-0.0932</td>\n",
       "      <td id=\"T_70e89_row3_col3\" class=\"data row3 col3\" >-2.8113</td>\n",
       "      <td id=\"T_70e89_row3_col4\" class=\"data row3 col4\" >-0.3779</td>\n",
       "      <td id=\"T_70e89_row3_col5\" class=\"data row3 col5\" >-0.3851</td>\n",
       "    </tr>\n",
       "  </tbody>\n",
       "</table>\n"
      ],
      "text/plain": [
       "<pandas.io.formats.style.Styler at 0x1041756d0>"
      ]
     },
     "execution_count": 7,
     "metadata": {},
     "output_type": "execute_result"
    }
   ],
   "source": [
    "table1 = pd.DataFrame(index=['1927-2022', '1927-1993', '1994-2008', '2009-2022'],\n",
    "    columns=['mean ', 'vol ', 'sharpe_ratio ', 'skew ', 'corr_to_mkt ', 'corr_to_value', ])\n",
    "table1.loc['1927-2022', :] = table_row(df_mom_size.loc['1927':'2022',:], portfolio='FF')\n",
    "table1.loc['1927-1993', :] = table_row(df_mom_size.loc['1927':'1993',:], portfolio='FF')\n",
    "table1.loc['1994-2008', :] = table_row(df_mom_size.loc['1994':'2008',:], portfolio='FF')\n",
    "table1.loc['2009-2022', :] = table_row(df_mom_size.loc['2009':'2022',:], portfolio='FF')\n",
    "table1.style.set_caption('Solution Table 1: Momentum performance over time.')"
   ]
  },
  {
   "cell_type": "markdown",
   "metadata": {},
   "source": [
    "### 2.1 (b) Has momentum changed much over time, as seen through these subsample statistics?"
   ]
  },
  {
   "cell_type": "markdown",
   "metadata": {},
   "source": [
    "### Ans: Yes, momentum has changed over time as we see that mean has gone into negative territory in 2009-2022. This can be attributed to the huge bull run since the crisis in 2008. Also, the correlation to the market has gone down in 2009-2022 compared to 1994-2008.\n",
    "### Furthermore, the sharpe ratio has fallen sharply in 2009-2022 compared to all historical periods.\n",
    "### Correlation to the market and HML has stayed more or less the same, with the 1994-2008 correlation to HML being lower than the other periods."
   ]
  },
  {
   "cell_type": "markdown",
   "metadata": {},
   "source": [
    "### 2.1 (c) Does this data support AQR’s argument that momentum is an important piece of the ideal portfolio? What if mean returns to momentum are in actuality near zero due to transaction costs—would there still be evidence here that momentum is valuable?"
   ]
  },
  {
   "cell_type": "markdown",
   "metadata": {},
   "source": [
    "#### Yes the correlations to MKT and HML, the two popular portfolio factors is quite negative in the most recent period as well. Even if mean returns to momentum are near zero due to transaction costs, the negative correlation to the market and HML would still be valuable for portfolio allocation and optimization activities.\n"
   ]
  },
  {
   "cell_type": "markdown",
   "metadata": {},
   "source": [
    "### 2.2 The case is about whether a long-only implementation of momentum is valuable.\n",
    "\n",
    "\n",
    "Construct your own long-only implementation:,\n",
    "\n",
    "$$ \\tilde{r}^{momU:FF} = \\frac{1}{2} \\left( r^{momBU} + r^{momSU} \\right) - r^f $$\n",
    "\n",
    "Note that this is following the FF approach of treating big and small stocks separately. This\n",
    "would be very similar to a scaled version of,\n",
    "\n",
    "$$ \\tilde{r}^{momU} = \\frac{1}{3} \\left( r^{mom(8)} + r^{mom(9)} + r^{mom(10)} \\right) - r^f $$\n",
    "\n",
    "For the question below, use the FF-style, $\\tilde{r}^{momU:FF}_t$.\n",
    "\n",
    "(a) Fill out Table 2 for the data in the period 1994-2022."
   ]
  },
  {
   "cell_type": "code",
   "execution_count": 15,
   "metadata": {},
   "outputs": [
    {
     "data": {
      "text/plain": [
       "Date\n",
       "1927-01-31   -0.0005\n",
       "1927-02-28    0.0473\n",
       "1927-03-31   -0.0020\n",
       "1927-04-30    0.0232\n",
       "1927-05-31    0.0670\n",
       "               ...  \n",
       "2022-05-31    0.0062\n",
       "2022-06-30   -0.0880\n",
       "2022-07-31    0.0914\n",
       "2022-08-31   -0.0084\n",
       "2022-09-30   -0.0828\n",
       "Name: FF_long, Length: 1149, dtype: float64"
      ]
     },
     "execution_count": 15,
     "metadata": {},
     "output_type": "execute_result"
    }
   ],
   "source": [
    "df_mom_size['FF_long'] = pd.DataFrame(0.5*(df_mom_size['BIG HiPRIOR']+df_mom_size['SMALL HiPRIOR'])-df_mom_size['RF'], columns=['fama_long'])\n",
    "df_mom_size['FF_long']"
   ]
  },
  {
   "cell_type": "code",
   "execution_count": 9,
   "metadata": {},
   "outputs": [
    {
     "data": {
      "text/html": [
       "<style type=\"text/css\">\n",
       "</style>\n",
       "<table id=\"T_fe802_\">\n",
       "  <caption>Solution Table 2: Long-only momentum performance.</caption>\n",
       "  <thead>\n",
       "    <tr>\n",
       "      <th class=\"blank level0\" >&nbsp;</th>\n",
       "      <th class=\"col_heading level0 col0\" >mean </th>\n",
       "      <th class=\"col_heading level0 col1\" >vol </th>\n",
       "      <th class=\"col_heading level0 col2\" >sharpe_ratio </th>\n",
       "      <th class=\"col_heading level0 col3\" >skew </th>\n",
       "      <th class=\"col_heading level0 col4\" >corr_to_mkt </th>\n",
       "      <th class=\"col_heading level0 col5\" >corr_to_value</th>\n",
       "    </tr>\n",
       "  </thead>\n",
       "  <tbody>\n",
       "    <tr>\n",
       "      <th id=\"T_fe802_level0_row0\" class=\"row_heading level0 row0\" >long_short</th>\n",
       "      <td id=\"T_fe802_row0_col0\" class=\"data row0 col0\" >0.0473</td>\n",
       "      <td id=\"T_fe802_row0_col1\" class=\"data row0 col1\" >0.1686</td>\n",
       "      <td id=\"T_fe802_row0_col2\" class=\"data row0 col2\" >0.2807</td>\n",
       "      <td id=\"T_fe802_row0_col3\" class=\"data row0 col3\" >-1.4337</td>\n",
       "      <td id=\"T_fe802_row0_col4\" class=\"data row0 col4\" >-0.3061</td>\n",
       "      <td id=\"T_fe802_row0_col5\" class=\"data row0 col5\" >-0.2385</td>\n",
       "    </tr>\n",
       "    <tr>\n",
       "      <th id=\"T_fe802_level0_row1\" class=\"row_heading level0 row1\" >long_only</th>\n",
       "      <td id=\"T_fe802_row1_col0\" class=\"data row1 col0\" >0.1128</td>\n",
       "      <td id=\"T_fe802_row1_col1\" class=\"data row1 col1\" >0.1789</td>\n",
       "      <td id=\"T_fe802_row1_col2\" class=\"data row1 col2\" >0.6304</td>\n",
       "      <td id=\"T_fe802_row1_col3\" class=\"data row1 col3\" >-0.4829</td>\n",
       "      <td id=\"T_fe802_row1_col4\" class=\"data row1 col4\" >0.9035</td>\n",
       "      <td id=\"T_fe802_row1_col5\" class=\"data row1 col5\" >-0.1547</td>\n",
       "    </tr>\n",
       "  </tbody>\n",
       "</table>\n"
      ],
      "text/plain": [
       "<pandas.io.formats.style.Styler at 0x12f9a8e80>"
      ]
     },
     "execution_count": 9,
     "metadata": {},
     "output_type": "execute_result"
    }
   ],
   "source": [
    "table2 = pd.DataFrame(index=['long_short', 'long_only'],\n",
    "    columns=['mean ', 'vol ', 'sharpe_ratio ', 'skew ', 'corr_to_mkt ', 'corr_to_value', ])\n",
    "\n",
    "table2.loc['long_short', :] = table_row(df_mom_size['1994':], portfolio='FF')\n",
    "table2.loc['long_only', :] = table_row(df_mom_size['1994':], portfolio='FF_long')\n",
    "table2.style.set_caption('Solution Table 2: Long-only momentum performance.')"
   ]
  },
  {
   "cell_type": "markdown",
   "metadata": {},
   "source": [
    "### 2.2 (b) Is long-only momentum as attractive as long-short momentum with respect to mean, volatility, and Sharpe Ratio?"
   ]
  },
  {
   "cell_type": "markdown",
   "metadata": {},
   "source": [
    "Long Only momentum has a higher Mean and Sharpe Ratio compared to Long Short momentum. However, the volatility is higher for Long Only momentum compared to Long Short momentum."
   ]
  },
  {
   "cell_type": "markdown",
   "metadata": {},
   "source": [
    "### 2.2 (c) Is long-only momentum as diversifying as long-short momentum with respect to market and value premia?"
   ]
  },
  {
   "cell_type": "markdown",
   "metadata": {},
   "source": [
    "No, long-only momentum has a very high correlation to the market. But it still has a negative correlation to the value factor."
   ]
  },
  {
   "cell_type": "markdown",
   "metadata": {},
   "source": [
    "### 2.2 (d) Show a plot of the cumulative product of $1 + \\tilde{r}^{mom:FF}$ and $1 + \\tilde{r}^{momU:FF}$ over the 2006-2021 subsample."
   ]
  },
  {
   "cell_type": "code",
   "execution_count": 10,
   "metadata": {},
   "outputs": [
    {
     "data": {
      "image/png": "[encoded data removed]",
      "text/plain": [
       "<Figure size 1152x288 with 1 Axes>"
      ]
     },
     "metadata": {},
     "output_type": "display_data"
    }
   ],
   "source": [
    "sns.set_style(\"whitegrid\")\n",
    "(df_mom_size.loc['1994':'2021', 'FF'] + 1).cumprod().plot(figsize=(16,4))\n",
    "(df_mom_size.loc['1994':'2021', 'FF_long'] + 1).cumprod().plot(figsize=(16,4))\n",
    "plt.title('Figure 1: Cumulative excess return on baseline momentum and long-only momentum strategies.')\n",
    "plt.legend();"
   ]
  },
  {
   "cell_type": "markdown",
   "metadata": {},
   "source": [
    "### 2.3. Is momentum just data mining, or is it a robust strategy?"
   ]
  },
  {
   "cell_type": "markdown",
   "metadata": {},
   "source": [
    "Assess how sensitive the threshold for the “winners” and “losers” is in the results. Specifically, we compare three constructions:\n",
    " - long the top 1 decile and short the bottom 1 deciles\n",
    " $$ \\tilde{r}^{momD1} = r^{mom(10)} - r^{mom(1)} $$\n",
    " - long the top 3 deciles and short the bottom 3 deciles\n",
    " $$ \\tilde{r}^{momD3} = \\frac{1}{3}\\sum_{k=8}^{10} r^{mom(k)} - \\frac{1}{3}\\sum_{k=1}^{3} r^{mom(k)}$$\n",
    " - long the top 5 deciles and short the bottom 5 deciles\n",
    " $$ \\tilde{r}^{momD5} = \\frac{1}{5}\\sum_{k=6}^{10} r^{mom(k)} - \\frac{1}{5}\\sum_{k=1}^{5} r^{mom(k)}$$\n",
    "\n",
    "(a) Compare all three constructions, (in the full-sample period,) by filling out the stats in the\n",
    "table below for the period 1994-2021."
   ]
  },
  {
   "cell_type": "code",
   "execution_count": 11,
   "metadata": {},
   "outputs": [
    {
     "data": {
      "text/html": [
       "<style type=\"text/css\">\n",
       "</style>\n",
       "<table id=\"T_88ee4_\">\n",
       "  <caption>Table 3: Robustness of momentum construction.</caption>\n",
       "  <thead>\n",
       "    <tr>\n",
       "      <th class=\"blank level0\" >&nbsp;</th>\n",
       "      <th class=\"col_heading level0 col0\" >mean </th>\n",
       "      <th class=\"col_heading level0 col1\" >vol </th>\n",
       "      <th class=\"col_heading level0 col2\" >sharpe_ratio </th>\n",
       "      <th class=\"col_heading level0 col3\" >skew </th>\n",
       "      <th class=\"col_heading level0 col4\" >corr_to_mkt </th>\n",
       "      <th class=\"col_heading level0 col5\" >corr_to_value</th>\n",
       "    </tr>\n",
       "  </thead>\n",
       "  <tbody>\n",
       "    <tr>\n",
       "      <th id=\"T_88ee4_level0_row0\" class=\"row_heading level0 row0\" >rx_mom_D1</th>\n",
       "      <td id=\"T_88ee4_row0_col0\" class=\"data row0 col0\" >0.0794</td>\n",
       "      <td id=\"T_88ee4_row0_col1\" class=\"data row0 col1\" >0.2980</td>\n",
       "      <td id=\"T_88ee4_row0_col2\" class=\"data row0 col2\" >0.2665</td>\n",
       "      <td id=\"T_88ee4_row0_col3\" class=\"data row0 col3\" >-1.3236</td>\n",
       "      <td id=\"T_88ee4_row0_col4\" class=\"data row0 col4\" >-0.3356</td>\n",
       "      <td id=\"T_88ee4_row0_col5\" class=\"data row0 col5\" >-0.2364</td>\n",
       "    </tr>\n",
       "    <tr>\n",
       "      <th id=\"T_88ee4_level0_row1\" class=\"row_heading level0 row1\" >rx_mom_D3</th>\n",
       "      <td id=\"T_88ee4_row1_col0\" class=\"data row1 col0\" >0.0342</td>\n",
       "      <td id=\"T_88ee4_row1_col1\" class=\"data row1 col1\" >0.1926</td>\n",
       "      <td id=\"T_88ee4_row1_col2\" class=\"data row1 col2\" >0.1776</td>\n",
       "      <td id=\"T_88ee4_row1_col3\" class=\"data row1 col3\" >-1.3554</td>\n",
       "      <td id=\"T_88ee4_row1_col4\" class=\"data row1 col4\" >-0.3654</td>\n",
       "      <td id=\"T_88ee4_row1_col5\" class=\"data row1 col5\" >-0.2299</td>\n",
       "    </tr>\n",
       "    <tr>\n",
       "      <th id=\"T_88ee4_level0_row2\" class=\"row_heading level0 row2\" >rx_mom_D5</th>\n",
       "      <td id=\"T_88ee4_row2_col0\" class=\"data row2 col0\" >0.0180</td>\n",
       "      <td id=\"T_88ee4_row2_col1\" class=\"data row2 col1\" >0.1340</td>\n",
       "      <td id=\"T_88ee4_row2_col2\" class=\"data row2 col2\" >0.1345</td>\n",
       "      <td id=\"T_88ee4_row2_col3\" class=\"data row2 col3\" >-1.4354</td>\n",
       "      <td id=\"T_88ee4_row2_col4\" class=\"data row2 col4\" >-0.3579</td>\n",
       "      <td id=\"T_88ee4_row2_col5\" class=\"data row2 col5\" >-0.2275</td>\n",
       "    </tr>\n",
       "  </tbody>\n",
       "</table>\n"
      ],
      "text/plain": [
       "<pandas.io.formats.style.Styler at 0x163000700>"
      ]
     },
     "execution_count": 11,
     "metadata": {},
     "output_type": "execute_result"
    }
   ],
   "source": [
    "df_momentum['rx_mom_D1'] = df_momentum['Hi PRIOR'] - df_momentum['Lo PRIOR']\n",
    "table3 = pd.DataFrame(columns=['mean ', 'vol ', 'sharpe_ratio ', 'skew ', 'corr_to_mkt ', 'corr_to_value', ])\n",
    "\n",
    "df = df_mom_size.join(df_momentum, rsuffix='momentum_')\n",
    "df['rx_mom_D3'] = (1/3 * (df['PRIOR 8'] + df['PRIOR 9'] + df['Hi PRIOR']) -\\\n",
    "                1/3 * (df['Lo PRIOR'] + df['PRIOR 2'] + df['PRIOR 3']))\n",
    "df['rx_mom_D5'] = (1/5 * (df['PRIOR 6'] + df['PRIOR 7'] + df['PRIOR 8'] + df['PRIOR 9'] + df['Hi PRIOR']) -\\\n",
    "                1/5 * (df['Lo PRIOR'] + df['PRIOR 2'] + df['PRIOR 3'] + df['PRIOR 4'] + df['PRIOR 5']))\n",
    "table3.loc['rx_mom_D1', :] = table_row(df['1994':], portfolio='rx_mom_D1')\n",
    "table3.loc['rx_mom_D3', :] = table_row(df['1994':], portfolio='rx_mom_D3')\n",
    "table3.loc['rx_mom_D5', :] = table_row(df['1994':], portfolio='rx_mom_D5')\n",
    "\n",
    "table3.style.set_caption('Table 3: Robustness of momentum construction.')"
   ]
  },
  {
   "cell_type": "markdown",
   "metadata": {},
   "source": [
    "#### (b) Do the tradeoffs between the 1-decile, 3-decile, and 5-decile constructions line up with the theoretical tradeoffs we discussed in the lecture?"
   ]
  },
  {
   "cell_type": "markdown",
   "metadata": {},
   "source": [
    "Ans: The more extreme the cutoof for the winners the higher is the mean return. But the downside is that we expect higher volatility."
   ]
  },
  {
   "cell_type": "markdown",
   "metadata": {},
   "source": [
    "#### (c) Should AQR’s retail product consider using a 1-decile or 5-decile construction?"
   ]
  },
  {
   "cell_type": "markdown",
   "metadata": {},
   "source": [
    "Ans: AQR may choose either of these options if they have a speicific investment theory. For instance, if they go with the 1-decile cutoff, they will be dealing with very high volatity (i.e Tail Risk) on their portfolio due to individual stocks, but higher mean returns. On the other hand, if they choose the 5-decile construction, they will be dealing with costly transaction costs in maintaing the portfolio. As per the Case Study, we know that AQR choose the middle route."
   ]
  },
  {
   "cell_type": "markdown",
   "metadata": {},
   "source": [
    "#### (d) Does $\\tilde{r}^{momD3}$ have similar stats to the Fama-French construction in (1). Recall that construction is also a 3-decile, long-short construction, but it is segmented for small and large stocks. Compare the middle row of Table 3 with the top row of Table 2."
   ]
  },
  {
   "cell_type": "markdown",
   "metadata": {},
   "source": [
    "#### The FAMA-Frech use the Size factor as well to construct the momentum strategy. This probably contributes to the higher mean and lower Sharpe Ratio of the Fama-French construction compared to the 3-decile construction."
   ]
  },
  {
   "cell_type": "code",
   "execution_count": 12,
   "metadata": {},
   "outputs": [
    {
     "data": {
      "text/html": [
       "<style type=\"text/css\">\n",
       "</style>\n",
       "<table id=\"T_83a65_\">\n",
       "  <caption>Table 3: Robustness of momentum construction.</caption>\n",
       "  <thead>\n",
       "    <tr>\n",
       "      <th class=\"blank level0\" >&nbsp;</th>\n",
       "      <th class=\"col_heading level0 col0\" >mean </th>\n",
       "      <th class=\"col_heading level0 col1\" >vol </th>\n",
       "      <th class=\"col_heading level0 col2\" >sharpe_ratio </th>\n",
       "      <th class=\"col_heading level0 col3\" >skew </th>\n",
       "      <th class=\"col_heading level0 col4\" >corr_to_mkt </th>\n",
       "      <th class=\"col_heading level0 col5\" >corr_to_value</th>\n",
       "    </tr>\n",
       "  </thead>\n",
       "  <tbody>\n",
       "    <tr>\n",
       "      <th id=\"T_83a65_level0_row0\" class=\"row_heading level0 row0\" >rx_mom_D3</th>\n",
       "      <td id=\"T_83a65_row0_col0\" class=\"data row0 col0\" >0.0342</td>\n",
       "      <td id=\"T_83a65_row0_col1\" class=\"data row0 col1\" >0.1926</td>\n",
       "      <td id=\"T_83a65_row0_col2\" class=\"data row0 col2\" >0.1776</td>\n",
       "      <td id=\"T_83a65_row0_col3\" class=\"data row0 col3\" >-1.3554</td>\n",
       "      <td id=\"T_83a65_row0_col4\" class=\"data row0 col4\" >-0.3654</td>\n",
       "      <td id=\"T_83a65_row0_col5\" class=\"data row0 col5\" >-0.2299</td>\n",
       "    </tr>\n",
       "  </tbody>\n",
       "</table>\n"
      ],
      "text/plain": [
       "<pandas.io.formats.style.Styler at 0x163000fa0>"
      ]
     },
     "execution_count": 12,
     "metadata": {},
     "output_type": "execute_result"
    }
   ],
   "source": [
    "table3[1:2].style.set_caption('Table 3: Robustness of momentum construction.')"
   ]
  },
  {
   "cell_type": "code",
   "execution_count": 13,
   "metadata": {},
   "outputs": [
    {
     "data": {
      "text/html": [
       "<style type=\"text/css\">\n",
       "</style>\n",
       "<table id=\"T_92f64_\">\n",
       "  <caption>Solution Table 2: Long-only momentum performance.</caption>\n",
       "  <thead>\n",
       "    <tr>\n",
       "      <th class=\"blank level0\" >&nbsp;</th>\n",
       "      <th class=\"col_heading level0 col0\" >mean </th>\n",
       "      <th class=\"col_heading level0 col1\" >vol </th>\n",
       "      <th class=\"col_heading level0 col2\" >sharpe_ratio </th>\n",
       "      <th class=\"col_heading level0 col3\" >skew </th>\n",
       "      <th class=\"col_heading level0 col4\" >corr_to_mkt </th>\n",
       "      <th class=\"col_heading level0 col5\" >corr_to_value</th>\n",
       "    </tr>\n",
       "  </thead>\n",
       "  <tbody>\n",
       "    <tr>\n",
       "      <th id=\"T_92f64_level0_row0\" class=\"row_heading level0 row0\" >long_short</th>\n",
       "      <td id=\"T_92f64_row0_col0\" class=\"data row0 col0\" >0.0473</td>\n",
       "      <td id=\"T_92f64_row0_col1\" class=\"data row0 col1\" >0.1686</td>\n",
       "      <td id=\"T_92f64_row0_col2\" class=\"data row0 col2\" >0.2807</td>\n",
       "      <td id=\"T_92f64_row0_col3\" class=\"data row0 col3\" >-1.4337</td>\n",
       "      <td id=\"T_92f64_row0_col4\" class=\"data row0 col4\" >-0.3061</td>\n",
       "      <td id=\"T_92f64_row0_col5\" class=\"data row0 col5\" >-0.2385</td>\n",
       "    </tr>\n",
       "  </tbody>\n",
       "</table>\n"
      ],
      "text/plain": [
       "<pandas.io.formats.style.Styler at 0x163000550>"
      ]
     },
     "execution_count": 13,
     "metadata": {},
     "output_type": "execute_result"
    }
   ],
   "source": [
    "table2[:1].style.set_caption('Solution Table 2: Long-only momentum performance.')"
   ]
  },
  {
   "cell_type": "markdown",
   "metadata": {},
   "source": [
    "#### 4. Does implementing momentum require trading lots of small stocks—thus causing even larger trading costs?\n",
    "\n",
    "For regulatory and liquidity reasons, AQR is particularly interested in using larger stocks for their momentum baskets. (Though they will launch one product that focuses on medium-sized stocks.)\n",
    "\n",
    "Use the data provided on both small-stock “winners”, $r^{momSU}$, and small-stock “losers”, $r^{momSD}$, to construct a small-stock momentum portfolio,\n",
    " $$ \\tilde{r}^{momS} = r^{momSU} - r^{momSD} $$\n",
    " \n",
    "Similarly, use the data provided to construct a big-stock momentum portfolio,\n",
    " $$ \\tilde{r}^{momB} = r^{momBU} - r^{momBD} $$\n",
    "\n",
    "(a) Fill out Table 4 over the sample 1994-2022."
   ]
  },
  {
   "cell_type": "code",
   "execution_count": 14,
   "metadata": {},
   "outputs": [
    {
     "data": {
      "text/html": [
       "<style type=\"text/css\">\n",
       "</style>\n",
       "<table id=\"T_b5452_\">\n",
       "  <caption>Table 4: Small stock momentum performance.</caption>\n",
       "  <thead>\n",
       "    <tr>\n",
       "      <th class=\"blank level0\" >&nbsp;</th>\n",
       "      <th class=\"col_heading level0 col0\" >mean </th>\n",
       "      <th class=\"col_heading level0 col1\" >vol </th>\n",
       "      <th class=\"col_heading level0 col2\" >sharpe_ratio </th>\n",
       "      <th class=\"col_heading level0 col3\" >skew </th>\n",
       "      <th class=\"col_heading level0 col4\" >corr_to_mkt </th>\n",
       "      <th class=\"col_heading level0 col5\" >corr_to_v</th>\n",
       "    </tr>\n",
       "  </thead>\n",
       "  <tbody>\n",
       "    <tr>\n",
       "      <th id=\"T_b5452_level0_row0\" class=\"row_heading level0 row0\" >FF</th>\n",
       "      <td id=\"T_b5452_row0_col0\" class=\"data row0 col0\" >0.0473</td>\n",
       "      <td id=\"T_b5452_row0_col1\" class=\"data row0 col1\" >0.1686</td>\n",
       "      <td id=\"T_b5452_row0_col2\" class=\"data row0 col2\" >0.2807</td>\n",
       "      <td id=\"T_b5452_row0_col3\" class=\"data row0 col3\" >-1.4337</td>\n",
       "      <td id=\"T_b5452_row0_col4\" class=\"data row0 col4\" >-0.3061</td>\n",
       "      <td id=\"T_b5452_row0_col5\" class=\"data row0 col5\" >-0.2385</td>\n",
       "    </tr>\n",
       "    <tr>\n",
       "      <th id=\"T_b5452_level0_row1\" class=\"row_heading level0 row1\" >rx_mom_S</th>\n",
       "      <td id=\"T_b5452_row1_col0\" class=\"data row1 col0\" >0.0627</td>\n",
       "      <td id=\"T_b5452_row1_col1\" class=\"data row1 col1\" >0.1716</td>\n",
       "      <td id=\"T_b5452_row1_col2\" class=\"data row1 col2\" >0.3656</td>\n",
       "      <td id=\"T_b5452_row1_col3\" class=\"data row1 col3\" >-1.7501</td>\n",
       "      <td id=\"T_b5452_row1_col4\" class=\"data row1 col4\" >-0.3069</td>\n",
       "      <td id=\"T_b5452_row1_col5\" class=\"data row1 col5\" >-0.1647</td>\n",
       "    </tr>\n",
       "    <tr>\n",
       "      <th id=\"T_b5452_level0_row2\" class=\"row_heading level0 row2\" >rx_mom_B</th>\n",
       "      <td id=\"T_b5452_row2_col0\" class=\"data row2 col0\" >0.0319</td>\n",
       "      <td id=\"T_b5452_row2_col1\" class=\"data row2 col1\" >0.1819</td>\n",
       "      <td id=\"T_b5452_row2_col2\" class=\"data row2 col2\" >0.1755</td>\n",
       "      <td id=\"T_b5452_row2_col3\" class=\"data row2 col3\" >-0.8576</td>\n",
       "      <td id=\"T_b5452_row2_col4\" class=\"data row2 col4\" >-0.2780</td>\n",
       "      <td id=\"T_b5452_row2_col5\" class=\"data row2 col5\" >-0.2869</td>\n",
       "    </tr>\n",
       "  </tbody>\n",
       "</table>\n"
      ],
      "text/plain": [
       "<pandas.io.formats.style.Styler at 0x162df9e50>"
      ]
     },
     "execution_count": 14,
     "metadata": {},
     "output_type": "execute_result"
    }
   ],
   "source": [
    "df['rx_mom_S'] = df['SMALL HiPRIOR'] - df['SMALL LoPRIOR']\n",
    "df['rx_mom_B'] = df['BIG HiPRIOR'] - df['BIG LoPRIOR']\n",
    "table4 = pd.DataFrame(columns=['mean ', 'vol ', 'sharpe_ratio ', 'skew ', 'corr_to_mkt ','corr_to_v'])\n",
    "table4.loc['FF', :] = table_row(df['1994':], portfolio='FF')\n",
    "table4.loc['rx_mom_S', :] = table_row(df['1994':], portfolio='rx_mom_S')\n",
    "table4.loc['rx_mom_B', :] = table_row(df['1994':], portfolio='rx_mom_B')\n",
    "table4.style.set_caption('Table 4: Small stock momentum performance.')"
   ]
  },
  {
   "cell_type": "markdown",
   "metadata": {},
   "source": [
    "(b) Is the attractiveness of the momentum strategy mostly driven by the small stocks? That is, does a momentum strategy in large stocks still deliver excess returns at comparable risk?"
   ]
  },
  {
   "cell_type": "markdown",
   "metadata": {},
   "source": [
    "It seems that the small stocks are actually driving the momentum strategy. Small momentum have almost double the mean return and Sharpe Ratio at the same volatility as the big momentum strategy. The large stocks do not seem to deliver excess returns at comparable risk."
   ]
  },
  {
   "cell_type": "markdown",
   "metadata": {},
   "source": [
    "## 3. In conclusion, what is your assessment of the AQR retail product? Is it capturing the important features of the Fama-French construction of momentum? Would you suggest any modifications?"
   ]
  },
  {
   "cell_type": "markdown",
   "metadata": {},
   "source": [
    "- Our assessment of the AQR retail  product would be that it is incomplete. In all the analysis conducted today, we have assets on the short side as well. Whereas, the AQR product is only long the top 3 momentum deciles. We understand that regulations are preventing them from shorting the bottom 3 momentum deciles. But we would suggest that they should consider adding a short component to their product. This will help them capture the downside risk as well. \n",
    "- Also, they should consider adding the small stocks to their product as well. This will help them capture the momentum in small stocks as well."
   ]
  }
 ],
 "metadata": {
  "kernelspec": {
   "display_name": "Python 3.9.7 ('base')",
   "language": "python",
   "name": "python3"
  },
  "language_info": {
   "codemirror_mode": {
    "name": "ipython",
    "version": 3
   },
   "file_extension": ".py",
   "mimetype": "text/x-python",
   "name": "python",
   "nbconvert_exporter": "python",
   "pygments_lexer": "ipython3",
   "version": "3.9.7"
  },
  "orig_nbformat": 4,
  "vscode": {
   "interpreter": {
    "hash": "5e62c483ecf48ad4e1bb5f903abeb626d4ffc56eab47e05d9eff835eeb907be7"
   }
  }
 },
 "nbformat": 4,
 "nbformat_minor": 2
}
