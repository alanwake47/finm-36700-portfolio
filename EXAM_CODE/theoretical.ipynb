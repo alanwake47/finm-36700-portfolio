{
 "cells": [
  {
   "cell_type": "markdown",
   "metadata": {},
   "source": [
    "## HW 8 - LTCM Long term capital management"
   ]
  },
  {
   "cell_type": "markdown",
   "metadata": {},
   "source": [
    "### About LTCM\n",
    "- LTCM traded on market mispricing and arbitrage opportunities.\n",
    "- They go long-short on Relative Value and Convergence trades.\n",
    "- Use leverage to get bigger principle on mispricings.\n",
    "- Heavily involved in credit and income and equities.\n",
    "- Longest trading horizon is in convergence - weeks to months.\n",
    "- Not short term either\n",
    "- Seek small positive wins. Lower skewness than SPY. Susceptible to large losses.\n",
    "- They were efficient at financing and funcding along with prop trading and modelling.\n",
    "- Larger AUM so higher leverage\n",
    "- Pay lower haircut, better collateralization\n",
    "- Long term capital commitment from investors.\n",
    "- Avoided taking on too much risk. They almost always had liquidity.\n",
    "\n",
    "### Types of risk LTCM\n",
    "- collateral hairtcut risk\n",
    "  - value of collateral goes down\n",
    "  - LTCM fights this by using 100% financed collaterals. and stress testing haricut losses/\n",
    "- repo maturity risk\n",
    "  - When credit risk goes up, contract not able to be upheld.\n",
    "  - LTCM has long term repo\n",
    "- equity redemption risk\n",
    "  - if investors redeem during adverse times\n",
    "  - LTCM restricts redemptions year by year.\n",
    "- loan access\n",
    "  - Tough to get loans when credit risk goes up.\n",
    "  - Revolving loan agreement that has no Material Adverse Change clause.\n",
    "- liquidity risk\n",
    "  - LTCM got counterparties to maintain collateral balance via a two-way mark to market process on a daily basis. This is called a \"haircut call\" and is a form of collateral management.\n",
    "  - LTCM also estimates worst case haricut losses and stress tests them.\n",
    "  - LTCM reduces liquidity risk by adjusting security correlations.\n",
    "- leverage risk\n",
    "  - Since no extreme market events, leverage risk is not a concerns.\n",
    "  - Considering rturning some of the investments to reduce leverage.\n",
    "- convergence risk\n",
    "  - Trades dont converge after a while due to liquidity risk.\n",
    "  - Trades ultimately converge, but LTCM has to wait for it to happen.\n",
    "\n",
    "### Quadratic Option LTCM\n",
    "- LTCM has negative beta to spy-squared, thus short the market options.\n",
    "- SPY-beta is delta and SPY-squared-beta is gamma.\n",
    "- LTCM is short positive gamma and since gamma is always positive, they are shorting the market.\n",
    "- For a big monthly return, the negative beta to SPY-squared would lead to heavy losses. Thus, LTCM is shorting SPY-squared options, to hedge extreme moves in the market.\n",
    "\n",
    "### Up Move and Down move LTCM\n",
    "- LTCM is short the call-like (up move) and long the put-like (down move) options.\n",
    "- The put-like betas are bigger than the call-like betas.(abs value)\n",
    "- LTCM is negatively exposes to the market volatility. THe negative exposure comes from a combination of the short call-like and long put-like options."
   ]
  },
  {
   "cell_type": "markdown",
   "metadata": {},
   "source": [
    "### FX Carry Trade\n",
    "- **Uncovered Interest Rate Parity states that mean excess returns for currencies should be zero as the change in the sport fx rate is completely explained by the change in the interest rate differential**.\n",
    "- The sharpe ratio is withing 95% confidence interval of significance, this mean return MIGHT NOT be significant;y different from zero.\n",
    "- CHF offered positive carry trade, but low sharpe.\n",
    "- **Spot rate is amount of USD you get per unit of foregin currency!!**\n",
    "- **If Spot rate goes up, then the foreign currency is appreciating relative to USD.**\n",
    "- Equation is $ S_{t+1} - S_{t} = \\beta (r^\\$ - r^{foregin}) $\n",
    "\n",
    "|       |    USUK |    USEU |    USSZ |        USJP |\n",
    "|----------:|--------:|--------:|--------:|---------|\n",
    "|     Alpha | -0.0059 |  0.0070 |  0.0436 | -0.0060 |\n",
    "|      Beta |  0.4858 | -1.2564 | -1.6466 |  0.3715 |\n",
    "| R-Squared |  0.0004 |  0.0026 |  0.0039 |  0.0005 |\n",
    "\n",
    "- If regressor goes down ($r^\\$ - r^{foreign}$), then\n",
    "  - GBP and JPY (positive $\\beta$) decrease relative to US, as $ S_{t+1} - S_{t}$ decreases.\n",
    "  - EUR and CHF (negative $\\beta$) increase relative to US $ S_{t+1} - S_{t}$ increases. <br>\n",
    "\n",
    "**For EU (EUR) and SZ (CHF)**,\n",
    "\n",
    "- FX growth is exacerbating the returns from the interest rate differentials. Beta is negative, so in a sense, investors expect to gain twice: immediately from the risk-free rate differential, and again from the FX movement at the close of the position.\n",
    "\n",
    "### Dynamic Carry Trade\n",
    "- JPY returns seem to be away from the expected value of 0, an improvement in the carry trade would be to short the JPY i.e. **borrow at the JPY risk-free rate to invest in the USD risk-free rate. With our forecast of the USD strengthening relative to the JPY, we could be potentially getting a positive risk premia from this carry trade**."
   ]
  },
  {
   "cell_type": "markdown",
   "metadata": {},
   "source": [
    "## HW 7 GMO - Estimating Equity Risk Premium"
   ]
  },
  {
   "cell_type": "markdown",
   "metadata": {},
   "source": [
    "### About GMO\n",
    "- GMO believes they can predict long-run more accurately than short-run.\n",
    "  - Investors demand **more risk premia for long-run**, on stocks, as they have higher risk.\n",
    "  - Market prices **deviate significantly in short run**, but not in long run. Long run brings out the fundamental value of the stock.\n",
    "- GMO uses a **Dividend yield estimates** that investors demand for long-run, along with **Expected long-run growth rate of dividends**.\n",
    "- **Gordon Growth Model** posits that long-run required return on equity is the sum of the dividend yield (req. by investors) and the expected long-run growth rate of dividends.\n",
    "- $R_{long}^{*} = \\frac{D_{1}}{P_{0}^{*}} + g$\n",
    "- When the market has an **overly optimistic view of future dividend**, prices would exceed fair value. Investors would then **eventually** realize they were too optimistic and that prices would rever toward **fair value.**\n",
    "- Thus at times of high prices GMO would have a contrarian view of expected returns being low.\n",
    "- GMO believed that 2012 valuations were high for stocks. They were pressimistic about future earnings growth.\n",
    "  - $\\%\\Delta(\\frac{P}{E})$ multiple was 0% in 2011, causing positive estimated returns.\n",
    "  - $\\%\\Delta(S)$ or Reas Sales Growth was 2.9% up from 2.7% in 2011, causing positive estimated returns.\n",
    "- In 2007, GMO forecasts excess equity returns will be negative due to-\n",
    "  - $\\%\\Delta(\\frac{P}{E})$ (EXPANSION or CONTRACTION Multiple) estimated as negative for 7 year forecast.\n",
    "  - $\\%\\Delta(\\frac{E}{S})$ (PROFIT MARGIN) forecasted as negative for 7 year forecast.\n",
    "- The mean increased for GMO's fund GMOWAX during 2012-2022 showing their asset allocation was better compared to the previous period of 1993-2011.\n",
    "- GMO traded using directional positions, not market neutral.\n",
    "- GMWAX has low tail risk, especially in 2012-2022 period.\n",
    "- GMWAX has moderate Beta, it can be considered a low beta strategy.\n",
    "- GMWAX has negative alpha.\n",
    "\n",
    "### Risks\n",
    "- Business & Managerial Risk\n",
    "  - If markets do not revert as GMO thought, they face a risk of underperforming.\n",
    "  - Example of 1997 US Stocks going up while GMO thought they would go down.\n",
    "- The Dynamic Portfolio does not take extra risk compared to SPY. But the prediction power is very little.\n",
    "- OOS sample is much more risky. It has lower mean and higher variance.\n",
    "- The Dynamic OOS takes on extra risk compared to SPY."
   ]
  },
  {
   "cell_type": "markdown",
   "metadata": {},
   "source": [
    "## TA Reviews"
   ]
  },
  {
   "cell_type": "markdown",
   "metadata": {},
   "source": [
    "- Proving UIP (Uncovered interest Parity) works\n",
    "  - $ S_{t+1} - S_{t} = \\alpha + \\beta (r^\\$ - r^{foregin})  + \\epsilon $\n",
    "  - we expect $\\alpha$ to be 0 and $\\beta$ to be 1. and epsilon is $N(0,1)$\n",
    "  - It not true, can do trading strategy involving the two currencies.\n",
    "\n",
    "- Carry Trade\n",
    "  - At time t: Borrow at the risk-free rate in USD. Convert USD to GBP. Buy risk-free assets in GBP\n",
    "  - At time t+1: Close risk-free assets in GBP, convert GBP to USD, return the borrowed amount\n",
    "\n",
    "- Time Diversification\n",
    "  - Time-diversification refers to this idea that mean annualized return becomes riskless for large investment horizons.\n",
    "  - True, as horizon increases the variance of the annualized return goes to zero.\n",
    "  - However, the variance of the cumulative return, $r_{t,t+h}$ is still growing.\n",
    "  - For h periods-\n",
    "  - $\\mathbb{E}[r_{t,t+h}] = h\\mu$ \n",
    "  - if corr = 1 $var[r_{t,t+h}] = h\\sigma$\n",
    "  - if corr = 0 $var[r_{t,t+h}] = h\\sigma^{2}$\n",
    "  - if corr = -1 var=0\n",
    "  - Covered interest parity involves using forward contracts to cover the exchange rate. Meanwhile, uncovered interest rate parity involves forecasting rates and not covering exposure to foreign exchange risk—that is, there are no forward rate contracts, and it uses only the expected spot rate.\n",
    "\n",
    "- Forecasting\n",
    "  - In-Sample performance expected to be better if investment sizes are scaled to expected returns\n",
    "  - $r^{SPY} = α^{SPY,X} +(β^{SPY,X})^′ X_{t-1} + \\epsilon^{SPY,X}_{t}$\n",
    "  - In-Sample Forecasting - Uses Beta computed up to the current time period to back test the performance\n",
    "  - Out-of-Sample Forecasting - Uses Beta computed up to the current time period to forecast the future"
   ]
  },
  {
   "cell_type": "markdown",
   "metadata": {},
   "source": [
    "## FINAL EXAM THEORY"
   ]
  },
  {
   "cell_type": "markdown",
   "metadata": {},
   "source": [
    "- If two assets are combined, the portfolio will have lower volatility than the sum of the components so long as what condition holds?\n",
    "  - The required condition is just that correlation is less than 1. \n",
    "    Misconceptions include that this diversification requires 0 or negative correlation, but anything less than perfect correlation is sufficient.\n",
    "    $$r^p_t \\equiv w_1 r^1_t + w_2r^2_t$$\n",
    "    Then if $\\rho<1$,\n",
    "    $$\\sigma_p < w_1\\sigma_1 + w_2\\sigma_2$$\n",
    "- Which form of testing a Linear Pricing Model is stricter: using the time-series test or the cross-sectional test? Explain.\n",
    "  - In the figure below, the time-series test completely fixes pricing through the black points and line, whereas the cross-sectional test fits the scatter plot more flexibly. (In the figure, it has an unrestricted intercept, but even without an intercept, it can choose any slope it wants, whereas the time-series test slope is fixed by the MKT premium.)\n",
    "  - In the CS test, the factor premia are the estimated slopes of the cross-sectional regression, whereas the time-series test requires that the factor premia are the time-series averages of the factors.\n",
    "- Why is it hard to assess statistical significance of the results of a cross-sectional regression for a Linear Factor Pricing Model?\n",
    "  - The cross-sectional regression uses time-series regression outputs (the betas) as its inputs (the regressors.) This usage of model estimates as input data introduces additional uncertainty, noise, imprecision. The usual OLS stats do not account for this.\n",
    "  - Ways of dealing with this include using Fama-MacBeth regressions or Generalized Method of Moments.\n",
    "- Suppose that the 4-factor pricing model works perfectly, but we include an extra, un- necessary 5th regressor in the model. With this 5th regressor\n",
    "  - Will the time-series test betas be impacted?\n",
    "    - Betas will be impacted.\n",
    "    - If the extra regressor is correlated to any of the 4 factors, it will impact their betas. Even if it is uncorrelated to the other factors, it still may have a non-zero beta.\n",
    "  - Will the time-series alphas be nonzero?\n",
    "    - The alphas will still be zero! (Statistically zero--an estimated sample will have some statistical noise, but they will not be statistically different than zero.)\n",
    "    - Linear Factor Pricing Models are no-arbitrage models, so the 5th factor will not introduce any mispricing, though it may confuse the attribution of the pricing.\n",
    "  - Will the cross-sectional regression slopes, (λ in the notation of our notes,) be impacted?\n",
    "    - Yes, the factor premia estimates ($\\lambda$) from the cross-sectional regression slopes will potentially be different. The time-series betas have changed, and that will potentially impact the cross-sectional regression slopes.\n",
    "  - Will the cross-sectional test errors be nonzero?\n",
    "    - Same answer as for the time-series alphas--they will still be zero! (Statistically speaking.)\n",
    "- True or False: If the Fama-French 5-factor model is true, then for a given return rti, the five factors are the optimal regressors in a replication regression of rti in terms of getting the best replication.\n",
    "    - False. The Linear Pricing Model factors are not guaranteed to be good for Linear Factor Decomposition. In other words, a great (even perfect!) LPM does not necesssarily have high time-series R-squared.\n",
    "- Suppose that you want to replicate a target return, y, using some other returns, X. If you do not trust that the means of y and/or X are well measured, should you include an intercept in the replication regression?\n",
    "  - You should include an intercept in the regression. By including an intercept, you are effectively demeaning both $y$ and $X$. Thus, if you do not trust the sample mean, you should not let it impact the regression betas, and thus should include an intercept."
   ]
  },
  {
   "cell_type": "markdown",
   "metadata": {},
   "source": [
    "- (5pts) Cumulative returns are less risky for longer horizons.\n",
    "  - True. The variance of the cumulative return is growing with the horizon, but the mean is constance. So the variance is growing faster than the mean, and the cumulative return is less risky for longer horizons.\n",
    "\n",
    "- (5pts) In the course, we derived mathematically that high dividend-price ratios must lead to high future returns.\n",
    "  - False. Mathematically, we saw high dividend price ratios could lead to high future returns, low future dividends, or something else. The fact that they seem to lead to high future returns is an empirical statistical fact, not a mathematical necessity.\n",
    "- (5pts) From class and homework, we saw that the dividend-price ratio forecasts returns but that the earnings-price ratio does not.\n",
    "  - False. The earnings-price ratio forecasts returns, but the dividend-price ratio forecasts returns better. The dividend-price ratio is a better predictor of future returns than the earnings-price ratio.\n",
    "- (5pts) They Expectations Hypothesis assumes that there is only one priced risk: interest-rate risk.\n",
    "  - True. The Expectations Hypothesis assumes that there is only one priced risk: interest-rate risk. The other risks are not priced, and thus are not priced risks.\n",
    "- (5pts) Empirically, we found that a positive Euro-USD spread in interest rates predicts depreciation in the USD, relative to the Euro.\n",
    "  - False. It was shown that uncovered interest parity does NOT hold. In fact, using FX spreads as a predictor leads to excess returns as the currency does not depreciate away the interest rate gains.\n",
    "- (5pts) Statistically, replicating a target with instruments is the same as hedging a target with instruments\n",
    "  - True. The difference between the replication and hedge is in \"sign\" of the position. In a replication, you are long the target and short the instruments. In a hedge, you are short the target and long the instruments. But the statistical properties are the same."
   ]
  },
  {
   "cell_type": "markdown",
   "metadata": {},
   "source": [
    "- We often annualize means by h and volatilities by h, where h is the number of periods in the year. Under what assumptions are these scalings mathematically correct?\n",
    "  - The scaling is correct if the returns are i.i.d. and the returns are normally distributed. In this case, the mean and variance are both scaled by h.\n",
    "- What features of dividend-price and earnings-price ratios make GMO believe that these\n",
    "signals perform better in long-run compared to the short-run?\n",
    "  - The high serial correlation in dividend-price and earnings-price ratios maeks GMO believe that their predictive power is stronger over long-run horizons\n",
    "- Which model holds better: Covered Interest Parity or Uncovered Interest Parity? Briefly\n",
    "explain why.\n",
    "  - CIP holds better as it is driven by law of one price or no arbitrage priciple, whereas UIP is just a theory about which risks are priced.\n",
    "- Given the small serial correlation in stock returns, what were two features needed to make the momentum strategy work?\n",
    "  - Betting on large number of outperformer and underperformer.\n",
    "  - Bet on extreme outperformer and underperformer\n",
    "  "
   ]
  },
  {
   "cell_type": "markdown",
   "metadata": {},
   "source": [
    "- **Size** - Factor takes a long position on firms with small market capitalizations and a short position on firms with large market capitalizations. The classification of small and large can be based on percentiles,quintiles or deciles. <br><br>\n",
    "\n",
    "- **Value** - Factor takes a long position on firms with high book-to-market and a short position on firms with low book-to-market. <br><br>\n",
    "\n",
    "- **Profitability** - Factor takes a long position on firms with high ratio of operating profit to book value and a short position on firms with low ratio of operating profit to book value.<br><br>\n",
    "\n",
    "- **Investment** - Factor takes a long position on firms with conservative investment and a short position on firms aggresive investment. Investment is measured by the percentage change in the value of firms's asset over the course of a year.<br><br>\n",
    "\n",
    "- **Momentum** - Factor takes a long position on stocks with large price appreciation in last one year and a short position on firms with price depriciation.<br><br>\n",
    "\n",
    "Barnstable\n",
    "-\tThe college’s policy was to spend between 4% and 5% of the endowment each year.\n",
    "-\tphilosophy. In the long-run, the investment committee believed, stocks would outperform safer asset classes such as bonds and Treasury bills. \n",
    "-\tS&P 500 index fund (40%), an actively-managed portfolio of U.S. stocks (30%), and an actively-managed portfolio of non-U.S. stocks (30%)\n",
    "-\tMathematically, the law of large numbers translates into the dispersion of returns growing only with the square root of time rather than proportionally with time.\n",
    "-\tFor example, the standard deviation of four-year returns is theoretically twice the standard deviation of one-year returns. On the other hand, the expected four-year return is four times the expected one-year return.2\n",
    "### FIRST Proposal\n",
    "-\tThe securities firm was proposing that Barnstable College take advantage of the opportunity represented by the high put prices for the low probability risk that stocks would return less than 6% per annum over the long run.\n",
    "### SECOND Proposal\n",
    "-\tCreation of a trust or other suitable entity that, on the asset side, would own the stocks in the S&P 500, and on the liability side would have two classes of shares: Preference Shares and Common Shares. \n",
    "-\tMechanism -  The trust would have a fixed life, say 30 years, during which the assets would be managed just like an S&P 500 index fund, including reinvestment of dividends. At the end of year 30, the trust would be liquidated, and the assets distributed to the liabilityholders as follows: Holders of Common Shares would receive any assets in excess of the “redemption value”, while holders of Preference Shares would receive the redemption value, or the value of the assets, whichever was less. The redemption value would be equal to the initial value of the assets in the trust grown at a 6% per annum continuously compounded rate for 30 years, or $1.0618430 = $6.05 for each dollar of initial assets.\n",
    "DFA\n",
    "#Fama French paper published:-\n",
    "-\tStocks with high “beta,” the fundamental measure of risk in the capital asset pricing model (CAPM), did not have consistently higher returns than low-beta stocks. \n",
    "#HML\n",
    "-\tStocks with a high ratio of book value of equity to market value of equity (BE/ME) exhibited consistently higher returns than stocks with low BE/ME.\n",
    "-\tThe high book-to-market stocks favored by the strategy became known in the academic literature as “value” stocks while the low BE/ME stocks DFA eschewed became known as “growth” stocks, or sometimes as “glamour” stocks.\n",
    "#SMB\n",
    "-\tConsistent with the earlier findings of Banz, small stocks outperformed large.\n",
    "#Strategy\n",
    "-\tSMB and HML\n",
    "-\tAs word spread that DFA was willing to buy large blocks of illiquid stocks from eager sellers, calls and electronic inquiries began to pour in at a rate of hundreds per day. Of course, not all purchases could be made via block trade. \n",
    "-\tAnyone who considers buying anything must be concerned with the adverse selection problem (sometimes known as the “lemons problem”)—the possibility that the item is only available for sale, or only available at the given price, because there is something wrong with it. \n",
    "o\tFirst, they generally would not buy if news announcements were known to be coming in the near future\n",
    "o\tSecond, DFA would look to avoid stocks that were likely to negatively surprise in the near future\n",
    "#Challenges\n",
    "-\tthe good performance of value stocks might simply have been a fluke or might have been due to problems with the data used by academic researchers.\n",
    "-\tValue stocks, which had so reliably beaten growth stocks in previous decades in a variety of countries, rose steadily throughout the decade. But these steady returns were dwarfed by the spectacular performance of growth stocks, most especially high-technology stocks with very high market capitalizations and relatively few assets in place—the exact type of stocks DFA most studiously avoided\n",
    "-\t\n"
   ]
  },
  {
   "cell_type": "markdown",
   "metadata": {},
   "source": [
    "- Consider several firms we examined during the quarter:\n",
    "  - DFA\n",
    "  - GMO\n",
    "  - LTCM\n",
    "- Which firm or firms do the following terms apply? Give a one sentence explanation for each.\n",
    "- Directional positions\n",
    "  - GMO took directional positions in asset classes based on their macro forecasting. (One could note that DFA is directional in terms of their factors. LTCM has very little directional exposure.)\n",
    "- Factor investing\n",
    "  - DFA\n",
    "- Spread trades\n",
    "  - LTCM utilizes many forms of spread trades, much more than directional or factor based investing.\n",
    "- Liquidity provider\n",
    "  - DFA is a liquidity provider for small stocks, and LTCM is a liquidity provider for the less liquid side of their spread trade.\n",
    "- Value investors\n",
    "  - DFA is certainly a value-factor investor, and GMO has a value-driven forecasting.\n",
    "- Arbitrage-oriented\n",
    "  - LTCM is involved in many so-called \"arbitrage\" trades. GMO and DFA are not.\n",
    "- Funding risk\n",
    "  - LTCM faces enormous funding risk given the high leverage behind its trades. DFA nor GMO face particularly high funding risk, given the nature of their strategies\n",
    "- Adverse selection risk\n",
    "  - DFA faces adverse-selection risk in that they stand ready to buy shares of small stocks and must worry that the sellers know something they do not. LTCM nor GMO deal with this to a particularly large degree.\n",
    "\n",
    "- Did we find LTCM had significant SPY exposure, linearly or non-linearly? How about GMO?\n",
    "  - LTCM has almost no SPY exposure, whether measured linearly or non-linearly. GMO has substantial SPY exposure"
   ]
  },
  {
   "cell_type": "markdown",
   "metadata": {},
   "source": [
    "- What aspect of Mean-Variance optimization makes out-of-sample performance fragile? Does this issue seem pertinent in our implementation above?\n",
    "  - inverting the covariance matrix (which is nearly singular, highly correlated returns) \n",
    "  - mean return estimates are imprecise\n",
    "The first point typically matter \n",
    "Mean-Variance optimization inverts a covariance matrix of returns, and this covariance matrix tends to be nearly singular. Thus, its inversion is statistically imprecise, leading to large changes in the inverted covariance matrix in-sample versus out-of-sample."
   ]
  },
  {
   "cell_type": "markdown",
   "metadata": {},
   "source": [
    "If Expectation Hypothesis held, then excess returns would be unpredictable: $\\alpha$ and $\\beta$ would be zero. \n",
    "- The weaker form of Expectation Hypothesis would allow a non-zero $\\alpha$ but would still require $\\beta$ to be zero.\n",
    "- EH says nothing about R-squared."
   ]
  },
  {
   "cell_type": "markdown",
   "metadata": {},
   "source": [
    "- If EH held, then current forwards would be the best predictor of future yields.\n",
    "- Thus, $\\alpha=0$ in the strictest version of EH, though the weaker EH would allow $\\alpha\\ne 0$.\n",
    "- EH implies $\\beta=1$.\n",
    "- EH has no implication for the R-squared stat.\n",
    "\n",
    "Several things one could list:\n",
    "- Bonds with higher yields are expected to have higher returns, even if not held to maturity.\n",
    "- In times of higher forward rates or steeper yield curve, we expect long-term bonds to have particularly high excess returns.\n",
    "- If the yield curve is flat or inverted---or if the forward curve is flat or inverted--we expect short-term bonds to do relatively better.\n",
    "- Forward rates are not the optimal predictor of future yields, they are a predictor of high excess returns."
   ]
  }
 ],
 "metadata": {
  "kernelspec": {
   "display_name": "Python 3.9.7 ('base')",
   "language": "python",
   "name": "python3"
  },
  "language_info": {
   "codemirror_mode": {
    "name": "ipython",
    "version": 3
   },
   "file_extension": ".py",
   "mimetype": "text/x-python",
   "name": "python",
   "nbconvert_exporter": "python",
   "pygments_lexer": "ipython3",
   "version": "3.9.7"
  },
  "orig_nbformat": 4,
  "vscode": {
   "interpreter": {
    "hash": "5e62c483ecf48ad4e1bb5f903abeb626d4ffc56eab47e05d9eff835eeb907be7"
   }
  }
 },
 "nbformat": 4,
 "nbformat_minor": 2
}
