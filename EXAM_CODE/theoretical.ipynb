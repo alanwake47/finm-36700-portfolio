{
 "cells": [
  {
   "cell_type": "markdown",
   "metadata": {},
   "source": [
    "## HW 8 - LTCM Long term capital management"
   ]
  },
  {
   "cell_type": "markdown",
   "metadata": {},
   "source": [
    "### About LTCM\n",
    "- LTCM traded on market mispricing and arbitrage opportunities.\n",
    "- They go long-short on Relative Value and Convergence trades.\n",
    "- Use leverage to get bigger principle on mispricings.\n",
    "- Heavily involved in credit and income and equities.\n",
    "- Longest trading horizon is in convergence - weeks to months.\n",
    "- Not short term either\n",
    "- Seek small positive wins. Lower skewness than SPY. Susceptible to large losses.\n",
    "- They were efficient at financing and funcding along with prop trading and modelling.\n",
    "- Larger AUM so higher leverage\n",
    "- Pay lower haircut, better collateralization\n",
    "- Long term capital commitment from investors.\n",
    "- Avoided taking on too much risk. They almost always had liquidity.\n",
    "\n",
    "### Four types of risk\n",
    "- collateral hairtcut risk\n",
    "  - value of collateral goes down\n",
    "  - LTCM fights this by using 100% financed collaterals. and stress testing haricut losses/\n",
    "- repo maturity risk\n",
    "  - When credit risk goes up, contract not able to be upheld.\n",
    "  - LTCM has long term repo\n",
    "- equity redemption risk\n",
    "  - if investors redeem during adverse times\n",
    "  - LTCM restricts redemptions year by year.\n",
    "- loan access\n",
    "  - Tough to get loans when credit risk goes up.\n",
    "  - Revolving loan agreement that has no Material Adverse Change clause.\n",
    "- liquidity risk\n",
    "  - LTCM got counterparties to maintain collateral balance via a two-way mark to market process on a daily basis. This is called a \"haircut call\" and is a form of collateral management.\n",
    "  - LTCM also estimates worst case haricut losses and stress tests them.\n",
    "  - LTCM reduces liquidity risk by adjusting security correlations.\n",
    "- leverage risk\n",
    "  - Since no extreme market events, leverage risk is not a concerns.\n",
    "  - Considering rturning some of the investments to reduce leverage.\n",
    "- convergence risk\n",
    "  - Trades dont converge after a while due to liquidity risk.\n",
    "  - Trades ultimately converge, but LTCM has to wait for it to happen.\n",
    "\n",
    "### Quadratic Option LTCM\n",
    "- LTCM has negative beta to spy-squared, thus short the market options.\n",
    "- SPY-beta is delta and SPY-squared-beta is gamma.\n",
    "- LTCM is short positive gamma and since gamma is always positive, they are shorting the market.\n",
    "- For a big monthly return, the negative beta to SPY-squared would lead to heavy losses. Thus, LTCM is shorting SPY-squared options, to hedge extreme moves in the market."
   ]
  }
 ],
 "metadata": {
  "kernelspec": {
   "display_name": "Python 3.9.7 ('base')",
   "language": "python",
   "name": "python3"
  },
  "language_info": {
   "name": "python",
   "version": "3.9.7"
  },
  "orig_nbformat": 4,
  "vscode": {
   "interpreter": {
    "hash": "5e62c483ecf48ad4e1bb5f903abeb626d4ffc56eab47e05d9eff835eeb907be7"
   }
  }
 },
 "nbformat": 4,
 "nbformat_minor": 2
}
