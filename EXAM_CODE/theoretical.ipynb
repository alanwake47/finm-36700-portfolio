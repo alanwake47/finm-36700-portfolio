{
 "cells": [
  {
   "cell_type": "markdown",
   "metadata": {},
   "source": [
    "## HW 8 - LTCM Long term capital management"
   ]
  },
  {
   "cell_type": "markdown",
   "metadata": {},
   "source": [
    "### About LTCM\n",
    "- LTCM traded on market mispricing and arbitrage opportunities.\n",
    "- They go long-short on Relative Value and Convergence trades.\n",
    "- Use leverage to get bigger principle on mispricings.\n",
    "- Heavily involved in credit and income and equities.\n",
    "- Longest trading horizon is in convergence - weeks to months.\n",
    "- Not short term either\n",
    "- Seek small positive wins. Lower skewness than SPY. Susceptible to large losses.\n",
    "- They were efficient at financing and funcding along with prop trading and modelling.\n",
    "- Larger AUM so higher leverage\n",
    "- Pay lower haircut, better collateralization\n",
    "- Long term capital commitment from investors.\n",
    "- Avoided taking on too much risk. They almost always had liquidity.\n",
    "\n",
    "### Types of risk LTCM\n",
    "- collateral hairtcut risk\n",
    "  - value of collateral goes down\n",
    "  - LTCM fights this by using 100% financed collaterals. and stress testing haricut losses/\n",
    "- repo maturity risk\n",
    "  - When credit risk goes up, contract not able to be upheld.\n",
    "  - LTCM has long term repo\n",
    "- equity redemption risk\n",
    "  - if investors redeem during adverse times\n",
    "  - LTCM restricts redemptions year by year.\n",
    "- loan access\n",
    "  - Tough to get loans when credit risk goes up.\n",
    "  - Revolving loan agreement that has no Material Adverse Change clause.\n",
    "- liquidity risk\n",
    "  - LTCM got counterparties to maintain collateral balance via a two-way mark to market process on a daily basis. This is called a \"haircut call\" and is a form of collateral management.\n",
    "  - LTCM also estimates worst case haricut losses and stress tests them.\n",
    "  - LTCM reduces liquidity risk by adjusting security correlations.\n",
    "- leverage risk\n",
    "  - Since no extreme market events, leverage risk is not a concerns.\n",
    "  - Considering rturning some of the investments to reduce leverage.\n",
    "- convergence risk\n",
    "  - Trades dont converge after a while due to liquidity risk.\n",
    "  - Trades ultimately converge, but LTCM has to wait for it to happen.\n",
    "\n",
    "### Quadratic Option LTCM\n",
    "- LTCM has negative beta to spy-squared, thus short the market options.\n",
    "- SPY-beta is delta and SPY-squared-beta is gamma.\n",
    "- LTCM is short positive gamma and since gamma is always positive, they are shorting the market.\n",
    "- For a big monthly return, the negative beta to SPY-squared would lead to heavy losses. Thus, LTCM is shorting SPY-squared options, to hedge extreme moves in the market.\n",
    "\n",
    "### Up Move and Down move LTCM\n",
    "- LTCM is short the call-like (up move) and long the put-like (down move) options.\n",
    "- The put-like betas are bigger than the call-like betas.(abs value)\n",
    "- LTCM is negatively exposes to the market volatility. THe negative exposure comes from a combination of the short call-like and long put-like options."
   ]
  },
  {
   "cell_type": "markdown",
   "metadata": {},
   "source": [
    "### FX Carry Trade\n",
    "- **Uncovered Interest Rate Parity states that mean excess returns for currencies should be zero as the change in the sport fx rate is completely explained by the change in the interest rate differential**.\n",
    "- The sharpe ratio is withing 95% confidence interval of significance, this mean return MIGHT NOT be significant;y different from zero.\n",
    "- CHF offered positive carry trade, but low sharpe.\n",
    "- **Spot rate is amount of USD you get per unit of foregin currency!!**\n",
    "- **If Spot rate goes up, then the foreign currency is appreciating relative to USD.**\n",
    "- Equation is $ S_{t+1} - S_{t} = \\beta (r^\\$ - r^{foregin}) $\n",
    "\n",
    "|       |    USUK |    USEU |    USSZ |        USJP |\n",
    "|----------:|--------:|--------:|--------:|---------|\n",
    "|     Alpha | -0.0059 |  0.0070 |  0.0436 | -0.0060 |\n",
    "|      Beta |  0.4858 | -1.2564 | -1.6466 |  0.3715 |\n",
    "| R-Squared |  0.0004 |  0.0026 |  0.0039 |  0.0005 |\n",
    "\n",
    "- If regressor goes down ($r^\\$ - r^{foreign}$), then\n",
    "  - GBP and JPY (positive $\\beta$) decrease relative to US, as $ S_{t+1} - S_{t}$ decreases.\n",
    "  - EUR and CHF (negative $\\beta$) increase relative to US $ S_{t+1} - S_{t}$ increases. <br>\n",
    "\n",
    "**For EU (EUR) and SZ (CHF)**,\n",
    "\n",
    "- FX growth is exacerbating the returns from the interest rate differentials. Beta is negative, so in a sense, investors expect to gain twice: immediately from the risk-free rate differential, and again from the FX movement at the close of the position.\n",
    "\n",
    "### Dynamic Carry Trade\n",
    "- JPY returns seem to be away from the expected value of 0, an improvement in the carry trade would be to short the JPY i.e. **borrow at the JPY risk-free rate to invest in the USD risk-free rate. With our forecast of the USD strengthening relative to the JPY, we could be potentially getting a positive risk premia from this carry trade**."
   ]
  },
  {
   "cell_type": "markdown",
   "metadata": {},
   "source": [
    "## HW 7 GMO - Estimating Equity Risk Premium"
   ]
  },
  {
   "cell_type": "markdown",
   "metadata": {},
   "source": [
    "### About GMO\n",
    "- GMO believes they can predict long-run more accurately than short-run.\n",
    "  - Investors demand **more risk premia for long-run**, on stocks, as they have higher risk.\n",
    "  - Market prices **deviate significantly in short run**, but not in long run. Long run brings out the fundamental value of the stock.\n",
    "- GMO uses a **Dividend yield estimates** that investors demand for long-run, along with **Expected long-run growth rate of dividends**.\n",
    "- **Gordon Growth Model** posits that long-run required return on equity is the sum of the dividend yield (req. by investors) and the expected long-run growth rate of dividends.\n",
    "- $R_{long}^{*} = \\frac{D_{1}}{P_{0}^{*}} + g$\n",
    "- When the market has an **overly optimistic view of future dividend**, prices would exceed fair value. Investors would then **eventually** realize they were too optimistic and that prices would rever toward **fair value.**\n",
    "- Thus at times of high prices GMO would have a contrarian view of expected returns being low.\n",
    "- GMO believed that 2012 valuations were high for stocks. They were pressimistic about future earnings growth.\n",
    "  - $\\%\\Delta(\\frac{P}{E})$ multiple was 0% in 2011, causing positive estimated returns.\n",
    "  - $\\%\\Delta(S)$ or Reas Sales Growth was 2.9% up from 2.7% in 2011, causing positive estimated returns.\n",
    "- In 2007, GMO forecasts excess equity returns will be negative due to-\n",
    "  - $\\%\\Delta(\\frac{P}{E})$ (EXPANSION or CONTRACTION Multiple) estimated as negative for 7 year forecast.\n",
    "  - $\\%\\Delta(\\frac{E}{S})$ (PROFIT MARGIN) forecasted as negative for 7 year forecast.\n",
    "- The mean increased for GMO's fund GMOWAX during 2012-2022 showing their asset allocation was better compared to the previous period of 1993-2011.\n",
    "- GMWAX has low tail risk, especially in 2012-2022 period.\n",
    "- GMWAX has moderate Beta, it can be considered a low beta strategy.\n",
    "- GMWAX has negative alpha.\n",
    "\n",
    "### Risks\n",
    "- Business & Managerial Risk\n",
    "  - If markets do not revert as GMO thought, they face a risk of underperforming.\n",
    "  - Example of 1997 US Stocks going up while GMO thought they would go down.\n",
    "- The Dynamic Portfolio does not take extra risk compared to SPY. But the prediction power is very little.\n",
    "- OOS sample is much more risky. It has lower mean and higher variance.\n",
    "- The Dynamic OOS takes on extra risk compared to SPY."
   ]
  },
  {
   "cell_type": "markdown",
   "metadata": {},
   "source": [
    "## TA Reviews"
   ]
  },
  {
   "cell_type": "markdown",
   "metadata": {},
   "source": [
    "- Proving UIP (Uncovered interest Parity) works\n",
    "  - $ S_{t+1} - S_{t} = \\alpha + \\beta (r^\\$ - r^{foregin})  + \\epsilon $\n",
    "  - we expect $\\alpha$ to be 0 and $\\beta$ to be 1. and epsilon is $N(0,1)$\n",
    "  - It not true, can do trading strategy involving the two currencies.\n",
    "\n",
    "- Carry Trade\n",
    "  - At time t: Borrow at the risk-free rate in USD. Convert USD to GBP. Buy risk-free assets in GBP\n",
    "  - At time t+1: Close risk-free assets in GBP, convert GBP to USD, return the borrowed amount\n",
    "\n",
    "- Time Diversification\n",
    "  - Time-diversification refers to this idea that mean annualized return becomes riskless for large investment horizons.\n",
    "  - True, as horizon increases the variance of the annualized return goes to zero.\n",
    "  - However, the variance of the cumulative return, $r_{t,t+h}$ is still growing.\n",
    "  - For h periods-\n",
    "  - $\\mathbb{E}[r_{t,t+h}] = h\\mu$ \n",
    "  - if corr = 1 $var[r_{t,t+h}] = h\\sigma$\n",
    "  - if corr = 0 $var[r_{t,t+h}] = h\\sigma^{2}$\n",
    "  - if corr = -1 var=0\n",
    "  - Covered interest parity involves using forward contracts to cover the exchange rate. Meanwhile, uncovered interest rate parity involves forecasting rates and not covering exposure to foreign exchange risk—that is, there are no forward rate contracts, and it uses only the expected spot rate.\n",
    "\n",
    "- Forecasting\n",
    "  - In-Sample performance expected to be better if investment sizes are scaled to expected returns\n",
    "  - $r^{SPY} = α^{SPY,X} +(β^{SPY,X})^′ X_{t-1} + \\epsilon^{SPY,X}_{t}$\n",
    "  - In-Sample Forecasting - Uses Beta computed up to the current time period to back test the performance\n",
    "  - Out-of-Sample Forecasting - Uses Beta computed up to the current time period to forecast the future"
   ]
  }
 ],
 "metadata": {
  "kernelspec": {
   "display_name": "Python 3.9.7 ('base')",
   "language": "python",
   "name": "python3"
  },
  "language_info": {
   "name": "python",
   "version": "3.9.7"
  },
  "orig_nbformat": 4,
  "vscode": {
   "interpreter": {
    "hash": "5e62c483ecf48ad4e1bb5f903abeb626d4ffc56eab47e05d9eff835eeb907be7"
   }
  }
 },
 "nbformat": 4,
 "nbformat_minor": 2
}
