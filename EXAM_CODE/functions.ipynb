{
 "cells": [
  {
   "cell_type": "code",
   "execution_count": 2,
   "metadata": {},
   "outputs": [],
   "source": [
    "import pandas as pd\n",
    "import numpy as np\n",
    "import matplotlib.pyplot as plt\n",
    "import statsmodels.api as sm\n",
    "from arch import arch_model\n",
    "from arch.univariate import GARCH, EWMAVariance \n",
    "from sklearn import linear_model\n",
    "import scipy.stats as stats\n",
    "from statsmodels.regression.rolling import RollingOLS\n",
    "from sklearn.linear_model import LinearRegression\n",
    "import seaborn as sns\n",
    "import warnings\n",
    "from scipy.stats import norm\n",
    "warnings.filterwarnings(\"ignore\")\n",
    "pd.set_option(\"display.precision\", 5)"
   ]
  },
  {
   "cell_type": "code",
   "execution_count": 3,
   "metadata": {},
   "outputs": [
    {
     "data": {
      "text/html": [
       "<div>\n",
       "<style scoped>\n",
       "    .dataframe tbody tr th:only-of-type {\n",
       "        vertical-align: middle;\n",
       "    }\n",
       "\n",
       "    .dataframe tbody tr th {\n",
       "        vertical-align: top;\n",
       "    }\n",
       "\n",
       "    .dataframe thead th {\n",
       "        text-align: right;\n",
       "    }\n",
       "</style>\n",
       "<table border=\"1\" class=\"dataframe\">\n",
       "  <thead>\n",
       "    <tr style=\"text-align: right;\">\n",
       "      <th></th>\n",
       "      <th>SPY US Equity</th>\n",
       "      <th>EEM US Equity</th>\n",
       "      <th>EFA US Equity</th>\n",
       "      <th>EUO US Equity</th>\n",
       "      <th>IWM US Equity</th>\n",
       "    </tr>\n",
       "    <tr>\n",
       "      <th>date</th>\n",
       "      <th></th>\n",
       "      <th></th>\n",
       "      <th></th>\n",
       "      <th></th>\n",
       "      <th></th>\n",
       "    </tr>\n",
       "  </thead>\n",
       "  <tbody>\n",
       "    <tr>\n",
       "      <th>2011-08-31</th>\n",
       "      <td>-0.05498</td>\n",
       "      <td>-0.09256</td>\n",
       "      <td>-0.08756</td>\n",
       "      <td>-0.00590</td>\n",
       "      <td>-0.08892</td>\n",
       "    </tr>\n",
       "    <tr>\n",
       "      <th>2011-09-30</th>\n",
       "      <td>-0.06947</td>\n",
       "      <td>-0.17908</td>\n",
       "      <td>-0.10810</td>\n",
       "      <td>0.14216</td>\n",
       "      <td>-0.11156</td>\n",
       "    </tr>\n",
       "    <tr>\n",
       "      <th>2011-10-31</th>\n",
       "      <td>0.10916</td>\n",
       "      <td>0.16300</td>\n",
       "      <td>0.09629</td>\n",
       "      <td>-0.06949</td>\n",
       "      <td>0.15102</td>\n",
       "    </tr>\n",
       "    <tr>\n",
       "      <th>2011-11-30</th>\n",
       "      <td>-0.00406</td>\n",
       "      <td>-0.01972</td>\n",
       "      <td>-0.02176</td>\n",
       "      <td>0.05463</td>\n",
       "      <td>-0.00378</td>\n",
       "    </tr>\n",
       "    <tr>\n",
       "      <th>2011-12-31</th>\n",
       "      <td>0.01043</td>\n",
       "      <td>-0.04303</td>\n",
       "      <td>-0.02215</td>\n",
       "      <td>0.07557</td>\n",
       "      <td>0.00511</td>\n",
       "    </tr>\n",
       "    <tr>\n",
       "      <th>...</th>\n",
       "      <td>...</td>\n",
       "      <td>...</td>\n",
       "      <td>...</td>\n",
       "      <td>...</td>\n",
       "      <td>...</td>\n",
       "    </tr>\n",
       "    <tr>\n",
       "      <th>2021-05-31</th>\n",
       "      <td>0.00656</td>\n",
       "      <td>0.01648</td>\n",
       "      <td>0.03482</td>\n",
       "      <td>-0.02717</td>\n",
       "      <td>0.00271</td>\n",
       "    </tr>\n",
       "    <tr>\n",
       "      <th>2021-06-30</th>\n",
       "      <td>0.02244</td>\n",
       "      <td>0.00943</td>\n",
       "      <td>-0.01085</td>\n",
       "      <td>0.05582</td>\n",
       "      <td>0.01867</td>\n",
       "    </tr>\n",
       "    <tr>\n",
       "      <th>2021-07-31</th>\n",
       "      <td>0.02438</td>\n",
       "      <td>-0.06440</td>\n",
       "      <td>0.00770</td>\n",
       "      <td>-0.00171</td>\n",
       "      <td>-0.03631</td>\n",
       "    </tr>\n",
       "    <tr>\n",
       "      <th>2021-08-31</th>\n",
       "      <td>0.02973</td>\n",
       "      <td>0.01567</td>\n",
       "      <td>0.01444</td>\n",
       "      <td>0.00964</td>\n",
       "      <td>0.02200</td>\n",
       "    </tr>\n",
       "    <tr>\n",
       "      <th>2021-09-30</th>\n",
       "      <td>-0.04660</td>\n",
       "      <td>-0.03876</td>\n",
       "      <td>-0.03264</td>\n",
       "      <td>0.03829</td>\n",
       "      <td>-0.02882</td>\n",
       "    </tr>\n",
       "  </tbody>\n",
       "</table>\n",
       "<p>122 rows × 5 columns</p>\n",
       "</div>"
      ],
      "text/plain": [
       "            SPY US Equity  EEM US Equity  EFA US Equity  EUO US Equity  \\\n",
       "date                                                                     \n",
       "2011-08-31       -0.05498       -0.09256       -0.08756       -0.00590   \n",
       "2011-09-30       -0.06947       -0.17908       -0.10810        0.14216   \n",
       "2011-10-31        0.10916        0.16300        0.09629       -0.06949   \n",
       "2011-11-30       -0.00406       -0.01972       -0.02176        0.05463   \n",
       "2011-12-31        0.01043       -0.04303       -0.02215        0.07557   \n",
       "...                   ...            ...            ...            ...   \n",
       "2021-05-31        0.00656        0.01648        0.03482       -0.02717   \n",
       "2021-06-30        0.02244        0.00943       -0.01085        0.05582   \n",
       "2021-07-31        0.02438       -0.06440        0.00770       -0.00171   \n",
       "2021-08-31        0.02973        0.01567        0.01444        0.00964   \n",
       "2021-09-30       -0.04660       -0.03876       -0.03264        0.03829   \n",
       "\n",
       "            IWM US Equity  \n",
       "date                       \n",
       "2011-08-31       -0.08892  \n",
       "2011-09-30       -0.11156  \n",
       "2011-10-31        0.15102  \n",
       "2011-11-30       -0.00378  \n",
       "2011-12-31        0.00511  \n",
       "...                   ...  \n",
       "2021-05-31        0.00271  \n",
       "2021-06-30        0.01867  \n",
       "2021-07-31       -0.03631  \n",
       "2021-08-31        0.02200  \n",
       "2021-09-30       -0.02882  \n",
       "\n",
       "[122 rows x 5 columns]"
      ]
     },
     "execution_count": 3,
     "metadata": {},
     "output_type": "execute_result"
    }
   ],
   "source": [
    "df = pd.read_excel('proshares_analysis_data copy.xlsx',2, index_col=0)\n",
    "df = df.sub(df['USGG3M Index'], axis=0)\n",
    "del df['USGG3M Index']\n",
    "df"
   ]
  },
  {
   "cell_type": "code",
   "execution_count": 4,
   "metadata": {},
   "outputs": [],
   "source": [
    "#Calculate mean, standard deviation and sharpe ratio\n",
    "def mean_vol_sharpe(df,ann=12):\n",
    "    mean = df.mean() * ann\n",
    "    volatility = df.std() * np.sqrt(ann)\n",
    "    sharpe_ratio = mean/volatility\n",
    "    return pd.DataFrame({'mean': mean, 'volatility': volatility, 'sharpe_ratio': sharpe_ratio})"
   ]
  },
  {
   "cell_type": "code",
   "execution_count": null,
   "metadata": {},
   "outputs": [],
   "source": [
    "#take the mean_vol_sharpe for specific dates like ['1926','1980']\n",
    "def stats_by_date(df, start_date, end_date):\n",
    "    df = mean_vol_sharpe(df.loc[start_date:end_date])\n",
    "    df.rename(columns={'mean':'mean '+start_date+'-'+end_date}, inplace=True)\n",
    "    df.rename(columns={'volatility':'volatility '+start_date+'-'+end_date}, inplace=True)\n",
    "    df.rename(columns={'sharpe_ratio':'sharpe_ratio '+start_date+'-'+end_date}, inplace=True)\n",
    "    return df"
   ]
  },
  {
   "cell_type": "code",
   "execution_count": null,
   "metadata": {},
   "outputs": [],
   "source": [
    "def table_row(df, portfolio, annualize_factor=12):\n",
    "    mean = df[portfolio].mean() * annualize_factor\n",
    "    vol = df[portfolio].std() * np.sqrt(annualize_factor)\n",
    "    sharpe_ratio = mean/vol\n",
    "    skew = df[portfolio].skew() #unscaled\n",
    "    corr = df[[portfolio, 'MKT', 'HML']].corr()\n",
    "    corr_to_mkt = corr.loc[portfolio, 'MKT']\n",
    "    corr_to_value = corr.loc[portfolio, 'HML']\n",
    "    return [mean, vol, sharpe_ratio, skew, corr_to_mkt, corr_to_value]\n",
    "\n",
    "\n",
    "table1 = pd.DataFrame(index=['1927-2021', '1927-1993', '1994-2008', '2009-2021'],\n",
    "    columns=['mean ', 'vol ', 'sharpe_ratio ', 'skew ', 'corr_to_mkt ', 'corr_to_value', ])\n",
    "\n",
    "table1.loc['1927-2021', :] = table_row(df_mom_size.loc['1927':'2020',:], portfolio='rx_mom_FF')\n",
    "table1.loc['1927-1993', :] = table_row(df_mom_size.loc['1927':'1993',:], portfolio='rx_mom_FF')\n",
    "table1.loc['1994-2008', :] = table_row(df_mom_size.loc['1994':'2008',:], portfolio='rx_mom_FF')\n",
    "table1.loc['2009-2021', :] = table_row(df_mom_size.loc['2009':'2020',:], portfolio='rx_mom_FF')\n",
    "table1.style.set_caption('Solution Table 1: Momentum performance over time.')"
   ]
  },
  {
   "cell_type": "code",
   "execution_count": 5,
   "metadata": {},
   "outputs": [
    {
     "data": {
      "text/plain": [
       "<AxesSubplot:>"
      ]
     },
     "execution_count": 5,
     "metadata": {},
     "output_type": "execute_result"
    },
    {
     "data": {
      "image/png": "[encoded data removed]",
      "text/plain": [
       "<Figure size 432x288 with 2 Axes>"
      ]
     },
     "metadata": {
      "needs_background": "light"
     },
     "output_type": "display_data"
    }
   ],
   "source": [
    "#Heatmap\n",
    "sns.heatmap(df.corr(), annot=True, cmap='coolwarm')"
   ]
  },
  {
   "cell_type": "code",
   "execution_count": 6,
   "metadata": {},
   "outputs": [
    {
     "data": {
      "text/plain": [
       "SPY US Equity  IWM US Equity    0.88162\n",
       "dtype: float64"
      ]
     },
     "execution_count": 6,
     "metadata": {},
     "output_type": "execute_result"
    }
   ],
   "source": [
    "#Correlation matrix ranking minimum and maximum\n",
    "corr = df.corr()\n",
    "corr[corr == 1] = np.nan\n",
    "corr.unstack().sort_values(ascending=False)[:1]"
   ]
  },
  {
   "cell_type": "code",
   "execution_count": 7,
   "metadata": {},
   "outputs": [],
   "source": [
    "# $ \\omega_t for total return $\n",
    "def tangency_portfolio(df, ann=12):\n",
    "    N = df.shape[1]\n",
    "    mu = df.mean() * ann #mean\n",
    "    sig = df.cov() * ann #covariance\n",
    "    sig_inv = np.linalg.inv(sig) #inverse of covariance\n",
    "    scaling = np.ones(N)@sig_inv@mu\n",
    "    om_t = (1/scaling) * sig_inv @ mu\n",
    "    \n",
    "    return om_t"
   ]
  },
  {
   "cell_type": "code",
   "execution_count": 8,
   "metadata": {},
   "outputs": [],
   "source": [
    "# $ \\omega_min_variance for total return $\n",
    "def min_variance_portfolio(df, ann=12):\n",
    "    N = df.shape[1]\n",
    "    mu = df.mean() * ann #mean\n",
    "    sig = df.cov() * ann #covariance\n",
    "    sig_inv = np.linalg.inv(sig) #inverse of covariance\n",
    "    \n",
    "    scaling = np.ones(N) @ sig_inv @ np.ones(N)\n",
    "    omega_v = (1/scaling) * sig_inv @ np.ones(N)\n",
    "    \n",
    "    return omega_v"
   ]
  },
  {
   "cell_type": "code",
   "execution_count": null,
   "metadata": {},
   "outputs": [],
   "source": [
    "#Calculate OMEGA* for total return\n",
    "\n",
    "n = 11\n",
    "np.ones(n)\n",
    "sigma = df.cov() * 12\n",
    "sigma_i=np.linalg.inv(sigma)\n",
    "mean_ret = df.mean() * 12\n",
    "scaling = 1/ (np.ones(n)@sigma_i@mean_ret)\n",
    "omega_t = pd.DataFrame (scaling * sigma_i  @ mean_ret, index = df.columns, columns = ['Weights'])\n",
    "#omega_t.T\n",
    "mu_p = 0.015 * 12\n",
    "scaling = 1/ (np.ones(n)@sigma_i@np.ones(n).T)\n",
    "omega_v = pd.DataFrame (scaling * sigma_i  @ np.ones(n).T, index = df.columns, columns = ['Weights'])\n",
    "delta = (mu_p - mean_ret.T @ omega_v)/(mean_ret.T @ omega_t - mean_ret.T @ omega_v)\n",
    "\n",
    "omega = omega_v + delta*(omega_t - omega_v)\n",
    "omega.T"
   ]
  },
  {
   "cell_type": "code",
   "execution_count": null,
   "metadata": {},
   "outputs": [],
   "source": [
    "def delta(df, ann=12, u_p=0.015):\n",
    "    \n",
    "    N = df.shape[1]\n",
    "    mu = df.mean() * ann #mean\n",
    "    sig = df.cov() * ann #covariance\n",
    "    sig_inv = np.linalg.inv(sig) #inverse of covariance\n",
    "    mu_p = u_p * ann\n",
    "    scaling = 1/ (np.ones(N)@sig_inv@np.ones(N).T)\n",
    "    mean_ret = df.mean() * ann\n",
    "    delta = (mu_p - mean_ret.T @ min_variance_portfolio(df))/(mean_ret.T @ tangency_portfolio(df) - mean_ret.T @ min_variance_portfolio(df))\n",
    "\n",
    "    omega = min_variance_portfolio(df) + delta*(tangency_portfolio(df) - min_variance_portfolio(df))\n",
    "    omega.T\n",
    "    \n",
    "    return print(delta, omega)"
   ]
  },
  {
   "cell_type": "code",
   "execution_count": null,
   "metadata": {},
   "outputs": [],
   "source": [
    "def portfolio_stats(df, weights, ann=12):\n",
    "    N = df.shape[1]\n",
    "    mu = df.mean() * ann #mean\n",
    "    sig = df.cov() * ann #covariance\n",
    "    \n",
    "    mu_p = weights.T @ mu\n",
    "    sig_p = np.sqrt(weights.T @ sig @ weights)\n",
    "    sharpe_p = mu_p/sig_p\n",
    "    \n",
    "    print('Mean: ', mu_p, ',\\nVol: ', sig_p, ',\\nSharpe Ratio: ', sharpe_p)"
   ]
  },
  {
   "cell_type": "code",
   "execution_count": null,
   "metadata": {},
   "outputs": [],
   "source": [
    "#equally weighted portfolio\n",
    "\n",
    "weights_equal = weights_equal * (mean_target*12 / (ret_mean @ weights_equal))\n",
    "weights_equal\n",
    "###\n",
    "#Equally weighted portfolio\n",
    "eq_weights = np.ones(11)/11\n",
    "eq_weights\n",
    "eq_resc = eq_weights * mu_p / (mean_ret @ eq_weights)\n",
    "port_stats(data,eq_resc)"
   ]
  },
  {
   "cell_type": "code",
   "execution_count": null,
   "metadata": {},
   "outputs": [],
   "source": [
    "# weight parity\n",
    "\n",
    "weight_parity = 1/ret_vol\n",
    "weight_parity = weight_parity * (mean_target*12 / (ret_mean @ weight_parity))\n",
    "####\n",
    "w = 1 / (data.std())\n",
    "\n",
    "scaling = 1 / ((w @ mean_ret) / mu_p)\n",
    "\n",
    "w = scaling * w\n",
    "w"
   ]
  },
  {
   "cell_type": "code",
   "execution_count": null,
   "metadata": {},
   "outputs": [],
   "source": [
    "## TANGENCY for Portfolio with excess returns\n",
    "\n",
    "def compute_tangency(df_tilde, diagonalize_Sigma=False):\n",
    "\n",
    "    Sigma = df_tilde.cov()\n",
    "\n",
    "    # N is the number of assets\n",
    "\n",
    "    N = Sigma.shape[0]\n",
    "\n",
    "    Sigma_adj = Sigma.copy()\n",
    "\n",
    "    if diagonalize_Sigma:\n",
    "\n",
    "        Sigma_adj.loc[:,:] = np.diag(np.diag(Sigma_adj))\n",
    "\n",
    "    mu_tilde = df_tilde.mean()\n",
    "\n",
    "    Sigma_inv = np.linalg.inv(Sigma_adj)\n",
    "\n",
    "    weights = Sigma_inv @ mu_tilde / (np.ones(N) @ Sigma_inv @ mu_tilde)\n",
    "\n",
    "    # For convenience, I'll wrap the solution back into a pandas.Series object.\n",
    "    omega_tangency = pd.Series(weights, index=mu_tilde.index)\n",
    "    \n",
    "    return omega_tangency, mu_tilde, Sigma_adj"
   ]
  },
  {
   "cell_type": "code",
   "execution_count": null,
   "metadata": {},
   "outputs": [],
   "source": [
    "### TARGET MV Portfolio for excess returns\n",
    "\n",
    "def target_mv_portfolio(df_tilde, target_return=0.01, diagonalize_Sigma=False):\n",
    "\n",
    "    omega_tangency, mu_tilde, Sigma = compute_tangency(df_tilde, diagonalize_Sigma=diagonalize_Sigma)\n",
    "\n",
    "    Sigma_adj = Sigma.copy()\n",
    "\n",
    "    if diagonalize_Sigma:\n",
    "\n",
    "        Sigma_adj.loc[:,:] = np.diag(np.diag(Sigma_adj))\n",
    "\n",
    "    Sigma_inv = np.linalg.inv(Sigma_adj)\n",
    "\n",
    "    N = Sigma_adj.shape[0]\n",
    "\n",
    "    delta_tilde = ((np.ones(N) @ Sigma_inv @ mu_tilde)/(mu_tilde @ Sigma_inv @ mu_tilde)) * target_return\n",
    "\n",
    "    omega_star = delta_tilde * omega_tangency\n",
    "\n",
    "    return omega_star, mu_tilde, Sigma_adj\n",
    "\n",
    "omega_star,_,_ = target_mv_portfolio(df, 0.02)\n",
    "omega_star.to_frame('MV Portfolio Weights').T"
   ]
  },
  {
   "cell_type": "code",
   "execution_count": null,
   "metadata": {},
   "outputs": [
    {
     "data": {
      "text/plain": [
       "1.157561083377907"
      ]
     },
     "execution_count": 53,
     "metadata": {},
     "output_type": "execute_result"
    }
   ],
   "source": [
    "# Since the total weights added up is above 1, the portfolio is short in risk-free rate\n",
    "omega_star.sum()"
   ]
  },
  {
   "cell_type": "code",
   "execution_count": null,
   "metadata": {},
   "outputs": [],
   "source": [
    "df_mf_ex_is = df.loc[:'2018-12-31',]\n",
    "df_mf_ex_oos = df.loc['2019-01-01':,]\n",
    "\n",
    "omega_star_is,_,_ = target_mv_portfolio(df_mf_ex_is, 0.02)\n",
    "omega_star_is"
   ]
  },
  {
   "cell_type": "code",
   "execution_count": null,
   "metadata": {},
   "outputs": [],
   "source": [
    "mean_vol_sharpe(pd.DataFrame(df_mf_ex_oos @ omega_star_is),12)"
   ]
  },
  {
   "cell_type": "markdown",
   "metadata": {},
   "source": [
    "## HW 2"
   ]
  },
  {
   "cell_type": "code",
   "execution_count": null,
   "metadata": {},
   "outputs": [],
   "source": [
    "def risk_stats(data, q=0.05):\n",
    "    df = data.copy()\n",
    "    df.index = data.index.date\n",
    "    report = pd.DataFrame(columns = df.columns)\n",
    "    \n",
    "    report.loc['Skewness'] = df.skew()\n",
    "    report.loc['Excess Kurtosis'] = df.kurtosis()\n",
    "    report.loc['VaR (negated)'] = -df.quantile(q)\n",
    "    report.loc['Expected Shortfall (negated)'] = -df[df < df.quantile(q)].mean()\n",
    "    \n",
    "    cum_ret = (1 + df).cumprod()\n",
    "    rolling_max = cum_ret.cummax()\n",
    "    drawdown = (cum_ret - rolling_max) / rolling_max\n",
    "    report.loc['Max Drawdown'] = drawdown.min()\n",
    "    report.loc['MDD Start'] = None\n",
    "    report.loc['MDD End'] = drawdown.idxmin()\n",
    "    report.loc['Recovery Date'] = None\n",
    "    \n",
    "    for col in df.columns:\n",
    "        report.loc['MDD Start', col] = (rolling_max.loc[:report.loc['MDD End', col]])[col].idxmax()\n",
    "        recovery_df = (drawdown.loc[report.loc['MDD End', col]:])[col]\n",
    "        \n",
    "        try:\n",
    "            report.loc['Recovery Date', col] = recovery_df[recovery_df >= 0].index[0]\n",
    "\n",
    "        except:\n",
    "            report.loc['Recovery Date', col] = None\n",
    "            report.loc['Recovery period (days)'] = None\n",
    "    report.loc['Recovery period (days)'] = (report.loc['Recovery Date'] - report.loc['MDD Start']).dt.days\n",
    "    return round(report,4)\n",
    "risk_stats(df, 0.05)"
   ]
  },
  {
   "cell_type": "code",
   "execution_count": null,
   "metadata": {},
   "outputs": [],
   "source": [
    "#Regression with OLS and intercept\n",
    "regression_report = pd.DataFrame(index=portfolios_excess_1981.columns)\n",
    "x = sm.add_constant(factor_mkt)\n",
    "\n",
    "for i in portfolios_excess_1981.columns:\n",
    "    y = portfolios_excess_1981[i]\n",
    "    model = sm.OLS(y,x,missing='drop').fit()\n",
    "    regression_report.loc[i,'alpha'] = model.params['const'] * 12\n",
    "    regression_report.loc[i,'beta'] = model.params['Mkt-RF']\n",
    "    regression_report.loc[i,'treynor ratio'] = portfolios_excess_1981[i].mean() * 12 / model.params[1]\n",
    "    regression_report.loc[i,'info ratio'] = model.params[0] * np.sqrt(12) / model.resid.std()\n",
    "\n"
   ]
  },
  {
   "cell_type": "code",
   "execution_count": null,
   "metadata": {},
   "outputs": [],
   "source": [
    "#OLS with intercept\n",
    "y = df['SPY US Equity']\n",
    "X = sm.add_constant(df)\n",
    "reg = sm.OLS(y, X).fit()\n",
    "print(\"Residuals std dev annuallized: \", reg.resid.std() * np.sqrt(12))\n",
    "reg.summary()"
   ]
  },
  {
   "cell_type": "code",
   "execution_count": 22,
   "metadata": {},
   "outputs": [
    {
     "data": {
      "text/plain": [
       "SPY US Equity    0.92566\n",
       "dtype: float64"
      ]
     },
     "execution_count": 22,
     "metadata": {},
     "output_type": "execute_result"
    }
   ],
   "source": [
    "#Regression without intercept\n",
    "\n",
    "y = df['EEM US Equity']\n",
    "#del df['SPY US Equity']\n",
    "x = df['SPY US Equity']\n",
    "\n",
    "reg = sm.OLS(y,x).fit()\n",
    "reg.params"
   ]
  },
  {
   "cell_type": "code",
   "execution_count": 20,
   "metadata": {},
   "outputs": [
    {
     "data": {
      "text/html": [
       "<div>\n",
       "<style scoped>\n",
       "    .dataframe tbody tr th:only-of-type {\n",
       "        vertical-align: middle;\n",
       "    }\n",
       "\n",
       "    .dataframe tbody tr th {\n",
       "        vertical-align: top;\n",
       "    }\n",
       "\n",
       "    .dataframe thead th {\n",
       "        text-align: right;\n",
       "    }\n",
       "</style>\n",
       "<table border=\"1\" class=\"dataframe\">\n",
       "  <thead>\n",
       "    <tr style=\"text-align: right;\">\n",
       "      <th></th>\n",
       "      <th>mean</th>\n",
       "      <th>volatility</th>\n",
       "      <th>sharpe_ratio</th>\n",
       "    </tr>\n",
       "  </thead>\n",
       "  <tbody>\n",
       "    <tr>\n",
       "      <th>hedge</th>\n",
       "      <td>-0.09351</td>\n",
       "      <td>0.12581</td>\n",
       "      <td>-0.74326</td>\n",
       "    </tr>\n",
       "  </tbody>\n",
       "</table>\n",
       "</div>"
      ],
      "text/plain": [
       "          mean  volatility  sharpe_ratio\n",
       "hedge -0.09351     0.12581      -0.74326"
      ]
     },
     "execution_count": 20,
     "metadata": {},
     "output_type": "execute_result"
    }
   ],
   "source": [
    "df_hedge = df.copy()\n",
    "df_hedge['hedge'] = df['EEM US Equity'] - df['SPY US Equity'] * reg.params[0]\n",
    "mean_vol_sharpe(df_hedge, 12)[-1:]"
   ]
  },
  {
   "cell_type": "code",
   "execution_count": null,
   "metadata": {},
   "outputs": [],
   "source": [
    "#Rolling OLS\n",
    "\n",
    "model_60 = RollingOLS(y, X, window=60)\n",
    "model_60_beta = model_60.fit().params.copy()\n",
    "model_60.fit().params.tail(5)"
   ]
  },
  {
   "cell_type": "code",
   "execution_count": null,
   "metadata": {},
   "outputs": [],
   "source": [
    "is_replication = (model_60_beta * X).sum(axis=1, skipna=False)\n",
    "out_replication = (model_60_beta.shift(1) * X).sum(axis=1, skipna=False)\n",
    "\n",
    "rep_df = pd.DataFrame({'in_sample': is_replication, 'out_sample': out_replication, 'HFRIFWI Index': y, 'static':reg.fittedvalues})\n",
    "rep_df.corr()"
   ]
  },
  {
   "cell_type": "code",
   "execution_count": 32,
   "metadata": {},
   "outputs": [],
   "source": [
    "def prob_calc(h, tilde_mu, tilde_sigma):\n",
    "    return stats.norm.cdf(- np.sqrt(h) * tilde_mu / tilde_sigma)\n",
    "\n",
    "def prob(h, tilde_mu, tilde_sigma):\n",
    "    prob_df = pd.DataFrame(data = h, columns = ['h'])\n",
    "    \n",
    "    prob_df['Probability'] = prob_calc(prob_df['h'], tilde_mu, tilde_sigma)\n",
    "    \n",
    "    prob_df = prob_df.set_index('h')\n",
    "    \n",
    "    return prob_df"
   ]
  },
  {
   "cell_type": "code",
   "execution_count": 47,
   "metadata": {},
   "outputs": [
    {
     "data": {
      "text/html": [
       "<div>\n",
       "<style scoped>\n",
       "    .dataframe tbody tr th:only-of-type {\n",
       "        vertical-align: middle;\n",
       "    }\n",
       "\n",
       "    .dataframe tbody tr th {\n",
       "        vertical-align: top;\n",
       "    }\n",
       "\n",
       "    .dataframe thead th {\n",
       "        text-align: right;\n",
       "    }\n",
       "</style>\n",
       "<table border=\"1\" class=\"dataframe\">\n",
       "  <thead>\n",
       "    <tr style=\"text-align: right;\">\n",
       "      <th></th>\n",
       "      <th>SPY US Equity</th>\n",
       "      <th>USGG3M Index</th>\n",
       "      <th>EEM US Equity</th>\n",
       "      <th>EFA US Equity</th>\n",
       "      <th>EUO US Equity</th>\n",
       "      <th>IWM US Equity</th>\n",
       "    </tr>\n",
       "    <tr>\n",
       "      <th>date</th>\n",
       "      <th></th>\n",
       "      <th></th>\n",
       "      <th></th>\n",
       "      <th></th>\n",
       "      <th></th>\n",
       "      <th></th>\n",
       "    </tr>\n",
       "  </thead>\n",
       "  <tbody>\n",
       "    <tr>\n",
       "      <th>2011-08-31</th>\n",
       "      <td>-0.05654</td>\n",
       "      <td>8.49996e-06</td>\n",
       "      <td>-0.09712</td>\n",
       "      <td>-0.09162</td>\n",
       "      <td>-0.00591</td>\n",
       "      <td>-0.09312</td>\n",
       "    </tr>\n",
       "    <tr>\n",
       "      <th>2011-09-30</th>\n",
       "      <td>-0.07198</td>\n",
       "      <td>1.69165e-05</td>\n",
       "      <td>-0.19731</td>\n",
       "      <td>-0.11438</td>\n",
       "      <td>0.13294</td>\n",
       "      <td>-0.11827</td>\n",
       "    </tr>\n",
       "    <tr>\n",
       "      <th>2011-10-31</th>\n",
       "      <td>0.10359</td>\n",
       "      <td>-1.26667e-05</td>\n",
       "      <td>0.15099</td>\n",
       "      <td>0.09192</td>\n",
       "      <td>-0.07204</td>\n",
       "      <td>0.14064</td>\n",
       "    </tr>\n",
       "  </tbody>\n",
       "</table>\n",
       "</div>"
      ],
      "text/plain": [
       "            SPY US Equity  USGG3M Index  EEM US Equity  EFA US Equity  \\\n",
       "date                                                                    \n",
       "2011-08-31       -0.05654   8.49996e-06       -0.09712       -0.09162   \n",
       "2011-09-30       -0.07198   1.69165e-05       -0.19731       -0.11438   \n",
       "2011-10-31        0.10359  -1.26667e-05        0.15099        0.09192   \n",
       "\n",
       "            EUO US Equity  IWM US Equity  \n",
       "date                                      \n",
       "2011-08-31       -0.00591       -0.09312  \n",
       "2011-09-30        0.13294       -0.11827  \n",
       "2011-10-31       -0.07204        0.14064  "
      ]
     },
     "execution_count": 47,
     "metadata": {},
     "output_type": "execute_result"
    }
   ],
   "source": [
    "dfn = pd.read_excel('proshares_analysis_data copy.xlsx',2, index_col=0)\n",
    "dfn_log = np.log(1+dfn)\n",
    "dfn_log.head(3)"
   ]
  },
  {
   "cell_type": "code",
   "execution_count": 48,
   "metadata": {},
   "outputs": [
    {
     "data": {
      "text/html": [
       "<div>\n",
       "<style scoped>\n",
       "    .dataframe tbody tr th:only-of-type {\n",
       "        vertical-align: middle;\n",
       "    }\n",
       "\n",
       "    .dataframe tbody tr th {\n",
       "        vertical-align: top;\n",
       "    }\n",
       "\n",
       "    .dataframe thead th {\n",
       "        text-align: right;\n",
       "    }\n",
       "</style>\n",
       "<table border=\"1\" class=\"dataframe\">\n",
       "  <thead>\n",
       "    <tr style=\"text-align: right;\">\n",
       "      <th></th>\n",
       "      <th>Probability</th>\n",
       "    </tr>\n",
       "    <tr>\n",
       "      <th>h</th>\n",
       "      <th></th>\n",
       "    </tr>\n",
       "  </thead>\n",
       "  <tbody>\n",
       "    <tr>\n",
       "      <th>10</th>\n",
       "      <td>0.99962</td>\n",
       "    </tr>\n",
       "  </tbody>\n",
       "</table>\n",
       "</div>"
      ],
      "text/plain": [
       "    Probability\n",
       "h              \n",
       "10      0.99962"
      ]
     },
     "execution_count": 48,
     "metadata": {},
     "output_type": "execute_result"
    }
   ],
   "source": [
    "dfn['diff'] = dfn['SPY US Equity'] - dfn['EFA US Equity']\n",
    "mu_tilde = dfn['diff'].mean()*12\n",
    "sig_tilde = dfn['diff'].std()*np.sqrt(12)\n",
    "\n",
    "1-prob([10], mu_tilde, sig_tilde)"
   ]
  },
  {
   "cell_type": "code",
   "execution_count": 50,
   "metadata": {},
   "outputs": [
    {
     "data": {
      "text/plain": [
       "-0.09783869148216545"
      ]
     },
     "execution_count": 50,
     "metadata": {},
     "output_type": "execute_result"
    }
   ],
   "source": [
    "\n",
    "sigma_rolling = dfn_log['EFA US Equity'].dropna().rolling(60).std()\n",
    "latest_sigma = sigma_rolling[-1]\n",
    "var_estimate = -2.33 * latest_sigma\n",
    "var_estimate"
   ]
  },
  {
   "cell_type": "markdown",
   "metadata": {},
   "source": [
    "## TIMESERIES TEST"
   ]
  },
  {
   "cell_type": "code",
   "execution_count": 2,
   "metadata": {},
   "outputs": [],
   "source": [
    "def ts_test(df, factor_df, factors, constant = True,annualization=12):\n",
    "    res = pd.DataFrame(data = None, index = df.columns, columns = ['alpha','f_1','f_2', 'r_2', 'treynor', 'info'])\n",
    "    \n",
    "    for port in df.columns:\n",
    "        y = df[port]\n",
    "        if constant:\n",
    "            X = sm.add_constant(factor_df[factors])\n",
    "        else:\n",
    "            X = factor_df[factors]\n",
    "        model = sm.OLS(y, X).fit()\n",
    "        \n",
    "        if constant:\n",
    "            beta = model.params[1:]\n",
    "            alpha = model.params[0] * annualization\n",
    "            information_ratio = model.params[0] * np.sqrt(annualization) / model.resid.std()\n",
    "        else:\n",
    "            beta = model.params\n",
    "    \n",
    "        treynor = df[port].mean() * annualization / beta[0]\n",
    "        tracking_error = model.resid.std() * np.sqrt(annualization)\n",
    "        if constant:\n",
    "            res.loc[port] = [alpha, model.params[1], model.params[2], model.rsquared, treynor, information_ratio]\n",
    "        else:\n",
    "            res.loc[port] = [None, model.params[0], model.params[1], model.rsquared, treynor, None]\n",
    "    return res\n",
    "\n",
    "#df is the asset portfolios which we are regressing\n",
    "#factor_df is the factor data\n",
    "#intercept is whether we want to include an intercept in the regression"
   ]
  },
  {
   "cell_type": "markdown",
   "metadata": {},
   "source": [
    "### FACTOR PREMIA IS JUST THE MEAN OF THE FACTOR(S)"
   ]
  },
  {
   "cell_type": "code",
   "execution_count": 4,
   "metadata": {},
   "outputs": [],
   "source": [
    "#Calculate mean, standard deviation and sharpe ratio\n",
    "def mean_vol_sharpe(df,ann=12):\n",
    "    mean = df.mean() * ann\n",
    "    volatility = df.std() * np.sqrt(ann)\n",
    "    sharpe_ratio = mean/volatility\n",
    "    return pd.DataFrame({'mean': mean, 'volatility': volatility, 'sharpe_ratio': sharpe_ratio})\n",
    "\n",
    "# mean_vol_sharpe(df).iloc[:,0]"
   ]
  },
  {
   "cell_type": "markdown",
   "metadata": {},
   "source": [
    "### MAE"
   ]
  },
  {
   "cell_type": "code",
   "execution_count": 6,
   "metadata": {},
   "outputs": [],
   "source": [
    "#round(df_ts['alpha'].abs().mean(),5)"
   ]
  },
  {
   "cell_type": "markdown",
   "metadata": {},
   "source": [
    "## Timeseries PREMIUM FROM THE MODEL"
   ]
  },
  {
   "cell_type": "code",
   "execution_count": 7,
   "metadata": {},
   "outputs": [],
   "source": [
    "#factor_mean = mean_vol_sharpe(df).iloc[:,0]\n",
    "#df_ts astype float\n",
    "\n",
    "#df_ts is the asset portfolios which we are regressing\n",
    "#factor_df is the factor data\n",
    "def ts_premia(df_ts, factor_mean):\n",
    "    #multiply factor premium row wise to each f_1 an f_2 in factor and sum\n",
    "    premia = pd.DataFrame(data = None, index = df_ts.index, columns = ['TS Premia'])\n",
    "    for row in df_ts.index:\n",
    "        a = df_ts.loc[row, 'f_1']* factor_mean[0]\n",
    "        b = df_ts.loc[row, 'f_2']* factor_mean[1]\n",
    "        premia.loc[row] = a + b\n",
    "        \n",
    "    return premia"
   ]
  },
  {
   "cell_type": "markdown",
   "metadata": {},
   "source": [
    "# Cross sectional regression dont use"
   ]
  },
  {
   "cell_type": "code",
   "execution_count": null,
   "metadata": {},
   "outputs": [],
   "source": [
    "# def ts_betas(df, factor_df, factors, intercept=False):\n",
    "#     if intercept == True:\n",
    "#         res = pd.DataFrame(data = None, index = df.columns, columns = ['alpha'])\n",
    "#         res[factors] = None\n",
    "#     else:\n",
    "#         res = pd.DataFrame(data = None, index = df.columns, columns = factors)\n",
    "    \n",
    "#     for port in df.columns:\n",
    "#         y = df[port]\n",
    "#         if intercept == True:\n",
    "#             X = sm.add_constant(factor_df[factors])\n",
    "#         else:\n",
    "#             X = factor_df[factors]\n",
    "#         model = sm.OLS(y, X).fit()\n",
    "#         res.loc[port] = model.params\n",
    "\n",
    "#     return res\n",
    "\n",
    "# def cross_section(df, factor_df, factors, ts_int=True, annualization=12):\n",
    "#     betas = ts_betas(df, factor_df, factors, intercept=ts_int)\n",
    "#     res = pd.DataFrame(data = None, index = betas.index, columns = factors)\n",
    "#     res['Predicted'] = None\n",
    "#     res['Actual'] = None\n",
    "    \n",
    "#     for port in res.index:\n",
    "#         res.loc[port, factors] = betas.loc[port]\n",
    "#         prem = (betas.loc[port] * factor_df[factors]).sum(axis=1).mean() * annualization\n",
    "#         res.loc[port,['Predicted','Actual']] = prem, df[port].mean() * annualization\n",
    "    \n",
    "#     return res\n",
    "\n",
    "# def cross_premia(df_cs, factors):\n",
    "#     y = df_cs['Actual'].astype(float)\n",
    "#     X = df_cs[factors].astype(float)\n",
    "\n",
    "#     return sm.OLS(y,X).fit().params.to_frame('CS Premia')\n",
    "\n",
    "# def cross_premia_mae(df_cs, factors, model):\n",
    "#     y = df_cs['Actual'].astype(float)\n",
    "#     X = df_cs[factors].astype(float)\n",
    "\n",
    "#     return str(round(sm.OLS(y,X).fit().resid.abs().mean(), 4))"
   ]
  },
  {
   "cell_type": "markdown",
   "metadata": {},
   "source": [
    "## Cross Sectional Regression for Means"
   ]
  },
  {
   "cell_type": "code",
   "execution_count": 2,
   "metadata": {},
   "outputs": [],
   "source": [
    "def cross_regression(asset_df, factors_df, factors, intercept=True, annualization=12):\n",
    "    \n",
    "    res = pd.DataFrame(data = None, index = factors, columns = ['cs_premia'])\n",
    "    \n",
    "    factors_df = factors_df.iloc[:,1:(len(factors)+1)]\n",
    "    \n",
    "    y = asset_df.mean() * annualization\n",
    "    if intercept == True:\n",
    "        X = sm.add_constant(factors_df[factors].astype(float))\n",
    "    else:\n",
    "        X = factors_df[factors].astype(float)\n",
    "    model = sm.OLS(y, X).fit()\n",
    "    if intercept:\n",
    "        alpha = model.params[0]\n",
    "        mae = model.resid.abs().mean()\n",
    "        for i in range(len(factors)):\n",
    "            res.loc[factors[i]] = model.params[i+1]\n",
    "        predicted_premia = pd.DataFrame(model.resid.abs(), columns=['predicted_premia'])\n",
    "    else:\n",
    "        alpha = None\n",
    "        mae = model.resid.abs().mean()\n",
    "        for i in range(len(factors)):\n",
    "            res.loc[factors[i]] = model.params[i]\n",
    "        predicted_premia = pd.DataFrame(model.resid.abs(), columns=['predicted_premia'])\n",
    "    \n",
    "    if intercept:\n",
    "        return predicted_premia,res, f'r-squared = {round(model.rsquared, 4)}', f'alpha = {round(alpha, 4)}', f'mae = {round(mae, 4)}'\n",
    "    else:\n",
    "        return predicted_premia,res, f'r-squared = {round(model.rsquared, 4)}', f'mae = {round(mae, 4)}'"
   ]
  },
  {
   "cell_type": "code",
   "execution_count": null,
   "metadata": {},
   "outputs": [],
   "source": [
    "aqr1 = ['f_1','f_2','f_3','f_4']\n",
    "#predicted_premia,cs_premia,r2,mae = cross_regression(portfolios,aqr_test,aqr1,intercept=False)\n",
    "#predicted_premia,cs_premia,r2,alpha,mae = cross_regression(portfolios,aqr_test,aqr1,intercept=True)\n"
   ]
  }
 ],
 "metadata": {
  "kernelspec": {
   "display_name": "Python 3.9.7 ('base')",
   "language": "python",
   "name": "python3"
  },
  "language_info": {
   "codemirror_mode": {
    "name": "ipython",
    "version": 3
   },
   "file_extension": ".py",
   "mimetype": "text/x-python",
   "name": "python",
   "nbconvert_exporter": "python",
   "pygments_lexer": "ipython3",
   "version": "3.9.7"
  },
  "orig_nbformat": 4,
  "vscode": {
   "interpreter": {
    "hash": "5e62c483ecf48ad4e1bb5f903abeb626d4ffc56eab47e05d9eff835eeb907be7"
   }
  }
 },
 "nbformat": 4,
 "nbformat_minor": 2
}
