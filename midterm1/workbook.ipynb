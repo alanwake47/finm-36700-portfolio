{
 "cells": [
  {
   "cell_type": "code",
   "execution_count": 1,
   "metadata": {},
   "outputs": [],
   "source": [
    "import pandas as pd\n",
    "import numpy as np\n",
    "import matplotlib.pyplot as plt\n",
    "import statsmodels.api as sm\n",
    "from arch import arch_model\n",
    "from arch.univariate import GARCH, EWMAVariance \n",
    "from sklearn import linear_model\n",
    "import scipy.stats as stats\n",
    "from statsmodels.regression.rolling import RollingOLS\n",
    "from sklearn.linear_model import LinearRegression\n",
    "import seaborn as sns\n",
    "import warnings\n",
    "from scipy.stats import norm\n",
    "warnings.filterwarnings(\"ignore\")\n",
    "pd.set_option(\"display.precision\", 5)"
   ]
  },
  {
   "cell_type": "markdown",
   "metadata": {},
   "source": [
    "#### Q1.1\n",
    "- No it is Not reasonable to use just the indivual Sharpe ratios or crypto v/s other assets. Since an optimal portfolio depends on the correlation and covariances across the different assets rather than individual asset volatilities or variances only. It would be much more beneficial to compare the correlations of Crypto across the existing asset classes to make this decision."
   ]
  },
  {
   "cell_type": "markdown",
   "metadata": {},
   "source": [
    "#### Q1.2\n",
    "- True, as the sigma or covariance matrix inversion is very fragile and leads to huge swings in the asset allocation (Betas) when the asset mean returns change by even a small amount."
   ]
  },
  {
   "cell_type": "markdown",
   "metadata": {},
   "source": [
    "#### Q1.3\n",
    "- We found that the historical VaR has a frequency (hit ratio) of around 3% for a 5% VaR. Thus our historical model overestimates VaR as the actual frequency is lower than our the 5% the we expect. The rolling window empirical VaR performed much better with a frequency of around 4.96% for a 5% VaR. Thus our rolling window empirical model is a better model for VaR estimation."
   ]
  },
  {
   "cell_type": "markdown",
   "metadata": {},
   "source": [
    "#### Q1.4\n",
    "What approach does Harvard take to getting more realistic weights? What is a problem with this approach?\n",
    "\n",
    "- Harvard uses a portfolio of diversified assets to create a portfolio using different constraints\n",
    "- First constraint was to use portfolio weights between 0 and 1, and the second constraint was to limit cash from -0.5 to 1.\n",
    "- Using MV optimization on such a portfolio is very sensitive to the means and covariances due to the full covariance matrix.\n",
    "- We observe computational difficulty as well as it could lead to poor Out of Sample results."
   ]
  },
  {
   "cell_type": "markdown",
   "metadata": {},
   "source": [
    "#### Q1.5\n",
    "What aspect of tools such as Ridge regression and LASSO regression are useful in mean- variance optimization? That is, what problem in the classic MV solution are they addressing?\n",
    "\n",
    "- Ridge regression and LASSO regression are useful in mean-variance optimization as they help in reducing the number of predictors in a regression model. These are regularization techniques that help in reducing the variance of the model by reducing the number of predictors.\n",
    "- The problem it is addressing is that of overfitting and the estimates variance increasing with the number of predictors."
   ]
  },
  {
   "cell_type": "markdown",
   "metadata": {},
   "source": [
    "#### Q1.6\n",
    "\n",
    "Consider three series: HFRIFWI, MLEIFCTR, and HDG.\n",
    "Explain how they differ. That is, why were we interested in all three with regard to hedge-fund replication?\n",
    "\n",
    "- We are interested in these three assets due to their distinct approach to model something very similar.\n",
    "- HFRIFWI is the HFRI Fund Weighted Index which is a market value weighted index of the HFRI Fund Weighted Composite Index. \n",
    "- MLEIFCTR is the HFRI Macro/CTA Index which is a market value weighted index of the HFRI Macro/CTA Composite Index.\n",
    "- HDG is the ProShares Hedge Replication ETF which is a market value weighted index of the HFRI Fund Weighted Composite Index.\n",
    "- We were interested in all three as they are all market value weighted indices of the HFRI Fund Weighted Composite Index. Thus we can compare the performance of the HFRI Fund Weighted Composite Index with the ProShares Hedge Replication ETF."
   ]
  },
  {
   "cell_type": "code",
   "execution_count": 6,
   "metadata": {},
   "outputs": [],
   "source": [
    "# $ \\omega_t $\n",
    "def tangency_portfolio(df, ann=12):\n",
    "    N = df.shape[1]\n",
    "    mu = df.mean() * ann #mean\n",
    "    sig = df.cov() * ann #covariance\n",
    "    sig_inv = np.linalg.inv(sig) #inverse of covariance\n",
    "    scaling = np.ones(N)@sig_inv@mu\n",
    "    om_t = (1/scaling) * sig_inv @ mu\n",
    "    \n",
    "    return om_t"
   ]
  },
  {
   "cell_type": "code",
   "execution_count": 7,
   "metadata": {},
   "outputs": [],
   "source": [
    "# $ \\omega_min_variance $\n",
    "def min_variance_portfolio(df, ann=12):\n",
    "    N = df.shape[1]\n",
    "    mu = df.mean() * ann #mean\n",
    "    sig = df.cov() * ann #covariance\n",
    "    sig_inv = np.linalg.inv(sig) #inverse of covariance\n",
    "    \n",
    "    scaling = np.ones(N) @ sig_inv @ np.ones(N)\n",
    "    omega_v = (1/scaling) * sig_inv @ np.ones(N)\n",
    "    \n",
    "    return omega_v"
   ]
  },
  {
   "cell_type": "code",
   "execution_count": 16,
   "metadata": {},
   "outputs": [],
   "source": [
    "def delta(df, ann=12, u_p=0.015):\n",
    "    \n",
    "    N = df.shape[1]\n",
    "    mu = df.mean() * ann #mean\n",
    "    sig = df.cov() * ann #covariance\n",
    "    sig_inv = np.linalg.inv(sig) #inverse of covariance\n",
    "    mu_p = u_p * ann\n",
    "    scaling = 1/ (np.ones(N)@sig_inv@np.ones(N).T)\n",
    "    mean_ret = df.mean() * ann\n",
    "    delta = (mu_p - mean_ret.T @ min_variance_portfolio(df))/(mean_ret.T @ tangency_portfolio(df) - mean_ret.T @ min_variance_portfolio(df))\n",
    "\n",
    "    omega = min_variance_portfolio(df) + delta*(tangency_portfolio(df) - min_variance_portfolio(df))\n",
    "    omega.T\n",
    "    \n",
    "    return omega"
   ]
  },
  {
   "cell_type": "code",
   "execution_count": 20,
   "metadata": {},
   "outputs": [],
   "source": [
    "def portfolio_stats(df, weights, ann=12):\n",
    "    N = df.shape[1]\n",
    "    mu = df.mean() * ann #mean\n",
    "    sig = df.cov() * ann #covariance\n",
    "    \n",
    "    mu_p = weights.T @ mu\n",
    "    sig_p = np.sqrt(weights.T @ sig @ weights)\n",
    "    sharpe_p = mu_p/sig_p\n",
    "    \n",
    "    print('Mean: ', mu_p, ',\\nVol: ', sig_p, ',\\nSharpe Ratio: ', sharpe_p)"
   ]
  },
  {
   "cell_type": "code",
   "execution_count": 23,
   "metadata": {},
   "outputs": [
    {
     "data": {
      "text/html": [
       "<div>\n",
       "<style scoped>\n",
       "    .dataframe tbody tr th:only-of-type {\n",
       "        vertical-align: middle;\n",
       "    }\n",
       "\n",
       "    .dataframe tbody tr th {\n",
       "        vertical-align: top;\n",
       "    }\n",
       "\n",
       "    .dataframe thead th {\n",
       "        text-align: right;\n",
       "    }\n",
       "</style>\n",
       "<table border=\"1\" class=\"dataframe\">\n",
       "  <thead>\n",
       "    <tr style=\"text-align: right;\">\n",
       "      <th></th>\n",
       "      <th>CL1</th>\n",
       "      <th>GC1</th>\n",
       "      <th>KC1</th>\n",
       "      <th>ES1</th>\n",
       "      <th>BP1</th>\n",
       "    </tr>\n",
       "    <tr>\n",
       "      <th>date</th>\n",
       "      <th></th>\n",
       "      <th></th>\n",
       "      <th></th>\n",
       "      <th></th>\n",
       "      <th></th>\n",
       "    </tr>\n",
       "  </thead>\n",
       "  <tbody>\n",
       "    <tr>\n",
       "      <th>2009-01-31</th>\n",
       "      <td>-0.11353</td>\n",
       "      <td>0.04863</td>\n",
       "      <td>0.06111</td>\n",
       "      <td>-0.08611</td>\n",
       "      <td>-0.00783</td>\n",
       "    </tr>\n",
       "    <tr>\n",
       "      <th>2009-02-28</th>\n",
       "      <td>0.04468</td>\n",
       "      <td>0.01519</td>\n",
       "      <td>-0.07948</td>\n",
       "      <td>-0.10729</td>\n",
       "      <td>-0.00831</td>\n",
       "    </tr>\n",
       "    <tr>\n",
       "      <th>2009-03-31</th>\n",
       "      <td>0.08789</td>\n",
       "      <td>-0.02111</td>\n",
       "      <td>0.03440</td>\n",
       "      <td>0.08721</td>\n",
       "      <td>0.00175</td>\n",
       "    </tr>\n",
       "  </tbody>\n",
       "</table>\n",
       "</div>"
      ],
      "text/plain": [
       "                CL1      GC1      KC1      ES1      BP1\n",
       "date                                                   \n",
       "2009-01-31 -0.11353  0.04863  0.06111 -0.08611 -0.00783\n",
       "2009-02-28  0.04468  0.01519 -0.07948 -0.10729 -0.00831\n",
       "2009-03-31  0.08789 -0.02111  0.03440  0.08721  0.00175"
      ]
     },
     "execution_count": 23,
     "metadata": {},
     "output_type": "execute_result"
    }
   ],
   "source": [
    "df = pd.read_excel('midterm_1.xlsx',0, index_col=0)\n",
    "df.head(3)"
   ]
  },
  {
   "cell_type": "markdown",
   "metadata": {},
   "source": [
    "### Q2.1"
   ]
  },
  {
   "cell_type": "code",
   "execution_count": 13,
   "metadata": {},
   "outputs": [
    {
     "data": {
      "text/html": [
       "<div>\n",
       "<style scoped>\n",
       "    .dataframe tbody tr th:only-of-type {\n",
       "        vertical-align: middle;\n",
       "    }\n",
       "\n",
       "    .dataframe tbody tr th {\n",
       "        vertical-align: top;\n",
       "    }\n",
       "\n",
       "    .dataframe thead th {\n",
       "        text-align: right;\n",
       "    }\n",
       "</style>\n",
       "<table border=\"1\" class=\"dataframe\">\n",
       "  <thead>\n",
       "    <tr style=\"text-align: right;\">\n",
       "      <th></th>\n",
       "      <th>omega_min_variance</th>\n",
       "    </tr>\n",
       "  </thead>\n",
       "  <tbody>\n",
       "    <tr>\n",
       "      <th>CL1</th>\n",
       "      <td>-0.03067</td>\n",
       "    </tr>\n",
       "    <tr>\n",
       "      <th>GC1</th>\n",
       "      <td>0.17911</td>\n",
       "    </tr>\n",
       "    <tr>\n",
       "      <th>KC1</th>\n",
       "      <td>-0.01064</td>\n",
       "    </tr>\n",
       "    <tr>\n",
       "      <th>ES1</th>\n",
       "      <td>0.09215</td>\n",
       "    </tr>\n",
       "    <tr>\n",
       "      <th>BP1</th>\n",
       "      <td>0.77005</td>\n",
       "    </tr>\n",
       "  </tbody>\n",
       "</table>\n",
       "</div>"
      ],
      "text/plain": [
       "     omega_min_variance\n",
       "CL1            -0.03067\n",
       "GC1             0.17911\n",
       "KC1            -0.01064\n",
       "ES1             0.09215\n",
       "BP1             0.77005"
      ]
     },
     "execution_count": 13,
     "metadata": {},
     "output_type": "execute_result"
    }
   ],
   "source": [
    "pd.DataFrame(min_variance_portfolio(df), index=df.columns, columns=['omega_min_variance'])"
   ]
  },
  {
   "cell_type": "code",
   "execution_count": 15,
   "metadata": {},
   "outputs": [
    {
     "data": {
      "text/html": [
       "<div>\n",
       "<style scoped>\n",
       "    .dataframe tbody tr th:only-of-type {\n",
       "        vertical-align: middle;\n",
       "    }\n",
       "\n",
       "    .dataframe tbody tr th {\n",
       "        vertical-align: top;\n",
       "    }\n",
       "\n",
       "    .dataframe thead th {\n",
       "        text-align: right;\n",
       "    }\n",
       "</style>\n",
       "<table border=\"1\" class=\"dataframe\">\n",
       "  <thead>\n",
       "    <tr style=\"text-align: right;\">\n",
       "      <th></th>\n",
       "      <th>omega_tangency</th>\n",
       "    </tr>\n",
       "  </thead>\n",
       "  <tbody>\n",
       "    <tr>\n",
       "      <th>CL1</th>\n",
       "      <td>-0.12812</td>\n",
       "    </tr>\n",
       "    <tr>\n",
       "      <th>GC1</th>\n",
       "      <td>1.19109</td>\n",
       "    </tr>\n",
       "    <tr>\n",
       "      <th>KC1</th>\n",
       "      <td>0.09781</td>\n",
       "    </tr>\n",
       "    <tr>\n",
       "      <th>ES1</th>\n",
       "      <td>4.22002</td>\n",
       "    </tr>\n",
       "    <tr>\n",
       "      <th>BP1</th>\n",
       "      <td>-4.38080</td>\n",
       "    </tr>\n",
       "  </tbody>\n",
       "</table>\n",
       "</div>"
      ],
      "text/plain": [
       "     omega_tangency\n",
       "CL1        -0.12812\n",
       "GC1         1.19109\n",
       "KC1         0.09781\n",
       "ES1         4.22002\n",
       "BP1        -4.38080"
      ]
     },
     "execution_count": 15,
     "metadata": {},
     "output_type": "execute_result"
    }
   ],
   "source": [
    "pd.DataFrame(tangency_portfolio(df), index=df.columns, columns=['omega_tangency'])"
   ]
  },
  {
   "cell_type": "markdown",
   "metadata": {},
   "source": [
    "### Q2.2"
   ]
  },
  {
   "cell_type": "markdown",
   "metadata": {},
   "source": [
    "#### Omega Star"
   ]
  },
  {
   "cell_type": "code",
   "execution_count": 19,
   "metadata": {},
   "outputs": [
    {
     "data": {
      "text/html": [
       "<div>\n",
       "<style scoped>\n",
       "    .dataframe tbody tr th:only-of-type {\n",
       "        vertical-align: middle;\n",
       "    }\n",
       "\n",
       "    .dataframe tbody tr th {\n",
       "        vertical-align: top;\n",
       "    }\n",
       "\n",
       "    .dataframe thead th {\n",
       "        text-align: right;\n",
       "    }\n",
       "</style>\n",
       "<table border=\"1\" class=\"dataframe\">\n",
       "  <thead>\n",
       "    <tr style=\"text-align: right;\">\n",
       "      <th></th>\n",
       "      <th>omega_star</th>\n",
       "    </tr>\n",
       "  </thead>\n",
       "  <tbody>\n",
       "    <tr>\n",
       "      <th>CL1</th>\n",
       "      <td>-0.05968</td>\n",
       "    </tr>\n",
       "    <tr>\n",
       "      <th>GC1</th>\n",
       "      <td>0.48031</td>\n",
       "    </tr>\n",
       "    <tr>\n",
       "      <th>KC1</th>\n",
       "      <td>0.02164</td>\n",
       "    </tr>\n",
       "    <tr>\n",
       "      <th>ES1</th>\n",
       "      <td>1.32073</td>\n",
       "    </tr>\n",
       "    <tr>\n",
       "      <th>BP1</th>\n",
       "      <td>-0.76300</td>\n",
       "    </tr>\n",
       "  </tbody>\n",
       "</table>\n",
       "</div>"
      ],
      "text/plain": [
       "     omega_star\n",
       "CL1    -0.05968\n",
       "GC1     0.48031\n",
       "KC1     0.02164\n",
       "ES1     1.32073\n",
       "BP1    -0.76300"
      ]
     },
     "execution_count": 19,
     "metadata": {},
     "output_type": "execute_result"
    }
   ],
   "source": [
    "pd.DataFrame(delta(df, u_p=0.2/12, ann=12), index=df.columns, columns=['omega_star'])"
   ]
  },
  {
   "cell_type": "markdown",
   "metadata": {},
   "source": [
    "#### Volatility of Omega_star portfolio"
   ]
  },
  {
   "cell_type": "code",
   "execution_count": 21,
   "metadata": {},
   "outputs": [
    {
     "name": "stdout",
     "output_type": "stream",
     "text": [
      "Mean:  0.19999999999999998 ,\n",
      "Vol:  0.19046134804934697 ,\n",
      "Sharpe Ratio:  1.0500818252540227\n"
     ]
    }
   ],
   "source": [
    "portfolio_stats(df, delta(df, u_p=0.2/12, ann=12))"
   ]
  },
  {
   "cell_type": "markdown",
   "metadata": {},
   "source": [
    "### Q2.3\n",
    "Suppose we re-did this problem assuming the existence of a risk-free rate. Would the solution with mean return of 0.20 be guaranteed to have less than or equal volatility as the solution above, where we did not have a risk-free rate? Why?"
   ]
  },
  {
   "cell_type": "markdown",
   "metadata": {},
   "source": [
    "- When we have a risk free rate as part of the problem, the solution with a mean return of 0.20 would not be guaranteed to have less than or equal volatility as the solution above. This is because the risk free rate would be added to the mean return of the portfolio and thus the mean return of the portfolio would be higher than the mean return of the portfolio without the risk free rate. Thus the solution with the risk free rate would have a higher volatility than the solution without the risk free rate."
   ]
  },
  {
   "cell_type": "markdown",
   "metadata": {},
   "source": [
    "# Question 3"
   ]
  },
  {
   "cell_type": "code",
   "execution_count": 40,
   "metadata": {},
   "outputs": [],
   "source": [
    "#Calculate mean, standard deviation and sharpe ratio\n",
    "def mean_vol_sharpe(df,ann=12):\n",
    "    mean = df.mean() * ann\n",
    "    volatility = df.std() * np.sqrt(ann)\n",
    "    sharpe_ratio = mean/volatility\n",
    "    return pd.DataFrame({'mean': mean, 'volatility': volatility, 'sharpe_ratio': sharpe_ratio})"
   ]
  },
  {
   "cell_type": "code",
   "execution_count": 24,
   "metadata": {},
   "outputs": [
    {
     "data": {
      "text/html": [
       "<div>\n",
       "<style scoped>\n",
       "    .dataframe tbody tr th:only-of-type {\n",
       "        vertical-align: middle;\n",
       "    }\n",
       "\n",
       "    .dataframe tbody tr th {\n",
       "        vertical-align: top;\n",
       "    }\n",
       "\n",
       "    .dataframe thead th {\n",
       "        text-align: right;\n",
       "    }\n",
       "</style>\n",
       "<table border=\"1\" class=\"dataframe\">\n",
       "  <thead>\n",
       "    <tr style=\"text-align: right;\">\n",
       "      <th></th>\n",
       "      <th>CL1</th>\n",
       "      <th>GC1</th>\n",
       "      <th>KC1</th>\n",
       "      <th>ES1</th>\n",
       "      <th>BP1</th>\n",
       "    </tr>\n",
       "    <tr>\n",
       "      <th>date</th>\n",
       "      <th></th>\n",
       "      <th></th>\n",
       "      <th></th>\n",
       "      <th></th>\n",
       "      <th></th>\n",
       "    </tr>\n",
       "  </thead>\n",
       "  <tbody>\n",
       "    <tr>\n",
       "      <th>2009-01-31</th>\n",
       "      <td>-0.11353</td>\n",
       "      <td>0.04863</td>\n",
       "      <td>0.06111</td>\n",
       "      <td>-0.08611</td>\n",
       "      <td>-0.00783</td>\n",
       "    </tr>\n",
       "    <tr>\n",
       "      <th>2009-02-28</th>\n",
       "      <td>0.04468</td>\n",
       "      <td>0.01519</td>\n",
       "      <td>-0.07948</td>\n",
       "      <td>-0.10729</td>\n",
       "      <td>-0.00831</td>\n",
       "    </tr>\n",
       "  </tbody>\n",
       "</table>\n",
       "</div>"
      ],
      "text/plain": [
       "                CL1      GC1      KC1      ES1      BP1\n",
       "date                                                   \n",
       "2009-01-31 -0.11353  0.04863  0.06111 -0.08611 -0.00783\n",
       "2009-02-28  0.04468  0.01519 -0.07948 -0.10729 -0.00831"
      ]
     },
     "execution_count": 24,
     "metadata": {},
     "output_type": "execute_result"
    }
   ],
   "source": [
    "df.head(2)"
   ]
  },
  {
   "cell_type": "code",
   "execution_count": 29,
   "metadata": {},
   "outputs": [
    {
     "data": {
      "text/html": [
       "<div>\n",
       "<style scoped>\n",
       "    .dataframe tbody tr th:only-of-type {\n",
       "        vertical-align: middle;\n",
       "    }\n",
       "\n",
       "    .dataframe tbody tr th {\n",
       "        vertical-align: top;\n",
       "    }\n",
       "\n",
       "    .dataframe thead th {\n",
       "        text-align: right;\n",
       "    }\n",
       "</style>\n",
       "<table border=\"1\" class=\"dataframe\">\n",
       "  <thead>\n",
       "    <tr style=\"text-align: right;\">\n",
       "      <th></th>\n",
       "      <th>const</th>\n",
       "      <th>BP1</th>\n",
       "    </tr>\n",
       "    <tr>\n",
       "      <th>date</th>\n",
       "      <th></th>\n",
       "      <th></th>\n",
       "    </tr>\n",
       "  </thead>\n",
       "  <tbody>\n",
       "    <tr>\n",
       "      <th>2022-02-28</th>\n",
       "      <td>0.01366</td>\n",
       "      <td>1.17889</td>\n",
       "    </tr>\n",
       "    <tr>\n",
       "      <th>2022-03-31</th>\n",
       "      <td>0.01443</td>\n",
       "      <td>1.14417</td>\n",
       "    </tr>\n",
       "    <tr>\n",
       "      <th>2022-04-30</th>\n",
       "      <td>0.01227</td>\n",
       "      <td>1.24756</td>\n",
       "    </tr>\n",
       "    <tr>\n",
       "      <th>2022-05-31</th>\n",
       "      <td>0.01301</td>\n",
       "      <td>1.18659</td>\n",
       "    </tr>\n",
       "    <tr>\n",
       "      <th>2022-06-30</th>\n",
       "      <td>0.01019</td>\n",
       "      <td>1.25176</td>\n",
       "    </tr>\n",
       "  </tbody>\n",
       "</table>\n",
       "</div>"
      ],
      "text/plain": [
       "              const      BP1\n",
       "date                        \n",
       "2022-02-28  0.01366  1.17889\n",
       "2022-03-31  0.01443  1.14417\n",
       "2022-04-30  0.01227  1.24756\n",
       "2022-05-31  0.01301  1.18659\n",
       "2022-06-30  0.01019  1.25176"
      ]
     },
     "execution_count": 29,
     "metadata": {},
     "output_type": "execute_result"
    }
   ],
   "source": [
    "y = df['ES1']\n",
    "x = sm.add_constant(df['BP1'])\n",
    "reg = RollingOLS(y, x, window=36)\n",
    "reg_beta = reg.fit().params\n",
    "reg_beta.tail(5)"
   ]
  },
  {
   "cell_type": "code",
   "execution_count": 34,
   "metadata": {},
   "outputs": [
    {
     "data": {
      "text/html": [
       "<div>\n",
       "<style scoped>\n",
       "    .dataframe tbody tr th:only-of-type {\n",
       "        vertical-align: middle;\n",
       "    }\n",
       "\n",
       "    .dataframe tbody tr th {\n",
       "        vertical-align: top;\n",
       "    }\n",
       "\n",
       "    .dataframe thead th {\n",
       "        text-align: right;\n",
       "    }\n",
       "</style>\n",
       "<table border=\"1\" class=\"dataframe\">\n",
       "  <thead>\n",
       "    <tr style=\"text-align: right;\">\n",
       "      <th></th>\n",
       "      <th>CL1</th>\n",
       "      <th>GC1</th>\n",
       "      <th>KC1</th>\n",
       "      <th>ES1</th>\n",
       "      <th>BP1</th>\n",
       "      <th>beta</th>\n",
       "      <th>const</th>\n",
       "      <th>replication</th>\n",
       "    </tr>\n",
       "    <tr>\n",
       "      <th>date</th>\n",
       "      <th></th>\n",
       "      <th></th>\n",
       "      <th></th>\n",
       "      <th></th>\n",
       "      <th></th>\n",
       "      <th></th>\n",
       "      <th></th>\n",
       "      <th></th>\n",
       "    </tr>\n",
       "  </thead>\n",
       "  <tbody>\n",
       "    <tr>\n",
       "      <th>2011-12-31</th>\n",
       "      <td>-0.01548</td>\n",
       "      <td>-0.10484</td>\n",
       "      <td>-0.04244</td>\n",
       "      <td>0.01008</td>\n",
       "      <td>-0.01255</td>\n",
       "      <td>0.85083</td>\n",
       "      <td>0.01035</td>\n",
       "      <td>-0.00033</td>\n",
       "    </tr>\n",
       "    <tr>\n",
       "      <th>2012-01-31</th>\n",
       "      <td>-0.00222</td>\n",
       "      <td>0.10914</td>\n",
       "      <td>-0.05202</td>\n",
       "      <td>0.04451</td>\n",
       "      <td>0.01606</td>\n",
       "      <td>0.82804</td>\n",
       "      <td>0.01347</td>\n",
       "      <td>0.02678</td>\n",
       "    </tr>\n",
       "    <tr>\n",
       "      <th>2012-02-29</th>\n",
       "      <td>0.08306</td>\n",
       "      <td>-0.01672</td>\n",
       "      <td>-0.05532</td>\n",
       "      <td>0.04299</td>\n",
       "      <td>0.01079</td>\n",
       "      <td>0.78887</td>\n",
       "      <td>0.01734</td>\n",
       "      <td>0.02586</td>\n",
       "    </tr>\n",
       "    <tr>\n",
       "      <th>2012-03-31</th>\n",
       "      <td>-0.04203</td>\n",
       "      <td>-0.02454</td>\n",
       "      <td>-0.10234</td>\n",
       "      <td>0.03294</td>\n",
       "      <td>0.00433</td>\n",
       "      <td>0.79307</td>\n",
       "      <td>0.01576</td>\n",
       "      <td>0.01920</td>\n",
       "    </tr>\n",
       "    <tr>\n",
       "      <th>2012-04-30</th>\n",
       "      <td>0.00984</td>\n",
       "      <td>-0.00461</td>\n",
       "      <td>-0.02466</td>\n",
       "      <td>-0.00695</td>\n",
       "      <td>0.01507</td>\n",
       "      <td>0.72454</td>\n",
       "      <td>0.01353</td>\n",
       "      <td>0.02445</td>\n",
       "    </tr>\n",
       "  </tbody>\n",
       "</table>\n",
       "</div>"
      ],
      "text/plain": [
       "                CL1      GC1      KC1      ES1      BP1     beta    const  \\\n",
       "date                                                                        \n",
       "2011-12-31 -0.01548 -0.10484 -0.04244  0.01008 -0.01255  0.85083  0.01035   \n",
       "2012-01-31 -0.00222  0.10914 -0.05202  0.04451  0.01606  0.82804  0.01347   \n",
       "2012-02-29  0.08306 -0.01672 -0.05532  0.04299  0.01079  0.78887  0.01734   \n",
       "2012-03-31 -0.04203 -0.02454 -0.10234  0.03294  0.00433  0.79307  0.01576   \n",
       "2012-04-30  0.00984 -0.00461 -0.02466 -0.00695  0.01507  0.72454  0.01353   \n",
       "\n",
       "            replication  \n",
       "date                     \n",
       "2011-12-31     -0.00033  \n",
       "2012-01-31      0.02678  \n",
       "2012-02-29      0.02586  \n",
       "2012-03-31      0.01920  \n",
       "2012-04-30      0.02445  "
      ]
     },
     "execution_count": 34,
     "metadata": {},
     "output_type": "execute_result"
    }
   ],
   "source": [
    "df_reg = df.copy()\n",
    "df_reg['beta'] = reg_beta['BP1']\n",
    "df_reg['const'] = reg_beta['const']\n",
    "df_reg.dropna(inplace=True)\n",
    "df_reg['replication'] = df_reg['beta']*df_reg['BP1'] + df_reg['const']\n",
    "df_reg.head(5)"
   ]
  },
  {
   "cell_type": "code",
   "execution_count": 35,
   "metadata": {},
   "outputs": [
    {
     "data": {
      "text/plain": [
       "<AxesSubplot:xlabel='date'>"
      ]
     },
     "execution_count": 35,
     "metadata": {},
     "output_type": "execute_result"
    },
    {
     "data": {
      "image/png": "[encoded data removed]",
      "text/plain": [
       "<Figure size 720x360 with 1 Axes>"
      ]
     },
     "metadata": {
      "needs_background": "light"
     },
     "output_type": "display_data"
    }
   ],
   "source": [
    "df_reg.plot(y=['ES1', 'replication'], figsize=(10,5))"
   ]
  },
  {
   "cell_type": "code",
   "execution_count": 36,
   "metadata": {},
   "outputs": [],
   "source": [
    "r_star = df_reg['replication']"
   ]
  },
  {
   "cell_type": "markdown",
   "metadata": {},
   "source": [
    "### Q3.1"
   ]
  },
  {
   "cell_type": "code",
   "execution_count": 37,
   "metadata": {},
   "outputs": [
    {
     "data": {
      "text/html": [
       "<div>\n",
       "<style scoped>\n",
       "    .dataframe tbody tr th:only-of-type {\n",
       "        vertical-align: middle;\n",
       "    }\n",
       "\n",
       "    .dataframe tbody tr th {\n",
       "        vertical-align: top;\n",
       "    }\n",
       "\n",
       "    .dataframe thead th {\n",
       "        text-align: right;\n",
       "    }\n",
       "</style>\n",
       "<table border=\"1\" class=\"dataframe\">\n",
       "  <thead>\n",
       "    <tr style=\"text-align: right;\">\n",
       "      <th></th>\n",
       "      <th>const</th>\n",
       "      <th>BP1</th>\n",
       "    </tr>\n",
       "    <tr>\n",
       "      <th>date</th>\n",
       "      <th></th>\n",
       "      <th></th>\n",
       "    </tr>\n",
       "  </thead>\n",
       "  <tbody>\n",
       "    <tr>\n",
       "      <th>2022-02-28</th>\n",
       "      <td>0.01366</td>\n",
       "      <td>1.17889</td>\n",
       "    </tr>\n",
       "    <tr>\n",
       "      <th>2022-03-31</th>\n",
       "      <td>0.01443</td>\n",
       "      <td>1.14417</td>\n",
       "    </tr>\n",
       "    <tr>\n",
       "      <th>2022-04-30</th>\n",
       "      <td>0.01227</td>\n",
       "      <td>1.24756</td>\n",
       "    </tr>\n",
       "    <tr>\n",
       "      <th>2022-05-31</th>\n",
       "      <td>0.01301</td>\n",
       "      <td>1.18659</td>\n",
       "    </tr>\n",
       "    <tr>\n",
       "      <th>2022-06-30</th>\n",
       "      <td>0.01019</td>\n",
       "      <td>1.25176</td>\n",
       "    </tr>\n",
       "  </tbody>\n",
       "</table>\n",
       "</div>"
      ],
      "text/plain": [
       "              const      BP1\n",
       "date                        \n",
       "2022-02-28  0.01366  1.17889\n",
       "2022-03-31  0.01443  1.14417\n",
       "2022-04-30  0.01227  1.24756\n",
       "2022-05-31  0.01301  1.18659\n",
       "2022-06-30  0.01019  1.25176"
      ]
     },
     "execution_count": 37,
     "metadata": {},
     "output_type": "execute_result"
    }
   ],
   "source": [
    "reg_beta.tail(5)"
   ]
  },
  {
   "cell_type": "markdown",
   "metadata": {},
   "source": [
    "### Q3.2"
   ]
  },
  {
   "cell_type": "code",
   "execution_count": 39,
   "metadata": {},
   "outputs": [
    {
     "data": {
      "text/plain": [
       "date\n",
       "2022-02-28    0.01015\n",
       "2022-03-31   -0.00979\n",
       "2022-04-30   -0.03827\n",
       "2022-05-31    0.01357\n",
       "2022-06-30   -0.03013\n",
       "Name: replication, dtype: float64"
      ]
     },
     "execution_count": 39,
     "metadata": {},
     "output_type": "execute_result"
    }
   ],
   "source": [
    "df_reg['replication'].tail(5)"
   ]
  },
  {
   "cell_type": "markdown",
   "metadata": {},
   "source": [
    "### Q3.3"
   ]
  },
  {
   "cell_type": "code",
   "execution_count": 49,
   "metadata": {},
   "outputs": [
    {
     "data": {
      "text/html": [
       "<div>\n",
       "<style scoped>\n",
       "    .dataframe tbody tr th:only-of-type {\n",
       "        vertical-align: middle;\n",
       "    }\n",
       "\n",
       "    .dataframe tbody tr th {\n",
       "        vertical-align: top;\n",
       "    }\n",
       "\n",
       "    .dataframe thead th {\n",
       "        text-align: right;\n",
       "    }\n",
       "</style>\n",
       "<table border=\"1\" class=\"dataframe\">\n",
       "  <thead>\n",
       "    <tr style=\"text-align: right;\">\n",
       "      <th></th>\n",
       "      <th>mean</th>\n",
       "      <th>volatility</th>\n",
       "      <th>sharpe_ratio</th>\n",
       "    </tr>\n",
       "  </thead>\n",
       "  <tbody>\n",
       "    <tr>\n",
       "      <th>ES1</th>\n",
       "      <td>0.12422</td>\n",
       "      <td>0.13812</td>\n",
       "      <td>0.89931</td>\n",
       "    </tr>\n",
       "    <tr>\n",
       "      <th>replication</th>\n",
       "      <td>0.12633</td>\n",
       "      <td>0.06255</td>\n",
       "      <td>2.01983</td>\n",
       "    </tr>\n",
       "  </tbody>\n",
       "</table>\n",
       "</div>"
      ],
      "text/plain": [
       "                mean  volatility  sharpe_ratio\n",
       "ES1          0.12422     0.13812       0.89931\n",
       "replication  0.12633     0.06255       2.01983"
      ]
     },
     "execution_count": 49,
     "metadata": {},
     "output_type": "execute_result"
    }
   ],
   "source": [
    "mean_vol_sharpe(df_reg[['ES1', 'replication']], ann=12)"
   ]
  },
  {
   "cell_type": "markdown",
   "metadata": {},
   "source": [
    "### Q3.4"
   ]
  },
  {
   "cell_type": "code",
   "execution_count": 47,
   "metadata": {},
   "outputs": [
    {
     "name": "stdout",
     "output_type": "stream",
     "text": [
      "The correlation between ES1 and replication is:\n",
      "52.1 %\n"
     ]
    }
   ],
   "source": [
    "print(\"The correlation between ES1 and replication is:\")\n",
    "print(round(df_reg['ES1'].corr(df_reg['replication']),4)*100, '%')"
   ]
  },
  {
   "cell_type": "markdown",
   "metadata": {},
   "source": [
    "# Question 4"
   ]
  },
  {
   "cell_type": "code",
   "execution_count": 54,
   "metadata": {},
   "outputs": [],
   "source": [
    "def risk_stats(data, q=0.05):\n",
    "    df = data.copy()\n",
    "    df.index = data.index.date\n",
    "    report = pd.DataFrame(columns = df.columns)\n",
    "    \n",
    "    report.loc['Skewness'] = df.skew()\n",
    "    report.loc['Excess Kurtosis'] = df.kurtosis()\n",
    "    report.loc['VaR (negated)'] = -df.quantile(q)\n",
    "    report.loc['Expected Shortfall (negated)'] = -df[df < df.quantile(q)].mean()\n",
    "    \n",
    "    cum_ret = (1 + df).cumprod()\n",
    "    rolling_max = cum_ret.cummax()\n",
    "    drawdown = (cum_ret - rolling_max) / rolling_max\n",
    "    report.loc['Max Drawdown'] = drawdown.min()\n",
    "    report.loc['MDD Start'] = None\n",
    "    report.loc['MDD End'] = drawdown.idxmin()\n",
    "    report.loc['Recovery Date'] = None\n",
    "    \n",
    "    for col in df.columns:\n",
    "        report.loc['MDD Start', col] = (rolling_max.loc[:report.loc['MDD End', col]])[col].idxmax()\n",
    "        recovery_df = (drawdown.loc[report.loc['MDD End', col]:])[col]\n",
    "        \n",
    "        try:\n",
    "            report.loc['Recovery Date', col] = recovery_df[recovery_df >= 0].index[0]\n",
    "\n",
    "        except:\n",
    "            report.loc['Recovery Date', col] = None\n",
    "            report.loc['Recovery period (days)'] = None\n",
    "    report.loc['Recovery period (days)'] = (report.loc['Recovery Date'] - report.loc['MDD Start']).dt.days\n",
    "    return round(report,4)"
   ]
  },
  {
   "cell_type": "code",
   "execution_count": 50,
   "metadata": {},
   "outputs": [
    {
     "data": {
      "text/html": [
       "<div>\n",
       "<style scoped>\n",
       "    .dataframe tbody tr th:only-of-type {\n",
       "        vertical-align: middle;\n",
       "    }\n",
       "\n",
       "    .dataframe tbody tr th {\n",
       "        vertical-align: top;\n",
       "    }\n",
       "\n",
       "    .dataframe thead th {\n",
       "        text-align: right;\n",
       "    }\n",
       "</style>\n",
       "<table border=\"1\" class=\"dataframe\">\n",
       "  <thead>\n",
       "    <tr style=\"text-align: right;\">\n",
       "      <th></th>\n",
       "      <th>ES1</th>\n",
       "      <th>GC1</th>\n",
       "    </tr>\n",
       "    <tr>\n",
       "      <th>date</th>\n",
       "      <th></th>\n",
       "      <th></th>\n",
       "    </tr>\n",
       "  </thead>\n",
       "  <tbody>\n",
       "    <tr>\n",
       "      <th>2009-01-31</th>\n",
       "      <td>-0.08611</td>\n",
       "      <td>0.04863</td>\n",
       "    </tr>\n",
       "    <tr>\n",
       "      <th>2009-02-28</th>\n",
       "      <td>-0.10729</td>\n",
       "      <td>0.01519</td>\n",
       "    </tr>\n",
       "  </tbody>\n",
       "</table>\n",
       "</div>"
      ],
      "text/plain": [
       "                ES1      GC1\n",
       "date                        \n",
       "2009-01-31 -0.08611  0.04863\n",
       "2009-02-28 -0.10729  0.01519"
      ]
     },
     "execution_count": 50,
     "metadata": {},
     "output_type": "execute_result"
    }
   ],
   "source": [
    "df_50 = df[['ES1','GC1']]\n",
    "df_50.head(2)"
   ]
  },
  {
   "cell_type": "code",
   "execution_count": 51,
   "metadata": {},
   "outputs": [
    {
     "data": {
      "text/html": [
       "<div>\n",
       "<style scoped>\n",
       "    .dataframe tbody tr th:only-of-type {\n",
       "        vertical-align: middle;\n",
       "    }\n",
       "\n",
       "    .dataframe tbody tr th {\n",
       "        vertical-align: top;\n",
       "    }\n",
       "\n",
       "    .dataframe thead th {\n",
       "        text-align: right;\n",
       "    }\n",
       "</style>\n",
       "<table border=\"1\" class=\"dataframe\">\n",
       "  <thead>\n",
       "    <tr style=\"text-align: right;\">\n",
       "      <th></th>\n",
       "      <th>ES1</th>\n",
       "      <th>GC1</th>\n",
       "      <th>portfolio</th>\n",
       "    </tr>\n",
       "    <tr>\n",
       "      <th>date</th>\n",
       "      <th></th>\n",
       "      <th></th>\n",
       "      <th></th>\n",
       "    </tr>\n",
       "  </thead>\n",
       "  <tbody>\n",
       "    <tr>\n",
       "      <th>2009-01-31</th>\n",
       "      <td>-0.08611</td>\n",
       "      <td>0.04863</td>\n",
       "      <td>-0.01874</td>\n",
       "    </tr>\n",
       "    <tr>\n",
       "      <th>2009-02-28</th>\n",
       "      <td>-0.10729</td>\n",
       "      <td>0.01519</td>\n",
       "      <td>-0.04605</td>\n",
       "    </tr>\n",
       "    <tr>\n",
       "      <th>2009-03-31</th>\n",
       "      <td>0.08721</td>\n",
       "      <td>-0.02111</td>\n",
       "      <td>0.03305</td>\n",
       "    </tr>\n",
       "    <tr>\n",
       "      <th>2009-04-30</th>\n",
       "      <td>0.09468</td>\n",
       "      <td>-0.03654</td>\n",
       "      <td>0.02907</td>\n",
       "    </tr>\n",
       "    <tr>\n",
       "      <th>2009-05-31</th>\n",
       "      <td>0.05517</td>\n",
       "      <td>0.09830</td>\n",
       "      <td>0.07674</td>\n",
       "    </tr>\n",
       "  </tbody>\n",
       "</table>\n",
       "</div>"
      ],
      "text/plain": [
       "                ES1      GC1  portfolio\n",
       "date                                   \n",
       "2009-01-31 -0.08611  0.04863   -0.01874\n",
       "2009-02-28 -0.10729  0.01519   -0.04605\n",
       "2009-03-31  0.08721 -0.02111    0.03305\n",
       "2009-04-30  0.09468 -0.03654    0.02907\n",
       "2009-05-31  0.05517  0.09830    0.07674"
      ]
     },
     "execution_count": 51,
     "metadata": {},
     "output_type": "execute_result"
    }
   ],
   "source": [
    "#portfolio with equal weights\n",
    "\n",
    "df_50['portfolio'] = df_50.mean(axis=1)\n",
    "df_50.head(5)"
   ]
  },
  {
   "cell_type": "markdown",
   "metadata": {},
   "source": [
    "### Q4.1"
   ]
  },
  {
   "cell_type": "code",
   "execution_count": 56,
   "metadata": {},
   "outputs": [
    {
     "data": {
      "text/html": [
       "<div>\n",
       "<style scoped>\n",
       "    .dataframe tbody tr th:only-of-type {\n",
       "        vertical-align: middle;\n",
       "    }\n",
       "\n",
       "    .dataframe tbody tr th {\n",
       "        vertical-align: top;\n",
       "    }\n",
       "\n",
       "    .dataframe thead th {\n",
       "        text-align: right;\n",
       "    }\n",
       "</style>\n",
       "<table border=\"1\" class=\"dataframe\">\n",
       "  <thead>\n",
       "    <tr style=\"text-align: right;\">\n",
       "      <th></th>\n",
       "      <th>ES1</th>\n",
       "      <th>GC1</th>\n",
       "      <th>portfolio</th>\n",
       "    </tr>\n",
       "  </thead>\n",
       "  <tbody>\n",
       "    <tr>\n",
       "      <th>Max Drawdown</th>\n",
       "      <td>-0.20317</td>\n",
       "      <td>-0.4296</td>\n",
       "      <td>-0.12098</td>\n",
       "    </tr>\n",
       "    <tr>\n",
       "      <th>MDD Start</th>\n",
       "      <td>2019-12-31</td>\n",
       "      <td>2011-08-31</td>\n",
       "      <td>2022-03-31</td>\n",
       "    </tr>\n",
       "    <tr>\n",
       "      <th>MDD End</th>\n",
       "      <td>2020-03-31</td>\n",
       "      <td>2015-12-31</td>\n",
       "      <td>2022-06-30</td>\n",
       "    </tr>\n",
       "    <tr>\n",
       "      <th>Recovery Date</th>\n",
       "      <td>2020-07-31</td>\n",
       "      <td>None</td>\n",
       "      <td>None</td>\n",
       "    </tr>\n",
       "    <tr>\n",
       "      <th>Recovery period (days)</th>\n",
       "      <td>213.0</td>\n",
       "      <td>NaN</td>\n",
       "      <td>NaN</td>\n",
       "    </tr>\n",
       "  </tbody>\n",
       "</table>\n",
       "</div>"
      ],
      "text/plain": [
       "                               ES1         GC1   portfolio\n",
       "Max Drawdown              -0.20317     -0.4296    -0.12098\n",
       "MDD Start               2019-12-31  2011-08-31  2022-03-31\n",
       "MDD End                 2020-03-31  2015-12-31  2022-06-30\n",
       "Recovery Date           2020-07-31        None        None\n",
       "Recovery period (days)       213.0         NaN         NaN"
      ]
     },
     "execution_count": 56,
     "metadata": {},
     "output_type": "execute_result"
    }
   ],
   "source": [
    "risk_stats(df_50)[4:]"
   ]
  },
  {
   "cell_type": "code",
   "execution_count": 58,
   "metadata": {},
   "outputs": [
    {
     "data": {
      "text/html": [
       "<div>\n",
       "<style scoped>\n",
       "    .dataframe tbody tr th:only-of-type {\n",
       "        vertical-align: middle;\n",
       "    }\n",
       "\n",
       "    .dataframe tbody tr th {\n",
       "        vertical-align: top;\n",
       "    }\n",
       "\n",
       "    .dataframe thead th {\n",
       "        text-align: right;\n",
       "    }\n",
       "</style>\n",
       "<table border=\"1\" class=\"dataframe\">\n",
       "  <thead>\n",
       "    <tr style=\"text-align: right;\">\n",
       "      <th></th>\n",
       "      <th>mean</th>\n",
       "      <th>volatility</th>\n",
       "      <th>sharpe_ratio</th>\n",
       "    </tr>\n",
       "  </thead>\n",
       "  <tbody>\n",
       "    <tr>\n",
       "      <th>ES1</th>\n",
       "      <td>0.12912</td>\n",
       "      <td>0.15107</td>\n",
       "      <td>0.85470</td>\n",
       "    </tr>\n",
       "    <tr>\n",
       "      <th>GC1</th>\n",
       "      <td>0.05401</td>\n",
       "      <td>0.16013</td>\n",
       "      <td>0.33727</td>\n",
       "    </tr>\n",
       "    <tr>\n",
       "      <th>portfolio</th>\n",
       "      <td>0.09156</td>\n",
       "      <td>0.11408</td>\n",
       "      <td>0.80262</td>\n",
       "    </tr>\n",
       "  </tbody>\n",
       "</table>\n",
       "</div>"
      ],
      "text/plain": [
       "              mean  volatility  sharpe_ratio\n",
       "ES1        0.12912     0.15107       0.85470\n",
       "GC1        0.05401     0.16013       0.33727\n",
       "portfolio  0.09156     0.11408       0.80262"
      ]
     },
     "execution_count": 58,
     "metadata": {},
     "output_type": "execute_result"
    }
   ],
   "source": [
    "mean_vol_sharpe(df_50, ann=12)\n",
    "#Technically not Sharpe ratio, but the ratio of the mean to the volatility"
   ]
  },
  {
   "cell_type": "markdown",
   "metadata": {},
   "source": [
    "### Q4.2"
   ]
  },
  {
   "cell_type": "code",
   "execution_count": 62,
   "metadata": {},
   "outputs": [
    {
     "name": "stdout",
     "output_type": "stream",
     "text": [
      "correlation b/w ES1 and GC1 is:\n",
      "7.42 %\n"
     ]
    }
   ],
   "source": [
    "print(\"correlation b/w ES1 and GC1 is:\")\n",
    "print(round(df['ES1'].corr(df['GC1']),4)*100, '%')"
   ]
  },
  {
   "cell_type": "markdown",
   "metadata": {},
   "source": [
    "- The 50/50 portfolio has a higher Mean to Vol Ratio than Gold but lower than ES1. But - the Volatility if the 50/50 portfolio is lower than each of the other two individual assets.\n",
    "- The MDD is much lower for the 50/50 portfolio than the other two individual assets. Thus the 50/50 portfolio is the best portfolio in terms of MDD.\n",
    "\n",
    "As per porfolio theory, the lower correlations between the assets would indeed indicate a a better portfolio which is diversifed. Economically speaking, the Gold is a hedge against inflation and ES1 is a hedge against deflation. Thus the 50/50 portfolio is a hedge against both inflation and deflation and thus is a better portfolio than the other two individual assets."
   ]
  },
  {
   "cell_type": "markdown",
   "metadata": {},
   "source": [
    "### Q4.3"
   ]
  },
  {
   "cell_type": "code",
   "execution_count": 63,
   "metadata": {},
   "outputs": [
    {
     "data": {
      "text/html": [
       "<div>\n",
       "<style scoped>\n",
       "    .dataframe tbody tr th:only-of-type {\n",
       "        vertical-align: middle;\n",
       "    }\n",
       "\n",
       "    .dataframe tbody tr th {\n",
       "        vertical-align: top;\n",
       "    }\n",
       "\n",
       "    .dataframe thead th {\n",
       "        text-align: right;\n",
       "    }\n",
       "</style>\n",
       "<table border=\"1\" class=\"dataframe\">\n",
       "  <thead>\n",
       "    <tr style=\"text-align: right;\">\n",
       "      <th></th>\n",
       "      <th>mean</th>\n",
       "      <th>volatility</th>\n",
       "      <th>sharpe_ratio</th>\n",
       "    </tr>\n",
       "  </thead>\n",
       "  <tbody>\n",
       "    <tr>\n",
       "      <th>ES1</th>\n",
       "      <td>0.12912</td>\n",
       "      <td>0.15107</td>\n",
       "      <td>0.85470</td>\n",
       "    </tr>\n",
       "    <tr>\n",
       "      <th>GC1</th>\n",
       "      <td>0.05401</td>\n",
       "      <td>0.16013</td>\n",
       "      <td>0.33727</td>\n",
       "    </tr>\n",
       "    <tr>\n",
       "      <th>portfolio</th>\n",
       "      <td>0.09156</td>\n",
       "      <td>0.11408</td>\n",
       "      <td>0.80262</td>\n",
       "    </tr>\n",
       "  </tbody>\n",
       "</table>\n",
       "</div>"
      ],
      "text/plain": [
       "              mean  volatility  sharpe_ratio\n",
       "ES1        0.12912     0.15107       0.85470\n",
       "GC1        0.05401     0.16013       0.33727\n",
       "portfolio  0.09156     0.11408       0.80262"
      ]
     },
     "execution_count": 63,
     "metadata": {},
     "output_type": "execute_result"
    }
   ],
   "source": [
    "mean_vol_sharpe(df_50, ann=12)"
   ]
  },
  {
   "cell_type": "code",
   "execution_count": 95,
   "metadata": {},
   "outputs": [
    {
     "name": "stdout",
     "output_type": "stream",
     "text": [
      "Analytical CVaR:  -0.0804\n"
     ]
    }
   ],
   "source": [
    "# Calculate the 1-period, 1% CVaR of the 'portfolio' analytically.\n",
    "# Calculate the CVaR in two different ways\n",
    "# Use the full-sample volatility estimate.\n",
    "\n",
    "VaR = df_50['portfolio'].quantile(0.01)\n",
    "CVaR = df_50['portfolio'].loc[df_50['portfolio'] <= VaR].mean()\n",
    "print('Analytical CVaR: ', round(CVaR,4))"
   ]
  },
  {
   "cell_type": "code",
   "execution_count": 101,
   "metadata": {},
   "outputs": [
    {
     "name": "stdout",
     "output_type": "stream",
     "text": [
      "CVaR estimate:  -0.0926\n"
     ]
    }
   ],
   "source": [
    "#Use the latest value from the rolling 24-month volatility.\n",
    "\n",
    "Vol_rolling = df_50['portfolio'].dropna().rolling(24).std()\n",
    "Vol_latest = Vol_rolling.iloc[-1]\n",
    "z_score = norm.ppf(0.01)\n",
    "VaR_estimate = z_score * Vol_latest\n",
    "\n",
    "CVaR = df_50['portfolio'].loc[df_50['portfolio'] <= VaR_estimate].mean()\n",
    "print('CVaR estimate: ', round(CVaR,4))"
   ]
  },
  {
   "cell_type": "markdown",
   "metadata": {},
   "source": [
    "### Q4.4"
   ]
  },
  {
   "cell_type": "code",
   "execution_count": 102,
   "metadata": {},
   "outputs": [],
   "source": [
    "def prob_calc(h, tilde_mu, tilde_sigma):\n",
    "    return stats.norm.cdf(- np.sqrt(h) * tilde_mu / tilde_sigma)\n",
    "\n",
    "def prob(h, tilde_mu, tilde_sigma):\n",
    "    prob_df = pd.DataFrame(data = h, columns = ['h'])\n",
    "    \n",
    "    prob_df['Probability'] = prob_calc(prob_df['h'], tilde_mu, tilde_sigma)\n",
    "    \n",
    "    prob_df = prob_df.set_index('h')\n",
    "    \n",
    "    return prob_df"
   ]
  },
  {
   "cell_type": "code",
   "execution_count": 103,
   "metadata": {},
   "outputs": [
    {
     "data": {
      "text/html": [
       "<div>\n",
       "<style scoped>\n",
       "    .dataframe tbody tr th:only-of-type {\n",
       "        vertical-align: middle;\n",
       "    }\n",
       "\n",
       "    .dataframe tbody tr th {\n",
       "        vertical-align: top;\n",
       "    }\n",
       "\n",
       "    .dataframe thead th {\n",
       "        text-align: right;\n",
       "    }\n",
       "</style>\n",
       "<table border=\"1\" class=\"dataframe\">\n",
       "  <thead>\n",
       "    <tr style=\"text-align: right;\">\n",
       "      <th></th>\n",
       "      <th>ES1</th>\n",
       "      <th>GC1</th>\n",
       "      <th>portfolio</th>\n",
       "    </tr>\n",
       "    <tr>\n",
       "      <th>date</th>\n",
       "      <th></th>\n",
       "      <th></th>\n",
       "      <th></th>\n",
       "    </tr>\n",
       "  </thead>\n",
       "  <tbody>\n",
       "    <tr>\n",
       "      <th>2009-01-31</th>\n",
       "      <td>-0.09004</td>\n",
       "      <td>0.04748</td>\n",
       "      <td>-0.01892</td>\n",
       "    </tr>\n",
       "    <tr>\n",
       "      <th>2009-02-28</th>\n",
       "      <td>-0.11350</td>\n",
       "      <td>0.01507</td>\n",
       "      <td>-0.04715</td>\n",
       "    </tr>\n",
       "    <tr>\n",
       "      <th>2009-03-31</th>\n",
       "      <td>0.08361</td>\n",
       "      <td>-0.02134</td>\n",
       "      <td>0.03251</td>\n",
       "    </tr>\n",
       "    <tr>\n",
       "      <th>2009-04-30</th>\n",
       "      <td>0.09046</td>\n",
       "      <td>-0.03723</td>\n",
       "      <td>0.02865</td>\n",
       "    </tr>\n",
       "  </tbody>\n",
       "</table>\n",
       "</div>"
      ],
      "text/plain": [
       "                ES1      GC1  portfolio\n",
       "date                                   \n",
       "2009-01-31 -0.09004  0.04748   -0.01892\n",
       "2009-02-28 -0.11350  0.01507   -0.04715\n",
       "2009-03-31  0.08361 -0.02134    0.03251\n",
       "2009-04-30  0.09046 -0.03723    0.02865"
      ]
     },
     "execution_count": 103,
     "metadata": {},
     "output_type": "execute_result"
    }
   ],
   "source": [
    "df50_log = np.log(1+df_50)\n",
    "df50_log.head(4)"
   ]
  },
  {
   "cell_type": "code",
   "execution_count": 104,
   "metadata": {},
   "outputs": [
    {
     "data": {
      "text/html": [
       "<div>\n",
       "<style scoped>\n",
       "    .dataframe tbody tr th:only-of-type {\n",
       "        vertical-align: middle;\n",
       "    }\n",
       "\n",
       "    .dataframe tbody tr th {\n",
       "        vertical-align: top;\n",
       "    }\n",
       "\n",
       "    .dataframe thead th {\n",
       "        text-align: right;\n",
       "    }\n",
       "</style>\n",
       "<table border=\"1\" class=\"dataframe\">\n",
       "  <thead>\n",
       "    <tr style=\"text-align: right;\">\n",
       "      <th></th>\n",
       "      <th>Probability</th>\n",
       "    </tr>\n",
       "    <tr>\n",
       "      <th>h</th>\n",
       "      <th></th>\n",
       "    </tr>\n",
       "  </thead>\n",
       "  <tbody>\n",
       "    <tr>\n",
       "      <th>10</th>\n",
       "      <td>0.16837</td>\n",
       "    </tr>\n",
       "  </tbody>\n",
       "</table>\n",
       "</div>"
      ],
      "text/plain": [
       "    Probability\n",
       "h              \n",
       "10      0.16837"
      ]
     },
     "execution_count": 104,
     "metadata": {},
     "output_type": "execute_result"
    }
   ],
   "source": [
    "#probability that over next 10 year ES1 underfperform the portfolio\n",
    "\n",
    "df50_log['diff'] = df50_log['ES1'] - df50_log['portfolio']\n",
    "mu_tilde = df50_log['diff'].mean()*12\n",
    "sig_tilde = df50_log['diff'].std()*np.sqrt(12)\n",
    "\n",
    "prob([10] , mu_tilde, sig_tilde)"
   ]
  },
  {
   "cell_type": "code",
   "execution_count": 107,
   "metadata": {},
   "outputs": [
    {
     "name": "stdout",
     "output_type": "stream",
     "text": [
      "The probability that ES1 underperforms the portfolio over the next 10 years is:\n",
      "16.8365 %\n"
     ]
    }
   ],
   "source": [
    "print(\"The probability that ES1 underperforms the portfolio over the next 10 years is:\")\n",
    "print(round(prob([10] , mu_tilde, sig_tilde).iloc[0,0]*100,4), '%')"
   ]
  }
 ],
 "metadata": {
  "kernelspec": {
   "display_name": "Python 3.9.7 ('base')",
   "language": "python",
   "name": "python3"
  },
  "language_info": {
   "codemirror_mode": {
    "name": "ipython",
    "version": 3
   },
   "file_extension": ".py",
   "mimetype": "text/x-python",
   "name": "python",
   "nbconvert_exporter": "python",
   "pygments_lexer": "ipython3",
   "version": "3.9.7"
  },
  "orig_nbformat": 4,
  "vscode": {
   "interpreter": {
    "hash": "5e62c483ecf48ad4e1bb5f903abeb626d4ffc56eab47e05d9eff835eeb907be7"
   }
  }
 },
 "nbformat": 4,
 "nbformat_minor": 2
}
