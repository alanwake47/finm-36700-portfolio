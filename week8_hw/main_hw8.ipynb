{
 "cells": [
  {
   "cell_type": "markdown",
   "metadata": {},
   "source": [
    "# Homework 8\n",
    "## HW Group C 4: \n",
    "### - Aman Krishna\n",
    "### - Jingwen Li\n",
    "### - Sean Lin\n",
    "### - Yazmin Ramirez Delgado"
   ]
  },
  {
   "cell_type": "code",
   "execution_count": 110,
   "metadata": {},
   "outputs": [],
   "source": [
    "import pandas as pd\n",
    "import numpy as np\n",
    "import matplotlib.pyplot as plt\n",
    "import statsmodels.api as sm\n",
    "from arch import arch_model\n",
    "from arch.univariate import GARCH, EWMAVariance \n",
    "from sklearn import linear_model\n",
    "import scipy.stats as stats\n",
    "from statsmodels.regression.rolling import RollingOLS\n",
    "import seaborn as sns\n",
    "import warnings\n",
    "warnings.filterwarnings(\"ignore\")\n",
    "pd.set_option(\"display.precision\", 4)\n",
    "sns.set(rc={'figure.figsize':(15, 10)})"
   ]
  },
  {
   "cell_type": "code",
   "execution_count": 111,
   "metadata": {},
   "outputs": [],
   "source": [
    "def regress(y, X, intercept = True, annual_fac=12):\n",
    "    if intercept == True:\n",
    "        X_ = sm.add_constant(X)\n",
    "        reg = sm.OLS(y, X_).fit()\n",
    "        reg_df = reg.params.to_frame('Regression Parameters')\n",
    "        reg_df.loc['r-squared'] = reg.rsquared\n",
    "        reg_df.loc['const'] *= annual_fac\n",
    "    else:\n",
    "        reg = sm.OLS(y, X).fit()\n",
    "        reg_df = reg.params.to_frame('Regression Parameters')\n",
    "        reg_df.loc['r-squared'] = reg.rsquared\n",
    "    \n",
    "    return reg_df"
   ]
  },
  {
   "cell_type": "code",
   "execution_count": 112,
   "metadata": {},
   "outputs": [],
   "source": [
    "def risk_stats(data, q=0.05):\n",
    "    df = data.copy()\n",
    "    df.index = data.index.date\n",
    "    report = pd.DataFrame(columns = df.columns)\n",
    "    \n",
    "    report.loc['Skewness'] = df.skew()\n",
    "    report.loc['Excess Kurtosis'] = df.kurtosis()\n",
    "    report.loc['VaR (negated)'] = -df.quantile(q)\n",
    "    report.loc['Expected Shortfall (negated)'] = -df[df < df.quantile(q)].mean()\n",
    "    \n",
    "    cum_ret = (1 + df).cumprod()\n",
    "    rolling_max = cum_ret.cummax()\n",
    "    drawdown = (cum_ret - rolling_max) / rolling_max\n",
    "    report.loc['Max Drawdown'] = drawdown.min()\n",
    "    report.loc['MDD Start'] = None\n",
    "    report.loc['MDD End'] = drawdown.idxmin()\n",
    "    report.loc['Recovery Date'] = None\n",
    "    \n",
    "    for col in df.columns:\n",
    "        report.loc['MDD Start', col] = (rolling_max.loc[:report.loc['MDD End', col]])[col].idxmax()\n",
    "        recovery_df = (drawdown.loc[report.loc['MDD End', col]:])[col]\n",
    "        \n",
    "        try:\n",
    "            report.loc['Recovery Date', col] = recovery_df[recovery_df >= 0].index[0]\n",
    "\n",
    "        except:\n",
    "            report.loc['Recovery Date', col] = None\n",
    "            report.loc['Recovery period (days)'] = None\n",
    "    report.loc['Recovery period (days)'] = (report.loc['Recovery Date'] - report.loc['MDD Start']).dt.days\n",
    "    return round(report,4)\n",
    "#risk_stats(df, 0.05)"
   ]
  },
  {
   "cell_type": "code",
   "execution_count": 113,
   "metadata": {},
   "outputs": [],
   "source": [
    "#Calculate mean, standard deviation and sharpe ratio\n",
    "def mean_vol_sharpe(df,ann=12):\n",
    "    mean = df.mean() * ann\n",
    "    volatility = df.std() * np.sqrt(ann)\n",
    "    sharpe_ratio = mean/volatility\n",
    "    return pd.DataFrame({'mean': mean, 'volatility': volatility, 'sharpe_ratio': sharpe_ratio})"
   ]
  },
  {
   "cell_type": "code",
   "execution_count": 114,
   "metadata": {},
   "outputs": [
    {
     "data": {
      "text/html": [
       "<div>\n",
       "<style scoped>\n",
       "    .dataframe tbody tr th:only-of-type {\n",
       "        vertical-align: middle;\n",
       "    }\n",
       "\n",
       "    .dataframe tbody tr th {\n",
       "        vertical-align: top;\n",
       "    }\n",
       "\n",
       "    .dataframe thead th {\n",
       "        text-align: right;\n",
       "    }\n",
       "</style>\n",
       "<table border=\"1\" class=\"dataframe\">\n",
       "  <thead>\n",
       "    <tr style=\"text-align: right;\">\n",
       "      <th></th>\n",
       "      <th>Fund Capital ($billions)</th>\n",
       "      <th>Gross Monthly Performancea</th>\n",
       "      <th>Net Monthly Performanceb</th>\n",
       "      <th>Index of Net Performance</th>\n",
       "    </tr>\n",
       "    <tr>\n",
       "      <th>Date</th>\n",
       "      <th></th>\n",
       "      <th></th>\n",
       "      <th></th>\n",
       "      <th></th>\n",
       "    </tr>\n",
       "  </thead>\n",
       "  <tbody>\n",
       "    <tr>\n",
       "      <th>1994-03-01</th>\n",
       "      <td>1.1</td>\n",
       "      <td>-0.011</td>\n",
       "      <td>-0.013</td>\n",
       "      <td>0.99</td>\n",
       "    </tr>\n",
       "    <tr>\n",
       "      <th>1994-04-01</th>\n",
       "      <td>1.1</td>\n",
       "      <td>0.014</td>\n",
       "      <td>0.008</td>\n",
       "      <td>1.00</td>\n",
       "    </tr>\n",
       "    <tr>\n",
       "      <th>1994-05-01</th>\n",
       "      <td>1.2</td>\n",
       "      <td>0.068</td>\n",
       "      <td>0.053</td>\n",
       "      <td>1.05</td>\n",
       "    </tr>\n",
       "    <tr>\n",
       "      <th>1994-06-01</th>\n",
       "      <td>1.2</td>\n",
       "      <td>-0.039</td>\n",
       "      <td>-0.029</td>\n",
       "      <td>1.02</td>\n",
       "    </tr>\n",
       "    <tr>\n",
       "      <th>1994-07-01</th>\n",
       "      <td>1.4</td>\n",
       "      <td>0.116</td>\n",
       "      <td>0.084</td>\n",
       "      <td>1.10</td>\n",
       "    </tr>\n",
       "    <tr>\n",
       "      <th>1994-08-01</th>\n",
       "      <td>1.5</td>\n",
       "      <td>0.038</td>\n",
       "      <td>0.030</td>\n",
       "      <td>1.14</td>\n",
       "    </tr>\n",
       "    <tr>\n",
       "      <th>1994-09-01</th>\n",
       "      <td>1.5</td>\n",
       "      <td>-0.004</td>\n",
       "      <td>-0.003</td>\n",
       "      <td>1.13</td>\n",
       "    </tr>\n",
       "    <tr>\n",
       "      <th>1994-10-01</th>\n",
       "      <td>1.5</td>\n",
       "      <td>0.010</td>\n",
       "      <td>0.004</td>\n",
       "      <td>1.14</td>\n",
       "    </tr>\n",
       "    <tr>\n",
       "      <th>1994-11-01</th>\n",
       "      <td>1.6</td>\n",
       "      <td>0.077</td>\n",
       "      <td>0.061</td>\n",
       "      <td>1.21</td>\n",
       "    </tr>\n",
       "    <tr>\n",
       "      <th>1994-12-01</th>\n",
       "      <td>1.6</td>\n",
       "      <td>-0.008</td>\n",
       "      <td>-0.005</td>\n",
       "      <td>1.20</td>\n",
       "    </tr>\n",
       "  </tbody>\n",
       "</table>\n",
       "</div>"
      ],
      "text/plain": [
       "            Fund Capital ($billions)  Gross Monthly Performancea  \\\n",
       "Date                                                               \n",
       "1994-03-01                       1.1                      -0.011   \n",
       "1994-04-01                       1.1                       0.014   \n",
       "1994-05-01                       1.2                       0.068   \n",
       "1994-06-01                       1.2                      -0.039   \n",
       "1994-07-01                       1.4                       0.116   \n",
       "1994-08-01                       1.5                       0.038   \n",
       "1994-09-01                       1.5                      -0.004   \n",
       "1994-10-01                       1.5                       0.010   \n",
       "1994-11-01                       1.6                       0.077   \n",
       "1994-12-01                       1.6                      -0.008   \n",
       "\n",
       "            Net Monthly Performanceb  Index of Net Performance  \n",
       "Date                                                            \n",
       "1994-03-01                    -0.013                      0.99  \n",
       "1994-04-01                     0.008                      1.00  \n",
       "1994-05-01                     0.053                      1.05  \n",
       "1994-06-01                    -0.029                      1.02  \n",
       "1994-07-01                     0.084                      1.10  \n",
       "1994-08-01                     0.030                      1.14  \n",
       "1994-09-01                    -0.003                      1.13  \n",
       "1994-10-01                     0.004                      1.14  \n",
       "1994-11-01                     0.061                      1.21  \n",
       "1994-12-01                    -0.005                      1.20  "
      ]
     },
     "execution_count": 114,
     "metadata": {},
     "output_type": "execute_result"
    }
   ],
   "source": [
    "ltcm = pd.read_excel('ltcm_exhibits_data.xlsx', sheet_name = 1, skiprows=2).rename(columns={\"Unnamed: 0\": \"Date\"}).dropna()\n",
    "ltcm['Date'] = pd.to_datetime(ltcm['Date']).dt.normalize()\n",
    "ltcm.set_index('Date',inplace=True)\n",
    "ltcm.head(10)"
   ]
  },
  {
   "cell_type": "code",
   "execution_count": 115,
   "metadata": {},
   "outputs": [
    {
     "data": {
      "text/html": [
       "<div>\n",
       "<style scoped>\n",
       "    .dataframe tbody tr th:only-of-type {\n",
       "        vertical-align: middle;\n",
       "    }\n",
       "\n",
       "    .dataframe tbody tr th {\n",
       "        vertical-align: top;\n",
       "    }\n",
       "\n",
       "    .dataframe thead th {\n",
       "        text-align: right;\n",
       "    }\n",
       "</style>\n",
       "<table border=\"1\" class=\"dataframe\">\n",
       "  <thead>\n",
       "    <tr style=\"text-align: right;\">\n",
       "      <th></th>\n",
       "      <th>SPY ex</th>\n",
       "    </tr>\n",
       "  </thead>\n",
       "  <tbody>\n",
       "    <tr>\n",
       "      <th>1993-02-28</th>\n",
       "      <td>0.0082</td>\n",
       "    </tr>\n",
       "    <tr>\n",
       "      <th>1993-03-31</th>\n",
       "      <td>0.0199</td>\n",
       "    </tr>\n",
       "    <tr>\n",
       "      <th>1993-04-30</th>\n",
       "      <td>-0.0281</td>\n",
       "    </tr>\n",
       "    <tr>\n",
       "      <th>1993-05-31</th>\n",
       "      <td>0.0244</td>\n",
       "    </tr>\n",
       "    <tr>\n",
       "      <th>1993-06-30</th>\n",
       "      <td>0.0011</td>\n",
       "    </tr>\n",
       "  </tbody>\n",
       "</table>\n",
       "</div>"
      ],
      "text/plain": [
       "            SPY ex\n",
       "1993-02-28  0.0082\n",
       "1993-03-31  0.0199\n",
       "1993-04-30 -0.0281\n",
       "1993-05-31  0.0244\n",
       "1993-06-30  0.0011"
      ]
     },
     "execution_count": 115,
     "metadata": {},
     "output_type": "execute_result"
    }
   ],
   "source": [
    "SPY = pd.read_excel('gmo_analysis_data.xlsx',2, index_col=0)\n",
    "rf = pd.read_excel('gmo_analysis_data.xlsx',3, index_col=0)\n",
    "SPY['rf'] = rf['US3M']\n",
    "SPY_ex = SPY.subtract(SPY['rf'], axis=0)['SPY'].to_frame('SPY ex')\n",
    "\n",
    "SPY_ex.head()"
   ]
  },
  {
   "cell_type": "markdown",
   "metadata": {},
   "source": [
    "# 2 LTCM Risk Decomposition"
   ]
  },
  {
   "cell_type": "markdown",
   "metadata": {},
   "source": [
    "### On Canvas, find the data file, “ltcm exhibits data.xlsx”. Get the gross and net (total) returns of LTCM from “Exhibit 2”.\n",
    "### Get the returns on SPY as well as the risk-free rate from the file, “gmo analysis data”."
   ]
  },
  {
   "cell_type": "markdown",
   "metadata": {},
   "source": [
    "#### 1. Summary stats.\n",
    "(a) For both the gross and net series of LTCM excess returns, report the mean, volatility, and Sharpe ratios. (Annualize them.) <br>\n",
    "(b) Report the skewness, kurtosis, and (historic) VaR(.05). <br>\n",
    "(c) Comment on how these stats compare to SPY and other assets we have seen. How much do they differ between gross and net?"
   ]
  },
  {
   "cell_type": "code",
   "execution_count": 116,
   "metadata": {},
   "outputs": [
    {
     "data": {
      "text/html": [
       "<div>\n",
       "<style scoped>\n",
       "    .dataframe tbody tr th:only-of-type {\n",
       "        vertical-align: middle;\n",
       "    }\n",
       "\n",
       "    .dataframe tbody tr th {\n",
       "        vertical-align: top;\n",
       "    }\n",
       "\n",
       "    .dataframe thead th {\n",
       "        text-align: right;\n",
       "    }\n",
       "</style>\n",
       "<table border=\"1\" class=\"dataframe\">\n",
       "  <thead>\n",
       "    <tr style=\"text-align: right;\">\n",
       "      <th></th>\n",
       "      <th>Fund Capital ($billions)</th>\n",
       "      <th>Gross Monthly Performancea</th>\n",
       "      <th>Net Monthly Performanceb</th>\n",
       "      <th>SPY (excess)</th>\n",
       "    </tr>\n",
       "  </thead>\n",
       "  <tbody>\n",
       "    <tr>\n",
       "      <th>1994-03-31</th>\n",
       "      <td>1.0970</td>\n",
       "      <td>-0.0140</td>\n",
       "      <td>-0.0160</td>\n",
       "      <td>-0.0449</td>\n",
       "    </tr>\n",
       "    <tr>\n",
       "      <th>1994-04-30</th>\n",
       "      <td>1.0967</td>\n",
       "      <td>0.0107</td>\n",
       "      <td>0.0047</td>\n",
       "      <td>0.0079</td>\n",
       "    </tr>\n",
       "    <tr>\n",
       "      <th>1994-05-31</th>\n",
       "      <td>1.1964</td>\n",
       "      <td>0.0644</td>\n",
       "      <td>0.0494</td>\n",
       "      <td>0.0123</td>\n",
       "    </tr>\n",
       "    <tr>\n",
       "      <th>1994-06-30</th>\n",
       "      <td>1.1965</td>\n",
       "      <td>-0.0425</td>\n",
       "      <td>-0.0326</td>\n",
       "      <td>-0.0264</td>\n",
       "    </tr>\n",
       "    <tr>\n",
       "      <th>1994-07-31</th>\n",
       "      <td>1.3963</td>\n",
       "      <td>0.1123</td>\n",
       "      <td>0.0803</td>\n",
       "      <td>0.0287</td>\n",
       "    </tr>\n",
       "  </tbody>\n",
       "</table>\n",
       "</div>"
      ],
      "text/plain": [
       "            Fund Capital ($billions)  Gross Monthly Performancea  \\\n",
       "1994-03-31                    1.0970                     -0.0140   \n",
       "1994-04-30                    1.0967                      0.0107   \n",
       "1994-05-31                    1.1964                      0.0644   \n",
       "1994-06-30                    1.1965                     -0.0425   \n",
       "1994-07-31                    1.3963                      0.1123   \n",
       "\n",
       "            Net Monthly Performanceb  SPY (excess)  \n",
       "1994-03-31                   -0.0160       -0.0449  \n",
       "1994-04-30                    0.0047        0.0079  \n",
       "1994-05-31                    0.0494        0.0123  \n",
       "1994-06-30                   -0.0326       -0.0264  \n",
       "1994-07-31                    0.0803        0.0287  "
      ]
     },
     "execution_count": 116,
     "metadata": {},
     "output_type": "execute_result"
    }
   ],
   "source": [
    "ltcm.index = SPY_ex.loc['1994-03':'1998-07'].index\n",
    "ltcm_ex = ltcm.subtract(SPY['rf'], axis = 0)\n",
    "ltcm_ex.dropna(inplace=True)\n",
    "ltcm_ex['SPY (excess)'] = SPY_ex['SPY ex']\n",
    "ltcm_ex.drop(columns=['Index of Net Performance'], inplace=True)\n",
    "ltcm_ex.head()\n"
   ]
  },
  {
   "cell_type": "code",
   "execution_count": 117,
   "metadata": {},
   "outputs": [
    {
     "data": {
      "text/html": [
       "<div>\n",
       "<style scoped>\n",
       "    .dataframe tbody tr th:only-of-type {\n",
       "        vertical-align: middle;\n",
       "    }\n",
       "\n",
       "    .dataframe tbody tr th {\n",
       "        vertical-align: top;\n",
       "    }\n",
       "\n",
       "    .dataframe thead th {\n",
       "        text-align: right;\n",
       "    }\n",
       "</style>\n",
       "<table border=\"1\" class=\"dataframe\">\n",
       "  <thead>\n",
       "    <tr style=\"text-align: right;\">\n",
       "      <th></th>\n",
       "      <th>Fund Capital ($billions)</th>\n",
       "      <th>Gross Performance (excess)</th>\n",
       "      <th>Net Performance (excess)</th>\n",
       "      <th>SPY (excess)</th>\n",
       "    </tr>\n",
       "  </thead>\n",
       "  <tbody>\n",
       "    <tr>\n",
       "      <th>1994-03-31</th>\n",
       "      <td>1.0970</td>\n",
       "      <td>-0.0140</td>\n",
       "      <td>-0.0160</td>\n",
       "      <td>-0.0449</td>\n",
       "    </tr>\n",
       "    <tr>\n",
       "      <th>1994-04-30</th>\n",
       "      <td>1.0967</td>\n",
       "      <td>0.0107</td>\n",
       "      <td>0.0047</td>\n",
       "      <td>0.0079</td>\n",
       "    </tr>\n",
       "    <tr>\n",
       "      <th>1994-05-31</th>\n",
       "      <td>1.1964</td>\n",
       "      <td>0.0644</td>\n",
       "      <td>0.0494</td>\n",
       "      <td>0.0123</td>\n",
       "    </tr>\n",
       "    <tr>\n",
       "      <th>1994-06-30</th>\n",
       "      <td>1.1965</td>\n",
       "      <td>-0.0425</td>\n",
       "      <td>-0.0326</td>\n",
       "      <td>-0.0264</td>\n",
       "    </tr>\n",
       "    <tr>\n",
       "      <th>1994-07-31</th>\n",
       "      <td>1.3963</td>\n",
       "      <td>0.1123</td>\n",
       "      <td>0.0803</td>\n",
       "      <td>0.0287</td>\n",
       "    </tr>\n",
       "  </tbody>\n",
       "</table>\n",
       "</div>"
      ],
      "text/plain": [
       "            Fund Capital ($billions)  Gross Performance (excess)  \\\n",
       "1994-03-31                    1.0970                     -0.0140   \n",
       "1994-04-30                    1.0967                      0.0107   \n",
       "1994-05-31                    1.1964                      0.0644   \n",
       "1994-06-30                    1.1965                     -0.0425   \n",
       "1994-07-31                    1.3963                      0.1123   \n",
       "\n",
       "            Net Performance (excess)  SPY (excess)  \n",
       "1994-03-31                   -0.0160       -0.0449  \n",
       "1994-04-30                    0.0047        0.0079  \n",
       "1994-05-31                    0.0494        0.0123  \n",
       "1994-06-30                   -0.0326       -0.0264  \n",
       "1994-07-31                    0.0803        0.0287  "
      ]
     },
     "execution_count": 117,
     "metadata": {},
     "output_type": "execute_result"
    }
   ],
   "source": [
    "ltcm_ex.columns = ['Fund Capital ($billions)', 'Gross Performance (excess)', 'Net Performance (excess)', 'SPY (excess)']\n",
    "\n",
    "ltcm_ex.head()"
   ]
  },
  {
   "cell_type": "markdown",
   "metadata": {},
   "source": [
    "# 2.1(a)"
   ]
  },
  {
   "cell_type": "code",
   "execution_count": 118,
   "metadata": {},
   "outputs": [
    {
     "data": {
      "text/html": [
       "<div>\n",
       "<style scoped>\n",
       "    .dataframe tbody tr th:only-of-type {\n",
       "        vertical-align: middle;\n",
       "    }\n",
       "\n",
       "    .dataframe tbody tr th {\n",
       "        vertical-align: top;\n",
       "    }\n",
       "\n",
       "    .dataframe thead th {\n",
       "        text-align: right;\n",
       "    }\n",
       "</style>\n",
       "<table border=\"1\" class=\"dataframe\">\n",
       "  <thead>\n",
       "    <tr style=\"text-align: right;\">\n",
       "      <th></th>\n",
       "      <th>mean</th>\n",
       "      <th>volatility</th>\n",
       "      <th>sharpe_ratio</th>\n",
       "    </tr>\n",
       "  </thead>\n",
       "  <tbody>\n",
       "    <tr>\n",
       "      <th>Gross Performance (excess)</th>\n",
       "      <td>0.2421</td>\n",
       "      <td>0.1362</td>\n",
       "      <td>1.7769</td>\n",
       "    </tr>\n",
       "    <tr>\n",
       "      <th>Net Performance (excess)</th>\n",
       "      <td>0.1554</td>\n",
       "      <td>0.1118</td>\n",
       "      <td>1.3901</td>\n",
       "    </tr>\n",
       "    <tr>\n",
       "      <th>SPY (excess)</th>\n",
       "      <td>0.1738</td>\n",
       "      <td>0.1123</td>\n",
       "      <td>1.5479</td>\n",
       "    </tr>\n",
       "  </tbody>\n",
       "</table>\n",
       "</div>"
      ],
      "text/plain": [
       "                              mean  volatility  sharpe_ratio\n",
       "Gross Performance (excess)  0.2421      0.1362        1.7769\n",
       "Net Performance (excess)    0.1554      0.1118        1.3901\n",
       "SPY (excess)                0.1738      0.1123        1.5479"
      ]
     },
     "execution_count": 118,
     "metadata": {},
     "output_type": "execute_result"
    }
   ],
   "source": [
    "mean_vol_sharpe(ltcm_ex)[1:]"
   ]
  },
  {
   "cell_type": "markdown",
   "metadata": {},
   "source": [
    "# 2.1(b)"
   ]
  },
  {
   "cell_type": "code",
   "execution_count": 119,
   "metadata": {},
   "outputs": [
    {
     "data": {
      "text/html": [
       "<div>\n",
       "<style scoped>\n",
       "    .dataframe tbody tr th:only-of-type {\n",
       "        vertical-align: middle;\n",
       "    }\n",
       "\n",
       "    .dataframe tbody tr th {\n",
       "        vertical-align: top;\n",
       "    }\n",
       "\n",
       "    .dataframe thead th {\n",
       "        text-align: right;\n",
       "    }\n",
       "</style>\n",
       "<table border=\"1\" class=\"dataframe\">\n",
       "  <thead>\n",
       "    <tr style=\"text-align: right;\">\n",
       "      <th></th>\n",
       "      <th>Skewness</th>\n",
       "      <th>Excess Kurtosis</th>\n",
       "      <th>VaR (negated)</th>\n",
       "    </tr>\n",
       "  </thead>\n",
       "  <tbody>\n",
       "    <tr>\n",
       "      <th>Gross Performance (excess)</th>\n",
       "      <td>-0.2877</td>\n",
       "      <td>1.5866</td>\n",
       "      <td>0.0304</td>\n",
       "    </tr>\n",
       "    <tr>\n",
       "      <th>Net Performance (excess)</th>\n",
       "      <td>-0.8102</td>\n",
       "      <td>2.9269</td>\n",
       "      <td>0.0264</td>\n",
       "    </tr>\n",
       "    <tr>\n",
       "      <th>SPY (excess)</th>\n",
       "      <td>-0.4335</td>\n",
       "      <td>-0.362</td>\n",
       "      <td>0.0464</td>\n",
       "    </tr>\n",
       "  </tbody>\n",
       "</table>\n",
       "</div>"
      ],
      "text/plain": [
       "                           Skewness Excess Kurtosis VaR (negated)\n",
       "Gross Performance (excess)  -0.2877          1.5866        0.0304\n",
       "Net Performance (excess)    -0.8102          2.9269        0.0264\n",
       "SPY (excess)                -0.4335          -0.362        0.0464"
      ]
     },
     "execution_count": 119,
     "metadata": {},
     "output_type": "execute_result"
    }
   ],
   "source": [
    "risk_stats(ltcm_ex).iloc[:3,1:4].T"
   ]
  },
  {
   "cell_type": "markdown",
   "metadata": {},
   "source": [
    "# 2.1 (c)"
   ]
  },
  {
   "cell_type": "markdown",
   "metadata": {},
   "source": [
    "- The Sharpe Ratios are high compared to the SPY.\n",
    "- Vols are similar to SPY\n",
    "- The Risk Stats SKewness and Kurtosis are worse for the net series."
   ]
  },
  {
   "cell_type": "markdown",
   "metadata": {},
   "source": [
    "## 2.2 Market Regression\n",
    "Using the series of net LTCM excess returns, denoted $\\tilde{r} ^{LTCM}$\n",
    ", estimate the following regression:\n",
    ">$\\tilde{r}^{LTCM}_{t} = \\alpha + \\beta^{m}\\tilde{r}^{m}_{t}+\\epsilon_{t}$"
   ]
  },
  {
   "cell_type": "markdown",
   "metadata": {},
   "source": [
    "- Report $α$ and $β^m$. Report the $R^2$ stat.\n",
    "- From this regression, does LTCM appear to be a “closet indexer”? <br>\n",
    "- From the regression, does LTCM appear to deliver excess returns beyond the risk premium we expect from market exposure?"
   ]
  },
  {
   "cell_type": "markdown",
   "metadata": {},
   "source": [
    "### 2.2(a)"
   ]
  },
  {
   "cell_type": "code",
   "execution_count": 120,
   "metadata": {},
   "outputs": [
    {
     "data": {
      "text/html": [
       "<div>\n",
       "<style scoped>\n",
       "    .dataframe tbody tr th:only-of-type {\n",
       "        vertical-align: middle;\n",
       "    }\n",
       "\n",
       "    .dataframe tbody tr th {\n",
       "        vertical-align: top;\n",
       "    }\n",
       "\n",
       "    .dataframe thead th {\n",
       "        text-align: right;\n",
       "    }\n",
       "</style>\n",
       "<table border=\"1\" class=\"dataframe\">\n",
       "  <thead>\n",
       "    <tr style=\"text-align: right;\">\n",
       "      <th></th>\n",
       "      <th>Regression Parameters</th>\n",
       "    </tr>\n",
       "  </thead>\n",
       "  <tbody>\n",
       "    <tr>\n",
       "      <th>const</th>\n",
       "      <td>0.1315</td>\n",
       "    </tr>\n",
       "    <tr>\n",
       "      <th>SPY (excess)</th>\n",
       "      <td>0.1371</td>\n",
       "    </tr>\n",
       "    <tr>\n",
       "      <th>r-squared</th>\n",
       "      <td>0.0190</td>\n",
       "    </tr>\n",
       "  </tbody>\n",
       "</table>\n",
       "</div>"
      ],
      "text/plain": [
       "              Regression Parameters\n",
       "const                        0.1315\n",
       "SPY (excess)                 0.1371\n",
       "r-squared                    0.0190"
      ]
     },
     "execution_count": 120,
     "metadata": {},
     "output_type": "execute_result"
    }
   ],
   "source": [
    "regress(ltcm_ex['Net Performance (excess)'], ltcm_ex['SPY (excess)']) "
   ]
  },
  {
   "cell_type": "markdown",
   "metadata": {},
   "source": [
    "### 2.2(b) From this regression, does LTCM appear to be a “closet indexer”?"
   ]
  },
  {
   "cell_type": "markdown",
   "metadata": {},
   "source": [
    "The closet indexer is a strategy that is similar to the market but not exactly the same. In this case, LTCM is not a closet indexer because the beta is not close to 1. Also, the alpha is not close to 0, that means that there is unexplainable return."
   ]
  },
  {
   "cell_type": "markdown",
   "metadata": {},
   "source": [
    "### 2.2(c) From the regression, does LTCM appear to deliver excess returns beyond the risk premium we expect from market exposure?"
   ]
  },
  {
   "cell_type": "markdown",
   "metadata": {},
   "source": [
    "Yes, since the market is not able to explain LTCM returns (see regression above) we can conclude that LTCM is delivering excess returns not explained by the market. The alpha is this excess return and is positive. (13.15%)"
   ]
  },
  {
   "cell_type": "markdown",
   "metadata": {},
   "source": [
    "### 2.3 Let’s check for non-linear market exposure. Run the following regression on LTCM’s net excess returns:\n",
    ">$\\tilde{r}^{LTCM}_{t} = \\alpha + \\beta_{1}\\tilde{r}^{m}_{t}+ \\beta_{2}(\\tilde{r}^{m}_{t})^{2}+\\epsilon_{t}$"
   ]
  },
  {
   "cell_type": "markdown",
   "metadata": {},
   "source": [
    "- Report $β_1$, $β_2$, and the $R^2$ stat\n",
    "- Does the quadratic market factor do much to increase the overall LTCM variation explained by the market?\n",
    "- From the regression evidence, does LTCM’s market exposure behave as if it is long market options or short market options?\n",
    "- Should we describe LTCM as being positively or negatively exposed to market volatility?"
   ]
  },
  {
   "cell_type": "markdown",
   "metadata": {},
   "source": [
    "#### 2.3(a) Report $β_1$, $β_2$, and the $R^2$ stat"
   ]
  },
  {
   "cell_type": "code",
   "execution_count": 121,
   "metadata": {},
   "outputs": [
    {
     "data": {
      "text/html": [
       "<div>\n",
       "<style scoped>\n",
       "    .dataframe tbody tr th:only-of-type {\n",
       "        vertical-align: middle;\n",
       "    }\n",
       "\n",
       "    .dataframe tbody tr th {\n",
       "        vertical-align: top;\n",
       "    }\n",
       "\n",
       "    .dataframe thead th {\n",
       "        text-align: right;\n",
       "    }\n",
       "</style>\n",
       "<table border=\"1\" class=\"dataframe\">\n",
       "  <thead>\n",
       "    <tr style=\"text-align: right;\">\n",
       "      <th></th>\n",
       "      <th>Regression Parameters</th>\n",
       "    </tr>\n",
       "  </thead>\n",
       "  <tbody>\n",
       "    <tr>\n",
       "      <th>const</th>\n",
       "      <td>0.1550</td>\n",
       "    </tr>\n",
       "    <tr>\n",
       "      <th>SPY (excess)</th>\n",
       "      <td>0.1669</td>\n",
       "    </tr>\n",
       "    <tr>\n",
       "      <th>SPY (excess) squared</th>\n",
       "      <td>-1.9267</td>\n",
       "    </tr>\n",
       "    <tr>\n",
       "      <th>r-squared</th>\n",
       "      <td>0.0243</td>\n",
       "    </tr>\n",
       "  </tbody>\n",
       "</table>\n",
       "</div>"
      ],
      "text/plain": [
       "                      Regression Parameters\n",
       "const                                0.1550\n",
       "SPY (excess)                         0.1669\n",
       "SPY (excess) squared                -1.9267\n",
       "r-squared                            0.0243"
      ]
     },
     "execution_count": 121,
     "metadata": {},
     "output_type": "execute_result"
    }
   ],
   "source": [
    "ltcm_ex['SPY (excess) squared'] = ltcm_ex['SPY (excess)']**2\n",
    "\n",
    "regress(ltcm_ex['Net Performance (excess)'], ltcm_ex[['SPY (excess)', 'SPY (excess) squared']])"
   ]
  },
  {
   "cell_type": "markdown",
   "metadata": {},
   "source": [
    "#### 2.3(b) Does the quadratic market factor do much to increase the overall LTCM variation explained by the market?"
   ]
  },
  {
   "cell_type": "markdown",
   "metadata": {},
   "source": [
    "- The Quadratic Market Factor does not increase the overall LTCM variation explained by the market.\n",
    "- The squared of SPY is not a good predictor of LTCM returns."
   ]
  },
  {
   "cell_type": "markdown",
   "metadata": {},
   "source": [
    "#### 2.3(c) From the regression evidence, does LTCM’s market exposure behave as if it is long market options or short market options?"
   ]
  },
  {
   "cell_type": "markdown",
   "metadata": {},
   "source": [
    "- LTCM's market exposure is short market options.\n",
    "- The quadratic or square factor is the representative of market options."
   ]
  },
  {
   "cell_type": "markdown",
   "metadata": {},
   "source": [
    "#### 2.3(d) Should we describe LTCM as being positively or negatively exposed to market volatility?"
   ]
  },
  {
   "cell_type": "markdown",
   "metadata": {},
   "source": [
    "- LTCM is negatively exposed to market volatility. This is because the squared term is negative.\n",
    "- Large movements in the market are bad for LTCM."
   ]
  },
  {
   "cell_type": "markdown",
   "metadata": {},
   "source": [
    "## 2.4 Asymmetric Regression\n",
    "Let’s try to pinpoint the nature of LTCM’s nonlinear exposure. Does it come more from exposure to up-markets or down-markets? Run the following regression on LTCM’s net excess returns:\n",
    ">$\\tilde{r}^{LTCM}_{t} = \\alpha + \\beta\\tilde{r}^{m}_{t}+ \\beta_{u}max(\\tilde{r}^{m}_{t}-k_{1}, 0)+ \\beta_{d}max(k_{2}-\\tilde{r}^{m}_{t}, 0)+\\epsilon_{t}$ <br> <br>\n",
    "where $k1 = .03$ and $k2 = −.03$. (This is roughly one standard deviation of $\\tilde{r}^m$ .)"
   ]
  },
  {
   "cell_type": "markdown",
   "metadata": {},
   "source": [
    "### 2.4(a) Report $β$, $β_u$, $β_d$, and the $R^2$ stat."
   ]
  },
  {
   "cell_type": "code",
   "execution_count": 122,
   "metadata": {},
   "outputs": [
    {
     "data": {
      "text/html": [
       "<div>\n",
       "<style scoped>\n",
       "    .dataframe tbody tr th:only-of-type {\n",
       "        vertical-align: middle;\n",
       "    }\n",
       "\n",
       "    .dataframe tbody tr th {\n",
       "        vertical-align: top;\n",
       "    }\n",
       "\n",
       "    .dataframe thead th {\n",
       "        text-align: right;\n",
       "    }\n",
       "</style>\n",
       "<table border=\"1\" class=\"dataframe\">\n",
       "  <thead>\n",
       "    <tr style=\"text-align: right;\">\n",
       "      <th></th>\n",
       "      <th>Regression Parameters</th>\n",
       "    </tr>\n",
       "  </thead>\n",
       "  <tbody>\n",
       "    <tr>\n",
       "      <th>const</th>\n",
       "      <td>0.1012</td>\n",
       "    </tr>\n",
       "    <tr>\n",
       "      <th>SPY (excess)</th>\n",
       "      <td>0.4666</td>\n",
       "    </tr>\n",
       "    <tr>\n",
       "      <th>Up</th>\n",
       "      <td>-0.7821</td>\n",
       "    </tr>\n",
       "    <tr>\n",
       "      <th>Down</th>\n",
       "      <td>1.2896</td>\n",
       "    </tr>\n",
       "    <tr>\n",
       "      <th>r-squared</th>\n",
       "      <td>0.0555</td>\n",
       "    </tr>\n",
       "  </tbody>\n",
       "</table>\n",
       "</div>"
      ],
      "text/plain": [
       "              Regression Parameters\n",
       "const                        0.1012\n",
       "SPY (excess)                 0.4666\n",
       "Up                          -0.7821\n",
       "Down                         1.2896\n",
       "r-squared                    0.0555"
      ]
     },
     "execution_count": 122,
     "metadata": {},
     "output_type": "execute_result"
    }
   ],
   "source": [
    "k1 = .03\n",
    "k2 = -.03\n",
    "\n",
    "ltcm_ex['Up'] = (ltcm_ex['SPY (excess)'] - k1).clip(0)\n",
    "ltcm_ex['Down'] = (k2 - ltcm_ex['SPY (excess)']).clip(0)\n",
    "\n",
    "regress(ltcm_ex['Net Performance (excess)'], ltcm_ex[['SPY (excess)','Up','Down']])"
   ]
  },
  {
   "cell_type": "markdown",
   "metadata": {},
   "source": [
    "### 2.4(b) Is LTCM long or short the call-like factor? And the put-like factor?"
   ]
  },
  {
   "cell_type": "markdown",
   "metadata": {},
   "source": [
    "- $\\beta^{Up}$ is negative so LTCM appears short the call-like factor.\n",
    "- $\\beta^{Down}$ is positive so LTCM appears long the put-like factor."
   ]
  },
  {
   "cell_type": "markdown",
   "metadata": {},
   "source": [
    "### 2.4 (c) Which factor moves LTCM more, the call-like factor, or the put-like factor?"
   ]
  },
  {
   "cell_type": "markdown",
   "metadata": {},
   "source": [
    "The put-like factor moves LTCM more, as its absolute value is larger than the call-like factor."
   ]
  },
  {
   "cell_type": "markdown",
   "metadata": {},
   "source": [
    "### 2.4 (d) In the previous problem, you commented on whether LTCM is positively or negatively exposed to market volatility. Using this current regression, does this volatility exposure come more from being long the market’s upside? Short the market’s downside? Something else?"
   ]
  },
  {
   "cell_type": "markdown",
   "metadata": {},
   "source": [
    "In the previous problem we commented that LTCM is negatively exposed to market vol. This volatility exposure must come more from being short the market's upside, as LTCM is short the call-like factor and long the put-like factor. "
   ]
  },
  {
   "cell_type": "markdown",
   "metadata": {},
   "source": [
    "## 3 The FX Carry Trade"
   ]
  },
  {
   "cell_type": "markdown",
   "metadata": {},
   "source": [
    "Find an Excel data file, “fx carry data.xlsx”. The file has two sets of data:\n",
    "- Risk-free rates across 5 currencies, as measured by annualized 3-month LIBOR rates.\n",
    "- Spot FX rates, as direct quotes to the USD. (Note that all currencies are quoted as USD per the foreign currency.)"
   ]
  },
  {
   "cell_type": "code",
   "execution_count": 123,
   "metadata": {},
   "outputs": [
    {
     "data": {
      "text/html": [
       "<div>\n",
       "<style scoped>\n",
       "    .dataframe tbody tr th:only-of-type {\n",
       "        vertical-align: middle;\n",
       "    }\n",
       "\n",
       "    .dataframe tbody tr th {\n",
       "        vertical-align: top;\n",
       "    }\n",
       "\n",
       "    .dataframe thead th {\n",
       "        text-align: right;\n",
       "    }\n",
       "</style>\n",
       "<table border=\"1\" class=\"dataframe\">\n",
       "  <thead>\n",
       "    <tr style=\"text-align: right;\">\n",
       "      <th></th>\n",
       "      <th>USD1M</th>\n",
       "      <th>GBP1M</th>\n",
       "      <th>EUR1M</th>\n",
       "      <th>CHF1M</th>\n",
       "      <th>JPY1M</th>\n",
       "    </tr>\n",
       "    <tr>\n",
       "      <th>DATE</th>\n",
       "      <th></th>\n",
       "      <th></th>\n",
       "      <th></th>\n",
       "      <th></th>\n",
       "      <th></th>\n",
       "    </tr>\n",
       "  </thead>\n",
       "  <tbody>\n",
       "    <tr>\n",
       "      <th>1999-01-31</th>\n",
       "      <td>0.0041</td>\n",
       "      <td>0.0049</td>\n",
       "      <td>0.0026</td>\n",
       "      <td>0.0010</td>\n",
       "      <td>3.3458e-04</td>\n",
       "    </tr>\n",
       "    <tr>\n",
       "      <th>1999-02-28</th>\n",
       "      <td>0.0041</td>\n",
       "      <td>0.0046</td>\n",
       "      <td>0.0026</td>\n",
       "      <td>0.0010</td>\n",
       "      <td>2.3226e-04</td>\n",
       "    </tr>\n",
       "    <tr>\n",
       "      <th>1999-03-31</th>\n",
       "      <td>0.0041</td>\n",
       "      <td>0.0044</td>\n",
       "      <td>0.0025</td>\n",
       "      <td>0.0010</td>\n",
       "      <td>1.4270e-04</td>\n",
       "    </tr>\n",
       "    <tr>\n",
       "      <th>1999-04-30</th>\n",
       "      <td>0.0041</td>\n",
       "      <td>0.0044</td>\n",
       "      <td>0.0021</td>\n",
       "      <td>0.0008</td>\n",
       "      <td>9.8953e-05</td>\n",
       "    </tr>\n",
       "    <tr>\n",
       "      <th>1999-05-31</th>\n",
       "      <td>0.0041</td>\n",
       "      <td>0.0044</td>\n",
       "      <td>0.0021</td>\n",
       "      <td>0.0008</td>\n",
       "      <td>7.4997e-05</td>\n",
       "    </tr>\n",
       "  </tbody>\n",
       "</table>\n",
       "</div>"
      ],
      "text/plain": [
       "             USD1M   GBP1M   EUR1M   CHF1M       JPY1M\n",
       "DATE                                                  \n",
       "1999-01-31  0.0041  0.0049  0.0026  0.0010  3.3458e-04\n",
       "1999-02-28  0.0041  0.0046  0.0026  0.0010  2.3226e-04\n",
       "1999-03-31  0.0041  0.0044  0.0025  0.0010  1.4270e-04\n",
       "1999-04-30  0.0041  0.0044  0.0021  0.0008  9.8953e-05\n",
       "1999-05-31  0.0041  0.0044  0.0021  0.0008  7.4997e-05"
      ]
     },
     "execution_count": 123,
     "metadata": {},
     "output_type": "execute_result"
    }
   ],
   "source": [
    "rf = pd.read_excel('fx_carry_data.xlsx',1, index_col=0)\n",
    "log_rf = np.log(1 + rf)\n",
    "\n",
    "log_rf.head()"
   ]
  },
  {
   "cell_type": "code",
   "execution_count": 124,
   "metadata": {},
   "outputs": [
    {
     "data": {
      "text/html": [
       "<div>\n",
       "<style scoped>\n",
       "    .dataframe tbody tr th:only-of-type {\n",
       "        vertical-align: middle;\n",
       "    }\n",
       "\n",
       "    .dataframe tbody tr th {\n",
       "        vertical-align: top;\n",
       "    }\n",
       "\n",
       "    .dataframe thead th {\n",
       "        text-align: right;\n",
       "    }\n",
       "</style>\n",
       "<table border=\"1\" class=\"dataframe\">\n",
       "  <thead>\n",
       "    <tr style=\"text-align: right;\">\n",
       "      <th></th>\n",
       "      <th>USUK</th>\n",
       "      <th>USEU</th>\n",
       "      <th>USSZ</th>\n",
       "      <th>USJP</th>\n",
       "    </tr>\n",
       "    <tr>\n",
       "      <th>DATE</th>\n",
       "      <th></th>\n",
       "      <th></th>\n",
       "      <th></th>\n",
       "      <th></th>\n",
       "    </tr>\n",
       "  </thead>\n",
       "  <tbody>\n",
       "    <tr>\n",
       "      <th>1999-01-31</th>\n",
       "      <td>0.4982</td>\n",
       "      <td>0.1285</td>\n",
       "      <td>-0.3484</td>\n",
       "      <td>-4.7536</td>\n",
       "    </tr>\n",
       "    <tr>\n",
       "      <th>1999-02-28</th>\n",
       "      <td>0.4717</td>\n",
       "      <td>0.0949</td>\n",
       "      <td>-0.3712</td>\n",
       "      <td>-4.7766</td>\n",
       "    </tr>\n",
       "    <tr>\n",
       "      <th>1999-03-31</th>\n",
       "      <td>0.4787</td>\n",
       "      <td>0.0777</td>\n",
       "      <td>-0.3904</td>\n",
       "      <td>-4.7743</td>\n",
       "    </tr>\n",
       "    <tr>\n",
       "      <th>1999-04-30</th>\n",
       "      <td>0.4753</td>\n",
       "      <td>0.0549</td>\n",
       "      <td>-0.4225</td>\n",
       "      <td>-4.7827</td>\n",
       "    </tr>\n",
       "    <tr>\n",
       "      <th>1999-05-31</th>\n",
       "      <td>0.4713</td>\n",
       "      <td>0.0413</td>\n",
       "      <td>-0.4240</td>\n",
       "      <td>-4.7948</td>\n",
       "    </tr>\n",
       "  </tbody>\n",
       "</table>\n",
       "</div>"
      ],
      "text/plain": [
       "              USUK    USEU    USSZ    USJP\n",
       "DATE                                      \n",
       "1999-01-31  0.4982  0.1285 -0.3484 -4.7536\n",
       "1999-02-28  0.4717  0.0949 -0.3712 -4.7766\n",
       "1999-03-31  0.4787  0.0777 -0.3904 -4.7743\n",
       "1999-04-30  0.4753  0.0549 -0.4225 -4.7827\n",
       "1999-05-31  0.4713  0.0413 -0.4240 -4.7948"
      ]
     },
     "execution_count": 124,
     "metadata": {},
     "output_type": "execute_result"
    }
   ],
   "source": [
    "fx = pd.read_excel('fx_carry_data.xlsx', 2, index_col=0)\n",
    "\n",
    "log_fx = np.log(fx)\n",
    "\n",
    "log_fx.head()"
   ]
  },
  {
   "cell_type": "markdown",
   "metadata": {},
   "source": [
    "### 3.1. The Static Carry Trade\n",
    "Define the log return of holding the foreign currency using log values of the risk-free rate and log values of the FX rates: <br>\n",
    "$ r^{i}_{t+1} = s^{i}_{t+1} − s^{i}_{t} + r^{f,i}_{t,t+1} $<br><br>\n",
    "Then the excess log return relative to USD, is expressed as <br>\n",
    "$ r^{i}_{t+1} = s^{i}_{t+1} − s^{i}_{t} + r^{f,i}_{t,t+1} - r^{f,\\$}_{t,t+1} $ <br><br>\n",
    "For each foreign currency, $i$, calculate the excess log return series, $ \\tilde{r}_{t+1}$. Report the following\n",
    "stats, (based on the excess log returns.) Annualize them."
   ]
  },
  {
   "cell_type": "markdown",
   "metadata": {},
   "source": [
    "- mean\n",
    "- volatility\n",
    "- Sharpe ratio <br>\n",
    "What differences do you see across currencies?"
   ]
  },
  {
   "cell_type": "code",
   "execution_count": 125,
   "metadata": {},
   "outputs": [
    {
     "data": {
      "text/html": [
       "<div>\n",
       "<style scoped>\n",
       "    .dataframe tbody tr th:only-of-type {\n",
       "        vertical-align: middle;\n",
       "    }\n",
       "\n",
       "    .dataframe tbody tr th {\n",
       "        vertical-align: top;\n",
       "    }\n",
       "\n",
       "    .dataframe thead th {\n",
       "        text-align: right;\n",
       "    }\n",
       "</style>\n",
       "<table border=\"1\" class=\"dataframe\">\n",
       "  <thead>\n",
       "    <tr style=\"text-align: right;\">\n",
       "      <th></th>\n",
       "      <th>USUK</th>\n",
       "      <th>USEU</th>\n",
       "      <th>USSZ</th>\n",
       "      <th>USJP</th>\n",
       "    </tr>\n",
       "    <tr>\n",
       "      <th>DATE</th>\n",
       "      <th></th>\n",
       "      <th></th>\n",
       "      <th></th>\n",
       "      <th></th>\n",
       "    </tr>\n",
       "  </thead>\n",
       "  <tbody>\n",
       "    <tr>\n",
       "      <th>1999-02-28</th>\n",
       "      <td>-0.0257</td>\n",
       "      <td>-0.0351</td>\n",
       "      <td>-0.0259</td>\n",
       "      <td>-0.0268</td>\n",
       "    </tr>\n",
       "    <tr>\n",
       "      <th>1999-03-31</th>\n",
       "      <td>0.0075</td>\n",
       "      <td>-0.0187</td>\n",
       "      <td>-0.0222</td>\n",
       "      <td>-0.0016</td>\n",
       "    </tr>\n",
       "    <tr>\n",
       "      <th>1999-04-30</th>\n",
       "      <td>-0.0031</td>\n",
       "      <td>-0.0245</td>\n",
       "      <td>-0.0352</td>\n",
       "      <td>-0.0124</td>\n",
       "    </tr>\n",
       "    <tr>\n",
       "      <th>1999-05-31</th>\n",
       "      <td>-0.0037</td>\n",
       "      <td>-0.0155</td>\n",
       "      <td>-0.0048</td>\n",
       "      <td>-0.0160</td>\n",
       "    </tr>\n",
       "    <tr>\n",
       "      <th>1999-06-30</th>\n",
       "      <td>-0.0157</td>\n",
       "      <td>-0.0128</td>\n",
       "      <td>-0.0211</td>\n",
       "      <td>-0.0045</td>\n",
       "    </tr>\n",
       "  </tbody>\n",
       "</table>\n",
       "</div>"
      ],
      "text/plain": [
       "              USUK    USEU    USSZ    USJP\n",
       "DATE                                      \n",
       "1999-02-28 -0.0257 -0.0351 -0.0259 -0.0268\n",
       "1999-03-31  0.0075 -0.0187 -0.0222 -0.0016\n",
       "1999-04-30 -0.0031 -0.0245 -0.0352 -0.0124\n",
       "1999-05-31 -0.0037 -0.0155 -0.0048 -0.0160\n",
       "1999-06-30 -0.0157 -0.0128 -0.0211 -0.0045"
      ]
     },
     "execution_count": 125,
     "metadata": {},
     "output_type": "execute_result"
    }
   ],
   "source": [
    "log_rf_ex = log_rf.subtract(log_rf['USD1M'], axis=0)[log_rf.columns[1:]]\n",
    "\n",
    "log_rf_ex_col = log_rf_ex.copy()\n",
    "\n",
    "log_rf_ex_col.columns = log_fx.columns\n",
    "\n",
    "ret = (log_rf_ex_col.shift() + log_fx.diff()).dropna()\n",
    "\n",
    "ret.head()"
   ]
  },
  {
   "cell_type": "code",
   "execution_count": 126,
   "metadata": {},
   "outputs": [
    {
     "data": {
      "text/html": [
       "<div>\n",
       "<style scoped>\n",
       "    .dataframe tbody tr th:only-of-type {\n",
       "        vertical-align: middle;\n",
       "    }\n",
       "\n",
       "    .dataframe tbody tr th {\n",
       "        vertical-align: top;\n",
       "    }\n",
       "\n",
       "    .dataframe thead th {\n",
       "        text-align: right;\n",
       "    }\n",
       "</style>\n",
       "<table border=\"1\" class=\"dataframe\">\n",
       "  <thead>\n",
       "    <tr style=\"text-align: right;\">\n",
       "      <th></th>\n",
       "      <th>mean</th>\n",
       "      <th>volatility</th>\n",
       "      <th>sharpe_ratio</th>\n",
       "    </tr>\n",
       "  </thead>\n",
       "  <tbody>\n",
       "    <tr>\n",
       "      <th>USUK</th>\n",
       "      <td>-0.0035</td>\n",
       "      <td>0.0863</td>\n",
       "      <td>-0.0406</td>\n",
       "    </tr>\n",
       "    <tr>\n",
       "      <th>USEU</th>\n",
       "      <td>-0.0044</td>\n",
       "      <td>0.0947</td>\n",
       "      <td>-0.0459</td>\n",
       "    </tr>\n",
       "    <tr>\n",
       "      <th>USSZ</th>\n",
       "      <td>0.0043</td>\n",
       "      <td>0.0988</td>\n",
       "      <td>0.0437</td>\n",
       "    </tr>\n",
       "    <tr>\n",
       "      <th>USJP</th>\n",
       "      <td>-0.0174</td>\n",
       "      <td>0.0915</td>\n",
       "      <td>-0.1903</td>\n",
       "    </tr>\n",
       "  </tbody>\n",
       "</table>\n",
       "</div>"
      ],
      "text/plain": [
       "        mean  volatility  sharpe_ratio\n",
       "USUK -0.0035      0.0863       -0.0406\n",
       "USEU -0.0044      0.0947       -0.0459\n",
       "USSZ  0.0043      0.0988        0.0437\n",
       "USJP -0.0174      0.0915       -0.1903"
      ]
     },
     "execution_count": 126,
     "metadata": {},
     "output_type": "execute_result"
    }
   ],
   "source": [
    "mean_vol_sharpe(ret)"
   ]
  },
  {
   "cell_type": "markdown",
   "metadata": {},
   "source": [
    "### What differences do you see across currencies?"
   ]
  },
  {
   "cell_type": "markdown",
   "metadata": {},
   "source": [
    "THe VOLs are similar across currencies. THe USD/JPY FX pair has the lowest sharpe ratio. The means are very low except for the USD/JPY FX pair, which has a -1.7% mean."
   ]
  },
  {
   "cell_type": "markdown",
   "metadata": {},
   "source": [
    "### 3.2 Implications for UIP:"
   ]
  },
  {
   "cell_type": "markdown",
   "metadata": {},
   "source": [
    "#### 3.2 (a) Do any of these stats contradict the (log version) of Uncovered Interest Parity (UIP)?"
   ]
  },
  {
   "cell_type": "markdown",
   "metadata": {},
   "source": [
    "- The above results show that the mean return across FX pairs are not zero, though they are very small and could be considered zero. This contradicts the UIP.\n",
    "- USD and JPY pair show a mean more than 1%, maybe indicative of market inefficiencies."
   ]
  },
  {
   "cell_type": "markdown",
   "metadata": {},
   "source": [
    "### 3.2(b) A long position in which foreign currency offered the best Sharpe ratio over the sample?"
   ]
  },
  {
   "cell_type": "markdown",
   "metadata": {},
   "source": [
    "- THe only curency which offers a positive Shapre ratio for being long is USD/CHF."
   ]
  },
  {
   "cell_type": "markdown",
   "metadata": {},
   "source": [
    "### 3.2(c) Are there any foreign currencies for which a long position earned a negative excess return (in USD) over the sample?"
   ]
  },
  {
   "cell_type": "markdown",
   "metadata": {},
   "source": [
    "- JPY, EUR and GBP all have negative excess returns."
   ]
  },
  {
   "cell_type": "markdown",
   "metadata": {},
   "source": [
    "## 3.3 Predicting FX\n",
    "For each foreign currency, test whether interest-rate differentials can predict growth in the foreign-exchange rate. Do this by estimating the following forecasting regression: <br><br>\n",
    "> $s^{i}_{t+1}-s^{i}_{t}=\\alpha^{i}+\\beta^{i}(r^{f,\\$}_{t,t+1}-r^{f,i}_{t,t+1})+\\epsilon^{i}_{t+1}$ <br> <br>\n",
    "where $r^{f,i}$ denotes the risk-free rate of currency $i$, and $s^i$ denotes the FX rate for currency $i$.\n",
    "Again, note that both $r^{f,\\$}_{t,t+1}$ and $s_t$ are determined at time $t$.\n"
   ]
  },
  {
   "cell_type": "markdown",
   "metadata": {},
   "source": [
    "#### 3.3(a) Make a table with columns corresponding to a different currency regression. Report the regression estimates $α_i$ and $β_i$ in the first two rows. Report the $R^2$ stat in the third row."
   ]
  },
  {
   "cell_type": "code",
   "execution_count": 127,
   "metadata": {},
   "outputs": [
    {
     "data": {
      "text/html": [
       "<div>\n",
       "<style scoped>\n",
       "    .dataframe tbody tr th:only-of-type {\n",
       "        vertical-align: middle;\n",
       "    }\n",
       "\n",
       "    .dataframe tbody tr th {\n",
       "        vertical-align: top;\n",
       "    }\n",
       "\n",
       "    .dataframe thead th {\n",
       "        text-align: right;\n",
       "    }\n",
       "</style>\n",
       "<table border=\"1\" class=\"dataframe\">\n",
       "  <thead>\n",
       "    <tr style=\"text-align: right;\">\n",
       "      <th></th>\n",
       "      <th>USUK</th>\n",
       "      <th>USEU</th>\n",
       "      <th>USSZ</th>\n",
       "      <th>USJP</th>\n",
       "    </tr>\n",
       "  </thead>\n",
       "  <tbody>\n",
       "    <tr>\n",
       "      <th>alpha</th>\n",
       "      <td>-0.0059</td>\n",
       "      <td>0.0070</td>\n",
       "      <td>0.0436</td>\n",
       "      <td>-0.0060</td>\n",
       "    </tr>\n",
       "    <tr>\n",
       "      <th>beta</th>\n",
       "      <td>0.4858</td>\n",
       "      <td>-1.2564</td>\n",
       "      <td>-1.6466</td>\n",
       "      <td>0.3715</td>\n",
       "    </tr>\n",
       "    <tr>\n",
       "      <th>r-squared</th>\n",
       "      <td>0.0004</td>\n",
       "      <td>0.0026</td>\n",
       "      <td>0.0039</td>\n",
       "      <td>0.0005</td>\n",
       "    </tr>\n",
       "  </tbody>\n",
       "</table>\n",
       "</div>"
      ],
      "text/plain": [
       "             USUK    USEU    USSZ    USJP\n",
       "alpha     -0.0059  0.0070  0.0436 -0.0060\n",
       "beta       0.4858 -1.2564 -1.6466  0.3715\n",
       "r-squared  0.0004  0.0026  0.0039  0.0005"
      ]
     },
     "execution_count": 127,
     "metadata": {},
     "output_type": "execute_result"
    }
   ],
   "source": [
    "ys = log_fx.diff().dropna()\n",
    "Xs = -log_rf_ex.shift().dropna()\n",
    "\n",
    "fx_reg_pred = pd.DataFrame(data = None, index = [r'alpha',r'beta',r'r-squared'])\n",
    "\n",
    "for i in range(0,len(ys.columns)):\n",
    "    fx_reg_pred[ys.columns[i]] = regress(ys[ys.columns[i]],Xs[Xs.columns[i]])['Regression Parameters'].values\n",
    "    \n",
    "fx_reg_pred"
   ]
  },
  {
   "cell_type": "markdown",
   "metadata": {},
   "source": [
    "#### 3.3(b) Suppose the foreign risk-free rate increases relative to the US rate.\n",
    "#### i. For which foreign currencies would we predict a relative strengthening of the USD in the following period?\n",
    "Ans:- If the foreign risk-free rate increases relative to the US rate, we would predict a relative strengthening of the USD against GBP and JPY. This is beacuse the regression coefficients for these currencies are positive. Hence if  $r^{f,\\$}_{t,t+1}-r^{f,i}_{t,t+1}$  is negative, with a positive regression coefficient, we would predict a relative strengthening of the USD, i.e., $s^{i}_{t+1}-s^{i}_{t}$ is positive.\n"
   ]
  },
  {
   "cell_type": "markdown",
   "metadata": {},
   "source": [
    "### ii. For which currencies would we predict relative weakening of the USD in the following period?"
   ]
  },
  {
   "cell_type": "markdown",
   "metadata": {},
   "source": [
    "Ans: If the foreign risk-free rate increases relative to the US rate, we would predict a relative weakening of the USD against EUR and CHF. This is beacuse the regression coefficients for these currencies are negative. Hence if  $r^{f,\\$}_{t,t+1}-r^{f,i}_{t,t+1}$  is negative, with a negative regression coefficient, we would predict a relative weakening of the USD, i.e., $s^{i}_{t+1}-s^{i}_{t}$ is negative."
   ]
  },
  {
   "cell_type": "markdown",
   "metadata": {},
   "source": [
    "### iii. This FX predictability is strongest in the case of which foreign currency?"
   ]
  },
  {
   "cell_type": "markdown",
   "metadata": {},
   "source": [
    "The FX predictability is the strongest in the case of EUR currency. It has a very high regression coefficient of -1.2. Also, the alpha (unexplained part of the regression) is very low."
   ]
  },
  {
   "cell_type": "markdown",
   "metadata": {},
   "source": [
    "## 3.4. The Dynamic Carry Trade\n",
    "Use this to write $\\mathbb{E}_t [\\tilde{r}^{i}_{t+1}]$ as a function of the interest-rate differential as well as $α$ and $β$ from this FX regression. <br>\n",
    "$\\mathbb{E}_t [s_{t+1} - s_{t}] = \\alpha + \\beta(r^{f,\\$}_{t,t+1}-r^{f,i}_{t,t+1})$ <br><br>\n",
    "Then use the definition of excess (log) returns on FX: <br>\n",
    "$\\tilde{r}^{i}_{t+1} = s_{t+1} - s_{t} - (r^{f,\\$}_{t,t+1} - r^{f,i}_{t,t+1})$ <br><br>\n",
    "Rearranging, this implies the following forecast for excess log returns: <br>\n",
    "$\\mathbb{E}[\\tilde{r}^{i}_{t+1}] = \\alpha + (\\beta - 1)(r^{f,\\$}_{t,t+1}-r^{f,i}_{t,t+1})$ <br><br>"
   ]
  },
  {
   "cell_type": "markdown",
   "metadata": {},
   "source": [
    "### 3.4(a) Use your regression estimates from Problem 3 along with the formula above to calculate the fraction of months for which the estimated FX risk premium positive. That is, for each i, calculate how often in the time-series we have\n",
    "$\\mathbb{E}[\\tilde{r}^{i}_{t+1}] > 0$."
   ]
  },
  {
   "cell_type": "code",
   "execution_count": 128,
   "metadata": {},
   "outputs": [
    {
     "data": {
      "text/html": [
       "<div>\n",
       "<style scoped>\n",
       "    .dataframe tbody tr th:only-of-type {\n",
       "        vertical-align: middle;\n",
       "    }\n",
       "\n",
       "    .dataframe tbody tr th {\n",
       "        vertical-align: top;\n",
       "    }\n",
       "\n",
       "    .dataframe thead th {\n",
       "        text-align: right;\n",
       "    }\n",
       "</style>\n",
       "<table border=\"1\" class=\"dataframe\">\n",
       "  <thead>\n",
       "    <tr style=\"text-align: right;\">\n",
       "      <th></th>\n",
       "      <th>USUK</th>\n",
       "      <th>USEU</th>\n",
       "      <th>USSZ</th>\n",
       "      <th>USJP</th>\n",
       "    </tr>\n",
       "    <tr>\n",
       "      <th>DATE</th>\n",
       "      <th></th>\n",
       "      <th></th>\n",
       "      <th></th>\n",
       "      <th></th>\n",
       "    </tr>\n",
       "  </thead>\n",
       "  <tbody>\n",
       "    <tr>\n",
       "      <th>1999-02-28</th>\n",
       "      <td>-6.8394e-05</td>\n",
       "      <td>-0.0028</td>\n",
       "      <td>-0.0046</td>\n",
       "      <td>-0.0029</td>\n",
       "    </tr>\n",
       "    <tr>\n",
       "      <th>1999-03-31</th>\n",
       "      <td>-2.3875e-04</td>\n",
       "      <td>-0.0029</td>\n",
       "      <td>-0.0046</td>\n",
       "      <td>-0.0029</td>\n",
       "    </tr>\n",
       "    <tr>\n",
       "      <th>1999-04-30</th>\n",
       "      <td>-3.2543e-04</td>\n",
       "      <td>-0.0031</td>\n",
       "      <td>-0.0046</td>\n",
       "      <td>-0.0030</td>\n",
       "    </tr>\n",
       "    <tr>\n",
       "      <th>1999-05-31</th>\n",
       "      <td>-3.2588e-04</td>\n",
       "      <td>-0.0038</td>\n",
       "      <td>-0.0050</td>\n",
       "      <td>-0.0030</td>\n",
       "    </tr>\n",
       "    <tr>\n",
       "      <th>1999-06-30</th>\n",
       "      <td>-3.3511e-04</td>\n",
       "      <td>-0.0039</td>\n",
       "      <td>-0.0050</td>\n",
       "      <td>-0.0030</td>\n",
       "    </tr>\n",
       "  </tbody>\n",
       "</table>\n",
       "</div>"
      ],
      "text/plain": [
       "                  USUK    USEU    USSZ    USJP\n",
       "DATE                                          \n",
       "1999-02-28 -6.8394e-05 -0.0028 -0.0046 -0.0029\n",
       "1999-03-31 -2.3875e-04 -0.0029 -0.0046 -0.0029\n",
       "1999-04-30 -3.2543e-04 -0.0031 -0.0046 -0.0030\n",
       "1999-05-31 -3.2588e-04 -0.0038 -0.0050 -0.0030\n",
       "1999-06-30 -3.3511e-04 -0.0039 -0.0050 -0.0030"
      ]
     },
     "execution_count": 128,
     "metadata": {},
     "output_type": "execute_result"
    }
   ],
   "source": [
    "alphas = (fx_reg_pred.loc[r'alpha'] / 12)\n",
    "betas = fx_reg_pred.loc[r'beta']\n",
    "Xs.columns = fx_reg_pred.columns\n",
    "\n",
    "ret_ex_forecast = alphas.values + ((betas - 1) * Xs)\n",
    "\n",
    "ret_ex_forecast.head()"
   ]
  },
  {
   "cell_type": "code",
   "execution_count": 129,
   "metadata": {},
   "outputs": [
    {
     "data": {
      "text/html": [
       "<div>\n",
       "<style scoped>\n",
       "    .dataframe tbody tr th:only-of-type {\n",
       "        vertical-align: middle;\n",
       "    }\n",
       "\n",
       "    .dataframe tbody tr th {\n",
       "        vertical-align: top;\n",
       "    }\n",
       "\n",
       "    .dataframe thead th {\n",
       "        text-align: right;\n",
       "    }\n",
       "</style>\n",
       "<table border=\"1\" class=\"dataframe\">\n",
       "  <thead>\n",
       "    <tr style=\"text-align: right;\">\n",
       "      <th></th>\n",
       "      <th>USUK</th>\n",
       "      <th>USEU</th>\n",
       "      <th>USSZ</th>\n",
       "      <th>USJP</th>\n",
       "    </tr>\n",
       "  </thead>\n",
       "  <tbody>\n",
       "    <tr>\n",
       "      <th>% of Months</th>\n",
       "      <td>23.8095</td>\n",
       "      <td>50.1832</td>\n",
       "      <td>63.0037</td>\n",
       "      <td>0.0</td>\n",
       "    </tr>\n",
       "  </tbody>\n",
       "</table>\n",
       "</div>"
      ],
      "text/plain": [
       "                USUK     USEU     USSZ  USJP\n",
       "% of Months  23.8095  50.1832  63.0037   0.0"
      ]
     },
     "execution_count": 129,
     "metadata": {},
     "output_type": "execute_result"
    }
   ],
   "source": [
    "month_frac = pd.DataFrame(data = None, columns = ret_ex_forecast.columns, index = ['% of Months'])\n",
    "\n",
    "for col in ret_ex_forecast.columns:\n",
    "    month_frac[col] = (len(ret_ex_forecast[ret_ex_forecast[col] > 0])/len(ret_ex_forecast)) * 100\n",
    "\n",
    "ret_ex_forecast\n",
    "\n",
    "month_frac"
   ]
  },
  {
   "cell_type": "markdown",
   "metadata": {},
   "source": [
    "### 3.4 (b) Which currencies most consistently have a positive FX risk premium? And for which currencies does the FX risk premium most often go negative?"
   ]
  },
  {
   "cell_type": "markdown",
   "metadata": {},
   "source": [
    "GBP, EUR and CHF have positive FX risk premium 24%, 50% and 63% of the time respectively. JPY on the other hand has a negative FX risk premium all the time."
   ]
  },
  {
   "cell_type": "markdown",
   "metadata": {},
   "source": [
    "### 3.4(c) Explain how we could use these conditional risk premia to improve the static carry trade returns calculated in Problem 1."
   ]
  },
  {
   "cell_type": "markdown",
   "metadata": {},
   "source": [
    "Forecasts of excess returns can be used for construction of a dynamic trading position. We could time the magnitude and direction of the currency trade based on the betas and alphas of the regression. We could also use the conditional risk premia to improve the static carry trade returns calculated in Problem 1. This is all assuming that the in-sample results we see here are even applicable out of sample."
   ]
  }
 ],
 "metadata": {
  "kernelspec": {
   "display_name": "Python 3.9.7 ('base')",
   "language": "python",
   "name": "python3"
  },
  "language_info": {
   "codemirror_mode": {
    "name": "ipython",
    "version": 3
   },
   "file_extension": ".py",
   "mimetype": "text/x-python",
   "name": "python",
   "nbconvert_exporter": "python",
   "pygments_lexer": "ipython3",
   "version": "3.9.7"
  },
  "orig_nbformat": 4,
  "vscode": {
   "interpreter": {
    "hash": "5e62c483ecf48ad4e1bb5f903abeb626d4ffc56eab47e05d9eff835eeb907be7"
   }
  }
 },
 "nbformat": 4,
 "nbformat_minor": 2
}
