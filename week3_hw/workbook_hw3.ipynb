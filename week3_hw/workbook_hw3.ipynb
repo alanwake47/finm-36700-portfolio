{
 "cells": [
  {
   "cell_type": "markdown",
   "metadata": {},
   "source": [
    "## 1 Modeling Volatility and VaR"
   ]
  },
  {
   "cell_type": "code",
   "execution_count": 204,
   "metadata": {},
   "outputs": [],
   "source": [
    "import pandas as pd\n",
    "import numpy as np\n",
    "import matplotlib.pyplot as plt\n",
    "import statsmodels.api as sm\n",
    "from arch import arch_model\n",
    "from arch.univariate import GARCH, EWMAVariance \n",
    "from sklearn import linear_model\n",
    "import scipy.stats as stats\n",
    "from statsmodels.regression.rolling import RollingOLS\n",
    "import seaborn as sns\n",
    "import warnings\n",
    "from scipy.stats import norm\n",
    "warnings.filterwarnings(\"ignore\")\n",
    "pd.set_option(\"display.precision\", 4)"
   ]
  },
  {
   "cell_type": "code",
   "execution_count": 205,
   "metadata": {},
   "outputs": [
    {
     "data": {
      "text/html": [
       "<div>\n",
       "<style scoped>\n",
       "    .dataframe tbody tr th:only-of-type {\n",
       "        vertical-align: middle;\n",
       "    }\n",
       "\n",
       "    .dataframe tbody tr th {\n",
       "        vertical-align: top;\n",
       "    }\n",
       "\n",
       "    .dataframe thead th {\n",
       "        text-align: right;\n",
       "    }\n",
       "</style>\n",
       "<table border=\"1\" class=\"dataframe\">\n",
       "  <thead>\n",
       "    <tr style=\"text-align: right;\">\n",
       "      <th></th>\n",
       "      <th>SPX</th>\n",
       "      <th>TB1M</th>\n",
       "    </tr>\n",
       "    <tr>\n",
       "      <th>date</th>\n",
       "      <th></th>\n",
       "      <th></th>\n",
       "    </tr>\n",
       "  </thead>\n",
       "  <tbody>\n",
       "    <tr>\n",
       "      <th>1926-01-30</th>\n",
       "      <td>-0.0018</td>\n",
       "      <td>0.0031</td>\n",
       "    </tr>\n",
       "    <tr>\n",
       "      <th>1926-02-27</th>\n",
       "      <td>-0.0333</td>\n",
       "      <td>0.0026</td>\n",
       "    </tr>\n",
       "  </tbody>\n",
       "</table>\n",
       "</div>"
      ],
      "text/plain": [
       "               SPX    TB1M\n",
       "date                      \n",
       "1926-01-30 -0.0018  0.0031\n",
       "1926-02-27 -0.0333  0.0026"
      ]
     },
     "execution_count": 205,
     "metadata": {},
     "output_type": "execute_result"
    }
   ],
   "source": [
    "df = pd.read_excel('barnstable_analysis_data.xlsx', sheet_name = 'data', index_col = 0)\n",
    "df.head(2)"
   ]
  },
  {
   "cell_type": "markdown",
   "metadata": {},
   "source": [
    "For the full sample of SPY returns, 1926-2022, calculate the LEVEL, (not log,) excess market returns (against the treasury returns.) We use this level excess return data throughout this section"
   ]
  },
  {
   "cell_type": "code",
   "execution_count": 206,
   "metadata": {},
   "outputs": [
    {
     "data": {
      "text/html": [
       "<div>\n",
       "<style scoped>\n",
       "    .dataframe tbody tr th:only-of-type {\n",
       "        vertical-align: middle;\n",
       "    }\n",
       "\n",
       "    .dataframe tbody tr th {\n",
       "        vertical-align: top;\n",
       "    }\n",
       "\n",
       "    .dataframe thead th {\n",
       "        text-align: right;\n",
       "    }\n",
       "</style>\n",
       "<table border=\"1\" class=\"dataframe\">\n",
       "  <thead>\n",
       "    <tr style=\"text-align: right;\">\n",
       "      <th></th>\n",
       "      <th>SPX</th>\n",
       "      <th>TB1M</th>\n",
       "      <th>excess_return</th>\n",
       "    </tr>\n",
       "    <tr>\n",
       "      <th>date</th>\n",
       "      <th></th>\n",
       "      <th></th>\n",
       "      <th></th>\n",
       "    </tr>\n",
       "  </thead>\n",
       "  <tbody>\n",
       "    <tr>\n",
       "      <th>1926-01-30</th>\n",
       "      <td>-0.0018</td>\n",
       "      <td>0.0031</td>\n",
       "      <td>-0.0048</td>\n",
       "    </tr>\n",
       "    <tr>\n",
       "      <th>1926-02-27</th>\n",
       "      <td>-0.0333</td>\n",
       "      <td>0.0026</td>\n",
       "      <td>-0.0359</td>\n",
       "    </tr>\n",
       "    <tr>\n",
       "      <th>1926-03-31</th>\n",
       "      <td>-0.0577</td>\n",
       "      <td>0.0026</td>\n",
       "      <td>-0.0603</td>\n",
       "    </tr>\n",
       "    <tr>\n",
       "      <th>1926-04-30</th>\n",
       "      <td>0.0385</td>\n",
       "      <td>0.0023</td>\n",
       "      <td>0.0363</td>\n",
       "    </tr>\n",
       "    <tr>\n",
       "      <th>1926-05-28</th>\n",
       "      <td>0.0136</td>\n",
       "      <td>0.0027</td>\n",
       "      <td>0.0109</td>\n",
       "    </tr>\n",
       "  </tbody>\n",
       "</table>\n",
       "</div>"
      ],
      "text/plain": [
       "               SPX    TB1M  excess_return\n",
       "date                                     \n",
       "1926-01-30 -0.0018  0.0031        -0.0048\n",
       "1926-02-27 -0.0333  0.0026        -0.0359\n",
       "1926-03-31 -0.0577  0.0026        -0.0603\n",
       "1926-04-30  0.0385  0.0023         0.0363\n",
       "1926-05-28  0.0136  0.0027         0.0109"
      ]
     },
     "execution_count": 206,
     "metadata": {},
     "output_type": "execute_result"
    }
   ],
   "source": [
    "df['excess_return'] = df['SPX'] - df['TB1M']\n",
    "df.dropna(inplace=True)\n",
    "df.head(5)"
   ]
  },
  {
   "cell_type": "markdown",
   "metadata": {},
   "source": [
    "### 1. Historic VaR.\n",
    "\n",
    "Starting at t = 61, calculate the historic-based VaR, based on the expanding sample from period 1 (Jan 1926) to t − 1. By historic VaR, we mean simply taking the 5th quantile for the historic sample up to time t − 1. Of course, a sample size that is not a multiple of 100 will require some interpolation to get a 5th quantile. Your statistical package should handle this fine.\n",
    "\n",
    "Denote this as $ \\tilde{r}^{VaR,0.5}_{t,historic} $, which is the best estimate of the time-t VaR based on data through\n",
    "t−1.\n",
    "\n",
    "- (a) Plot $ \\tilde{r}^{VaR,0.5}_{t,historic} $ over time.\n",
    "- (b) Calculate the frequency of periods in which $ \\tilde{r}_t $ < $ \\tilde{r}^{VaR,0.5}_{t,historic} $.\n",
    "- (c) What drawbacks do you see in this historic VaR?"
   ]
  },
  {
   "cell_type": "code",
   "execution_count": 207,
   "metadata": {},
   "outputs": [
    {
     "data": {
      "text/plain": [
       "Text(0, 0.5, 'VaR')"
      ]
     },
     "execution_count": 207,
     "metadata": {},
     "output_type": "execute_result"
    },
    {
     "data": {
      "image/png": "[encoded data removed]",
      "text/plain": [
       "<Figure size 720x432 with 1 Axes>"
      ]
     },
     "metadata": {
      "needs_background": "light"
     },
     "output_type": "display_data"
    }
   ],
   "source": [
    "histsim_var = df['excess_return'].shift().expanding(min_periods = 60).quantile(.05)\n",
    "histsim_var.plot(figsize = (10, 6), title = 'Historical Simulation VaR')\n",
    "plt.ylabel('VaR')"
   ]
  },
  {
   "cell_type": "code",
   "execution_count": 208,
   "metadata": {},
   "outputs": [
    {
     "name": "stdout",
     "output_type": "stream",
     "text": [
      "3.03%\n"
     ]
    }
   ],
   "source": [
    "#Frequency of periods for which r < r_var\n",
    "\n",
    "#Number of days where excess return is less than VaR divided by total number of Days\n",
    "\n",
    "frq = round(len(df[df['excess_return']<histsim_var])/len(histsim_var.dropna()),4)\n",
    "print (\"{:.2%}\".format(frq))"
   ]
  },
  {
   "cell_type": "markdown",
   "metadata": {},
   "source": [
    "#### Drawbacks of historical var\n",
    "- VaR is backward looking, as in, it only looks at historical data.\n",
    "- VaR also places equal weightage on all observations, which is not ideal. This is due to the fact that historical data from long back is weigted equivalent to recent historical data."
   ]
  },
  {
   "cell_type": "markdown",
   "metadata": {},
   "source": [
    "## 2. Volatility"
   ]
  },
  {
   "cell_type": "markdown",
   "metadata": {},
   "source": [
    "We will calculate a time-series of volatility estimates using a few different methods. For each, we use $ σ_t $ to denote our estimate of the time-t return volatility, as based on data over periods 1 (Jan 1926) through t − 1, but not including t itself."
   ]
  },
  {
   "cell_type": "markdown",
   "metadata": {},
   "source": [
    "- Expanding Series:\n",
    " $ \\sigma ^{2}_{t,expanding}=\\dfrac {1}{t-1}\\sum ^{t-1}_{\\tau =1}\\tilde {r}^{2}_{\\tau} $\n",
    "- Begin the calculation at t = 61, so that the first estimate is based on 60 data points.\n",
    "- Rolling Window:\n",
    " $ \\sigma ^{2}_{t,rolling}=\\dfrac {1}{m}\\sum ^{m}_{l =1}\\tilde {r}^{2}_{t-l} $\n",
    "- Use m = 60, and begin the calculation at the t = 61, (so that the calculation has a full 60\n",
    "data points.)"
   ]
  },
  {
   "cell_type": "markdown",
   "metadata": {},
   "source": [
    "### (a) For each of these two methods, plot $ σ_t $. (Plot the vol, not the variance.)"
   ]
  },
  {
   "cell_type": "code",
   "execution_count": 209,
   "metadata": {},
   "outputs": [
    {
     "data": {
      "text/html": [
       "<div>\n",
       "<style scoped>\n",
       "    .dataframe tbody tr th:only-of-type {\n",
       "        vertical-align: middle;\n",
       "    }\n",
       "\n",
       "    .dataframe tbody tr th {\n",
       "        vertical-align: top;\n",
       "    }\n",
       "\n",
       "    .dataframe thead th {\n",
       "        text-align: right;\n",
       "    }\n",
       "</style>\n",
       "<table border=\"1\" class=\"dataframe\">\n",
       "  <thead>\n",
       "    <tr style=\"text-align: right;\">\n",
       "      <th></th>\n",
       "      <th>expanding_window</th>\n",
       "      <th>rolling_window</th>\n",
       "    </tr>\n",
       "    <tr>\n",
       "      <th>date</th>\n",
       "      <th></th>\n",
       "      <th></th>\n",
       "    </tr>\n",
       "  </thead>\n",
       "  <tbody>\n",
       "    <tr>\n",
       "      <th>1931-01-31</th>\n",
       "      <td>0.0601</td>\n",
       "      <td>0.0601</td>\n",
       "    </tr>\n",
       "    <tr>\n",
       "      <th>1931-02-28</th>\n",
       "      <td>0.0601</td>\n",
       "      <td>0.0606</td>\n",
       "    </tr>\n",
       "    <tr>\n",
       "      <th>1931-03-31</th>\n",
       "      <td>0.0612</td>\n",
       "      <td>0.0621</td>\n",
       "    </tr>\n",
       "    <tr>\n",
       "      <th>1931-04-30</th>\n",
       "      <td>0.0614</td>\n",
       "      <td>0.0622</td>\n",
       "    </tr>\n",
       "    <tr>\n",
       "      <th>1931-05-29</th>\n",
       "      <td>0.0620</td>\n",
       "      <td>0.0632</td>\n",
       "    </tr>\n",
       "    <tr>\n",
       "      <th>...</th>\n",
       "      <td>...</td>\n",
       "      <td>...</td>\n",
       "    </tr>\n",
       "    <tr>\n",
       "      <th>2022-04-29</th>\n",
       "      <td>0.0546</td>\n",
       "      <td>0.0471</td>\n",
       "    </tr>\n",
       "    <tr>\n",
       "      <th>2022-05-31</th>\n",
       "      <td>0.0547</td>\n",
       "      <td>0.0484</td>\n",
       "    </tr>\n",
       "    <tr>\n",
       "      <th>2022-06-30</th>\n",
       "      <td>0.0546</td>\n",
       "      <td>0.0484</td>\n",
       "    </tr>\n",
       "    <tr>\n",
       "      <th>2022-07-29</th>\n",
       "      <td>0.0547</td>\n",
       "      <td>0.0495</td>\n",
       "    </tr>\n",
       "    <tr>\n",
       "      <th>2022-08-31</th>\n",
       "      <td>0.0547</td>\n",
       "      <td>0.0508</td>\n",
       "    </tr>\n",
       "  </tbody>\n",
       "</table>\n",
       "<p>1088 rows × 2 columns</p>\n",
       "</div>"
      ],
      "text/plain": [
       "            expanding_window  rolling_window\n",
       "date                                        \n",
       "1931-01-31            0.0601          0.0601\n",
       "1931-02-28            0.0601          0.0606\n",
       "1931-03-31            0.0612          0.0621\n",
       "1931-04-30            0.0614          0.0622\n",
       "1931-05-29            0.0620          0.0632\n",
       "...                      ...             ...\n",
       "2022-04-29            0.0546          0.0471\n",
       "2022-05-31            0.0547          0.0484\n",
       "2022-06-30            0.0546          0.0484\n",
       "2022-07-29            0.0547          0.0495\n",
       "2022-08-31            0.0547          0.0508\n",
       "\n",
       "[1088 rows x 2 columns]"
      ]
     },
     "execution_count": 209,
     "metadata": {},
     "output_type": "execute_result"
    }
   ],
   "source": [
    "vol = np.sqrt(pd.DataFrame((df['excess_return']**2).shift().expanding(min_periods=60).mean()))\n",
    "vol['rolling_window'] = np.sqrt((df['excess_return']**2).shift().rolling(60).mean())\n",
    "\n",
    "vol.rename(columns={\"excess_return\":\"expanding_window\"},inplace=True)\n",
    "vol.dropna(inplace=True)\n",
    "vol"
   ]
  },
  {
   "cell_type": "code",
   "execution_count": 210,
   "metadata": {},
   "outputs": [
    {
     "data": {
      "text/plain": [
       "<matplotlib.legend.Legend at 0x15a5f4e80>"
      ]
     },
     "execution_count": 210,
     "metadata": {},
     "output_type": "execute_result"
    },
    {
     "data": {
      "image/png": "[encoded data removed]",
      "text/plain": [
       "<Figure size 432x288 with 1 Axes>"
      ]
     },
     "metadata": {
      "needs_background": "light"
     },
     "output_type": "display_data"
    }
   ],
   "source": [
    "plt.plot(vol['expanding_window'], label = 'Expanding Window')\n",
    "plt.plot(vol['rolling_window'], label = 'Rolling Window')\n",
    "plt.xlabel(\"Date\")\n",
    "plt.ylabel(\"Vols\")\n",
    "plt.legend()"
   ]
  },
  {
   "cell_type": "markdown",
   "metadata": {},
   "source": [
    "### (b) For each method, calculate the 5th percentile, 1-month-ahead VaR. We use a slight simplification of the normal VaR formula, by dropping μ from that formula, and rounding the normal distribution z-score to -1.65. \n",
    "$ \\tilde{r}^{VaR,0.05}_{t,vol} = -1.65\\sigma_{t} $"
   ]
  },
  {
   "cell_type": "code",
   "execution_count": 211,
   "metadata": {},
   "outputs": [
    {
     "data": {
      "text/html": [
       "<div>\n",
       "<style scoped>\n",
       "    .dataframe tbody tr th:only-of-type {\n",
       "        vertical-align: middle;\n",
       "    }\n",
       "\n",
       "    .dataframe tbody tr th {\n",
       "        vertical-align: top;\n",
       "    }\n",
       "\n",
       "    .dataframe thead th {\n",
       "        text-align: right;\n",
       "    }\n",
       "</style>\n",
       "<table border=\"1\" class=\"dataframe\">\n",
       "  <thead>\n",
       "    <tr style=\"text-align: right;\">\n",
       "      <th></th>\n",
       "      <th>expanding_window</th>\n",
       "      <th>rolling_window</th>\n",
       "    </tr>\n",
       "    <tr>\n",
       "      <th>date</th>\n",
       "      <th></th>\n",
       "      <th></th>\n",
       "    </tr>\n",
       "  </thead>\n",
       "  <tbody>\n",
       "    <tr>\n",
       "      <th>1931-01-31</th>\n",
       "      <td>-0.0992</td>\n",
       "      <td>-0.0992</td>\n",
       "    </tr>\n",
       "    <tr>\n",
       "      <th>1931-02-28</th>\n",
       "      <td>-0.0992</td>\n",
       "      <td>-0.1000</td>\n",
       "    </tr>\n",
       "    <tr>\n",
       "      <th>1931-03-31</th>\n",
       "      <td>-0.1010</td>\n",
       "      <td>-0.1024</td>\n",
       "    </tr>\n",
       "    <tr>\n",
       "      <th>1931-04-30</th>\n",
       "      <td>-0.1013</td>\n",
       "      <td>-0.1027</td>\n",
       "    </tr>\n",
       "    <tr>\n",
       "      <th>1931-05-29</th>\n",
       "      <td>-0.1023</td>\n",
       "      <td>-0.1043</td>\n",
       "    </tr>\n",
       "    <tr>\n",
       "      <th>...</th>\n",
       "      <td>...</td>\n",
       "      <td>...</td>\n",
       "    </tr>\n",
       "    <tr>\n",
       "      <th>2022-04-29</th>\n",
       "      <td>-0.0901</td>\n",
       "      <td>-0.0776</td>\n",
       "    </tr>\n",
       "    <tr>\n",
       "      <th>2022-05-31</th>\n",
       "      <td>-0.0902</td>\n",
       "      <td>-0.0798</td>\n",
       "    </tr>\n",
       "    <tr>\n",
       "      <th>2022-06-30</th>\n",
       "      <td>-0.0902</td>\n",
       "      <td>-0.0798</td>\n",
       "    </tr>\n",
       "    <tr>\n",
       "      <th>2022-07-29</th>\n",
       "      <td>-0.0902</td>\n",
       "      <td>-0.0817</td>\n",
       "    </tr>\n",
       "    <tr>\n",
       "      <th>2022-08-31</th>\n",
       "      <td>-0.0903</td>\n",
       "      <td>-0.0839</td>\n",
       "    </tr>\n",
       "  </tbody>\n",
       "</table>\n",
       "<p>1088 rows × 2 columns</p>\n",
       "</div>"
      ],
      "text/plain": [
       "            expanding_window  rolling_window\n",
       "date                                        \n",
       "1931-01-31           -0.0992         -0.0992\n",
       "1931-02-28           -0.0992         -0.1000\n",
       "1931-03-31           -0.1010         -0.1024\n",
       "1931-04-30           -0.1013         -0.1027\n",
       "1931-05-29           -0.1023         -0.1043\n",
       "...                      ...             ...\n",
       "2022-04-29           -0.0901         -0.0776\n",
       "2022-05-31           -0.0902         -0.0798\n",
       "2022-06-30           -0.0902         -0.0798\n",
       "2022-07-29           -0.0902         -0.0817\n",
       "2022-08-31           -0.0903         -0.0839\n",
       "\n",
       "[1088 rows x 2 columns]"
      ]
     },
     "execution_count": 211,
     "metadata": {},
     "output_type": "execute_result"
    }
   ],
   "source": [
    "VaR = -1.65 * vol\n",
    "VaR"
   ]
  },
  {
   "cell_type": "markdown",
   "metadata": {},
   "source": [
    "### (c) For each of these three vol-based VaR estimates, calculate the frequency of periods in which\n",
    "$ \\tilde{r}_t $ < $ \\tilde{r}^{VaR,0.05}_{t,vol} $."
   ]
  },
  {
   "cell_type": "code",
   "execution_count": 212,
   "metadata": {},
   "outputs": [
    {
     "data": {
      "text/html": [
       "<div>\n",
       "<style scoped>\n",
       "    .dataframe tbody tr th:only-of-type {\n",
       "        vertical-align: middle;\n",
       "    }\n",
       "\n",
       "    .dataframe tbody tr th {\n",
       "        vertical-align: top;\n",
       "    }\n",
       "\n",
       "    .dataframe thead th {\n",
       "        text-align: right;\n",
       "    }\n",
       "</style>\n",
       "<table border=\"1\" class=\"dataframe\">\n",
       "  <thead>\n",
       "    <tr style=\"text-align: right;\">\n",
       "      <th></th>\n",
       "      <th>expanding_window</th>\n",
       "      <th>rolling_window</th>\n",
       "      <th>histsim_var</th>\n",
       "    </tr>\n",
       "  </thead>\n",
       "  <tbody>\n",
       "    <tr>\n",
       "      <th>Frequency</th>\n",
       "      <td>0.0175</td>\n",
       "      <td>0.0496</td>\n",
       "      <td>0.0303</td>\n",
       "    </tr>\n",
       "  </tbody>\n",
       "</table>\n",
       "</div>"
      ],
      "text/plain": [
       "           expanding_window  rolling_window  histsim_var\n",
       "Frequency            0.0175          0.0496       0.0303"
      ]
     },
     "execution_count": 212,
     "metadata": {},
     "output_type": "execute_result"
    }
   ],
   "source": [
    "freq_df = pd.DataFrame(index = ['Frequency'], columns = VaR.columns)\n",
    "\n",
    "for col in freq_df:\n",
    "    freq_df[col] = len(VaR[df.loc[VaR.index, 'excess_return'] < VaR[col]]) / len(VaR[col].dropna().index)\n",
    "\n",
    "freq_df['histsim_var'] = frq\n",
    "   \n",
    "round(freq_df, 4)"
   ]
  },
  {
   "cell_type": "markdown",
   "metadata": {},
   "source": [
    "### (d) Compare and contrast your results among each other and relative to the historic method in the previous problem"
   ]
  },
  {
   "cell_type": "code",
   "execution_count": 213,
   "metadata": {},
   "outputs": [
    {
     "data": {
      "text/plain": [
       "<matplotlib.legend.Legend at 0x15a5cb8e0>"
      ]
     },
     "execution_count": 213,
     "metadata": {},
     "output_type": "execute_result"
    },
    {
     "data": {
      "image/png": "[encoded data removed]",
      "text/plain": [
       "<Figure size 432x288 with 1 Axes>"
      ]
     },
     "metadata": {
      "needs_background": "light"
     },
     "output_type": "display_data"
    }
   ],
   "source": [
    "VaR.plot()\n",
    "histsim_var.plot()\n",
    "plt.title('VaR')\n",
    "plt.ylabel('VaR')\n",
    "plt.xlabel('Date')\n",
    "plt.legend()"
   ]
  },
  {
   "cell_type": "markdown",
   "metadata": {},
   "source": [
    "## 3. CVaR"
   ]
  },
  {
   "cell_type": "markdown",
   "metadata": {},
   "source": [
    "Re-do the previous two problems, but this time calculating CVaR instead of VaR, (still for\n",
    "q = .05.) That is, calculate CVaR for\n",
    "\n",
    "- the empirical cdf\n",
    "- the normal model, using expanding volatility estimates\n",
    "- the normal model, using rolling volatility estimates"
   ]
  },
  {
   "cell_type": "markdown",
   "metadata": {},
   "source": [
    "for dt in dates:\n",
    "r = level_er.loc[:dt] #returns\n",
    "vaR = df_v.loc[dt,vaR]\n",
    "cvar = r[r['er] < var].mean()\n",
    "df_v.loc[dt,cvar] = cvar"
   ]
  },
  {
   "cell_type": "code",
   "execution_count": 224,
   "metadata": {},
   "outputs": [
    {
     "data": {
      "text/plain": [
       "<AxesSubplot:title={'center':'CVAR'}, xlabel='date'>"
      ]
     },
     "execution_count": 224,
     "metadata": {},
     "output_type": "execute_result"
    },
    {
     "data": {
      "image/png": "[encoded data removed]",
      "text/plain": [
       "<Figure size 720x432 with 1 Axes>"
      ]
     },
     "metadata": {
      "needs_background": "light"
     },
     "output_type": "display_data"
    }
   ],
   "source": [
    "\n",
    "rolling_cvar = pd.DataFrame(index = df.index)\n",
    "for date in VaR.index:\n",
    "    tail_ret = df.loc[:date].dropna()\n",
    "    cvar = tail_ret[tail_ret <= tail_ret.quantile(.05)].mean()\n",
    "    rolling_cvar.loc[pd.to_datetime(date),'Empirical CVAR'] = cvar.values[2]\n",
    "\n",
    "\n",
    "rolling_cvar['Expanding CVAR'] = VaR['expanding_window']\n",
    "rolling_cvar['Rolling CVAR'] = VaR['rolling_window']\n",
    "\n",
    "rolling_cvar = norm.pdf(1.65)/0.05 * rolling_cvar\n",
    "rolling_cvar.plot(figsize = (10, 6), title = 'CVAR')"
   ]
  },
  {
   "cell_type": "code",
   "execution_count": 221,
   "metadata": {},
   "outputs": [
    {
     "data": {
      "text/html": [
       "<div>\n",
       "<style scoped>\n",
       "    .dataframe tbody tr th:only-of-type {\n",
       "        vertical-align: middle;\n",
       "    }\n",
       "\n",
       "    .dataframe tbody tr th {\n",
       "        vertical-align: top;\n",
       "    }\n",
       "\n",
       "    .dataframe thead th {\n",
       "        text-align: right;\n",
       "    }\n",
       "</style>\n",
       "<table border=\"1\" class=\"dataframe\">\n",
       "  <thead>\n",
       "    <tr style=\"text-align: right;\">\n",
       "      <th></th>\n",
       "      <th>Empirical CVAR</th>\n",
       "      <th>Expanding CVAR</th>\n",
       "      <th>Rolling CVAR</th>\n",
       "    </tr>\n",
       "    <tr>\n",
       "      <th>date</th>\n",
       "      <th></th>\n",
       "      <th></th>\n",
       "      <th></th>\n",
       "    </tr>\n",
       "  </thead>\n",
       "  <tbody>\n",
       "    <tr>\n",
       "      <th>1931-01-31</th>\n",
       "      <td>-0.3066</td>\n",
       "      <td>-0.2029</td>\n",
       "      <td>-0.2029</td>\n",
       "    </tr>\n",
       "    <tr>\n",
       "      <th>1931-02-28</th>\n",
       "      <td>-0.3066</td>\n",
       "      <td>-0.2028</td>\n",
       "      <td>-0.2045</td>\n",
       "    </tr>\n",
       "    <tr>\n",
       "      <th>1931-03-31</th>\n",
       "      <td>-0.3066</td>\n",
       "      <td>-0.2066</td>\n",
       "      <td>-0.2094</td>\n",
       "    </tr>\n",
       "    <tr>\n",
       "      <th>1931-04-30</th>\n",
       "      <td>-0.3066</td>\n",
       "      <td>-0.2071</td>\n",
       "      <td>-0.2100</td>\n",
       "    </tr>\n",
       "    <tr>\n",
       "      <th>1931-05-29</th>\n",
       "      <td>-0.3134</td>\n",
       "      <td>-0.2092</td>\n",
       "      <td>-0.2133</td>\n",
       "    </tr>\n",
       "    <tr>\n",
       "      <th>...</th>\n",
       "      <td>...</td>\n",
       "      <td>...</td>\n",
       "      <td>...</td>\n",
       "    </tr>\n",
       "    <tr>\n",
       "      <th>2022-04-29</th>\n",
       "      <td>-0.2470</td>\n",
       "      <td>-0.1843</td>\n",
       "      <td>-0.1588</td>\n",
       "    </tr>\n",
       "    <tr>\n",
       "      <th>2022-05-31</th>\n",
       "      <td>-0.2470</td>\n",
       "      <td>-0.1845</td>\n",
       "      <td>-0.1633</td>\n",
       "    </tr>\n",
       "    <tr>\n",
       "      <th>2022-06-30</th>\n",
       "      <td>-0.2472</td>\n",
       "      <td>-0.1844</td>\n",
       "      <td>-0.1632</td>\n",
       "    </tr>\n",
       "    <tr>\n",
       "      <th>2022-07-29</th>\n",
       "      <td>-0.2472</td>\n",
       "      <td>-0.1845</td>\n",
       "      <td>-0.1671</td>\n",
       "    </tr>\n",
       "    <tr>\n",
       "      <th>2022-08-31</th>\n",
       "      <td>-0.2472</td>\n",
       "      <td>-0.1846</td>\n",
       "      <td>-0.1716</td>\n",
       "    </tr>\n",
       "  </tbody>\n",
       "</table>\n",
       "<p>1088 rows × 3 columns</p>\n",
       "</div>"
      ],
      "text/plain": [
       "            Empirical CVAR  Expanding CVAR  Rolling CVAR\n",
       "date                                                    \n",
       "1931-01-31         -0.3066         -0.2029       -0.2029\n",
       "1931-02-28         -0.3066         -0.2028       -0.2045\n",
       "1931-03-31         -0.3066         -0.2066       -0.2094\n",
       "1931-04-30         -0.3066         -0.2071       -0.2100\n",
       "1931-05-29         -0.3134         -0.2092       -0.2133\n",
       "...                    ...             ...           ...\n",
       "2022-04-29         -0.2470         -0.1843       -0.1588\n",
       "2022-05-31         -0.2470         -0.1845       -0.1633\n",
       "2022-06-30         -0.2472         -0.1844       -0.1632\n",
       "2022-07-29         -0.2472         -0.1845       -0.1671\n",
       "2022-08-31         -0.2472         -0.1846       -0.1716\n",
       "\n",
       "[1088 rows x 3 columns]"
      ]
     },
     "execution_count": 221,
     "metadata": {},
     "output_type": "execute_result"
    }
   ],
   "source": [
    "rolling_cvar.dropna()"
   ]
  },
  {
   "cell_type": "markdown",
   "metadata": {},
   "source": [
    "### Frequency of periods in which $ \\tilde{r}_t $ < $ \\tilde{r}^{CVaR,0.05}_{t,vol} $"
   ]
  },
  {
   "cell_type": "code",
   "execution_count": 219,
   "metadata": {},
   "outputs": [
    {
     "data": {
      "text/html": [
       "<div>\n",
       "<style scoped>\n",
       "    .dataframe tbody tr th:only-of-type {\n",
       "        vertical-align: middle;\n",
       "    }\n",
       "\n",
       "    .dataframe tbody tr th {\n",
       "        vertical-align: top;\n",
       "    }\n",
       "\n",
       "    .dataframe thead th {\n",
       "        text-align: right;\n",
       "    }\n",
       "</style>\n",
       "<table border=\"1\" class=\"dataframe\">\n",
       "  <thead>\n",
       "    <tr style=\"text-align: right;\">\n",
       "      <th></th>\n",
       "      <th>Empirical CVAR</th>\n",
       "      <th>Expanding CVAR</th>\n",
       "      <th>Rolling CVAR</th>\n",
       "    </tr>\n",
       "  </thead>\n",
       "  <tbody>\n",
       "    <tr>\n",
       "      <th>Frequency</th>\n",
       "      <td>0.0</td>\n",
       "      <td>0.0018</td>\n",
       "      <td>0.0046</td>\n",
       "    </tr>\n",
       "  </tbody>\n",
       "</table>\n",
       "</div>"
      ],
      "text/plain": [
       "           Empirical CVAR  Expanding CVAR  Rolling CVAR\n",
       "Frequency             0.0          0.0018        0.0046"
      ]
     },
     "execution_count": 219,
     "metadata": {},
     "output_type": "execute_result"
    }
   ],
   "source": [
    "freq_df = pd.DataFrame(index = ['Frequency'], columns = rolling_cvar.columns)\n",
    "\n",
    "for col in freq_df:\n",
    "    freq_df[col] = len(rolling_cvar[df.loc[rolling_cvar.index, 'excess_return'] < rolling_cvar[col]]) / len(rolling_cvar[col].dropna().index)\n",
    "\n",
    "   \n",
    "round(freq_df, 4)"
   ]
  },
  {
   "cell_type": "markdown",
   "metadata": {},
   "source": [
    "### Why is frequencty of Empirical CVAR = 0? Let's check the data"
   ]
  },
  {
   "cell_type": "code",
   "execution_count": 226,
   "metadata": {},
   "outputs": [
    {
     "data": {
      "text/plain": [
       "<AxesSubplot:title={'center':'CVAR'}, xlabel='date'>"
      ]
     },
     "execution_count": 226,
     "metadata": {},
     "output_type": "execute_result"
    },
    {
     "data": {
      "image/png": "[encoded data removed]",
      "text/plain": [
       "<Figure size 720x432 with 1 Axes>"
      ]
     },
     "metadata": {
      "needs_background": "light"
     },
     "output_type": "display_data"
    }
   ],
   "source": [
    "rolling_cvar.plot(figsize = (10, 6), title = 'CVAR')\n",
    "df['excess_return'].plot()"
   ]
  },
  {
   "cell_type": "markdown",
   "metadata": {},
   "source": [
    "- We note tat the excess returns are never falling below are empirical CVAR, hence the frequency is 0."
   ]
  },
  {
   "cell_type": "markdown",
   "metadata": {},
   "source": [
    "## 4. Extra\n",
    "\n",
    "For the VaR calculations of Problem 2.2, and 2.3 try using the following models to estimate volatility:\n",
    "- Exponentially Weighted Moving Average (EWMA)\n",
    "- $ \\sigma ^{2}_{t,EWMA}=\\theta  {\\sigma}^{2}_{t-1,EWMA}+(1-\\theta)\\tilde{r} ^{2}_{t-1} $\n",
    "- \n",
    "\n",
    "Rather than estimating $\\theta$, simply use $\\theta$ = 0.97, and initialize with $ \\sigma_{1} $ = 0.15.\n",
    "- GARCH(1,1) model.\n",
    "- To estimate GARCH(1,1), try using the ARCH package in Python. The default estimation implementation is fine.\n",
    "- You should be familiar with EWMA and GARCH from the August Review."
   ]
  },
  {
   "cell_type": "markdown",
   "metadata": {},
   "source": [
    "### EWMA"
   ]
  },
  {
   "cell_type": "code",
   "execution_count": null,
   "metadata": {},
   "outputs": [
    {
     "name": "stdout",
     "output_type": "stream",
     "text": [
      "Iteration:      1,   Func. Count:      3,   Neg. LLF: 3984570.5364937778\n",
      "Iteration:      2,   Func. Count:     10,   Neg. LLF: -1858.8039187809004\n",
      "Optimization terminated successfully    (Exit mode 0)\n",
      "            Current function value: -1858.8039187817976\n",
      "            Iterations: 2\n",
      "            Function evaluations: 10\n",
      "            Gradient evaluations: 2\n"
     ]
    },
    {
     "data": {
      "text/plain": [
       "mu    0.007\n",
       "Name: params, dtype: float64"
      ]
     },
     "execution_count": 57,
     "metadata": {},
     "output_type": "execute_result"
    }
   ],
   "source": [
    "IGARCH = arch_model(df['excess_return'])\n",
    "theta = 0.97\n",
    "\n",
    "IGARCH.volatility = EWMAVariance(theta)\n",
    "\n",
    "IGARCH_model = IGARCH.fit()\n",
    "\n",
    "IGARCH_model.params"
   ]
  },
  {
   "cell_type": "markdown",
   "metadata": {},
   "source": [
    "### GARCH"
   ]
  },
  {
   "cell_type": "code",
   "execution_count": null,
   "metadata": {},
   "outputs": [
    {
     "name": "stdout",
     "output_type": "stream",
     "text": [
      "Iteration:      1,   Func. Count:      6,   Neg. LLF: 38084950.95967265\n",
      "Iteration:      2,   Func. Count:     16,   Neg. LLF: -1909.9199599735189\n",
      "Optimization terminated successfully    (Exit mode 0)\n",
      "            Current function value: -1909.9199630529993\n",
      "            Iterations: 6\n",
      "            Function evaluations: 16\n",
      "            Gradient evaluations: 2\n"
     ]
    },
    {
     "data": {
      "text/plain": [
       "mu          7.8426e-03\n",
       "omega       5.8962e-05\n",
       "alpha[1]    1.0000e-01\n",
       "beta[1]     8.8000e-01\n",
       "Name: params, dtype: float64"
      ]
     },
     "execution_count": 143,
     "metadata": {},
     "output_type": "execute_result"
    }
   ],
   "source": [
    "GARCH = arch_model(df['excess_return'], vol='Garch', p=1, o=0, q=1, dist='Normal')\n",
    "\n",
    "GARCH_model = GARCH.fit()\n",
    "\n",
    "GARCH_model.params"
   ]
  },
  {
   "cell_type": "code",
   "execution_count": null,
   "metadata": {},
   "outputs": [
    {
     "data": {
      "text/plain": [
       "Text(0.5, 1.0, 'Volatility Estimates')"
      ]
     },
     "execution_count": 148,
     "metadata": {},
     "output_type": "execute_result"
    },
    {
     "data": {
      "image/png": "[encoded data removed]",
      "text/plain": [
       "<Figure size 432x288 with 1 Axes>"
      ]
     },
     "metadata": {
      "needs_background": "light"
     },
     "output_type": "display_data"
    }
   ],
   "source": [
    "vol[['GARCH','EWMA']] = None\n",
    "\n",
    "vol.iloc[0,2:] = 0.15\n",
    "\n",
    "for i in range(1, len(vol)):\n",
    "    vol['EWMA'].iloc[i] = np.sqrt((vol['EWMA'].iloc[i-1]**2) * theta + (1-theta) * df['excess_return'].iloc[i-1]**2)\n",
    "    vol['GARCH'].iloc[i] = np.sqrt(GARCH_model.params['omega'] + GARCH_model.params['alpha[1]'] * df['excess_return'].iloc[i-1]**2 + GARCH_model.params['beta[1]'] * vol['GARCH'].iloc[i-1]**2)\n",
    "    \n",
    "vol.dropna(inplace=True)\n",
    "\n",
    "vol.plot()\n",
    "plt.ylabel('Volatility')\n",
    "plt.title('Volatility Estimates')"
   ]
  },
  {
   "cell_type": "code",
   "execution_count": null,
   "metadata": {},
   "outputs": [
    {
     "data": {
      "text/html": [
       "<div>\n",
       "<style scoped>\n",
       "    .dataframe tbody tr th:only-of-type {\n",
       "        vertical-align: middle;\n",
       "    }\n",
       "\n",
       "    .dataframe tbody tr th {\n",
       "        vertical-align: top;\n",
       "    }\n",
       "\n",
       "    .dataframe thead th {\n",
       "        text-align: right;\n",
       "    }\n",
       "</style>\n",
       "<table border=\"1\" class=\"dataframe\">\n",
       "  <thead>\n",
       "    <tr style=\"text-align: right;\">\n",
       "      <th></th>\n",
       "      <th>expanding_window</th>\n",
       "      <th>rolling_window</th>\n",
       "      <th>GARCH</th>\n",
       "      <th>EWMA</th>\n",
       "    </tr>\n",
       "    <tr>\n",
       "      <th>date</th>\n",
       "      <th></th>\n",
       "      <th></th>\n",
       "      <th></th>\n",
       "      <th></th>\n",
       "    </tr>\n",
       "  </thead>\n",
       "  <tbody>\n",
       "    <tr>\n",
       "      <th>1931-01-31</th>\n",
       "      <td>-0.0992</td>\n",
       "      <td>-0.0992</td>\n",
       "      <td>-0.2475</td>\n",
       "      <td>-0.2475</td>\n",
       "    </tr>\n",
       "    <tr>\n",
       "      <th>1931-02-28</th>\n",
       "      <td>-0.0992</td>\n",
       "      <td>-0.1000</td>\n",
       "      <td>-0.2325</td>\n",
       "      <td>-0.2438</td>\n",
       "    </tr>\n",
       "    <tr>\n",
       "      <th>1931-03-31</th>\n",
       "      <td>-0.1010</td>\n",
       "      <td>-0.1024</td>\n",
       "      <td>-0.2193</td>\n",
       "      <td>-0.2403</td>\n",
       "    </tr>\n",
       "    <tr>\n",
       "      <th>1931-04-30</th>\n",
       "      <td>-0.1013</td>\n",
       "      <td>-0.1027</td>\n",
       "      <td>-0.2085</td>\n",
       "      <td>-0.2373</td>\n",
       "    </tr>\n",
       "    <tr>\n",
       "      <th>1931-05-29</th>\n",
       "      <td>-0.1023</td>\n",
       "      <td>-0.1043</td>\n",
       "      <td>-0.1969</td>\n",
       "      <td>-0.2339</td>\n",
       "    </tr>\n",
       "  </tbody>\n",
       "</table>\n",
       "</div>"
      ],
      "text/plain": [
       "            expanding_window  rolling_window   GARCH    EWMA\n",
       "date                                                        \n",
       "1931-01-31           -0.0992         -0.0992 -0.2475 -0.2475\n",
       "1931-02-28           -0.0992         -0.1000 -0.2325 -0.2438\n",
       "1931-03-31           -0.1010         -0.1024 -0.2193 -0.2403\n",
       "1931-04-30           -0.1013         -0.1027 -0.2085 -0.2373\n",
       "1931-05-29           -0.1023         -0.1043 -0.1969 -0.2339"
      ]
     },
     "execution_count": 149,
     "metadata": {},
     "output_type": "execute_result"
    }
   ],
   "source": [
    "VaR = -1.65 * vol\n",
    "VaR.head()"
   ]
  },
  {
   "cell_type": "code",
   "execution_count": null,
   "metadata": {},
   "outputs": [
    {
     "data": {
      "image/png": "[encoded data removed]",
      "text/plain": [
       "<Figure size 432x288 with 1 Axes>"
      ]
     },
     "metadata": {
      "needs_background": "light"
     },
     "output_type": "display_data"
    }
   ],
   "source": [
    "VaR.plot()\n",
    "\n",
    "plt.title('VaR')\n",
    "plt.ylabel('VaR')\n",
    "plt.xlabel('Date')\n",
    "plt.show()"
   ]
  },
  {
   "cell_type": "code",
   "execution_count": null,
   "metadata": {},
   "outputs": [
    {
     "data": {
      "text/html": [
       "<div>\n",
       "<style scoped>\n",
       "    .dataframe tbody tr th:only-of-type {\n",
       "        vertical-align: middle;\n",
       "    }\n",
       "\n",
       "    .dataframe tbody tr th {\n",
       "        vertical-align: top;\n",
       "    }\n",
       "\n",
       "    .dataframe thead th {\n",
       "        text-align: right;\n",
       "    }\n",
       "</style>\n",
       "<table border=\"1\" class=\"dataframe\">\n",
       "  <thead>\n",
       "    <tr style=\"text-align: right;\">\n",
       "      <th></th>\n",
       "      <th>expanding_window</th>\n",
       "      <th>rolling_window</th>\n",
       "      <th>GARCH</th>\n",
       "      <th>EWMA</th>\n",
       "    </tr>\n",
       "  </thead>\n",
       "  <tbody>\n",
       "    <tr>\n",
       "      <th>Frequency</th>\n",
       "      <td>0.0175</td>\n",
       "      <td>0.0496</td>\n",
       "      <td>0.0524</td>\n",
       "      <td>0.0469</td>\n",
       "    </tr>\n",
       "  </tbody>\n",
       "</table>\n",
       "</div>"
      ],
      "text/plain": [
       "           expanding_window  rolling_window   GARCH    EWMA\n",
       "Frequency            0.0175          0.0496  0.0524  0.0469"
      ]
     },
     "execution_count": 152,
     "metadata": {},
     "output_type": "execute_result"
    }
   ],
   "source": [
    "freq_df = pd.DataFrame(index = ['Frequency'], columns = VaR.columns)\n",
    "\n",
    "for col in freq_df:\n",
    "    freq_df[col] = len(VaR[df.loc[VaR.index, 'excess_return'] < VaR[col]]) / len(VaR[col].dropna().index)\n",
    "    \n",
    "round(freq_df, 4)"
   ]
  },
  {
   "cell_type": "markdown",
   "metadata": {},
   "source": [
    "## 3 Estimating Underperformance\n"
   ]
  },
  {
   "cell_type": "markdown",
   "metadata": {},
   "source": [
    "Use the returns on the S&P 500 (rM ) and 1-month T-bills, (rf ) provided in “barnstable analysis data.xlsx”.\n",
    "Barnstable’s estimates of mean and volatility are based on the subsample of 1965 to 1999. We consider this subsample, as well as 2000-2022, as well as the full sample of 1926-2022. We only have data through August of 2022, but no adjustment is needed for the fact that you have only the partial year–just use what you have."
   ]
  },
  {
   "cell_type": "markdown",
   "metadata": {},
   "source": [
    "### 1. SUMMARY STATISTICS"
   ]
  },
  {
   "cell_type": "markdown",
   "metadata": {},
   "source": [
    "#### (a) Report the following (annualized) statistics."
   ]
  },
  {
   "cell_type": "code",
   "execution_count": null,
   "metadata": {},
   "outputs": [
    {
     "data": {
      "text/html": [
       "<div>\n",
       "<style scoped>\n",
       "    .dataframe tbody tr th:only-of-type {\n",
       "        vertical-align: middle;\n",
       "    }\n",
       "\n",
       "    .dataframe tbody tr th {\n",
       "        vertical-align: top;\n",
       "    }\n",
       "\n",
       "    .dataframe thead th {\n",
       "        text-align: right;\n",
       "    }\n",
       "</style>\n",
       "<table border=\"1\" class=\"dataframe\">\n",
       "  <thead>\n",
       "    <tr style=\"text-align: right;\">\n",
       "      <th></th>\n",
       "      <th>SPX</th>\n",
       "      <th>TB1M</th>\n",
       "      <th>excess_return</th>\n",
       "    </tr>\n",
       "    <tr>\n",
       "      <th>date</th>\n",
       "      <th></th>\n",
       "      <th></th>\n",
       "      <th></th>\n",
       "    </tr>\n",
       "  </thead>\n",
       "  <tbody>\n",
       "    <tr>\n",
       "      <th>1926-01-30</th>\n",
       "      <td>-0.0018</td>\n",
       "      <td>0.0031</td>\n",
       "      <td>-0.0049</td>\n",
       "    </tr>\n",
       "    <tr>\n",
       "      <th>1926-02-27</th>\n",
       "      <td>-0.0339</td>\n",
       "      <td>0.0026</td>\n",
       "      <td>-0.0366</td>\n",
       "    </tr>\n",
       "    <tr>\n",
       "      <th>1926-03-31</th>\n",
       "      <td>-0.0594</td>\n",
       "      <td>0.0026</td>\n",
       "      <td>-0.0622</td>\n",
       "    </tr>\n",
       "    <tr>\n",
       "      <th>1926-04-30</th>\n",
       "      <td>0.0378</td>\n",
       "      <td>0.0023</td>\n",
       "      <td>0.0356</td>\n",
       "    </tr>\n",
       "    <tr>\n",
       "      <th>1926-05-28</th>\n",
       "      <td>0.0135</td>\n",
       "      <td>0.0027</td>\n",
       "      <td>0.0109</td>\n",
       "    </tr>\n",
       "  </tbody>\n",
       "</table>\n",
       "</div>"
      ],
      "text/plain": [
       "               SPX    TB1M  excess_return\n",
       "date                                     \n",
       "1926-01-30 -0.0018  0.0031        -0.0049\n",
       "1926-02-27 -0.0339  0.0026        -0.0366\n",
       "1926-03-31 -0.0594  0.0026        -0.0622\n",
       "1926-04-30  0.0378  0.0023         0.0356\n",
       "1926-05-28  0.0135  0.0027         0.0109"
      ]
     },
     "execution_count": 155,
     "metadata": {},
     "output_type": "execute_result"
    }
   ],
   "source": [
    "log_df = np.log(1+df)\n",
    "log_df.head(5)"
   ]
  },
  {
   "cell_type": "code",
   "execution_count": 238,
   "metadata": {},
   "outputs": [
    {
     "data": {
      "text/html": [
       "<div>\n",
       "<style scoped>\n",
       "    .dataframe tbody tr th:only-of-type {\n",
       "        vertical-align: middle;\n",
       "    }\n",
       "\n",
       "    .dataframe tbody tr th {\n",
       "        vertical-align: top;\n",
       "    }\n",
       "\n",
       "    .dataframe thead th {\n",
       "        text-align: right;\n",
       "    }\n",
       "</style>\n",
       "<table border=\"1\" class=\"dataframe\">\n",
       "  <thead>\n",
       "    <tr style=\"text-align: right;\">\n",
       "      <th></th>\n",
       "      <th>1965-1999 $\\mu$</th>\n",
       "      <th>1965-1999 $\\sigma$</th>\n",
       "      <th>2000-2022 $\\mu$</th>\n",
       "      <th>2000-2022 $\\sigma$</th>\n",
       "      <th>1926-2022 $\\mu$</th>\n",
       "      <th>1926-2022 $\\sigma$</th>\n",
       "      <th>1965-2022 $\\mu$</th>\n",
       "      <th>1965-2022 $\\sigma$</th>\n",
       "    </tr>\n",
       "  </thead>\n",
       "  <tbody>\n",
       "    <tr>\n",
       "      <th>$r^{M}$</th>\n",
       "      <td>0.1302</td>\n",
       "      <td>0.1495</td>\n",
       "      <td>0.0759</td>\n",
       "      <td>0.1526</td>\n",
       "      <td>0.1132</td>\n",
       "      <td>0.1878</td>\n",
       "      <td>0.1088</td>\n",
       "      <td>0.1508</td>\n",
       "    </tr>\n",
       "    <tr>\n",
       "      <th>${\\tilde{r}^{M}}$</th>\n",
       "      <td>0.0687</td>\n",
       "      <td>0.1502</td>\n",
       "      <td>0.0616</td>\n",
       "      <td>0.1531</td>\n",
       "      <td>0.0816</td>\n",
       "      <td>0.1881</td>\n",
       "      <td>0.0659</td>\n",
       "      <td>0.1513</td>\n",
       "    </tr>\n",
       "    <tr>\n",
       "      <th>$r^{f}$</th>\n",
       "      <td>0.0615</td>\n",
       "      <td>0.0072</td>\n",
       "      <td>0.0143</td>\n",
       "      <td>0.0050</td>\n",
       "      <td>0.0315</td>\n",
       "      <td>0.0086</td>\n",
       "      <td>0.0429</td>\n",
       "      <td>0.0092</td>\n",
       "    </tr>\n",
       "    <tr>\n",
       "      <th>log $r^{M}$</th>\n",
       "      <td>0.1184</td>\n",
       "      <td>0.1497</td>\n",
       "      <td>0.0640</td>\n",
       "      <td>0.1537</td>\n",
       "      <td>0.0953</td>\n",
       "      <td>0.1871</td>\n",
       "      <td>0.0970</td>\n",
       "      <td>0.1513</td>\n",
       "    </tr>\n",
       "    <tr>\n",
       "      <th>log ${\\tilde{r}^{M}}$</th>\n",
       "      <td>0.0571</td>\n",
       "      <td>0.1504</td>\n",
       "      <td>0.0497</td>\n",
       "      <td>0.1542</td>\n",
       "      <td>0.0638</td>\n",
       "      <td>0.1873</td>\n",
       "      <td>0.0542</td>\n",
       "      <td>0.1518</td>\n",
       "    </tr>\n",
       "    <tr>\n",
       "      <th>log $r^{f}$</th>\n",
       "      <td>0.0613</td>\n",
       "      <td>0.0071</td>\n",
       "      <td>0.0143</td>\n",
       "      <td>0.0050</td>\n",
       "      <td>0.0315</td>\n",
       "      <td>0.0085</td>\n",
       "      <td>0.0428</td>\n",
       "      <td>0.0092</td>\n",
       "    </tr>\n",
       "  </tbody>\n",
       "</table>\n",
       "</div>"
      ],
      "text/plain": [
       "                       1965-1999 $\\mu$  1965-1999 $\\sigma$  2000-2022 $\\mu$  \\\n",
       "$r^{M}$                         0.1302              0.1495           0.0759   \n",
       "${\\tilde{r}^{M}}$               0.0687              0.1502           0.0616   \n",
       "$r^{f}$                         0.0615              0.0072           0.0143   \n",
       "log $r^{M}$                     0.1184              0.1497           0.0640   \n",
       "log ${\\tilde{r}^{M}}$           0.0571              0.1504           0.0497   \n",
       "log $r^{f}$                     0.0613              0.0071           0.0143   \n",
       "\n",
       "                       2000-2022 $\\sigma$  1926-2022 $\\mu$  \\\n",
       "$r^{M}$                            0.1526           0.1132   \n",
       "${\\tilde{r}^{M}}$                  0.1531           0.0816   \n",
       "$r^{f}$                            0.0050           0.0315   \n",
       "log $r^{M}$                        0.1537           0.0953   \n",
       "log ${\\tilde{r}^{M}}$              0.1542           0.0638   \n",
       "log $r^{f}$                        0.0050           0.0315   \n",
       "\n",
       "                       1926-2022 $\\sigma$  1965-2022 $\\mu$  1965-2022 $\\sigma$  \n",
       "$r^{M}$                            0.1878           0.1088              0.1508  \n",
       "${\\tilde{r}^{M}}$                  0.1881           0.0659              0.1513  \n",
       "$r^{f}$                            0.0086           0.0429              0.0092  \n",
       "log $r^{M}$                        0.1871           0.0970              0.1513  \n",
       "log ${\\tilde{r}^{M}}$              0.1873           0.0542              0.1518  \n",
       "log $r^{f}$                        0.0085           0.0428              0.0092  "
      ]
     },
     "execution_count": 238,
     "metadata": {},
     "output_type": "execute_result"
    }
   ],
   "source": [
    "def annualized_stats(data, annual_factor, log = False):\n",
    "    if log == False:\n",
    "        df = pd.DataFrame(data = None, \n",
    "                          index = [r'$r^{M}$',r'${\\tilde{r}^{M}}$',r'$r^{f}$'])\n",
    "    else: \n",
    "        df = pd.DataFrame(data = None, \n",
    "                      index = [r'log $r^{M}$',r'log ${\\tilde{r}^{M}}$',r'log $r^{f}$'])\n",
    "        \n",
    "    df[str(data.index[0].year) + '-' + str(data.index[-1].year) + r' $\\mu$'] = [data['SPX'].mean(),\n",
    "                                                                                data['SPX'].mean()-data['TB1M'].mean(),\n",
    "                                                                                data['TB1M'].mean()] \n",
    "    \n",
    "    df[str(data.index[0].year) + '-' + str(data.index[-1].year) + r' $\\mu$'] *= annual_factor\n",
    "    \n",
    "    df[str(data.index[0].year) + '-' + str(data.index[-1].year) + r' $\\sigma$'] = [data['SPX'].std(),\n",
    "                                                                                   (data['SPX']-data['TB1M']).std(),\n",
    "                                                                                   data['TB1M'].std()] \n",
    "    \n",
    "    df[str(data.index[0].year) + '-' + str(data.index[-1].year) + r' $\\sigma$'] *= np.sqrt(annual_factor)\n",
    "    \n",
    "    return df\n",
    "\n",
    "def join(df_list):\n",
    "    df = df_list[0]\n",
    "    \n",
    "    for df_ in df_list[1:]:\n",
    "        df = df.join(df_)\n",
    "    \n",
    "    return df\n",
    "\n",
    "stats_ = join([annualized_stats(df.loc['1965':'1999'], 12),\n",
    "             annualized_stats(df.loc['2000':], 12),\n",
    "             annualized_stats(df.loc['1926':], 12),\n",
    "             annualized_stats(df.loc['1965':], 12)])\n",
    "\n",
    "log_stats = join([annualized_stats(log_df.loc['1965':'1999'], 12, log = True),\n",
    "                 annualized_stats(log_df.loc['2000':], 12, log = True),\n",
    "                 annualized_stats(log_df.loc['1926':], 12, log = True),\n",
    "                 annualized_stats(log_df.loc['1965':], 12, log = True)])\n",
    "\n",
    "stats_df = stats_.append(log_stats)\n",
    "stats_df"
   ]
  },
  {
   "cell_type": "markdown",
   "metadata": {},
   "source": [
    "#### (b) Comment on how the full-sample return stats compare to the sub-sample stats.Comment on how the level stats compare to the log stats."
   ]
  },
  {
   "cell_type": "markdown",
   "metadata": {},
   "source": [
    "- Log returns are lower in mean compared to level returns. This is because log returns are additive, while level returns are multiplicative. This means that log returns are more stable, and have a lower mean.\n",
    "- The earlier subsample has a much higher mean returns, but similar excess returns due to the notable decrease in $r^f$."
   ]
  },
  {
   "cell_type": "markdown",
   "metadata": {},
   "source": [
    "### 2. Calculate the probability that the cumulative market return will fall short of the cumulative risk-free return.\n",
    "\n",
    "$ Pr[R^{M}_{t,t+h} < R^{f}_{t,t+h}] $ ....(1)"
   ]
  },
  {
   "cell_type": "markdown",
   "metadata": {},
   "source": [
    "#### To analyze this analytically, convert the probability statement above to a probability statement about mean log returns.\n",
    "#### (a) Calculate (1) using the subsample 1965-1999."
   ]
  },
  {
   "cell_type": "code",
   "execution_count": null,
   "metadata": {},
   "outputs": [],
   "source": [
    "def prob_calc(h, tilde_mu, tilde_sigma):\n",
    "    return stats.norm.cdf(- np.sqrt(h) * tilde_mu / tilde_sigma)\n",
    "\n",
    "def prob(h, tilde_mu, tilde_sigma):\n",
    "    prob_df = pd.DataFrame(data = h, columns = ['h'])\n",
    "    \n",
    "    prob_df['Probability'] = prob_calc(prob_df['h'], tilde_mu, tilde_sigma)\n",
    "    \n",
    "    prob_df = prob_df.set_index('h')\n",
    "    \n",
    "    return prob_df"
   ]
  },
  {
   "cell_type": "code",
   "execution_count": 248,
   "metadata": {},
   "outputs": [
    {
     "data": {
      "text/html": [
       "<div>\n",
       "<style scoped>\n",
       "    .dataframe tbody tr th:only-of-type {\n",
       "        vertical-align: middle;\n",
       "    }\n",
       "\n",
       "    .dataframe tbody tr th {\n",
       "        vertical-align: top;\n",
       "    }\n",
       "\n",
       "    .dataframe thead th {\n",
       "        text-align: right;\n",
       "    }\n",
       "</style>\n",
       "<table border=\"1\" class=\"dataframe\">\n",
       "  <thead>\n",
       "    <tr style=\"text-align: right;\">\n",
       "      <th></th>\n",
       "      <th>Probability</th>\n",
       "    </tr>\n",
       "    <tr>\n",
       "      <th>h</th>\n",
       "      <th></th>\n",
       "    </tr>\n",
       "  </thead>\n",
       "  <tbody>\n",
       "    <tr>\n",
       "      <th>23</th>\n",
       "      <td>0.0344</td>\n",
       "    </tr>\n",
       "  </tbody>\n",
       "</table>\n",
       "</div>"
      ],
      "text/plain": [
       "    Probability\n",
       "h              \n",
       "23       0.0344"
      ]
     },
     "execution_count": 248,
     "metadata": {},
     "output_type": "execute_result"
    }
   ],
   "source": [
    "mu_tilde = stats_df.iloc[4,0]\n",
    "sigma_tilde = stats_df.iloc[4,1]\n",
    "h = 2022 - 2000 +1 #Using subsample of 1965-1999 to predict 2022\n",
    "\n",
    "prob([h], mu_tilde, sigma_tilde)\n"
   ]
  },
  {
   "cell_type": "markdown",
   "metadata": {},
   "source": [
    "#### (b) Report the precise probability for h = 15 and h = 30 years."
   ]
  },
  {
   "cell_type": "code",
   "execution_count": null,
   "metadata": {},
   "outputs": [
    {
     "data": {
      "text/html": [
       "<div>\n",
       "<style scoped>\n",
       "    .dataframe tbody tr th:only-of-type {\n",
       "        vertical-align: middle;\n",
       "    }\n",
       "\n",
       "    .dataframe tbody tr th {\n",
       "        vertical-align: top;\n",
       "    }\n",
       "\n",
       "    .dataframe thead th {\n",
       "        text-align: right;\n",
       "    }\n",
       "</style>\n",
       "<table border=\"1\" class=\"dataframe\">\n",
       "  <thead>\n",
       "    <tr style=\"text-align: right;\">\n",
       "      <th></th>\n",
       "      <th>Probability</th>\n",
       "    </tr>\n",
       "    <tr>\n",
       "      <th>h</th>\n",
       "      <th></th>\n",
       "    </tr>\n",
       "  </thead>\n",
       "  <tbody>\n",
       "    <tr>\n",
       "      <th>10</th>\n",
       "      <td>0.1151</td>\n",
       "    </tr>\n",
       "    <tr>\n",
       "      <th>15</th>\n",
       "      <td>0.0708</td>\n",
       "    </tr>\n",
       "    <tr>\n",
       "      <th>20</th>\n",
       "      <td>0.0449</td>\n",
       "    </tr>\n",
       "    <tr>\n",
       "      <th>25</th>\n",
       "      <td>0.0289</td>\n",
       "    </tr>\n",
       "    <tr>\n",
       "      <th>30</th>\n",
       "      <td>0.0188</td>\n",
       "    </tr>\n",
       "  </tbody>\n",
       "</table>\n",
       "</div>"
      ],
      "text/plain": [
       "    Probability\n",
       "h              \n",
       "10       0.1151\n",
       "15       0.0708\n",
       "20       0.0449\n",
       "25       0.0289\n",
       "30       0.0188"
      ]
     },
     "execution_count": 168,
     "metadata": {},
     "output_type": "execute_result"
    }
   ],
   "source": [
    "prob(list(range(10,35,5)), mu_tilde, sigma_tilde)"
   ]
  },
  {
   "cell_type": "markdown",
   "metadata": {},
   "source": [
    "#### (c) Plot the probability as a function of the investment horizon, h, for 0 < h ≤ 30 years."
   ]
  },
  {
   "cell_type": "code",
   "execution_count": null,
   "metadata": {},
   "outputs": [
    {
     "data": {
      "image/png": "[encoded data removed]",
      "text/plain": [
       "<Figure size 432x288 with 1 Axes>"
      ]
     },
     "metadata": {
      "needs_background": "light"
     },
     "output_type": "display_data"
    }
   ],
   "source": [
    "def prob_plot(h, tilde_mu, tilde_sigma):\n",
    "    prob_horizon = prob(h, tilde_mu, tilde_sigma)\n",
    "    plt.plot(prob_horizon.index, prob_horizon['Probability'])\n",
    "    plt.title('Probability of Investment Horizon')\n",
    "    plt.ylabel('Probability of r_m < r_f')\n",
    "    plt.show()\n",
    "\n",
    "prob_plot(list(range(1,31)), mu_tilde, sigma_tilde)"
   ]
  },
  {
   "cell_type": "markdown",
   "metadata": {},
   "source": [
    "### 3. Use the sample 1965-2022 to reconsider the 30-year probability. As of the end of 2022, calculate the probability of the stock return underperforming the risk-free rate over the next 30 years. That is, RM underperforming Rf for 0 < h ≤ 30."
   ]
  },
  {
   "cell_type": "code",
   "execution_count": 241,
   "metadata": {},
   "outputs": [
    {
     "data": {
      "text/plain": [
       "<AxesSubplot:xlabel='h'>"
      ]
     },
     "execution_count": 241,
     "metadata": {},
     "output_type": "execute_result"
    },
    {
     "data": {
      "image/png": "[encoded data removed]",
      "text/plain": [
       "<Figure size 432x288 with 1 Axes>"
      ]
     },
     "metadata": {
      "needs_background": "light"
     },
     "output_type": "display_data"
    }
   ],
   "source": [
    "mu_tilde = stats_df.iloc[4,6]\n",
    "sigma_tilde = stats_df.iloc[4,7]\n",
    "\n",
    "prob(list(range(0,31)), mu_tilde, sigma_tilde).plot()"
   ]
  },
  {
   "cell_type": "markdown",
   "metadata": {},
   "source": [
    "### 4 Let’s consider how things turned out relative to Barnstable’s 1999 expectations"
   ]
  },
  {
   "cell_type": "markdown",
   "metadata": {},
   "source": [
    "#### a. What was the probability (based on the 1999 estimate of μ,) that the 23-year market return,$ R^{M}_{t,t+23} $ , would be smaller than that realized in 2000-2022? Note that we are asking about the market return, not the excess market return. Continue using the 1965-1999 sample standard deviation for σ."
   ]
  },
  {
   "cell_type": "code",
   "execution_count": 242,
   "metadata": {},
   "outputs": [
    {
     "data": {
      "text/html": [
       "<div>\n",
       "<style scoped>\n",
       "    .dataframe tbody tr th:only-of-type {\n",
       "        vertical-align: middle;\n",
       "    }\n",
       "\n",
       "    .dataframe tbody tr th {\n",
       "        vertical-align: top;\n",
       "    }\n",
       "\n",
       "    .dataframe thead th {\n",
       "        text-align: right;\n",
       "    }\n",
       "</style>\n",
       "<table border=\"1\" class=\"dataframe\">\n",
       "  <thead>\n",
       "    <tr style=\"text-align: right;\">\n",
       "      <th></th>\n",
       "      <th>1965-1999 $\\mu$</th>\n",
       "      <th>1965-1999 $\\sigma$</th>\n",
       "      <th>2000-2022 $\\mu$</th>\n",
       "      <th>2000-2022 $\\sigma$</th>\n",
       "      <th>1926-2022 $\\mu$</th>\n",
       "      <th>1926-2022 $\\sigma$</th>\n",
       "      <th>1965-2022 $\\mu$</th>\n",
       "      <th>1965-2022 $\\sigma$</th>\n",
       "    </tr>\n",
       "  </thead>\n",
       "  <tbody>\n",
       "    <tr>\n",
       "      <th>$r^{M}$</th>\n",
       "      <td>0.1302</td>\n",
       "      <td>0.1495</td>\n",
       "      <td>0.0759</td>\n",
       "      <td>0.1526</td>\n",
       "      <td>0.1132</td>\n",
       "      <td>0.1878</td>\n",
       "      <td>0.1088</td>\n",
       "      <td>0.1508</td>\n",
       "    </tr>\n",
       "    <tr>\n",
       "      <th>${\\tilde{r}^{M}}$</th>\n",
       "      <td>0.0687</td>\n",
       "      <td>0.1502</td>\n",
       "      <td>0.0616</td>\n",
       "      <td>0.1531</td>\n",
       "      <td>0.0816</td>\n",
       "      <td>0.1881</td>\n",
       "      <td>0.0659</td>\n",
       "      <td>0.1513</td>\n",
       "    </tr>\n",
       "    <tr>\n",
       "      <th>$r^{f}$</th>\n",
       "      <td>0.0615</td>\n",
       "      <td>0.0072</td>\n",
       "      <td>0.0143</td>\n",
       "      <td>0.0050</td>\n",
       "      <td>0.0315</td>\n",
       "      <td>0.0086</td>\n",
       "      <td>0.0429</td>\n",
       "      <td>0.0092</td>\n",
       "    </tr>\n",
       "    <tr>\n",
       "      <th>log $r^{M}$</th>\n",
       "      <td>0.1184</td>\n",
       "      <td>0.1497</td>\n",
       "      <td>0.0640</td>\n",
       "      <td>0.1537</td>\n",
       "      <td>0.0953</td>\n",
       "      <td>0.1871</td>\n",
       "      <td>0.0970</td>\n",
       "      <td>0.1513</td>\n",
       "    </tr>\n",
       "    <tr>\n",
       "      <th>log ${\\tilde{r}^{M}}$</th>\n",
       "      <td>0.0571</td>\n",
       "      <td>0.1504</td>\n",
       "      <td>0.0497</td>\n",
       "      <td>0.1542</td>\n",
       "      <td>0.0638</td>\n",
       "      <td>0.1873</td>\n",
       "      <td>0.0542</td>\n",
       "      <td>0.1518</td>\n",
       "    </tr>\n",
       "    <tr>\n",
       "      <th>log $r^{f}$</th>\n",
       "      <td>0.0613</td>\n",
       "      <td>0.0071</td>\n",
       "      <td>0.0143</td>\n",
       "      <td>0.0050</td>\n",
       "      <td>0.0315</td>\n",
       "      <td>0.0085</td>\n",
       "      <td>0.0428</td>\n",
       "      <td>0.0092</td>\n",
       "    </tr>\n",
       "  </tbody>\n",
       "</table>\n",
       "</div>"
      ],
      "text/plain": [
       "                       1965-1999 $\\mu$  1965-1999 $\\sigma$  2000-2022 $\\mu$  \\\n",
       "$r^{M}$                         0.1302              0.1495           0.0759   \n",
       "${\\tilde{r}^{M}}$               0.0687              0.1502           0.0616   \n",
       "$r^{f}$                         0.0615              0.0072           0.0143   \n",
       "log $r^{M}$                     0.1184              0.1497           0.0640   \n",
       "log ${\\tilde{r}^{M}}$           0.0571              0.1504           0.0497   \n",
       "log $r^{f}$                     0.0613              0.0071           0.0143   \n",
       "\n",
       "                       2000-2022 $\\sigma$  1926-2022 $\\mu$  \\\n",
       "$r^{M}$                            0.1526           0.1132   \n",
       "${\\tilde{r}^{M}}$                  0.1531           0.0816   \n",
       "$r^{f}$                            0.0050           0.0315   \n",
       "log $r^{M}$                        0.1537           0.0953   \n",
       "log ${\\tilde{r}^{M}}$              0.1542           0.0638   \n",
       "log $r^{f}$                        0.0050           0.0315   \n",
       "\n",
       "                       1926-2022 $\\sigma$  1965-2022 $\\mu$  1965-2022 $\\sigma$  \n",
       "$r^{M}$                            0.1878           0.1088              0.1508  \n",
       "${\\tilde{r}^{M}}$                  0.1881           0.0659              0.1513  \n",
       "$r^{f}$                            0.0086           0.0429              0.0092  \n",
       "log $r^{M}$                        0.1871           0.0970              0.1513  \n",
       "log ${\\tilde{r}^{M}}$              0.1873           0.0542              0.1518  \n",
       "log $r^{f}$                        0.0085           0.0428              0.0092  "
      ]
     },
     "execution_count": 242,
     "metadata": {},
     "output_type": "execute_result"
    }
   ],
   "source": [
    "stats_df"
   ]
  },
  {
   "cell_type": "code",
   "execution_count": 249,
   "metadata": {},
   "outputs": [
    {
     "data": {
      "text/html": [
       "<div>\n",
       "<style scoped>\n",
       "    .dataframe tbody tr th:only-of-type {\n",
       "        vertical-align: middle;\n",
       "    }\n",
       "\n",
       "    .dataframe tbody tr th {\n",
       "        vertical-align: top;\n",
       "    }\n",
       "\n",
       "    .dataframe thead th {\n",
       "        text-align: right;\n",
       "    }\n",
       "</style>\n",
       "<table border=\"1\" class=\"dataframe\">\n",
       "  <thead>\n",
       "    <tr style=\"text-align: right;\">\n",
       "      <th></th>\n",
       "      <th>Probability</th>\n",
       "    </tr>\n",
       "    <tr>\n",
       "      <th>h</th>\n",
       "      <th></th>\n",
       "    </tr>\n",
       "  </thead>\n",
       "  <tbody>\n",
       "    <tr>\n",
       "      <th>23</th>\n",
       "      <td>0.0408</td>\n",
       "    </tr>\n",
       "  </tbody>\n",
       "</table>\n",
       "</div>"
      ],
      "text/plain": [
       "    Probability\n",
       "h              \n",
       "23       0.0408"
      ]
     },
     "execution_count": 249,
     "metadata": {},
     "output_type": "execute_result"
    }
   ],
   "source": [
    "mu_bar = stats_df.iloc[3,0] - stats_df.iloc[3,2]\n",
    "sigma = stats_df.iloc[3,1]\n",
    "h = 2022-2000+1\n",
    "prob([23], mu_bar, sigma)"
   ]
  },
  {
   "cell_type": "markdown",
   "metadata": {},
   "source": [
    "#### (b) Suppose Barnstable had implemented the put-option strategy with the growing strike of 6%? Based on the 2000-2022 performance, what is the probability that the 2000-2029 cumulative market return will be low enough to make the puts in the money? For the calculation, update your estimates of μ, σ to be the estimates based on 1965-2022."
   ]
  },
  {
   "cell_type": "code",
   "execution_count": 254,
   "metadata": {},
   "outputs": [
    {
     "data": {
      "text/html": [
       "<div>\n",
       "<style scoped>\n",
       "    .dataframe tbody tr th:only-of-type {\n",
       "        vertical-align: middle;\n",
       "    }\n",
       "\n",
       "    .dataframe tbody tr th {\n",
       "        vertical-align: top;\n",
       "    }\n",
       "\n",
       "    .dataframe thead th {\n",
       "        text-align: right;\n",
       "    }\n",
       "</style>\n",
       "<table border=\"1\" class=\"dataframe\">\n",
       "  <thead>\n",
       "    <tr style=\"text-align: right;\">\n",
       "      <th></th>\n",
       "      <th>Probability</th>\n",
       "    </tr>\n",
       "    <tr>\n",
       "      <th>h</th>\n",
       "      <th></th>\n",
       "    </tr>\n",
       "  </thead>\n",
       "  <tbody>\n",
       "    <tr>\n",
       "      <th>7</th>\n",
       "      <td>0.1567</td>\n",
       "    </tr>\n",
       "  </tbody>\n",
       "</table>\n",
       "</div>"
      ],
      "text/plain": [
       "   Probability\n",
       "h             \n",
       "7       0.1567"
      ]
     },
     "execution_count": 254,
     "metadata": {},
     "output_type": "execute_result"
    }
   ],
   "source": [
    "strike = np.log(1+0.06)\n",
    "\n",
    "mu65 = stats_df.iloc[3,6]\n",
    "\n",
    "sigma65 = stats_df.iloc[3,7]\n",
    "\n",
    "mu = 23/7 * (stats_df.iloc[3, 2] - strike) + mu65 - strike\n",
    "\n",
    "prob([7], mu, sigma65)"
   ]
  }
 ],
 "metadata": {
  "kernelspec": {
   "display_name": "Python 3.9.7 ('base')",
   "language": "python",
   "name": "python3"
  },
  "language_info": {
   "codemirror_mode": {
    "name": "ipython",
    "version": 3
   },
   "file_extension": ".py",
   "mimetype": "text/x-python",
   "name": "python",
   "nbconvert_exporter": "python",
   "pygments_lexer": "ipython3",
   "version": "3.9.7"
  },
  "orig_nbformat": 4,
  "vscode": {
   "interpreter": {
    "hash": "5e62c483ecf48ad4e1bb5f903abeb626d4ffc56eab47e05d9eff835eeb907be7"
   }
  }
 },
 "nbformat": 4,
 "nbformat_minor": 2
}
