{
 "cells": [
  {
   "cell_type": "code",
   "execution_count": 340,
   "metadata": {},
   "outputs": [],
   "source": [
    "import pandas as pd\n",
    "import numpy as np\n",
    "import matplotlib.pyplot as plt\n",
    "import statsmodels.api as sm\n",
    "from arch import arch_model\n",
    "from arch.univariate import GARCH, EWMAVariance \n",
    "from sklearn import linear_model\n",
    "import scipy.stats as stats\n",
    "from statsmodels.regression.rolling import RollingOLS\n",
    "import seaborn as sns\n",
    "import warnings\n",
    "warnings.filterwarnings(\"ignore\")\n",
    "pd.set_option(\"display.precision\", 4)\n",
    "sns.set(rc={'figure.figsize':(15, 10)})"
   ]
  },
  {
   "cell_type": "code",
   "execution_count": 341,
   "metadata": {},
   "outputs": [],
   "source": [
    "#Calculate mean, standard deviation and sharpe ratio\n",
    "def mean_vol_sharpe(df,ann=12):\n",
    "    mean = df.mean() * ann\n",
    "    volatility = df.std() * np.sqrt(ann)\n",
    "    sharpe_ratio = mean/volatility\n",
    "    return pd.DataFrame({'mean': mean, 'volatility': volatility, 'sharpe_ratio': sharpe_ratio})"
   ]
  },
  {
   "cell_type": "code",
   "execution_count": 342,
   "metadata": {},
   "outputs": [],
   "source": [
    "def tail_risk(df):\n",
    "    tr_df = pd.DataFrame(data = None)\n",
    "    tr_df['Min return'] = df.min()\n",
    "    tr_df['VaR-5th'] = df.quantile(.05)\n",
    "    cum_ret = (1 + df).cumprod()\n",
    "    rolling_max = cum_ret.cummax()\n",
    "    drawdown = (cum_ret - rolling_max) / rolling_max\n",
    "    tr_df['Max Drawdown'] = drawdown.min()\n",
    "    \n",
    "    return tr_df"
   ]
  },
  {
   "cell_type": "code",
   "execution_count": 343,
   "metadata": {},
   "outputs": [],
   "source": [
    "def reg_params(df, y_col, X_col, intercept = True, annual_fac=12):\n",
    "    y = df[y_col]\n",
    "    if intercept == True:\n",
    "        X = sm.add_constant(df[X_col])\n",
    "    else:\n",
    "        X = df[X_col]\n",
    "    \n",
    "    model = sm.OLS(y, X, missing = 'drop').fit()\n",
    "    reg_df = model.params.to_frame('Regression Parameters')\n",
    "    reg_df.loc['r-squared'] = model.rsquared\n",
    "    \n",
    "    if intercept == True:\n",
    "        reg_df.loc['const'] *= annual_fac\n",
    "    \n",
    "    return reg_df"
   ]
  },
  {
   "cell_type": "code",
   "execution_count": 344,
   "metadata": {},
   "outputs": [],
   "source": [
    "def summary_stats_bm(series, bm, annual_fac=12):\n",
    "    ss_df = pd.DataFrame(data = None, index = ['Summary Stats'])\n",
    "    ss_df['Mean'] = series.mean() * annual_fac\n",
    "    ss_df['Vol'] = series.std() * np.sqrt(annual_fac)\n",
    "    ss_df['Sharpe (Mean/Vol)'] = ss_df['Mean'] / ss_df['Vol']\n",
    "    \n",
    "    y = series\n",
    "    X = sm.add_constant(bm.loc[series.index])\n",
    "    reg = sm.OLS(y,X).fit().params\n",
    "    ss_df['alpha'] = reg[0] * annual_fac\n",
    "    ss_df['beta'] = reg[1]\n",
    "    \n",
    "    cum_ret = (1 + series).cumprod()\n",
    "    rolling_max = cum_ret.cummax()\n",
    "    drawdown = (cum_ret - rolling_max) / rolling_max\n",
    "    ss_df['Max Drawdown'] = drawdown.min()\n",
    "    \n",
    "    return round(ss_df, 4)"
   ]
  },
  {
   "cell_type": "code",
   "execution_count": 345,
   "metadata": {},
   "outputs": [],
   "source": [
    "def OOS_r2(df, factors, start):\n",
    "    y = df['SPY']\n",
    "    X = sm.add_constant(df[factors])\n",
    "\n",
    "    forecast_err, null_err = [], []\n",
    "\n",
    "    for i,j in enumerate(df.index):\n",
    "        if i >= start:\n",
    "            currX = X.iloc[:i]\n",
    "            currY = y.iloc[:i]\n",
    "            reg = sm.OLS(currY, currX, missing = 'drop').fit()\n",
    "            null_forecast = currY.mean()\n",
    "            reg_predict = reg.predict(X.iloc[[i]])\n",
    "            actual = y.iloc[[i]]\n",
    "            forecast_err.append(reg_predict - actual)\n",
    "            null_err.append(null_forecast - actual)\n",
    "            \n",
    "    RSS = (np.array(forecast_err)**2).sum()\n",
    "    TSS = (np.array(null_err)**2).sum()\n",
    "    \n",
    "    return 1 - RSS/TSS"
   ]
  },
  {
   "cell_type": "code",
   "execution_count": 346,
   "metadata": {},
   "outputs": [],
   "source": [
    "def OOS_strat(df, factors, start, weight):\n",
    "    returns = []\n",
    "    y = df['SPY']\n",
    "    X = sm.add_constant(df[factors])\n",
    "\n",
    "    for i,j in enumerate(df.index):\n",
    "        if i >= start:\n",
    "            currX = X.iloc[:i]\n",
    "            currY = y.iloc[:i]\n",
    "            reg = sm.OLS(currY, currX, missing = 'drop').fit()\n",
    "            pred = reg.predict(X.iloc[[i]])\n",
    "            w = pred * weight\n",
    "            returns.append((df.iloc[i]['SPY'] * w)[0])\n",
    "\n",
    "    df_strat = pd.DataFrame(data = returns, index = df.iloc[-(len(returns)):].index, columns = ['Strat Returns'])\n",
    "    return df_strat"
   ]
  },
  {
   "cell_type": "code",
   "execution_count": 347,
   "metadata": {},
   "outputs": [
    {
     "data": {
      "text/html": [
       "<div>\n",
       "<style scoped>\n",
       "    .dataframe tbody tr th:only-of-type {\n",
       "        vertical-align: middle;\n",
       "    }\n",
       "\n",
       "    .dataframe tbody tr th {\n",
       "        vertical-align: top;\n",
       "    }\n",
       "\n",
       "    .dataframe thead th {\n",
       "        text-align: right;\n",
       "    }\n",
       "</style>\n",
       "<table border=\"1\" class=\"dataframe\">\n",
       "  <thead>\n",
       "    <tr style=\"text-align: right;\">\n",
       "      <th></th>\n",
       "      <th>SPY</th>\n",
       "      <th>GMWAX</th>\n",
       "    </tr>\n",
       "  </thead>\n",
       "  <tbody>\n",
       "    <tr>\n",
       "      <th>1996-11-30</th>\n",
       "      <td>0.0687</td>\n",
       "      <td>0.0409</td>\n",
       "    </tr>\n",
       "    <tr>\n",
       "      <th>1996-12-31</th>\n",
       "      <td>-0.0282</td>\n",
       "      <td>-0.0156</td>\n",
       "    </tr>\n",
       "    <tr>\n",
       "      <th>1997-01-31</th>\n",
       "      <td>0.0575</td>\n",
       "      <td>0.0104</td>\n",
       "    </tr>\n",
       "  </tbody>\n",
       "</table>\n",
       "</div>"
      ],
      "text/plain": [
       "               SPY   GMWAX\n",
       "1996-11-30  0.0687  0.0409\n",
       "1996-12-31 -0.0282 -0.0156\n",
       "1997-01-31  0.0575  0.0104"
      ]
     },
     "execution_count": 347,
     "metadata": {},
     "output_type": "execute_result"
    }
   ],
   "source": [
    "signals = pd.read_excel('gmo_analysis_data.xlsx',1, index_col=0)\n",
    "gmo = pd.read_excel('gmo_analysis_data.xlsx',2, index_col=0)\n",
    "rf = pd.read_excel('gmo_analysis_data.xlsx',3, index_col=0)\n",
    "gmo_ex = gmo.dropna().subtract(rf[\"US3M\"],axis=0).dropna()\n",
    "gmo_ex.head(3)"
   ]
  },
  {
   "cell_type": "code",
   "execution_count": 348,
   "metadata": {},
   "outputs": [
    {
     "data": {
      "text/html": [
       "<div>\n",
       "<style scoped>\n",
       "    .dataframe tbody tr th:only-of-type {\n",
       "        vertical-align: middle;\n",
       "    }\n",
       "\n",
       "    .dataframe tbody tr th {\n",
       "        vertical-align: top;\n",
       "    }\n",
       "\n",
       "    .dataframe thead th {\n",
       "        text-align: right;\n",
       "    }\n",
       "</style>\n",
       "<table border=\"1\" class=\"dataframe\">\n",
       "  <thead>\n",
       "    <tr style=\"text-align: right;\">\n",
       "      <th></th>\n",
       "      <th>DP</th>\n",
       "      <th>EP</th>\n",
       "      <th>US10Y</th>\n",
       "    </tr>\n",
       "  </thead>\n",
       "  <tbody>\n",
       "    <tr>\n",
       "      <th>1993-02-28</th>\n",
       "      <td>2.82</td>\n",
       "      <td>4.44</td>\n",
       "      <td>6.03</td>\n",
       "    </tr>\n",
       "    <tr>\n",
       "      <th>1993-03-31</th>\n",
       "      <td>2.77</td>\n",
       "      <td>4.41</td>\n",
       "      <td>6.03</td>\n",
       "    </tr>\n",
       "    <tr>\n",
       "      <th>1993-04-30</th>\n",
       "      <td>2.82</td>\n",
       "      <td>4.44</td>\n",
       "      <td>6.05</td>\n",
       "    </tr>\n",
       "    <tr>\n",
       "      <th>1993-05-31</th>\n",
       "      <td>2.81</td>\n",
       "      <td>4.38</td>\n",
       "      <td>6.16</td>\n",
       "    </tr>\n",
       "  </tbody>\n",
       "</table>\n",
       "</div>"
      ],
      "text/plain": [
       "              DP    EP  US10Y\n",
       "1993-02-28  2.82  4.44   6.03\n",
       "1993-03-31  2.77  4.41   6.03\n",
       "1993-04-30  2.82  4.44   6.05\n",
       "1993-05-31  2.81  4.38   6.16"
      ]
     },
     "execution_count": 348,
     "metadata": {},
     "output_type": "execute_result"
    }
   ],
   "source": [
    "signals.head(4)"
   ]
  },
  {
   "cell_type": "markdown",
   "metadata": {},
   "source": [
    "## 2 Analyzing GMO"
   ]
  },
  {
   "cell_type": "markdown",
   "metadata": {},
   "source": [
    "#### 2.1 Examine GMO’s performance. Use the risk-free rate to convert the total returns to excess returns\n",
    "#### Calculate the mean, volatility, and Sharpe ratio for GMWAX. Do this for three samples:"
   ]
  },
  {
   "cell_type": "markdown",
   "metadata": {},
   "source": [
    "- from inception through 2011\n",
    "- 2012-present\n",
    "- inception - present\n",
    "Has the mean, vol, and Sharpe changed much since the case?"
   ]
  },
  {
   "cell_type": "code",
   "execution_count": 349,
   "metadata": {},
   "outputs": [
    {
     "data": {
      "text/html": [
       "<div>\n",
       "<style scoped>\n",
       "    .dataframe tbody tr th:only-of-type {\n",
       "        vertical-align: middle;\n",
       "    }\n",
       "\n",
       "    .dataframe tbody tr th {\n",
       "        vertical-align: top;\n",
       "    }\n",
       "\n",
       "    .dataframe thead th {\n",
       "        text-align: right;\n",
       "    }\n",
       "</style>\n",
       "<table border=\"1\" class=\"dataframe\">\n",
       "  <thead>\n",
       "    <tr style=\"text-align: right;\">\n",
       "      <th></th>\n",
       "      <th>mean</th>\n",
       "      <th>volatility</th>\n",
       "      <th>sharpe_ratio</th>\n",
       "    </tr>\n",
       "  </thead>\n",
       "  <tbody>\n",
       "    <tr>\n",
       "      <th>GMWAX</th>\n",
       "      <td>0.0158</td>\n",
       "      <td>0.125</td>\n",
       "      <td>0.1266</td>\n",
       "    </tr>\n",
       "  </tbody>\n",
       "</table>\n",
       "</div>"
      ],
      "text/plain": [
       "         mean  volatility  sharpe_ratio\n",
       "GMWAX  0.0158       0.125        0.1266"
      ]
     },
     "execution_count": 349,
     "metadata": {},
     "output_type": "execute_result"
    }
   ],
   "source": [
    "mean_vol_sharpe(gmo_ex.loc[:'2011',['GMWAX']])"
   ]
  },
  {
   "cell_type": "code",
   "execution_count": 350,
   "metadata": {},
   "outputs": [
    {
     "data": {
      "text/html": [
       "<div>\n",
       "<style scoped>\n",
       "    .dataframe tbody tr th:only-of-type {\n",
       "        vertical-align: middle;\n",
       "    }\n",
       "\n",
       "    .dataframe tbody tr th {\n",
       "        vertical-align: top;\n",
       "    }\n",
       "\n",
       "    .dataframe thead th {\n",
       "        text-align: right;\n",
       "    }\n",
       "</style>\n",
       "<table border=\"1\" class=\"dataframe\">\n",
       "  <thead>\n",
       "    <tr style=\"text-align: right;\">\n",
       "      <th></th>\n",
       "      <th>mean</th>\n",
       "      <th>volatility</th>\n",
       "      <th>sharpe_ratio</th>\n",
       "    </tr>\n",
       "  </thead>\n",
       "  <tbody>\n",
       "    <tr>\n",
       "      <th>GMWAX</th>\n",
       "      <td>0.0366</td>\n",
       "      <td>0.092</td>\n",
       "      <td>0.3982</td>\n",
       "    </tr>\n",
       "  </tbody>\n",
       "</table>\n",
       "</div>"
      ],
      "text/plain": [
       "         mean  volatility  sharpe_ratio\n",
       "GMWAX  0.0366       0.092        0.3982"
      ]
     },
     "execution_count": 350,
     "metadata": {},
     "output_type": "execute_result"
    }
   ],
   "source": [
    "mean_vol_sharpe(gmo_ex.loc['2012':,['GMWAX']])"
   ]
  },
  {
   "cell_type": "code",
   "execution_count": 351,
   "metadata": {},
   "outputs": [
    {
     "data": {
      "text/html": [
       "<div>\n",
       "<style scoped>\n",
       "    .dataframe tbody tr th:only-of-type {\n",
       "        vertical-align: middle;\n",
       "    }\n",
       "\n",
       "    .dataframe tbody tr th {\n",
       "        vertical-align: top;\n",
       "    }\n",
       "\n",
       "    .dataframe thead th {\n",
       "        text-align: right;\n",
       "    }\n",
       "</style>\n",
       "<table border=\"1\" class=\"dataframe\">\n",
       "  <thead>\n",
       "    <tr style=\"text-align: right;\">\n",
       "      <th></th>\n",
       "      <th>mean</th>\n",
       "      <th>volatility</th>\n",
       "      <th>sharpe_ratio</th>\n",
       "    </tr>\n",
       "  </thead>\n",
       "  <tbody>\n",
       "    <tr>\n",
       "      <th>GMWAX</th>\n",
       "      <td>0.0245</td>\n",
       "      <td>0.1123</td>\n",
       "      <td>0.2181</td>\n",
       "    </tr>\n",
       "  </tbody>\n",
       "</table>\n",
       "</div>"
      ],
      "text/plain": [
       "         mean  volatility  sharpe_ratio\n",
       "GMWAX  0.0245      0.1123        0.2181"
      ]
     },
     "execution_count": 351,
     "metadata": {},
     "output_type": "execute_result"
    }
   ],
   "source": [
    "mean_vol_sharpe(gmo_ex[['GMWAX']])"
   ]
  },
  {
   "cell_type": "markdown",
   "metadata": {},
   "source": [
    "#### Ans:- GMO's performance 2012 onwards has improved significantly. The sharpe ratio has more than tripled, owing to the higher mean and lower volatility."
   ]
  },
  {
   "cell_type": "markdown",
   "metadata": {},
   "source": [
    "#### 2.2 GMO believes a risk premium is compensation for a security’s tendency to lose money at “bad times”. For all three samples, analyze extreme scenarios by looking at\n",
    "- Min return\n",
    "- 5th percentile (VaR-5th)\n",
    "- Maximum drawdown"
   ]
  },
  {
   "cell_type": "code",
   "execution_count": 352,
   "metadata": {},
   "outputs": [
    {
     "data": {
      "text/html": [
       "<div>\n",
       "<style scoped>\n",
       "    .dataframe tbody tr th:only-of-type {\n",
       "        vertical-align: middle;\n",
       "    }\n",
       "\n",
       "    .dataframe tbody tr th {\n",
       "        vertical-align: top;\n",
       "    }\n",
       "\n",
       "    .dataframe thead th {\n",
       "        text-align: right;\n",
       "    }\n",
       "</style>\n",
       "<table border=\"1\" class=\"dataframe\">\n",
       "  <thead>\n",
       "    <tr style=\"text-align: right;\">\n",
       "      <th></th>\n",
       "      <th>Min return</th>\n",
       "      <th>VaR-5th</th>\n",
       "      <th>Max Drawdown</th>\n",
       "    </tr>\n",
       "  </thead>\n",
       "  <tbody>\n",
       "    <tr>\n",
       "      <th>GMWAX</th>\n",
       "      <td>-0.1492</td>\n",
       "      <td>-0.0598</td>\n",
       "      <td>-0.4729</td>\n",
       "    </tr>\n",
       "    <tr>\n",
       "      <th>SPY</th>\n",
       "      <td>-0.1656</td>\n",
       "      <td>-0.0802</td>\n",
       "      <td>-0.5600</td>\n",
       "    </tr>\n",
       "  </tbody>\n",
       "</table>\n",
       "</div>"
      ],
      "text/plain": [
       "       Min return  VaR-5th  Max Drawdown\n",
       "GMWAX     -0.1492  -0.0598       -0.4729\n",
       "SPY       -0.1656  -0.0802       -0.5600"
      ]
     },
     "execution_count": 352,
     "metadata": {},
     "output_type": "execute_result"
    }
   ],
   "source": [
    "tail_risk(gmo_ex.loc[:'2011',['GMWAX','SPY']])"
   ]
  },
  {
   "cell_type": "code",
   "execution_count": 353,
   "metadata": {},
   "outputs": [
    {
     "data": {
      "text/html": [
       "<div>\n",
       "<style scoped>\n",
       "    .dataframe tbody tr th:only-of-type {\n",
       "        vertical-align: middle;\n",
       "    }\n",
       "\n",
       "    .dataframe tbody tr th {\n",
       "        vertical-align: top;\n",
       "    }\n",
       "\n",
       "    .dataframe thead th {\n",
       "        text-align: right;\n",
       "    }\n",
       "</style>\n",
       "<table border=\"1\" class=\"dataframe\">\n",
       "  <thead>\n",
       "    <tr style=\"text-align: right;\">\n",
       "      <th></th>\n",
       "      <th>Min return</th>\n",
       "      <th>VaR-5th</th>\n",
       "      <th>Max Drawdown</th>\n",
       "    </tr>\n",
       "  </thead>\n",
       "  <tbody>\n",
       "    <tr>\n",
       "      <th>GMWAX</th>\n",
       "      <td>-0.1187</td>\n",
       "      <td>-0.0397</td>\n",
       "      <td>-0.2260</td>\n",
       "    </tr>\n",
       "    <tr>\n",
       "      <th>SPY</th>\n",
       "      <td>-0.1247</td>\n",
       "      <td>-0.0687</td>\n",
       "      <td>-0.2481</td>\n",
       "    </tr>\n",
       "  </tbody>\n",
       "</table>\n",
       "</div>"
      ],
      "text/plain": [
       "       Min return  VaR-5th  Max Drawdown\n",
       "GMWAX     -0.1187  -0.0397       -0.2260\n",
       "SPY       -0.1247  -0.0687       -0.2481"
      ]
     },
     "execution_count": 353,
     "metadata": {},
     "output_type": "execute_result"
    }
   ],
   "source": [
    "tail_risk(gmo_ex.loc['2012':,['GMWAX','SPY']])"
   ]
  },
  {
   "cell_type": "code",
   "execution_count": 354,
   "metadata": {},
   "outputs": [
    {
     "data": {
      "text/html": [
       "<div>\n",
       "<style scoped>\n",
       "    .dataframe tbody tr th:only-of-type {\n",
       "        vertical-align: middle;\n",
       "    }\n",
       "\n",
       "    .dataframe tbody tr th {\n",
       "        vertical-align: top;\n",
       "    }\n",
       "\n",
       "    .dataframe thead th {\n",
       "        text-align: right;\n",
       "    }\n",
       "</style>\n",
       "<table border=\"1\" class=\"dataframe\">\n",
       "  <thead>\n",
       "    <tr style=\"text-align: right;\">\n",
       "      <th></th>\n",
       "      <th>Min return</th>\n",
       "      <th>VaR-5th</th>\n",
       "      <th>Max Drawdown</th>\n",
       "    </tr>\n",
       "  </thead>\n",
       "  <tbody>\n",
       "    <tr>\n",
       "      <th>GMWAX</th>\n",
       "      <td>-0.1492</td>\n",
       "      <td>-0.0483</td>\n",
       "      <td>-0.4729</td>\n",
       "    </tr>\n",
       "    <tr>\n",
       "      <th>SPY</th>\n",
       "      <td>-0.1656</td>\n",
       "      <td>-0.0800</td>\n",
       "      <td>-0.5600</td>\n",
       "    </tr>\n",
       "  </tbody>\n",
       "</table>\n",
       "</div>"
      ],
      "text/plain": [
       "       Min return  VaR-5th  Max Drawdown\n",
       "GMWAX     -0.1492  -0.0483       -0.4729\n",
       "SPY       -0.1656  -0.0800       -0.5600"
      ]
     },
     "execution_count": 354,
     "metadata": {},
     "output_type": "execute_result"
    }
   ],
   "source": [
    "tail_risk(gmo_ex[['GMWAX','SPY']])"
   ]
  },
  {
   "cell_type": "markdown",
   "metadata": {},
   "source": [
    "#### (a) Does GMWAX have high or low tail-risk as seen by these stats?\n",
    "#### (b) Does that vary much across the two subsamples?"
   ]
  },
  {
   "cell_type": "markdown",
   "metadata": {},
   "source": [
    "#### Ans (a):- GMO has lower tail risk compared to SPY across all periods, across all statistics (Min Ret., VaR-5th and Max Drawdown)."
   ]
  },
  {
   "cell_type": "markdown",
   "metadata": {},
   "source": [
    "#### Ans (b):- Yes, the Max-Drawdown has decreased significantly from 2012 to present."
   ]
  },
  {
   "cell_type": "markdown",
   "metadata": {},
   "source": [
    "#### 2.3 For all three samples, regress excess returns of GMWAX on excess returns of SPY.\n",
    "- (a) Report the estimated alpha, beta, and r-squared."
   ]
  },
  {
   "cell_type": "code",
   "execution_count": 355,
   "metadata": {},
   "outputs": [],
   "source": [
    "gmo_ex_dropna = gmo_ex.dropna()"
   ]
  },
  {
   "cell_type": "markdown",
   "metadata": {},
   "source": [
    "#### 1996-2011"
   ]
  },
  {
   "cell_type": "code",
   "execution_count": 356,
   "metadata": {},
   "outputs": [
    {
     "data": {
      "text/html": [
       "<div>\n",
       "<style scoped>\n",
       "    .dataframe tbody tr th:only-of-type {\n",
       "        vertical-align: middle;\n",
       "    }\n",
       "\n",
       "    .dataframe tbody tr th {\n",
       "        vertical-align: top;\n",
       "    }\n",
       "\n",
       "    .dataframe thead th {\n",
       "        text-align: right;\n",
       "    }\n",
       "</style>\n",
       "<table border=\"1\" class=\"dataframe\">\n",
       "  <thead>\n",
       "    <tr style=\"text-align: right;\">\n",
       "      <th></th>\n",
       "      <th>Regression Parameters</th>\n",
       "    </tr>\n",
       "  </thead>\n",
       "  <tbody>\n",
       "    <tr>\n",
       "      <th>const</th>\n",
       "      <td>-0.0058</td>\n",
       "    </tr>\n",
       "    <tr>\n",
       "      <th>SPY</th>\n",
       "      <td>0.5396</td>\n",
       "    </tr>\n",
       "    <tr>\n",
       "      <th>r-squared</th>\n",
       "      <td>0.5071</td>\n",
       "    </tr>\n",
       "  </tbody>\n",
       "</table>\n",
       "</div>"
      ],
      "text/plain": [
       "           Regression Parameters\n",
       "const                    -0.0058\n",
       "SPY                       0.5396\n",
       "r-squared                 0.5071"
      ]
     },
     "execution_count": 356,
     "metadata": {},
     "output_type": "execute_result"
    }
   ],
   "source": [
    "reg_params(gmo_ex.loc[:'2011'], 'GMWAX', 'SPY')"
   ]
  },
  {
   "cell_type": "markdown",
   "metadata": {},
   "source": [
    "#### 2012-present"
   ]
  },
  {
   "cell_type": "code",
   "execution_count": 357,
   "metadata": {},
   "outputs": [
    {
     "data": {
      "text/html": [
       "<div>\n",
       "<style scoped>\n",
       "    .dataframe tbody tr th:only-of-type {\n",
       "        vertical-align: middle;\n",
       "    }\n",
       "\n",
       "    .dataframe tbody tr th {\n",
       "        vertical-align: top;\n",
       "    }\n",
       "\n",
       "    .dataframe thead th {\n",
       "        text-align: right;\n",
       "    }\n",
       "</style>\n",
       "<table border=\"1\" class=\"dataframe\">\n",
       "  <thead>\n",
       "    <tr style=\"text-align: right;\">\n",
       "      <th></th>\n",
       "      <th>Regression Parameters</th>\n",
       "    </tr>\n",
       "  </thead>\n",
       "  <tbody>\n",
       "    <tr>\n",
       "      <th>const</th>\n",
       "      <td>-0.0345</td>\n",
       "    </tr>\n",
       "    <tr>\n",
       "      <th>SPY</th>\n",
       "      <td>0.5622</td>\n",
       "    </tr>\n",
       "    <tr>\n",
       "      <th>r-squared</th>\n",
       "      <td>0.7645</td>\n",
       "    </tr>\n",
       "  </tbody>\n",
       "</table>\n",
       "</div>"
      ],
      "text/plain": [
       "           Regression Parameters\n",
       "const                    -0.0345\n",
       "SPY                       0.5622\n",
       "r-squared                 0.7645"
      ]
     },
     "execution_count": 357,
     "metadata": {},
     "output_type": "execute_result"
    }
   ],
   "source": [
    "reg_params(gmo_ex.loc['2012':], 'GMWAX', 'SPY')"
   ]
  },
  {
   "cell_type": "markdown",
   "metadata": {},
   "source": [
    "#### Full Sample"
   ]
  },
  {
   "cell_type": "code",
   "execution_count": 358,
   "metadata": {},
   "outputs": [
    {
     "data": {
      "text/html": [
       "<div>\n",
       "<style scoped>\n",
       "    .dataframe tbody tr th:only-of-type {\n",
       "        vertical-align: middle;\n",
       "    }\n",
       "\n",
       "    .dataframe tbody tr th {\n",
       "        vertical-align: top;\n",
       "    }\n",
       "\n",
       "    .dataframe thead th {\n",
       "        text-align: right;\n",
       "    }\n",
       "</style>\n",
       "<table border=\"1\" class=\"dataframe\">\n",
       "  <thead>\n",
       "    <tr style=\"text-align: right;\">\n",
       "      <th></th>\n",
       "      <th>Regression Parameters</th>\n",
       "    </tr>\n",
       "  </thead>\n",
       "  <tbody>\n",
       "    <tr>\n",
       "      <th>const</th>\n",
       "      <td>-0.0170</td>\n",
       "    </tr>\n",
       "    <tr>\n",
       "      <th>SPY</th>\n",
       "      <td>0.5456</td>\n",
       "    </tr>\n",
       "    <tr>\n",
       "      <th>r-squared</th>\n",
       "      <td>0.5777</td>\n",
       "    </tr>\n",
       "  </tbody>\n",
       "</table>\n",
       "</div>"
      ],
      "text/plain": [
       "           Regression Parameters\n",
       "const                    -0.0170\n",
       "SPY                       0.5456\n",
       "r-squared                 0.5777"
      ]
     },
     "execution_count": 358,
     "metadata": {},
     "output_type": "execute_result"
    }
   ],
   "source": [
    "reg_params(gmo_ex, 'GMWAX', 'SPY')"
   ]
  },
  {
   "cell_type": "markdown",
   "metadata": {},
   "source": [
    "- (b) Is GMWAX a low-beta strategy? Has that changed since the case?\n",
    "- (c) Does GMWAX provide alpha? Has that changed across the subsamples?"
   ]
  },
  {
   "cell_type": "markdown",
   "metadata": {},
   "source": [
    "#### Ans (b):- Yes, GMWAX is a low-beta strategy. The beta has not changed significantly across the subsamples, and stayed around 0.55"
   ]
  },
  {
   "cell_type": "markdown",
   "metadata": {},
   "source": [
    "#### Ans (c):- No, GMWAX does not provide alpha. The alpha has stayed very close to 0 or slightly negative (~ 0.05% - 0.2%) throuhgout the subsamples."
   ]
  },
  {
   "cell_type": "markdown",
   "metadata": {},
   "source": [
    "## 3 Forecast Regressions"
   ]
  },
  {
   "cell_type": "markdown",
   "metadata": {},
   "source": [
    "#### Consider the lagged regression, where the regressor, $(X,)$ is a period behind the target, $(r^{SPY} )$.\n",
    "#### $r^{SPY} = α^{SPY,X} +(β^{SPY,X})^′ X_{t-1} + \\epsilon^{SPY,X}_{t}$ ....(1)"
   ]
  },
  {
   "cell_type": "markdown",
   "metadata": {},
   "source": [
    "#### 3.1 Estimate $(1)$ and report the $\\mathbb{R}^2$, as well as the OLS estimates for $α$ and $β$. Do this for...\n",
    "- X as a single regressor, the dividend-price ratio.\n",
    "- X as a single regressor, the earnings-price ratio.\n",
    "- X as three regressors, the dividend-price ratio, the earnings-price ratio, and the 10-year yield.\n",
    "For each, report the r-squared."
   ]
  },
  {
   "cell_type": "code",
   "execution_count": 359,
   "metadata": {},
   "outputs": [],
   "source": [
    "signals_copy = signals.copy()\n",
    "signals_copy['SPY'] = gmo['SPY']"
   ]
  },
  {
   "cell_type": "code",
   "execution_count": 360,
   "metadata": {},
   "outputs": [
    {
     "data": {
      "text/html": [
       "<div>\n",
       "<style scoped>\n",
       "    .dataframe tbody tr th:only-of-type {\n",
       "        vertical-align: middle;\n",
       "    }\n",
       "\n",
       "    .dataframe tbody tr th {\n",
       "        vertical-align: top;\n",
       "    }\n",
       "\n",
       "    .dataframe thead th {\n",
       "        text-align: right;\n",
       "    }\n",
       "</style>\n",
       "<table border=\"1\" class=\"dataframe\">\n",
       "  <thead>\n",
       "    <tr style=\"text-align: right;\">\n",
       "      <th></th>\n",
       "      <th>DP</th>\n",
       "      <th>EP</th>\n",
       "      <th>US10Y</th>\n",
       "      <th>SPY</th>\n",
       "    </tr>\n",
       "  </thead>\n",
       "  <tbody>\n",
       "    <tr>\n",
       "      <th>1993-02-28</th>\n",
       "      <td>NaN</td>\n",
       "      <td>NaN</td>\n",
       "      <td>NaN</td>\n",
       "      <td>0.0107</td>\n",
       "    </tr>\n",
       "    <tr>\n",
       "      <th>1993-03-31</th>\n",
       "      <td>2.82</td>\n",
       "      <td>4.44</td>\n",
       "      <td>6.03</td>\n",
       "      <td>0.0224</td>\n",
       "    </tr>\n",
       "    <tr>\n",
       "      <th>1993-04-30</th>\n",
       "      <td>2.77</td>\n",
       "      <td>4.41</td>\n",
       "      <td>6.03</td>\n",
       "      <td>-0.0256</td>\n",
       "    </tr>\n",
       "    <tr>\n",
       "      <th>1993-05-31</th>\n",
       "      <td>2.82</td>\n",
       "      <td>4.44</td>\n",
       "      <td>6.05</td>\n",
       "      <td>0.0270</td>\n",
       "    </tr>\n",
       "    <tr>\n",
       "      <th>1993-06-30</th>\n",
       "      <td>2.81</td>\n",
       "      <td>4.38</td>\n",
       "      <td>6.16</td>\n",
       "      <td>0.0037</td>\n",
       "    </tr>\n",
       "  </tbody>\n",
       "</table>\n",
       "</div>"
      ],
      "text/plain": [
       "              DP    EP  US10Y     SPY\n",
       "1993-02-28   NaN   NaN    NaN  0.0107\n",
       "1993-03-31  2.82  4.44   6.03  0.0224\n",
       "1993-04-30  2.77  4.41   6.03 -0.0256\n",
       "1993-05-31  2.82  4.44   6.05  0.0270\n",
       "1993-06-30  2.81  4.38   6.16  0.0037"
      ]
     },
     "execution_count": 360,
     "metadata": {},
     "output_type": "execute_result"
    }
   ],
   "source": [
    "signals = signals.shift()\n",
    "\n",
    "signals['SPY'] = gmo['SPY']\n",
    "signals.head()"
   ]
  },
  {
   "cell_type": "code",
   "execution_count": 361,
   "metadata": {},
   "outputs": [
    {
     "data": {
      "text/html": [
       "<div>\n",
       "<style scoped>\n",
       "    .dataframe tbody tr th:only-of-type {\n",
       "        vertical-align: middle;\n",
       "    }\n",
       "\n",
       "    .dataframe tbody tr th {\n",
       "        vertical-align: top;\n",
       "    }\n",
       "\n",
       "    .dataframe thead th {\n",
       "        text-align: right;\n",
       "    }\n",
       "</style>\n",
       "<table border=\"1\" class=\"dataframe\">\n",
       "  <thead>\n",
       "    <tr style=\"text-align: right;\">\n",
       "      <th></th>\n",
       "      <th>Regression Parameters</th>\n",
       "    </tr>\n",
       "  </thead>\n",
       "  <tbody>\n",
       "    <tr>\n",
       "      <th>const</th>\n",
       "      <td>-0.1129</td>\n",
       "    </tr>\n",
       "    <tr>\n",
       "      <th>DP</th>\n",
       "      <td>0.0094</td>\n",
       "    </tr>\n",
       "    <tr>\n",
       "      <th>r-squared</th>\n",
       "      <td>0.0094</td>\n",
       "    </tr>\n",
       "  </tbody>\n",
       "</table>\n",
       "</div>"
      ],
      "text/plain": [
       "           Regression Parameters\n",
       "const                    -0.1129\n",
       "DP                        0.0094\n",
       "r-squared                 0.0094"
      ]
     },
     "execution_count": 361,
     "metadata": {},
     "output_type": "execute_result"
    }
   ],
   "source": [
    "dp = reg_params(signals, 'SPY', 'DP')\n",
    "dp"
   ]
  },
  {
   "cell_type": "code",
   "execution_count": 362,
   "metadata": {},
   "outputs": [
    {
     "data": {
      "text/html": [
       "<div>\n",
       "<style scoped>\n",
       "    .dataframe tbody tr th:only-of-type {\n",
       "        vertical-align: middle;\n",
       "    }\n",
       "\n",
       "    .dataframe tbody tr th {\n",
       "        vertical-align: top;\n",
       "    }\n",
       "\n",
       "    .dataframe thead th {\n",
       "        text-align: right;\n",
       "    }\n",
       "</style>\n",
       "<table border=\"1\" class=\"dataframe\">\n",
       "  <thead>\n",
       "    <tr style=\"text-align: right;\">\n",
       "      <th></th>\n",
       "      <th>Regression Parameters</th>\n",
       "    </tr>\n",
       "  </thead>\n",
       "  <tbody>\n",
       "    <tr>\n",
       "      <th>const</th>\n",
       "      <td>-0.0712</td>\n",
       "    </tr>\n",
       "    <tr>\n",
       "      <th>EP</th>\n",
       "      <td>0.0032</td>\n",
       "    </tr>\n",
       "    <tr>\n",
       "      <th>r-squared</th>\n",
       "      <td>0.0086</td>\n",
       "    </tr>\n",
       "  </tbody>\n",
       "</table>\n",
       "</div>"
      ],
      "text/plain": [
       "           Regression Parameters\n",
       "const                    -0.0712\n",
       "EP                        0.0032\n",
       "r-squared                 0.0086"
      ]
     },
     "execution_count": 362,
     "metadata": {},
     "output_type": "execute_result"
    }
   ],
   "source": [
    "ep = reg_params(signals, 'SPY', 'EP')\n",
    "ep"
   ]
  },
  {
   "cell_type": "code",
   "execution_count": 364,
   "metadata": {},
   "outputs": [
    {
     "data": {
      "text/html": [
       "<div>\n",
       "<style scoped>\n",
       "    .dataframe tbody tr th:only-of-type {\n",
       "        vertical-align: middle;\n",
       "    }\n",
       "\n",
       "    .dataframe tbody tr th {\n",
       "        vertical-align: top;\n",
       "    }\n",
       "\n",
       "    .dataframe thead th {\n",
       "        text-align: right;\n",
       "    }\n",
       "</style>\n",
       "<table border=\"1\" class=\"dataframe\">\n",
       "  <thead>\n",
       "    <tr style=\"text-align: right;\">\n",
       "      <th></th>\n",
       "      <th>Regression Parameters</th>\n",
       "    </tr>\n",
       "  </thead>\n",
       "  <tbody>\n",
       "    <tr>\n",
       "      <th>const</th>\n",
       "      <td>-0.1792</td>\n",
       "    </tr>\n",
       "    <tr>\n",
       "      <th>EP</th>\n",
       "      <td>0.0027</td>\n",
       "    </tr>\n",
       "    <tr>\n",
       "      <th>DP</th>\n",
       "      <td>0.0080</td>\n",
       "    </tr>\n",
       "    <tr>\n",
       "      <th>US10Y</th>\n",
       "      <td>-0.0010</td>\n",
       "    </tr>\n",
       "    <tr>\n",
       "      <th>r-squared</th>\n",
       "      <td>0.0163</td>\n",
       "    </tr>\n",
       "  </tbody>\n",
       "</table>\n",
       "</div>"
      ],
      "text/plain": [
       "           Regression Parameters\n",
       "const                    -0.1792\n",
       "EP                        0.0027\n",
       "DP                        0.0080\n",
       "US10Y                    -0.0010\n",
       "r-squared                 0.0163"
      ]
     },
     "execution_count": 364,
     "metadata": {},
     "output_type": "execute_result"
    }
   ],
   "source": [
    "ep_dp_10y = reg_params(signals, 'SPY', ['EP','DP','US10Y'])\n",
    "ep_dp_10y"
   ]
  },
  {
   "cell_type": "markdown",
   "metadata": {},
   "source": [
    "#### 3.2 For each of the three regressions, let’s try to utilize the resulting forecast in a trading strategy.\n",
    "- Build the forecasted SPY returns: $\\hat{r}^{SPY}_{t+1}$ . Note that this denotes the forecast made using $X_t$ to forecast the $(t + 1)$ return\n",
    "- Set the scale of the investment in SPY equal to 100 times the forecasted value:   <br> $ \\omega_t = 100 \\hat{r}^{SPY}_{t+1} $\n",
    "- We are not taking this scaling too seriously. We just want the strategy to go bigger in periods where the forecast is high and to withdraw in periods where the forecast is low, or even negative.\n",
    "- Calculate the return on this strategy: <br> $ r^{X}_{t+1} = \\omega_t r^{SPY}_{t+1} $"
   ]
  },
  {
   "cell_type": "code",
   "execution_count": 365,
   "metadata": {},
   "outputs": [],
   "source": [
    "w_dp = 100 * (dp.loc['const'][0]/12 + dp.loc['DP'][0] * signals['DP'])\n",
    "\n",
    "r_dp = (w_dp * signals['SPY']).dropna()\n",
    "\n",
    "w_ep = 100 * (ep.loc['const'][0]/12 + ep.loc['EP'][0] * signals['EP'])\n",
    "\n",
    "r_ep = (w_ep * signals['SPY']).dropna()\n",
    "\n",
    "w_3fac = 100 * (ep_dp_10y.loc['const'][0]/12 + ep_dp_10y.loc['EP'][0] * signals['EP']\\\n",
    "                                             + ep_dp_10y.loc['DP'][0] * signals['DP']\\\n",
    "                                             + ep_dp_10y.loc['US10Y'][0] * signals['US10Y'])\n",
    "r_3fac = (w_3fac * signals['SPY']).dropna()\n"
   ]
  },
  {
   "cell_type": "code",
   "execution_count": 403,
   "metadata": {},
   "outputs": [],
   "source": [
    "def lagged_reg(df, y_col, X_col, weight=100, lag=1, intercept = True, annual_fac=12):\n",
    "    y = df[y_col]\n",
    "    if intercept == True:\n",
    "        X = sm.add_constant(df[X_col].shift(lag))\n",
    "    else:\n",
    "        X = df[X_col].shift(lag)\n",
    "    \n",
    "    model = sm.OLS(y, X, missing = 'drop').fit()\n",
    "    reg_df = model.params.to_frame('Regression Parameters')\n",
    "    reg_df.loc['r-squared'] = model.rsquared\n",
    "    \n",
    "    if intercept == True:\n",
    "        reg_df.loc['const'] *= annual_fac\n",
    "        final = reg_df.loc['const'][0]/12\n",
    "    else:\n",
    "        final = 0\n",
    "    \n",
    "    reg_df = reg_df.drop('const')\n",
    "    reg_df = reg_df.drop('r-squared')\n",
    "    \n",
    "    for i in reg_df.index:\n",
    "        final += reg_df.loc[i][0] * df[i]\n",
    "    \n",
    "    final = final * weight\n",
    "    \n",
    "    final_series = (final * df[y_col]).dropna()\n",
    "    \n",
    "    return final"
   ]
  },
  {
   "cell_type": "code",
   "execution_count": 404,
   "metadata": {},
   "outputs": [
    {
     "data": {
      "text/plain": [
       "1993-02-28   -0.0151\n",
       "1993-03-31   -0.0317\n",
       "1993-04-30    0.0362\n",
       "1993-05-31   -0.0381\n",
       "1993-06-30   -0.0052\n",
       "               ...  \n",
       "2022-06-30    0.1165\n",
       "2022-07-31   -0.1301\n",
       "2022-08-31    0.0576\n",
       "2022-09-30    0.1306\n",
       "2022-10-31   -0.1148\n",
       "Name: SPY, Length: 357, dtype: float64"
      ]
     },
     "execution_count": 404,
     "metadata": {},
     "output_type": "execute_result"
    }
   ],
   "source": [
    "lagged_reg(signals_copy, 'SPY', ['EP','DP','US10Y'])"
   ]
  },
  {
   "cell_type": "markdown",
   "metadata": {},
   "source": [
    "#### You should now have the trading strategy returns, $r^x$ for each of the forecasts. For each strategy, estimate\n",
    "- mean, volatility, Sharpe\n",
    "- max-drawdown\n",
    "- market alpha\n",
    "- market beta\n",
    "- market Information ratio"
   ]
  },
  {
   "cell_type": "code",
   "execution_count": 368,
   "metadata": {},
   "outputs": [
    {
     "data": {
      "text/html": [
       "<div>\n",
       "<style scoped>\n",
       "    .dataframe tbody tr th:only-of-type {\n",
       "        vertical-align: middle;\n",
       "    }\n",
       "\n",
       "    .dataframe tbody tr th {\n",
       "        vertical-align: top;\n",
       "    }\n",
       "\n",
       "    .dataframe thead th {\n",
       "        text-align: right;\n",
       "    }\n",
       "</style>\n",
       "<table border=\"1\" class=\"dataframe\">\n",
       "  <thead>\n",
       "    <tr style=\"text-align: right;\">\n",
       "      <th></th>\n",
       "      <th>Mean</th>\n",
       "      <th>Vol</th>\n",
       "      <th>Sharpe (Mean/Vol)</th>\n",
       "      <th>alpha</th>\n",
       "      <th>beta</th>\n",
       "      <th>Max Drawdown</th>\n",
       "    </tr>\n",
       "  </thead>\n",
       "  <tbody>\n",
       "    <tr>\n",
       "      <th>Summary Stats</th>\n",
       "      <td>0.1095</td>\n",
       "      <td>0.149</td>\n",
       "      <td>0.7348</td>\n",
       "      <td>0.0207</td>\n",
       "      <td>0.8611</td>\n",
       "      <td>-0.653</td>\n",
       "    </tr>\n",
       "  </tbody>\n",
       "</table>\n",
       "</div>"
      ],
      "text/plain": [
       "                 Mean    Vol  Sharpe (Mean/Vol)   alpha    beta  Max Drawdown\n",
       "Summary Stats  0.1095  0.149             0.7348  0.0207  0.8611        -0.653"
      ]
     },
     "execution_count": 368,
     "metadata": {},
     "output_type": "execute_result"
    }
   ],
   "source": [
    "summary_stats_bm(r_dp, signals['SPY'])"
   ]
  },
  {
   "cell_type": "code",
   "execution_count": 369,
   "metadata": {},
   "outputs": [
    {
     "data": {
      "text/html": [
       "<div>\n",
       "<style scoped>\n",
       "    .dataframe tbody tr th:only-of-type {\n",
       "        vertical-align: middle;\n",
       "    }\n",
       "\n",
       "    .dataframe tbody tr th {\n",
       "        vertical-align: top;\n",
       "    }\n",
       "\n",
       "    .dataframe thead th {\n",
       "        text-align: right;\n",
       "    }\n",
       "</style>\n",
       "<table border=\"1\" class=\"dataframe\">\n",
       "  <thead>\n",
       "    <tr style=\"text-align: right;\">\n",
       "      <th></th>\n",
       "      <th>Mean</th>\n",
       "      <th>Vol</th>\n",
       "      <th>Sharpe (Mean/Vol)</th>\n",
       "      <th>alpha</th>\n",
       "      <th>beta</th>\n",
       "      <th>Max Drawdown</th>\n",
       "    </tr>\n",
       "  </thead>\n",
       "  <tbody>\n",
       "    <tr>\n",
       "      <th>Summary Stats</th>\n",
       "      <td>0.1078</td>\n",
       "      <td>0.1286</td>\n",
       "      <td>0.8383</td>\n",
       "      <td>0.0322</td>\n",
       "      <td>0.7327</td>\n",
       "      <td>-0.3823</td>\n",
       "    </tr>\n",
       "  </tbody>\n",
       "</table>\n",
       "</div>"
      ],
      "text/plain": [
       "                 Mean     Vol  Sharpe (Mean/Vol)   alpha    beta  Max Drawdown\n",
       "Summary Stats  0.1078  0.1286             0.8383  0.0322  0.7327       -0.3823"
      ]
     },
     "execution_count": 369,
     "metadata": {},
     "output_type": "execute_result"
    }
   ],
   "source": [
    "summary_stats_bm(r_ep, signals['SPY'])"
   ]
  },
  {
   "cell_type": "code",
   "execution_count": 370,
   "metadata": {},
   "outputs": [
    {
     "data": {
      "text/html": [
       "<div>\n",
       "<style scoped>\n",
       "    .dataframe tbody tr th:only-of-type {\n",
       "        vertical-align: middle;\n",
       "    }\n",
       "\n",
       "    .dataframe tbody tr th {\n",
       "        vertical-align: top;\n",
       "    }\n",
       "\n",
       "    .dataframe thead th {\n",
       "        text-align: right;\n",
       "    }\n",
       "</style>\n",
       "<table border=\"1\" class=\"dataframe\">\n",
       "  <thead>\n",
       "    <tr style=\"text-align: right;\">\n",
       "      <th></th>\n",
       "      <th>Mean</th>\n",
       "      <th>Vol</th>\n",
       "      <th>Sharpe (Mean/Vol)</th>\n",
       "      <th>alpha</th>\n",
       "      <th>beta</th>\n",
       "      <th>Max Drawdown</th>\n",
       "    </tr>\n",
       "  </thead>\n",
       "  <tbody>\n",
       "    <tr>\n",
       "      <th>Summary Stats</th>\n",
       "      <td>0.125</td>\n",
       "      <td>0.1456</td>\n",
       "      <td>0.8588</td>\n",
       "      <td>0.0451</td>\n",
       "      <td>0.775</td>\n",
       "      <td>-0.5221</td>\n",
       "    </tr>\n",
       "  </tbody>\n",
       "</table>\n",
       "</div>"
      ],
      "text/plain": [
       "                Mean     Vol  Sharpe (Mean/Vol)   alpha   beta  Max Drawdown\n",
       "Summary Stats  0.125  0.1456             0.8588  0.0451  0.775       -0.5221"
      ]
     },
     "execution_count": 370,
     "metadata": {},
     "output_type": "execute_result"
    }
   ],
   "source": [
    "summary_stats_bm(r_3fac, signals['SPY'])"
   ]
  },
  {
   "cell_type": "markdown",
   "metadata": {},
   "source": [
    "#### 3.3 GMO believes a risk premium is compensation for a security’s tendency to lose money at “bad times”. Let’s consider risk characteristics."
   ]
  },
  {
   "cell_type": "markdown",
   "metadata": {},
   "source": [
    "3.3(a) For both strategies, the market, and GMO, calculate the monthly VaR for π = .05. Just use the quantile of the historic data for this VaR calculation."
   ]
  },
  {
   "cell_type": "code",
   "execution_count": 371,
   "metadata": {},
   "outputs": [
    {
     "data": {
      "text/html": [
       "<div>\n",
       "<style scoped>\n",
       "    .dataframe tbody tr th:only-of-type {\n",
       "        vertical-align: middle;\n",
       "    }\n",
       "\n",
       "    .dataframe tbody tr th {\n",
       "        vertical-align: top;\n",
       "    }\n",
       "\n",
       "    .dataframe thead th {\n",
       "        text-align: right;\n",
       "    }\n",
       "</style>\n",
       "<table border=\"1\" class=\"dataframe\">\n",
       "  <thead>\n",
       "    <tr style=\"text-align: right;\">\n",
       "      <th></th>\n",
       "      <th>VaR-5th</th>\n",
       "    </tr>\n",
       "  </thead>\n",
       "  <tbody>\n",
       "    <tr>\n",
       "      <th>DP-strat</th>\n",
       "      <td>-0.0523</td>\n",
       "    </tr>\n",
       "    <tr>\n",
       "      <th>EP-strat</th>\n",
       "      <td>-0.0541</td>\n",
       "    </tr>\n",
       "    <tr>\n",
       "      <th>3-factor-strat</th>\n",
       "      <td>-0.0642</td>\n",
       "    </tr>\n",
       "    <tr>\n",
       "      <th>SPY</th>\n",
       "      <td>-0.0739</td>\n",
       "    </tr>\n",
       "    <tr>\n",
       "      <th>GMWAX</th>\n",
       "      <td>-0.0473</td>\n",
       "    </tr>\n",
       "  </tbody>\n",
       "</table>\n",
       "</div>"
      ],
      "text/plain": [
       "                VaR-5th\n",
       "DP-strat        -0.0523\n",
       "EP-strat        -0.0541\n",
       "3-factor-strat  -0.0642\n",
       "SPY             -0.0739\n",
       "GMWAX           -0.0473"
      ]
     },
     "execution_count": 371,
     "metadata": {},
     "output_type": "execute_result"
    }
   ],
   "source": [
    "var = pd.DataFrame(data = [r_dp.quantile(0.05), r_ep.quantile(0.05), r_3fac.quantile(0.05), signals['SPY'].quantile(.05), gmo['GMWAX'].quantile(0.05)], index = ['DP-strat', 'EP-strat', '3-factor-strat', 'SPY', 'GMWAX'], columns=['VaR-5th'])\n",
    "var"
   ]
  },
  {
   "cell_type": "markdown",
   "metadata": {},
   "source": [
    "3.3 (b) The GMO case mentions that stocks under-performed short-term bonds from 2000-2011. Does the dynamic portfolio above under-perform the risk-free rate over this time?"
   ]
  },
  {
   "cell_type": "markdown",
   "metadata": {},
   "source": [
    "Ans:- No, the dynamic portfolio does not under-perform the risk-free rate over this time. The vols for DP are higher than the risk-free rate."
   ]
  },
  {
   "cell_type": "code",
   "execution_count": 372,
   "metadata": {},
   "outputs": [
    {
     "data": {
      "text/html": [
       "<div>\n",
       "<style scoped>\n",
       "    .dataframe tbody tr th:only-of-type {\n",
       "        vertical-align: middle;\n",
       "    }\n",
       "\n",
       "    .dataframe tbody tr th {\n",
       "        vertical-align: top;\n",
       "    }\n",
       "\n",
       "    .dataframe thead th {\n",
       "        text-align: right;\n",
       "    }\n",
       "</style>\n",
       "<table border=\"1\" class=\"dataframe\">\n",
       "  <thead>\n",
       "    <tr style=\"text-align: right;\">\n",
       "      <th></th>\n",
       "      <th>mean</th>\n",
       "      <th>volatility</th>\n",
       "      <th>sharpe_ratio</th>\n",
       "    </tr>\n",
       "  </thead>\n",
       "  <tbody>\n",
       "    <tr>\n",
       "      <th>DP-strat</th>\n",
       "      <td>0.0393</td>\n",
       "      <td>0.1842</td>\n",
       "      <td>0.2135</td>\n",
       "    </tr>\n",
       "  </tbody>\n",
       "</table>\n",
       "</div>"
      ],
      "text/plain": [
       "            mean  volatility  sharpe_ratio\n",
       "DP-strat  0.0393      0.1842        0.2135"
      ]
     },
     "execution_count": 372,
     "metadata": {},
     "output_type": "execute_result"
    }
   ],
   "source": [
    "mean_vol_sharpe(r_dp.to_frame('DP-strat').loc['2000':'2011'])"
   ]
  },
  {
   "cell_type": "code",
   "execution_count": 373,
   "metadata": {},
   "outputs": [
    {
     "data": {
      "text/html": [
       "<div>\n",
       "<style scoped>\n",
       "    .dataframe tbody tr th:only-of-type {\n",
       "        vertical-align: middle;\n",
       "    }\n",
       "\n",
       "    .dataframe tbody tr th {\n",
       "        vertical-align: top;\n",
       "    }\n",
       "\n",
       "    .dataframe thead th {\n",
       "        text-align: right;\n",
       "    }\n",
       "</style>\n",
       "<table border=\"1\" class=\"dataframe\">\n",
       "  <thead>\n",
       "    <tr style=\"text-align: right;\">\n",
       "      <th></th>\n",
       "      <th>mean</th>\n",
       "      <th>volatility</th>\n",
       "      <th>sharpe_ratio</th>\n",
       "    </tr>\n",
       "  </thead>\n",
       "  <tbody>\n",
       "    <tr>\n",
       "      <th>EP-strat</th>\n",
       "      <td>0.0373</td>\n",
       "      <td>0.1339</td>\n",
       "      <td>0.2784</td>\n",
       "    </tr>\n",
       "  </tbody>\n",
       "</table>\n",
       "</div>"
      ],
      "text/plain": [
       "            mean  volatility  sharpe_ratio\n",
       "EP-strat  0.0373      0.1339        0.2784"
      ]
     },
     "execution_count": 373,
     "metadata": {},
     "output_type": "execute_result"
    }
   ],
   "source": [
    "mean_vol_sharpe(r_ep.to_frame('EP-strat').loc['2000':'2011'])"
   ]
  },
  {
   "cell_type": "code",
   "execution_count": 374,
   "metadata": {},
   "outputs": [
    {
     "data": {
      "text/html": [
       "<div>\n",
       "<style scoped>\n",
       "    .dataframe tbody tr th:only-of-type {\n",
       "        vertical-align: middle;\n",
       "    }\n",
       "\n",
       "    .dataframe tbody tr th {\n",
       "        vertical-align: top;\n",
       "    }\n",
       "\n",
       "    .dataframe thead th {\n",
       "        text-align: right;\n",
       "    }\n",
       "</style>\n",
       "<table border=\"1\" class=\"dataframe\">\n",
       "  <thead>\n",
       "    <tr style=\"text-align: right;\">\n",
       "      <th></th>\n",
       "      <th>mean</th>\n",
       "      <th>volatility</th>\n",
       "      <th>sharpe_ratio</th>\n",
       "    </tr>\n",
       "  </thead>\n",
       "  <tbody>\n",
       "    <tr>\n",
       "      <th>3-factor-strat</th>\n",
       "      <td>0.0608</td>\n",
       "      <td>0.1574</td>\n",
       "      <td>0.3863</td>\n",
       "    </tr>\n",
       "  </tbody>\n",
       "</table>\n",
       "</div>"
      ],
      "text/plain": [
       "                  mean  volatility  sharpe_ratio\n",
       "3-factor-strat  0.0608      0.1574        0.3863"
      ]
     },
     "execution_count": 374,
     "metadata": {},
     "output_type": "execute_result"
    }
   ],
   "source": [
    "mean_vol_sharpe(r_3fac.to_frame('3-factor-strat').loc['2000':'2011'])"
   ]
  },
  {
   "cell_type": "code",
   "execution_count": 375,
   "metadata": {},
   "outputs": [
    {
     "data": {
      "text/html": [
       "<div>\n",
       "<style scoped>\n",
       "    .dataframe tbody tr th:only-of-type {\n",
       "        vertical-align: middle;\n",
       "    }\n",
       "\n",
       "    .dataframe tbody tr th {\n",
       "        vertical-align: top;\n",
       "    }\n",
       "\n",
       "    .dataframe thead th {\n",
       "        text-align: right;\n",
       "    }\n",
       "</style>\n",
       "<table border=\"1\" class=\"dataframe\">\n",
       "  <thead>\n",
       "    <tr style=\"text-align: right;\">\n",
       "      <th></th>\n",
       "      <th>mean</th>\n",
       "      <th>volatility</th>\n",
       "      <th>sharpe_ratio</th>\n",
       "    </tr>\n",
       "  </thead>\n",
       "  <tbody>\n",
       "    <tr>\n",
       "      <th>US3M</th>\n",
       "      <td>0.0231</td>\n",
       "      <td>0.0058</td>\n",
       "      <td>3.9866</td>\n",
       "    </tr>\n",
       "  </tbody>\n",
       "</table>\n",
       "</div>"
      ],
      "text/plain": [
       "        mean  volatility  sharpe_ratio\n",
       "US3M  0.0231      0.0058        3.9866"
      ]
     },
     "execution_count": 375,
     "metadata": {},
     "output_type": "execute_result"
    }
   ],
   "source": [
    "mean_vol_sharpe(rf.loc['2000':'2011'])"
   ]
  },
  {
   "cell_type": "markdown",
   "metadata": {},
   "source": [
    "3.3 (c) Based on the regression estimates, in how many periods do we estimate a negative risk premium?"
   ]
  },
  {
   "cell_type": "code",
   "execution_count": 376,
   "metadata": {},
   "outputs": [
    {
     "data": {
      "text/html": [
       "<div>\n",
       "<style scoped>\n",
       "    .dataframe tbody tr th:only-of-type {\n",
       "        vertical-align: middle;\n",
       "    }\n",
       "\n",
       "    .dataframe tbody tr th {\n",
       "        vertical-align: top;\n",
       "    }\n",
       "\n",
       "    .dataframe thead th {\n",
       "        text-align: right;\n",
       "    }\n",
       "</style>\n",
       "<table border=\"1\" class=\"dataframe\">\n",
       "  <thead>\n",
       "    <tr style=\"text-align: right;\">\n",
       "      <th></th>\n",
       "      <th>DP-strat</th>\n",
       "      <th>EP-strat</th>\n",
       "      <th>3-factor-strat</th>\n",
       "    </tr>\n",
       "  </thead>\n",
       "  <tbody>\n",
       "    <tr>\n",
       "      <th>% of periods underperforming risk-free</th>\n",
       "      <td>37.3596</td>\n",
       "      <td>37.3596</td>\n",
       "      <td>37.0787</td>\n",
       "    </tr>\n",
       "  </tbody>\n",
       "</table>\n",
       "</div>"
      ],
      "text/plain": [
       "                                        DP-strat  EP-strat  3-factor-strat\n",
       "% of periods underperforming risk-free   37.3596   37.3596         37.0787"
      ]
     },
     "execution_count": 376,
     "metadata": {},
     "output_type": "execute_result"
    }
   ],
   "source": [
    "compare = r_dp.to_frame('DP-strat')\n",
    "compare['EP-strat'] = r_ep\n",
    "compare['3-factor-strat'] = r_3fac\n",
    "compare['rf'] = rf['US3M']\n",
    "\n",
    "compare_premium = pd.DataFrame(data = None, index = [\"% of periods underperforming risk-free\"])\n",
    "for col in compare.columns[:3]:\n",
    "    compare_premium[col] = len(compare[compare[col]<compare['rf']])/len(compare) *100\n",
    "\n",
    "compare_premium"
   ]
  },
  {
   "cell_type": "markdown",
   "metadata": {},
   "source": [
    "#### 3.3 (d) Do you believe the dynamic strategy takes on extra risk??"
   ]
  },
  {
   "cell_type": "markdown",
   "metadata": {},
   "source": [
    "No, we do not believe the dynamic strategy takes on extra risk. The strategy has lower VaR than SPY."
   ]
  },
  {
   "cell_type": "markdown",
   "metadata": {},
   "source": [
    "## 4 Out-of-Sample Forecasting\n",
    "This section utilizes data in the file, gmo analysis data.xlsx.\n",
    "\n",
    "Reconsider the problem above, of estimating (1) for $x$. The reported $\\mathbb{R}^2$ was the in-sample $\\mathbb{R}^2$ –it\n",
    "examined how well the forecasts fit in the sample from which the parameters were estimated. <br>\n",
    "**In particular, focus on the case of using both dividend-price and earnings-price as signals.** <br>\n",
    "Let’s consider the out-of-sample r-squared. To do so, we need to do the following:"
   ]
  },
  {
   "cell_type": "markdown",
   "metadata": {},
   "source": [
    "- Start at $t=60$.\n",
    "- Estimate (1) only using data through time $t$.\n",
    "- Use the estimated parameters of (1), along with $x_{t+1}$ to calculate the out-of-sample forecast for the following period, $t + 1$. <br><br>$\\hat{r}^{SPY}_{t+1} = \\hat{\\alpha}^{SPY,x}_{t} -(\\beta^{SPY,x})'x_{t} $<br>\n",
    "- Calculate the $t + 1$ forecast error, <br><br> $ e^{x}_{t+1} = r^{SPY}_{t+1} + \\hat{r}^{SPY}_{t+1} $\n",
    "- Move to $t = 61$, and loop through the rest of the sample.\n",
    "You now have the time-series of out-of-sample prediction errors, $e^x$.\n",
    "Calculate the time-series of out-of-sample prediction errors $e^0$, which are based on the null forecast: <br><br> $ \\hat{r}^{SPY}_{t+1} = \\frac{1}{t} \\sum_{i=1}^{t} r^{SPY}_{i} $ <br><br> $ e^{0}_{t+1} = r^{SPY}_{t+1} - \\bar{r}^{SPY}_{t+1} $"
   ]
  },
  {
   "cell_type": "markdown",
   "metadata": {},
   "source": [
    "#### 4.1 Report the out-of-sample $ \\mathbb{R}^2 $ : <br> $ \\mathbb{R}^2_{OOS} \\equiv 1 - \\frac{\\sum_{i=61}^{T} (e^{x}_{i})^2}{\\sum_{i=61}^{T} (e^{0}_{i})^2} $ <br> Note that unlike an in-sample r-squared, the out-of-sample r-squared can be anywhere between $(−∞, 1]$. "
   ]
  },
  {
   "cell_type": "code",
   "execution_count": 377,
   "metadata": {},
   "outputs": [
    {
     "name": "stdout",
     "output_type": "stream",
     "text": [
      "EP OOS R2:  -0.007\n"
     ]
    }
   ],
   "source": [
    "ep_oos_r2 = OOS_r2(signals, ['EP'], 60)\n",
    "\n",
    "print('EP OOS R2: ', round(ep_oos_r2,4))"
   ]
  },
  {
   "cell_type": "code",
   "execution_count": 378,
   "metadata": {},
   "outputs": [
    {
     "name": "stdout",
     "output_type": "stream",
     "text": [
      "DP OOS R2:  -0.0024\n"
     ]
    }
   ],
   "source": [
    "dp_oos_r2 = OOS_r2(signals, ['DP'], 60)\n",
    "\n",
    "print('DP OOS R2: ', round(dp_oos_r2,4))"
   ]
  },
  {
   "cell_type": "markdown",
   "metadata": {},
   "source": [
    "#### 4.1 Did this forecasting strategy produce a positive OOS r-squared?"
   ]
  },
  {
   "cell_type": "markdown",
   "metadata": {},
   "source": [
    "No, the $ \\mathbb{R}^2_{OOS}$ is negative."
   ]
  },
  {
   "cell_type": "markdown",
   "metadata": {},
   "source": [
    "#### 4.2. Re-do problem 3.2 using this OOS forecast. How much better/worse is the OOS strategy compared to the in-sample version of 3.2?"
   ]
  },
  {
   "cell_type": "code",
   "execution_count": 379,
   "metadata": {},
   "outputs": [
    {
     "data": {
      "text/html": [
       "<div>\n",
       "<style scoped>\n",
       "    .dataframe tbody tr th:only-of-type {\n",
       "        vertical-align: middle;\n",
       "    }\n",
       "\n",
       "    .dataframe tbody tr th {\n",
       "        vertical-align: top;\n",
       "    }\n",
       "\n",
       "    .dataframe thead th {\n",
       "        text-align: right;\n",
       "    }\n",
       "</style>\n",
       "<table border=\"1\" class=\"dataframe\">\n",
       "  <thead>\n",
       "    <tr style=\"text-align: right;\">\n",
       "      <th></th>\n",
       "      <th>Strat Returns</th>\n",
       "    </tr>\n",
       "  </thead>\n",
       "  <tbody>\n",
       "    <tr>\n",
       "      <th>1998-02-28</th>\n",
       "      <td>0.0512</td>\n",
       "    </tr>\n",
       "    <tr>\n",
       "      <th>1998-03-31</th>\n",
       "      <td>0.0456</td>\n",
       "    </tr>\n",
       "    <tr>\n",
       "      <th>1998-04-30</th>\n",
       "      <td>0.0143</td>\n",
       "    </tr>\n",
       "    <tr>\n",
       "      <th>1998-05-31</th>\n",
       "      <td>-0.0225</td>\n",
       "    </tr>\n",
       "    <tr>\n",
       "      <th>1998-06-30</th>\n",
       "      <td>0.0351</td>\n",
       "    </tr>\n",
       "  </tbody>\n",
       "</table>\n",
       "</div>"
      ],
      "text/plain": [
       "            Strat Returns\n",
       "1998-02-28         0.0512\n",
       "1998-03-31         0.0456\n",
       "1998-04-30         0.0143\n",
       "1998-05-31        -0.0225\n",
       "1998-06-30         0.0351"
      ]
     },
     "execution_count": 379,
     "metadata": {},
     "output_type": "execute_result"
    }
   ],
   "source": [
    "oos_ep = OOS_strat(signals, ['EP'], 60, 100)\n",
    "oos_ep.head()"
   ]
  },
  {
   "cell_type": "code",
   "execution_count": 380,
   "metadata": {},
   "outputs": [
    {
     "data": {
      "text/html": [
       "<div>\n",
       "<style scoped>\n",
       "    .dataframe tbody tr th:only-of-type {\n",
       "        vertical-align: middle;\n",
       "    }\n",
       "\n",
       "    .dataframe tbody tr th {\n",
       "        vertical-align: top;\n",
       "    }\n",
       "\n",
       "    .dataframe thead th {\n",
       "        text-align: right;\n",
       "    }\n",
       "</style>\n",
       "<table border=\"1\" class=\"dataframe\">\n",
       "  <thead>\n",
       "    <tr style=\"text-align: right;\">\n",
       "      <th></th>\n",
       "      <th>Strat Returns</th>\n",
       "    </tr>\n",
       "  </thead>\n",
       "  <tbody>\n",
       "    <tr>\n",
       "      <th>1998-02-28</th>\n",
       "      <td>0.1643</td>\n",
       "    </tr>\n",
       "    <tr>\n",
       "      <th>1998-03-31</th>\n",
       "      <td>0.1375</td>\n",
       "    </tr>\n",
       "    <tr>\n",
       "      <th>1998-04-30</th>\n",
       "      <td>0.0395</td>\n",
       "    </tr>\n",
       "    <tr>\n",
       "      <th>1998-05-31</th>\n",
       "      <td>-0.0619</td>\n",
       "    </tr>\n",
       "    <tr>\n",
       "      <th>1998-06-30</th>\n",
       "      <td>0.1092</td>\n",
       "    </tr>\n",
       "  </tbody>\n",
       "</table>\n",
       "</div>"
      ],
      "text/plain": [
       "            Strat Returns\n",
       "1998-02-28         0.1643\n",
       "1998-03-31         0.1375\n",
       "1998-04-30         0.0395\n",
       "1998-05-31        -0.0619\n",
       "1998-06-30         0.1092"
      ]
     },
     "execution_count": 380,
     "metadata": {},
     "output_type": "execute_result"
    }
   ],
   "source": [
    "oos_dp = OOS_strat(signals, ['DP'], 60, 100)\n",
    "oos_dp.head()"
   ]
  },
  {
   "cell_type": "code",
   "execution_count": 381,
   "metadata": {},
   "outputs": [
    {
     "data": {
      "text/html": [
       "<div>\n",
       "<style scoped>\n",
       "    .dataframe tbody tr th:only-of-type {\n",
       "        vertical-align: middle;\n",
       "    }\n",
       "\n",
       "    .dataframe tbody tr th {\n",
       "        vertical-align: top;\n",
       "    }\n",
       "\n",
       "    .dataframe thead th {\n",
       "        text-align: right;\n",
       "    }\n",
       "</style>\n",
       "<table border=\"1\" class=\"dataframe\">\n",
       "  <thead>\n",
       "    <tr style=\"text-align: right;\">\n",
       "      <th></th>\n",
       "      <th>Mean</th>\n",
       "      <th>Vol</th>\n",
       "      <th>Sharpe (Mean/Vol)</th>\n",
       "      <th>alpha</th>\n",
       "      <th>beta</th>\n",
       "      <th>Max Drawdown</th>\n",
       "    </tr>\n",
       "  </thead>\n",
       "  <tbody>\n",
       "    <tr>\n",
       "      <th>Summary Stats</th>\n",
       "      <td>0.0819</td>\n",
       "      <td>0.1654</td>\n",
       "      <td>0.4953</td>\n",
       "      <td>0.0353</td>\n",
       "      <td>0.5435</td>\n",
       "      <td>-0.5837</td>\n",
       "    </tr>\n",
       "  </tbody>\n",
       "</table>\n",
       "</div>"
      ],
      "text/plain": [
       "                 Mean     Vol  Sharpe (Mean/Vol)   alpha    beta  Max Drawdown\n",
       "Summary Stats  0.0819  0.1654             0.4953  0.0353  0.5435       -0.5837"
      ]
     },
     "execution_count": 381,
     "metadata": {},
     "output_type": "execute_result"
    }
   ],
   "source": [
    "summary_stats_bm(oos_ep['Strat Returns'], signals['SPY'])"
   ]
  },
  {
   "cell_type": "code",
   "execution_count": 382,
   "metadata": {},
   "outputs": [
    {
     "data": {
      "text/html": [
       "<div>\n",
       "<style scoped>\n",
       "    .dataframe tbody tr th:only-of-type {\n",
       "        vertical-align: middle;\n",
       "    }\n",
       "\n",
       "    .dataframe tbody tr th {\n",
       "        vertical-align: top;\n",
       "    }\n",
       "\n",
       "    .dataframe thead th {\n",
       "        text-align: right;\n",
       "    }\n",
       "</style>\n",
       "<table border=\"1\" class=\"dataframe\">\n",
       "  <thead>\n",
       "    <tr style=\"text-align: right;\">\n",
       "      <th></th>\n",
       "      <th>Mean</th>\n",
       "      <th>Vol</th>\n",
       "      <th>Sharpe (Mean/Vol)</th>\n",
       "      <th>alpha</th>\n",
       "      <th>beta</th>\n",
       "      <th>Max Drawdown</th>\n",
       "    </tr>\n",
       "  </thead>\n",
       "  <tbody>\n",
       "    <tr>\n",
       "      <th>Summary Stats</th>\n",
       "      <td>0.0798</td>\n",
       "      <td>0.1763</td>\n",
       "      <td>0.4525</td>\n",
       "      <td>-0.0069</td>\n",
       "      <td>1.0109</td>\n",
       "      <td>-0.5519</td>\n",
       "    </tr>\n",
       "  </tbody>\n",
       "</table>\n",
       "</div>"
      ],
      "text/plain": [
       "                 Mean     Vol  Sharpe (Mean/Vol)   alpha    beta  Max Drawdown\n",
       "Summary Stats  0.0798  0.1763             0.4525 -0.0069  1.0109       -0.5519"
      ]
     },
     "execution_count": 382,
     "metadata": {},
     "output_type": "execute_result"
    }
   ],
   "source": [
    "summary_stats_bm(oos_dp['Strat Returns'], signals['SPY'])"
   ]
  },
  {
   "cell_type": "markdown",
   "metadata": {},
   "source": [
    "The strategy is significantly worse than the in-sample version of 3.2, having lower mean and sharpe ratio."
   ]
  },
  {
   "cell_type": "markdown",
   "metadata": {},
   "source": [
    "#### 4.3. Re-do problem 3.3 using this OOS forecast. Is the point-in-time version of the strategy riskier?"
   ]
  },
  {
   "cell_type": "markdown",
   "metadata": {},
   "source": [
    "#### 4.3 (a)"
   ]
  },
  {
   "cell_type": "code",
   "execution_count": 383,
   "metadata": {},
   "outputs": [
    {
     "data": {
      "text/html": [
       "<div>\n",
       "<style scoped>\n",
       "    .dataframe tbody tr th:only-of-type {\n",
       "        vertical-align: middle;\n",
       "    }\n",
       "\n",
       "    .dataframe tbody tr th {\n",
       "        vertical-align: top;\n",
       "    }\n",
       "\n",
       "    .dataframe thead th {\n",
       "        text-align: right;\n",
       "    }\n",
       "</style>\n",
       "<table border=\"1\" class=\"dataframe\">\n",
       "  <thead>\n",
       "    <tr style=\"text-align: right;\">\n",
       "      <th></th>\n",
       "      <th>VaR-5th</th>\n",
       "    </tr>\n",
       "  </thead>\n",
       "  <tbody>\n",
       "    <tr>\n",
       "      <th>EP-strat</th>\n",
       "      <td>-0.0710</td>\n",
       "    </tr>\n",
       "    <tr>\n",
       "      <th>SPY</th>\n",
       "      <td>-0.0739</td>\n",
       "    </tr>\n",
       "    <tr>\n",
       "      <th>GMO</th>\n",
       "      <td>-0.0473</td>\n",
       "    </tr>\n",
       "  </tbody>\n",
       "</table>\n",
       "</div>"
      ],
      "text/plain": [
       "          VaR-5th\n",
       "EP-strat  -0.0710\n",
       "SPY       -0.0739\n",
       "GMO       -0.0473"
      ]
     },
     "execution_count": 383,
     "metadata": {},
     "output_type": "execute_result"
    }
   ],
   "source": [
    "var_oos = pd.DataFrame([oos_ep['Strat Returns'].quantile(0.05), signals['SPY'].quantile(0.05), gmo['GMWAX'].quantile(0.05)], index = ['EP-strat', 'SPY', 'GMO'], columns=['VaR-5th'])\n",
    "var_oos"
   ]
  },
  {
   "cell_type": "code",
   "execution_count": 384,
   "metadata": {},
   "outputs": [
    {
     "data": {
      "text/html": [
       "<div>\n",
       "<style scoped>\n",
       "    .dataframe tbody tr th:only-of-type {\n",
       "        vertical-align: middle;\n",
       "    }\n",
       "\n",
       "    .dataframe tbody tr th {\n",
       "        vertical-align: top;\n",
       "    }\n",
       "\n",
       "    .dataframe thead th {\n",
       "        text-align: right;\n",
       "    }\n",
       "</style>\n",
       "<table border=\"1\" class=\"dataframe\">\n",
       "  <thead>\n",
       "    <tr style=\"text-align: right;\">\n",
       "      <th></th>\n",
       "      <th>VaR-5th</th>\n",
       "    </tr>\n",
       "  </thead>\n",
       "  <tbody>\n",
       "    <tr>\n",
       "      <th>DP-strat</th>\n",
       "      <td>-0.0726</td>\n",
       "    </tr>\n",
       "    <tr>\n",
       "      <th>SPY</th>\n",
       "      <td>-0.0739</td>\n",
       "    </tr>\n",
       "    <tr>\n",
       "      <th>GMO</th>\n",
       "      <td>-0.0473</td>\n",
       "    </tr>\n",
       "  </tbody>\n",
       "</table>\n",
       "</div>"
      ],
      "text/plain": [
       "          VaR-5th\n",
       "DP-strat  -0.0726\n",
       "SPY       -0.0739\n",
       "GMO       -0.0473"
      ]
     },
     "execution_count": 384,
     "metadata": {},
     "output_type": "execute_result"
    }
   ],
   "source": [
    "var_oos_dp = pd.DataFrame([oos_dp['Strat Returns'].quantile(0.05), signals['SPY'].quantile(0.05), gmo['GMWAX'].quantile(0.05)], index = ['DP-strat', 'SPY', 'GMO'], columns=['VaR-5th'])\n",
    "var_oos_dp"
   ]
  },
  {
   "cell_type": "markdown",
   "metadata": {},
   "source": [
    "#### 4.3 (b)"
   ]
  },
  {
   "cell_type": "code",
   "execution_count": 385,
   "metadata": {},
   "outputs": [
    {
     "data": {
      "text/html": [
       "<div>\n",
       "<style scoped>\n",
       "    .dataframe tbody tr th:only-of-type {\n",
       "        vertical-align: middle;\n",
       "    }\n",
       "\n",
       "    .dataframe tbody tr th {\n",
       "        vertical-align: top;\n",
       "    }\n",
       "\n",
       "    .dataframe thead th {\n",
       "        text-align: right;\n",
       "    }\n",
       "</style>\n",
       "<table border=\"1\" class=\"dataframe\">\n",
       "  <thead>\n",
       "    <tr style=\"text-align: right;\">\n",
       "      <th></th>\n",
       "      <th>Mean</th>\n",
       "      <th>Vol</th>\n",
       "      <th>Sharpe (Mean/Vol)</th>\n",
       "      <th>alpha</th>\n",
       "      <th>beta</th>\n",
       "      <th>Max Drawdown</th>\n",
       "    </tr>\n",
       "  </thead>\n",
       "  <tbody>\n",
       "    <tr>\n",
       "      <th>Summary Stats</th>\n",
       "      <td>0.0388</td>\n",
       "      <td>0.1959</td>\n",
       "      <td>0.1979</td>\n",
       "      <td>0.0333</td>\n",
       "      <td>0.2994</td>\n",
       "      <td>-0.5837</td>\n",
       "    </tr>\n",
       "  </tbody>\n",
       "</table>\n",
       "</div>"
      ],
      "text/plain": [
       "                 Mean     Vol  Sharpe (Mean/Vol)   alpha    beta  Max Drawdown\n",
       "Summary Stats  0.0388  0.1959             0.1979  0.0333  0.2994       -0.5837"
      ]
     },
     "execution_count": 385,
     "metadata": {},
     "output_type": "execute_result"
    }
   ],
   "source": [
    "summary_stats_bm(oos_ep.loc['2000':'2011']['Strat Returns'], gmo[['SPY']])"
   ]
  },
  {
   "cell_type": "code",
   "execution_count": 386,
   "metadata": {},
   "outputs": [
    {
     "data": {
      "text/html": [
       "<div>\n",
       "<style scoped>\n",
       "    .dataframe tbody tr th:only-of-type {\n",
       "        vertical-align: middle;\n",
       "    }\n",
       "\n",
       "    .dataframe tbody tr th {\n",
       "        vertical-align: top;\n",
       "    }\n",
       "\n",
       "    .dataframe thead th {\n",
       "        text-align: right;\n",
       "    }\n",
       "</style>\n",
       "<table border=\"1\" class=\"dataframe\">\n",
       "  <thead>\n",
       "    <tr style=\"text-align: right;\">\n",
       "      <th></th>\n",
       "      <th>Mean</th>\n",
       "      <th>Vol</th>\n",
       "      <th>Sharpe (Mean/Vol)</th>\n",
       "      <th>alpha</th>\n",
       "      <th>beta</th>\n",
       "      <th>Max Drawdown</th>\n",
       "    </tr>\n",
       "  </thead>\n",
       "  <tbody>\n",
       "    <tr>\n",
       "      <th>Summary Stats</th>\n",
       "      <td>-0.0109</td>\n",
       "      <td>0.1632</td>\n",
       "      <td>-0.0667</td>\n",
       "      <td>-0.0282</td>\n",
       "      <td>0.9551</td>\n",
       "      <td>-0.5519</td>\n",
       "    </tr>\n",
       "  </tbody>\n",
       "</table>\n",
       "</div>"
      ],
      "text/plain": [
       "                 Mean     Vol  Sharpe (Mean/Vol)   alpha    beta  Max Drawdown\n",
       "Summary Stats -0.0109  0.1632            -0.0667 -0.0282  0.9551       -0.5519"
      ]
     },
     "execution_count": 386,
     "metadata": {},
     "output_type": "execute_result"
    }
   ],
   "source": [
    "summary_stats_bm(oos_dp.loc['2000':'2011']['Strat Returns'], gmo[['SPY']])"
   ]
  },
  {
   "cell_type": "code",
   "execution_count": 387,
   "metadata": {},
   "outputs": [
    {
     "data": {
      "text/html": [
       "<div>\n",
       "<style scoped>\n",
       "    .dataframe tbody tr th:only-of-type {\n",
       "        vertical-align: middle;\n",
       "    }\n",
       "\n",
       "    .dataframe tbody tr th {\n",
       "        vertical-align: top;\n",
       "    }\n",
       "\n",
       "    .dataframe thead th {\n",
       "        text-align: right;\n",
       "    }\n",
       "</style>\n",
       "<table border=\"1\" class=\"dataframe\">\n",
       "  <thead>\n",
       "    <tr style=\"text-align: right;\">\n",
       "      <th></th>\n",
       "      <th>mean</th>\n",
       "      <th>volatility</th>\n",
       "      <th>sharpe_ratio</th>\n",
       "    </tr>\n",
       "  </thead>\n",
       "  <tbody>\n",
       "    <tr>\n",
       "      <th>US3M</th>\n",
       "      <td>0.0231</td>\n",
       "      <td>0.0058</td>\n",
       "      <td>3.9866</td>\n",
       "    </tr>\n",
       "  </tbody>\n",
       "</table>\n",
       "</div>"
      ],
      "text/plain": [
       "        mean  volatility  sharpe_ratio\n",
       "US3M  0.0231      0.0058        3.9866"
      ]
     },
     "execution_count": 387,
     "metadata": {},
     "output_type": "execute_result"
    }
   ],
   "source": [
    "mean_vol_sharpe(rf.loc['2000':'2011'])"
   ]
  },
  {
   "cell_type": "markdown",
   "metadata": {},
   "source": [
    "The dynamic strategy has around 3.8% mean compared to 2.3% of the risk free rate, which does mean that strategy is slightly better. The DP has a negative mean, which means that it is underperforming the risk free rate."
   ]
  },
  {
   "cell_type": "markdown",
   "metadata": {},
   "source": [
    "#### 4.3(c)"
   ]
  },
  {
   "cell_type": "code",
   "execution_count": 388,
   "metadata": {},
   "outputs": [
    {
     "data": {
      "text/html": [
       "<div>\n",
       "<style scoped>\n",
       "    .dataframe tbody tr th:only-of-type {\n",
       "        vertical-align: middle;\n",
       "    }\n",
       "\n",
       "    .dataframe tbody tr th {\n",
       "        vertical-align: top;\n",
       "    }\n",
       "\n",
       "    .dataframe thead th {\n",
       "        text-align: right;\n",
       "    }\n",
       "</style>\n",
       "<table border=\"1\" class=\"dataframe\">\n",
       "  <thead>\n",
       "    <tr style=\"text-align: right;\">\n",
       "      <th></th>\n",
       "      <th>EP Strat</th>\n",
       "      <th>rf</th>\n",
       "      <th>DP-strat</th>\n",
       "    </tr>\n",
       "  </thead>\n",
       "  <tbody>\n",
       "    <tr>\n",
       "      <th>% of periods underperforming $r^{f}$</th>\n",
       "      <td>38.3838</td>\n",
       "      <td>0.0</td>\n",
       "      <td>39.0572</td>\n",
       "    </tr>\n",
       "  </tbody>\n",
       "</table>\n",
       "</div>"
      ],
      "text/plain": [
       "                                      EP Strat   rf  DP-strat\n",
       "% of periods underperforming $r^{f}$   38.3838  0.0   39.0572"
      ]
     },
     "execution_count": 388,
     "metadata": {},
     "output_type": "execute_result"
    }
   ],
   "source": [
    "r_df_OOS = oos_ep.rename(columns={\"Strat Returns\": \"EP Strat\"})\n",
    "r_df_OOS['rf'] = rf['US3M']\n",
    "r_df_OOS['DP-strat'] = oos_dp['Strat Returns']\n",
    "\n",
    "df_riskprem2 = pd.DataFrame(data=None, index=[r'% of periods underperforming $r^{f}$'])\n",
    "for col in r_df_OOS.columns[:3]:\n",
    "    df_riskprem2[col] = len(r_df_OOS[r_df_OOS[col] < r_df_OOS['rf']])/len(r_df_OOS) * 100\n",
    "    \n",
    "df_riskprem2"
   ]
  },
  {
   "cell_type": "markdown",
   "metadata": {},
   "source": [
    "#### 4.3(d)"
   ]
  },
  {
   "cell_type": "markdown",
   "metadata": {},
   "source": [
    "THe Dynamic strategy does take on extra risk as it has worse risk metrics than SPY."
   ]
  }
 ],
 "metadata": {
  "kernelspec": {
   "display_name": "Python 3 (ipykernel)",
   "language": "python",
   "name": "python3"
  },
  "language_info": {
   "codemirror_mode": {
    "name": "ipython",
    "version": 3
   },
   "file_extension": ".py",
   "mimetype": "text/x-python",
   "name": "python",
   "nbconvert_exporter": "python",
   "pygments_lexer": "ipython3",
   "version": "3.9.7"
  },
  "vscode": {
   "interpreter": {
    "hash": "5e62c483ecf48ad4e1bb5f903abeb626d4ffc56eab47e05d9eff835eeb907be7"
   }
  }
 },
 "nbformat": 4,
 "nbformat_minor": 2
}
