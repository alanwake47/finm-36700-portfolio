{
 "cells": [
  {
   "cell_type": "code",
   "execution_count": 32,
   "metadata": {},
   "outputs": [],
   "source": [
    "import pandas as pd\n",
    "import numpy as np\n",
    "import matplotlib.pyplot as plt\n",
    "import statsmodels.api as sm\n",
    "from arch import arch_model\n",
    "from arch.univariate import GARCH, EWMAVariance \n",
    "from sklearn import linear_model\n",
    "import scipy.stats as stats\n",
    "from statsmodels.regression.rolling import RollingOLS\n",
    "from sklearn.linear_model import LinearRegression\n",
    "import seaborn as sns\n",
    "import warnings\n",
    "from scipy.stats import norm\n",
    "warnings.filterwarnings(\"ignore\")\n",
    "pd.set_option(\"display.precision\", 5)"
   ]
  },
  {
   "cell_type": "markdown",
   "metadata": {},
   "source": [
    "# Q1"
   ]
  },
  {
   "cell_type": "markdown",
   "metadata": {},
   "source": [
    "#### Q1.1 Consider our momentum construction of going long the biggest winners and short the biggest losers.\n",
    "What is the tradeoff of focusing the long and short positions narrowly, (a single decile top and bottom) versus more broadly, (three deciles top and bottom)?\n",
    "Did our empirical investigation support this theoretical tradeoff?\n"
   ]
  },
  {
   "cell_type": "markdown",
   "metadata": {},
   "source": [
    "Answer 1.1\n",
    "When we focus on just he top and bottom deciles, we have a higher idiosyncratic risk. The risk of a single or very few assets dominating the allocation can lead to huge losses if the said assets fail.\n",
    "Yes, the empirical investigation did support this theoretical tradeoff showing higher tail risk."
   ]
  },
  {
   "cell_type": "markdown",
   "metadata": {},
   "source": [
    "#### Q1.2 We investigated LTCM’s market exposure and found it is nonlinear. Explain this nonlinearity: does it imply LTCM has high upside, large downside, both, etc?\n"
   ]
  },
  {
   "cell_type": "markdown",
   "metadata": {},
   "source": [
    "Ans 1.2 When we regressed LTCM against the squared returns of SPY we found the betas to be higher. LTCM has negative beta to spy-squared, thus short the market options. For a big monthly return, the negative beta to SPY-squared would lead to heavy losses. Thus, LTCM is shorting SPY-squared options, to hedge extreme moves in the market."
   ]
  },
  {
   "cell_type": "markdown",
   "metadata": {},
   "source": [
    "#### Q1.3 State one reason that Mean-Variance optimization is not robust, (i.e. the solution is fragile with respect to the inputs.)\n",
    "State one approach we discussed regarding how to improve the stability of our optimized port- folio."
   ]
  },
  {
   "cell_type": "markdown",
   "metadata": {},
   "source": [
    "And 1.3 Inverting the covariance matrix (which is nearly singular, highly correlated returns). The mean-variance optimization is not robust because it is sensitive to the inputs. The inputs are the expected returns and the covariance matrix. The expected returns are sensitive to the time period and the covariance matrix is sensitive to the time period and the number of assets. The approach we discussed to improve the stability of the optimized portfolio is to use a rolling window to calculate the expected returns and the covariance matrix."
   ]
  },
  {
   "cell_type": "markdown",
   "metadata": {},
   "source": [
    "#### Q1.4 You have monthly returns from January 2001 to December 2022 for 40 portfolios of assets. You want to test the performance of some of your Linear Factor Pricing Models using Time Series and Cross Sectional regressions.\n",
    " What would be the regression sample sizes for the TS regression? How many TS regressions would you estimate? <br>\n",
    " What would be the regression sample sizes for the CS regression? How many CS regressions would you estimate?"
   ]
  },
  {
   "cell_type": "markdown",
   "metadata": {},
   "source": [
    "In TS regression, we regress the assets we against the 40 factors to get the betas and alphas. The sample size would be number of months * 40.\n",
    "In CS regression, we use the betas estimated in TS regression, thus the sample will be smaller."
   ]
  },
  {
   "cell_type": "markdown",
   "metadata": {},
   "source": [
    "#### 1.5 GMO stated that they had a “contrarian” investment style. What did they mean by this? Was this seen in our investigation of the fund, GMWAX?\n",
    "- When the market has an **overly optimistic view of future dividend**, prices would exceed fair value. Investors would then **eventually** realize they were too optimistic and that prices would rever toward **fair value.**\n",
    "- Thus at times of high prices GMO would have a contrarian view of expected returns being low.\n",
    "- Indeed in 2012 GMO believed valuations were high for stocks. They were pressimistic about future earnings growth, as they believed the stocks were already high and did not have much more growth potential.\n",
    "  - $\\%\\Delta(\\frac{P}{E})$ multiple was 0% in 2011, causing positive estimated returns.\n",
    "  - $\\%\\Delta(S)$ or Reas Sales Growth was 2.9% up from 2.7% in 2011, causing positive estimated returns."
   ]
  },
  {
   "cell_type": "markdown",
   "metadata": {},
   "source": [
    "#### 1.6 How does Harvard make their portfolio allocation more realistic than a basic mean- variance optimization would imply? Is their approach easily implemented and computed from a numerical standpoint?"
   ]
  },
  {
   "cell_type": "markdown",
   "metadata": {},
   "source": [
    "ans 1.6 Harvard places bounds on the portfolio allocation rather than implementing whatever numbers come out of the MV optimization problem along with a long only constraint on non-cash assets. The solution is numerical (rather than an explicit formula,) due to the inequality constraints. While the solution is computationally easy, it leads to the need for many boundary parameters, which greatly influence the solution. Thus, the solution may be overparameterized with little guide on how to set the parameters, or the motive to parameterize the problem to achieve a certain solution"
   ]
  },
  {
   "cell_type": "markdown",
   "metadata": {},
   "source": [
    "#### 1.7 If Barnstable’s assumptions hold, (log iid returns, normally distributed,) then how will an investment’s Sharpe ratio compare across short and long-term horizons? Explain."
   ]
  },
  {
   "cell_type": "markdown",
   "metadata": {},
   "source": [
    "ans 1.7 The 100-year Market Sharpe Ratio will outperform the 1-year Market Sharpe Ratio. Though, the log iid assumption is strong, we saw much evidence that Sharpe ratios grow nearly with the square-root of the time horizon, which would make the 100-year Sharpe about 10x the 1-year Sharpe."
   ]
  },
  {
   "cell_type": "markdown",
   "metadata": {},
   "source": [
    "#### Q1.8 Does Uncovered Interest Parity (UIP) imply Covered Interest Parity (CIP)? Or vice-versa? Or neither? Explain."
   ]
  },
  {
   "cell_type": "markdown",
   "metadata": {},
   "source": [
    "Ans 1.8 Covered Interest Parity (CIP) implies Uncovered Interest Parity (UIP). CIP is a special case of UIP. CIP is when the interest rate differential is zero. CIP deals with Forward prices which the Uncovered Interest Parity deals with Spot prices."
   ]
  },
  {
   "cell_type": "markdown",
   "metadata": {},
   "source": [
    "#### Q1.9  Name and briefly explain two reasons why we said it is very hard for investors to under- stand the mean returns of managed funds."
   ]
  },
  {
   "cell_type": "markdown",
   "metadata": {},
   "source": [
    "Ans 1.9 \n",
    "- The first reason is that as investors, we cannot observe the population mean of returns, μ. We must try to infer it.\n",
    "- The returns turn fragile when investors chase performance. The second reason is that the mean return of a managed fund is not a simple function of the mean return of the underlying assets. The mean return of a managed fund is a function of the mean return of the underlying assets, the skill of the manager, and the fees charged by the manager.Just because a return can be explained by factors, it is not clear that investors would find it convenient to build such returns themselves."
   ]
  },
  {
   "cell_type": "markdown",
   "metadata": {},
   "source": [
    "#### Q1.10 Suppose we have a strategy with returns, rti. If we want to hedge our position with respect to SPY, how could we calculate the optimal ratio? How would this ratio then be used to build the hedged position?"
   ]
  },
  {
   "cell_type": "markdown",
   "metadata": {},
   "source": [
    "And 1.10 We would perform a regression of our portfolio against SPY to see how much of our return is explained by SPY. The regression would give us the beta. We would then use the beta to calculate how much SPY (or ETF that track SPY) would be need to hedge our position. (we would short the SPY ETF if we are long our porfolio)"
   ]
  },
  {
   "cell_type": "markdown",
   "metadata": {},
   "source": [
    "# Q2"
   ]
  },
  {
   "cell_type": "code",
   "execution_count": 33,
   "metadata": {},
   "outputs": [
    {
     "data": {
      "text/html": [
       "<div>\n",
       "<style scoped>\n",
       "    .dataframe tbody tr th:only-of-type {\n",
       "        vertical-align: middle;\n",
       "    }\n",
       "\n",
       "    .dataframe tbody tr th {\n",
       "        vertical-align: top;\n",
       "    }\n",
       "\n",
       "    .dataframe thead th {\n",
       "        text-align: right;\n",
       "    }\n",
       "</style>\n",
       "<table border=\"1\" class=\"dataframe\">\n",
       "  <thead>\n",
       "    <tr style=\"text-align: right;\">\n",
       "      <th></th>\n",
       "      <th>GLD</th>\n",
       "      <th>Tbill rate</th>\n",
       "      <th>Tbill change</th>\n",
       "    </tr>\n",
       "    <tr>\n",
       "      <th>Date</th>\n",
       "      <th></th>\n",
       "      <th></th>\n",
       "      <th></th>\n",
       "    </tr>\n",
       "  </thead>\n",
       "  <tbody>\n",
       "    <tr>\n",
       "      <th>2009-04-19</th>\n",
       "      <td>-0.01263</td>\n",
       "      <td>0.130</td>\n",
       "      <td>-0.045</td>\n",
       "    </tr>\n",
       "    <tr>\n",
       "      <th>2009-04-26</th>\n",
       "      <td>0.05280</td>\n",
       "      <td>0.095</td>\n",
       "      <td>-0.035</td>\n",
       "    </tr>\n",
       "    <tr>\n",
       "      <th>2009-05-03</th>\n",
       "      <td>-0.03087</td>\n",
       "      <td>0.145</td>\n",
       "      <td>0.050</td>\n",
       "    </tr>\n",
       "    <tr>\n",
       "      <th>2009-05-10</th>\n",
       "      <td>0.03485</td>\n",
       "      <td>0.165</td>\n",
       "      <td>0.020</td>\n",
       "    </tr>\n",
       "    <tr>\n",
       "      <th>2009-05-17</th>\n",
       "      <td>0.01745</td>\n",
       "      <td>0.155</td>\n",
       "      <td>-0.010</td>\n",
       "    </tr>\n",
       "  </tbody>\n",
       "</table>\n",
       "</div>"
      ],
      "text/plain": [
       "                GLD  Tbill rate  Tbill change\n",
       "Date                                         \n",
       "2009-04-19 -0.01263       0.130        -0.045\n",
       "2009-04-26  0.05280       0.095        -0.035\n",
       "2009-05-03 -0.03087       0.145         0.050\n",
       "2009-05-10  0.03485       0.165         0.020\n",
       "2009-05-17  0.01745       0.155        -0.010"
      ]
     },
     "execution_count": 33,
     "metadata": {},
     "output_type": "execute_result"
    }
   ],
   "source": [
    "forecast = pd.read_excel(\"final_exam_data.xlsx\", 2, index_col=0)\n",
    "forecast.head()"
   ]
  },
  {
   "cell_type": "code",
   "execution_count": 34,
   "metadata": {},
   "outputs": [
    {
     "data": {
      "text/html": [
       "<div>\n",
       "<style scoped>\n",
       "    .dataframe tbody tr th:only-of-type {\n",
       "        vertical-align: middle;\n",
       "    }\n",
       "\n",
       "    .dataframe tbody tr th {\n",
       "        vertical-align: top;\n",
       "    }\n",
       "\n",
       "    .dataframe thead th {\n",
       "        text-align: right;\n",
       "    }\n",
       "</style>\n",
       "<table border=\"1\" class=\"dataframe\">\n",
       "  <thead>\n",
       "    <tr style=\"text-align: right;\">\n",
       "      <th></th>\n",
       "      <th>GLD</th>\n",
       "    </tr>\n",
       "    <tr>\n",
       "      <th>Date</th>\n",
       "      <th></th>\n",
       "    </tr>\n",
       "  </thead>\n",
       "  <tbody>\n",
       "    <tr>\n",
       "      <th>2009-04-19</th>\n",
       "      <td>-0.01263</td>\n",
       "    </tr>\n",
       "    <tr>\n",
       "      <th>2009-04-26</th>\n",
       "      <td>0.05280</td>\n",
       "    </tr>\n",
       "    <tr>\n",
       "      <th>2009-05-03</th>\n",
       "      <td>-0.03087</td>\n",
       "    </tr>\n",
       "    <tr>\n",
       "      <th>2009-05-10</th>\n",
       "      <td>0.03485</td>\n",
       "    </tr>\n",
       "    <tr>\n",
       "      <th>2009-05-17</th>\n",
       "      <td>0.01745</td>\n",
       "    </tr>\n",
       "  </tbody>\n",
       "</table>\n",
       "</div>"
      ],
      "text/plain": [
       "                GLD\n",
       "Date               \n",
       "2009-04-19 -0.01263\n",
       "2009-04-26  0.05280\n",
       "2009-05-03 -0.03087\n",
       "2009-05-10  0.03485\n",
       "2009-05-17  0.01745"
      ]
     },
     "execution_count": 34,
     "metadata": {},
     "output_type": "execute_result"
    }
   ],
   "source": [
    "forecast_gld = pd.DataFrame(forecast[\"GLD\"])\n",
    "forecast_gld.head()"
   ]
  },
  {
   "cell_type": "markdown",
   "metadata": {},
   "source": [
    "#### Q2.1 Calculate the 5th percentile VaR and CVaR for GLD as of the end of the sample using the empirical CDF approach over the full sample of data.\n"
   ]
  },
  {
   "cell_type": "code",
   "execution_count": 122,
   "metadata": {},
   "outputs": [
    {
     "data": {
      "text/plain": [
       "-0.03332338238201468"
      ]
     },
     "execution_count": 122,
     "metadata": {},
     "output_type": "execute_result"
    }
   ],
   "source": [
    "## Var\n",
    "\n",
    "rets = forecast_gld['GLD']\n",
    "\n",
    "#calculate the value at risk at 95% confidence interval\n",
    "\n",
    "rets_var = rets.quantile(0.05)\n",
    "rets_var"
   ]
  },
  {
   "cell_type": "code",
   "execution_count": 123,
   "metadata": {},
   "outputs": [
    {
     "data": {
      "text/plain": [
       "-0.04712463823967865"
      ]
     },
     "execution_count": 123,
     "metadata": {},
     "output_type": "execute_result"
    }
   ],
   "source": [
    "# empirical cdf to get cvar\n",
    "\n",
    "rets_cvar = rets[rets < rets_var].mean()\n",
    "rets_cvar"
   ]
  },
  {
   "cell_type": "markdown",
   "metadata": {},
   "source": [
    "### Q2.2"
   ]
  },
  {
   "cell_type": "code",
   "execution_count": 130,
   "metadata": {},
   "outputs": [
    {
     "data": {
      "text/html": [
       "<div>\n",
       "<style scoped>\n",
       "    .dataframe tbody tr th:only-of-type {\n",
       "        vertical-align: middle;\n",
       "    }\n",
       "\n",
       "    .dataframe tbody tr th {\n",
       "        vertical-align: top;\n",
       "    }\n",
       "\n",
       "    .dataframe thead th {\n",
       "        text-align: right;\n",
       "    }\n",
       "</style>\n",
       "<table border=\"1\" class=\"dataframe\">\n",
       "  <thead>\n",
       "    <tr style=\"text-align: right;\">\n",
       "      <th></th>\n",
       "      <th>empirical cdf</th>\n",
       "    </tr>\n",
       "    <tr>\n",
       "      <th>Date</th>\n",
       "      <th></th>\n",
       "    </tr>\n",
       "  </thead>\n",
       "  <tbody>\n",
       "    <tr>\n",
       "      <th>2012-05-13</th>\n",
       "      <td>-0.03706</td>\n",
       "    </tr>\n",
       "    <tr>\n",
       "      <th>2013-02-17</th>\n",
       "      <td>-0.03651</td>\n",
       "    </tr>\n",
       "    <tr>\n",
       "      <th>2013-04-14</th>\n",
       "      <td>-0.04367</td>\n",
       "    </tr>\n",
       "    <tr>\n",
       "      <th>2013-04-21</th>\n",
       "      <td>-0.04748</td>\n",
       "    </tr>\n",
       "    <tr>\n",
       "      <th>2013-05-19</th>\n",
       "      <td>-0.05020</td>\n",
       "    </tr>\n",
       "    <tr>\n",
       "      <th>2013-06-23</th>\n",
       "      <td>-0.05346</td>\n",
       "    </tr>\n",
       "    <tr>\n",
       "      <th>2013-06-30</th>\n",
       "      <td>-0.05261</td>\n",
       "    </tr>\n",
       "    <tr>\n",
       "      <th>2013-09-15</th>\n",
       "      <td>-0.05193</td>\n",
       "    </tr>\n",
       "    <tr>\n",
       "      <th>2014-11-02</th>\n",
       "      <td>-0.05151</td>\n",
       "    </tr>\n",
       "    <tr>\n",
       "      <th>2015-02-08</th>\n",
       "      <td>-0.05025</td>\n",
       "    </tr>\n",
       "    <tr>\n",
       "      <th>2015-03-08</th>\n",
       "      <td>-0.04905</td>\n",
       "    </tr>\n",
       "    <tr>\n",
       "      <th>2015-11-08</th>\n",
       "      <td>-0.04893</td>\n",
       "    </tr>\n",
       "    <tr>\n",
       "      <th>2016-10-09</th>\n",
       "      <td>-0.04877</td>\n",
       "    </tr>\n",
       "    <tr>\n",
       "      <th>2016-11-13</th>\n",
       "      <td>-0.04948</td>\n",
       "    </tr>\n",
       "    <tr>\n",
       "      <th>2019-11-10</th>\n",
       "      <td>-0.04860</td>\n",
       "    </tr>\n",
       "    <tr>\n",
       "      <th>2020-03-01</th>\n",
       "      <td>-0.04811</td>\n",
       "    </tr>\n",
       "    <tr>\n",
       "      <th>2020-03-15</th>\n",
       "      <td>-0.05061</td>\n",
       "    </tr>\n",
       "    <tr>\n",
       "      <th>2020-08-16</th>\n",
       "      <td>-0.05021</td>\n",
       "    </tr>\n",
       "    <tr>\n",
       "      <th>2020-09-27</th>\n",
       "      <td>-0.04994</td>\n",
       "    </tr>\n",
       "    <tr>\n",
       "      <th>2020-11-29</th>\n",
       "      <td>-0.04969</td>\n",
       "    </tr>\n",
       "    <tr>\n",
       "      <th>2021-06-20</th>\n",
       "      <td>-0.05025</td>\n",
       "    </tr>\n",
       "    <tr>\n",
       "      <th>2022-05-15</th>\n",
       "      <td>-0.04968</td>\n",
       "    </tr>\n",
       "    <tr>\n",
       "      <th>2022-07-10</th>\n",
       "      <td>-0.04908</td>\n",
       "    </tr>\n",
       "  </tbody>\n",
       "</table>\n",
       "</div>"
      ],
      "text/plain": [
       "            empirical cdf\n",
       "Date                     \n",
       "2012-05-13       -0.03706\n",
       "2013-02-17       -0.03651\n",
       "2013-04-14       -0.04367\n",
       "2013-04-21       -0.04748\n",
       "2013-05-19       -0.05020\n",
       "2013-06-23       -0.05346\n",
       "2013-06-30       -0.05261\n",
       "2013-09-15       -0.05193\n",
       "2014-11-02       -0.05151\n",
       "2015-02-08       -0.05025\n",
       "2015-03-08       -0.04905\n",
       "2015-11-08       -0.04893\n",
       "2016-10-09       -0.04877\n",
       "2016-11-13       -0.04948\n",
       "2019-11-10       -0.04860\n",
       "2020-03-01       -0.04811\n",
       "2020-03-15       -0.05061\n",
       "2020-08-16       -0.05021\n",
       "2020-09-27       -0.04994\n",
       "2020-11-29       -0.04969\n",
       "2021-06-20       -0.05025\n",
       "2022-05-15       -0.04968\n",
       "2022-07-10       -0.04908"
      ]
     },
     "execution_count": 130,
     "metadata": {},
     "output_type": "execute_result"
    }
   ],
   "source": [
    "WINDOW = 150\n",
    "QUANTILE = 0.05\n",
    "mu = 0\n",
    "\n",
    "#sigma = pd.concat([None,sigma_expanding,sigma_rolling],axis=1,keys='empirical cdf')\n",
    "\n",
    "from scipy.stats import norm\n",
    "zscore = norm.ppf(QUANTILE)\n",
    "\n",
    "VaRret = dict()\n",
    "CVaRret = dict()\n",
    "\n",
    "VaRret['empirical cdf'] = rets.expanding(WINDOW).quantile(QUANTILE)\n",
    "CVaRret['empirical cdf'] = rets[rets<VaRret['empirical cdf']].expanding().mean()\n",
    "\n",
    "# for method in METHODS[1:]:\n",
    "#     VaRret[method] = mu + zscore * sigma[method]\n",
    "#     CVaRret[method] = mu - norm.pdf(zscore)/QUANTILE * sigma[method]\n",
    "\n",
    "VaRret = pd.concat(VaRret,axis=1)\n",
    "CVaRret = pd.concat(CVaRret,axis=1)\n",
    "CVaRret"
   ]
  },
  {
   "cell_type": "markdown",
   "metadata": {},
   "source": [
    "### 2.3 In our analysis in the course, which of the methods above did we find did best? How did we judge which method did best?"
   ]
  },
  {
   "cell_type": "markdown",
   "metadata": {},
   "source": [
    "And 2.3 We found that the empirical CDF method did not work well as the returns were never falling below the empirical CVAR. We calculated the frequency of periods of returns falling below the respective CVAR technique and found the number closest to 5% to be thge best CVAR technique. In our case the ROLLING WINDOW CVAR technique was the best!!"
   ]
  },
  {
   "cell_type": "markdown",
   "metadata": {},
   "source": [
    "# 3 Pricing Model (25 pts)"
   ]
  },
  {
   "cell_type": "code",
   "execution_count": 36,
   "metadata": {},
   "outputs": [
    {
     "data": {
      "text/html": [
       "<div>\n",
       "<style scoped>\n",
       "    .dataframe tbody tr th:only-of-type {\n",
       "        vertical-align: middle;\n",
       "    }\n",
       "\n",
       "    .dataframe tbody tr th {\n",
       "        vertical-align: top;\n",
       "    }\n",
       "\n",
       "    .dataframe thead th {\n",
       "        text-align: right;\n",
       "    }\n",
       "</style>\n",
       "<table border=\"1\" class=\"dataframe\">\n",
       "  <thead>\n",
       "    <tr style=\"text-align: right;\">\n",
       "      <th></th>\n",
       "      <th>MKT</th>\n",
       "      <th>UMD</th>\n",
       "    </tr>\n",
       "    <tr>\n",
       "      <th>Date</th>\n",
       "      <th></th>\n",
       "      <th></th>\n",
       "    </tr>\n",
       "  </thead>\n",
       "  <tbody>\n",
       "    <tr>\n",
       "      <th>2000-01-31</th>\n",
       "      <td>-0.0474</td>\n",
       "      <td>0.0192</td>\n",
       "    </tr>\n",
       "    <tr>\n",
       "      <th>2000-02-29</th>\n",
       "      <td>0.0245</td>\n",
       "      <td>0.1820</td>\n",
       "    </tr>\n",
       "    <tr>\n",
       "      <th>2000-03-31</th>\n",
       "      <td>0.0520</td>\n",
       "      <td>-0.0683</td>\n",
       "    </tr>\n",
       "    <tr>\n",
       "      <th>2000-04-30</th>\n",
       "      <td>-0.0640</td>\n",
       "      <td>-0.0839</td>\n",
       "    </tr>\n",
       "    <tr>\n",
       "      <th>2000-05-31</th>\n",
       "      <td>-0.0442</td>\n",
       "      <td>-0.0898</td>\n",
       "    </tr>\n",
       "  </tbody>\n",
       "</table>\n",
       "</div>"
      ],
      "text/plain": [
       "               MKT     UMD\n",
       "Date                      \n",
       "2000-01-31 -0.0474  0.0192\n",
       "2000-02-29  0.0245  0.1820\n",
       "2000-03-31  0.0520 -0.0683\n",
       "2000-04-30 -0.0640 -0.0839\n",
       "2000-05-31 -0.0442 -0.0898"
      ]
     },
     "execution_count": 36,
     "metadata": {},
     "output_type": "execute_result"
    }
   ],
   "source": [
    "futures = pd.read_excel(\"final_exam_data.xlsx\", 1, index_col=0)\n",
    "factors = pd.read_excel(\"final_exam_data.xlsx\", 0, index_col=0)\n",
    "factors.head()"
   ]
  },
  {
   "cell_type": "markdown",
   "metadata": {},
   "source": [
    "#### Q3.1 Estimate the time-series test of the pricing model."
   ]
  },
  {
   "cell_type": "markdown",
   "metadata": {},
   "source": [
    "Ans 3.1(a)"
   ]
  },
  {
   "cell_type": "code",
   "execution_count": 37,
   "metadata": {},
   "outputs": [],
   "source": [
    "def ts_test(df, factor_df, factors, constant = True,annualization=12):\n",
    "    res = pd.DataFrame(data = None, index = df.columns, columns = ['alpha','f_1','f_2', 'r_2', 'treynor', 'info'])\n",
    "    \n",
    "    for port in df.columns:\n",
    "        y = df[port]\n",
    "        if constant:\n",
    "            X = sm.add_constant(factor_df[factors])\n",
    "        else:\n",
    "            X = factor_df[factors]\n",
    "        model = sm.OLS(y, X).fit()\n",
    "        \n",
    "        if constant:\n",
    "            beta = model.params[1:]\n",
    "            alpha = model.params[0] * annualization\n",
    "            information_ratio = model.params[0] * np.sqrt(annualization) / model.resid.std()\n",
    "        else:\n",
    "            beta = model.params\n",
    "    \n",
    "        treynor = df[port].mean() * annualization / beta[0]\n",
    "        tracking_error = model.resid.std() * np.sqrt(annualization)\n",
    "        if constant:\n",
    "            res.loc[port] = [alpha, model.params[1], model.params[2], model.rsquared, treynor, information_ratio]\n",
    "        else:\n",
    "            res.loc[port] = [None, model.params[0], model.params[1], model.rsquared, treynor, None]\n",
    "    return res\n",
    "\n",
    "#df is the asset portfolios which we are regressing\n",
    "#factor_df is the factor data\n",
    "#intercept is whether we want to include an intercept in the regression"
   ]
  },
  {
   "cell_type": "code",
   "execution_count": 38,
   "metadata": {},
   "outputs": [
    {
     "data": {
      "text/html": [
       "<div>\n",
       "<style scoped>\n",
       "    .dataframe tbody tr th:only-of-type {\n",
       "        vertical-align: middle;\n",
       "    }\n",
       "\n",
       "    .dataframe tbody tr th {\n",
       "        vertical-align: top;\n",
       "    }\n",
       "\n",
       "    .dataframe thead th {\n",
       "        text-align: right;\n",
       "    }\n",
       "</style>\n",
       "<table border=\"1\" class=\"dataframe\">\n",
       "  <thead>\n",
       "    <tr style=\"text-align: right;\">\n",
       "      <th></th>\n",
       "      <th>alpha</th>\n",
       "      <th>beta_MKT</th>\n",
       "      <th>beta_UMD</th>\n",
       "      <th>r_2</th>\n",
       "      <th>treynor</th>\n",
       "      <th>info</th>\n",
       "    </tr>\n",
       "  </thead>\n",
       "  <tbody>\n",
       "    <tr>\n",
       "      <th>NG1</th>\n",
       "      <td>0.11195</td>\n",
       "      <td>0.35411</td>\n",
       "      <td>0.38123</td>\n",
       "      <td>0.01731</td>\n",
       "      <td>0.4066</td>\n",
       "      <td>0.2099</td>\n",
       "    </tr>\n",
       "    <tr>\n",
       "      <th>KC1</th>\n",
       "      <td>0.0232</td>\n",
       "      <td>0.31512</td>\n",
       "      <td>-0.02747</td>\n",
       "      <td>0.02589</td>\n",
       "      <td>0.14265</td>\n",
       "      <td>0.07326</td>\n",
       "    </tr>\n",
       "    <tr>\n",
       "      <th>CC1</th>\n",
       "      <td>0.07079</td>\n",
       "      <td>0.20732</td>\n",
       "      <td>-0.03582</td>\n",
       "      <td>0.01203</td>\n",
       "      <td>0.40891</td>\n",
       "      <td>0.21944</td>\n",
       "    </tr>\n",
       "    <tr>\n",
       "      <th>LB1</th>\n",
       "      <td>0.06448</td>\n",
       "      <td>0.94207</td>\n",
       "      <td>-0.00479</td>\n",
       "      <td>0.13685</td>\n",
       "      <td>0.13898</td>\n",
       "      <td>0.17317</td>\n",
       "    </tr>\n",
       "    <tr>\n",
       "      <th>CT1</th>\n",
       "      <td>0.02492</td>\n",
       "      <td>0.50425</td>\n",
       "      <td>-0.1786</td>\n",
       "      <td>0.09902</td>\n",
       "      <td>0.11353</td>\n",
       "      <td>0.08547</td>\n",
       "    </tr>\n",
       "    <tr>\n",
       "      <th>SB1</th>\n",
       "      <td>0.09313</td>\n",
       "      <td>0.05797</td>\n",
       "      <td>-0.3192</td>\n",
       "      <td>0.03273</td>\n",
       "      <td>1.57591</td>\n",
       "      <td>0.2731</td>\n",
       "    </tr>\n",
       "    <tr>\n",
       "      <th>LC1</th>\n",
       "      <td>0.01542</td>\n",
       "      <td>0.18306</td>\n",
       "      <td>0.0661</td>\n",
       "      <td>0.02005</td>\n",
       "      <td>0.16152</td>\n",
       "      <td>0.08304</td>\n",
       "    </tr>\n",
       "    <tr>\n",
       "      <th>W1</th>\n",
       "      <td>0.05453</td>\n",
       "      <td>0.2989</td>\n",
       "      <td>0.02243</td>\n",
       "      <td>0.02133</td>\n",
       "      <td>0.25446</td>\n",
       "      <td>0.17693</td>\n",
       "    </tr>\n",
       "    <tr>\n",
       "      <th>S1</th>\n",
       "      <td>0.04254</td>\n",
       "      <td>0.39948</td>\n",
       "      <td>0.02726</td>\n",
       "      <td>0.05292</td>\n",
       "      <td>0.17838</td>\n",
       "      <td>0.16493</td>\n",
       "    </tr>\n",
       "    <tr>\n",
       "      <th>C1</th>\n",
       "      <td>0.06087</td>\n",
       "      <td>0.3404</td>\n",
       "      <td>0.06204</td>\n",
       "      <td>0.02825</td>\n",
       "      <td>0.25281</td>\n",
       "      <td>0.2068</td>\n",
       "    </tr>\n",
       "    <tr>\n",
       "      <th>GC1</th>\n",
       "      <td>0.07049</td>\n",
       "      <td>0.13162</td>\n",
       "      <td>0.14869</td>\n",
       "      <td>0.02736</td>\n",
       "      <td>0.62697</td>\n",
       "      <td>0.43454</td>\n",
       "    </tr>\n",
       "    <tr>\n",
       "      <th>SI1</th>\n",
       "      <td>0.06555</td>\n",
       "      <td>0.51184</td>\n",
       "      <td>0.14438</td>\n",
       "      <td>0.05844</td>\n",
       "      <td>0.20389</td>\n",
       "      <td>0.21969</td>\n",
       "    </tr>\n",
       "    <tr>\n",
       "      <th>HG1</th>\n",
       "      <td>0.0478</td>\n",
       "      <td>0.69063</td>\n",
       "      <td>-0.13884</td>\n",
       "      <td>0.21466</td>\n",
       "      <td>0.13615</td>\n",
       "      <td>0.20731</td>\n",
       "    </tr>\n",
       "    <tr>\n",
       "      <th>PA1</th>\n",
       "      <td>0.07919</td>\n",
       "      <td>0.66454</td>\n",
       "      <td>0.17333</td>\n",
       "      <td>0.07563</td>\n",
       "      <td>0.19459</td>\n",
       "      <td>0.23425</td>\n",
       "    </tr>\n",
       "  </tbody>\n",
       "</table>\n",
       "</div>"
      ],
      "text/plain": [
       "       alpha beta_MKT beta_UMD      r_2  treynor     info\n",
       "NG1  0.11195  0.35411  0.38123  0.01731   0.4066   0.2099\n",
       "KC1   0.0232  0.31512 -0.02747  0.02589  0.14265  0.07326\n",
       "CC1  0.07079  0.20732 -0.03582  0.01203  0.40891  0.21944\n",
       "LB1  0.06448  0.94207 -0.00479  0.13685  0.13898  0.17317\n",
       "CT1  0.02492  0.50425  -0.1786  0.09902  0.11353  0.08547\n",
       "SB1  0.09313  0.05797  -0.3192  0.03273  1.57591   0.2731\n",
       "LC1  0.01542  0.18306   0.0661  0.02005  0.16152  0.08304\n",
       "W1   0.05453   0.2989  0.02243  0.02133  0.25446  0.17693\n",
       "S1   0.04254  0.39948  0.02726  0.05292  0.17838  0.16493\n",
       "C1   0.06087   0.3404  0.06204  0.02825  0.25281   0.2068\n",
       "GC1  0.07049  0.13162  0.14869  0.02736  0.62697  0.43454\n",
       "SI1  0.06555  0.51184  0.14438  0.05844  0.20389  0.21969\n",
       "HG1   0.0478  0.69063 -0.13884  0.21466  0.13615  0.20731\n",
       "PA1  0.07919  0.66454  0.17333  0.07563  0.19459  0.23425"
      ]
     },
     "execution_count": 38,
     "metadata": {},
     "output_type": "execute_result"
    }
   ],
   "source": [
    "df_ts = ts_test(futures, factors, ['MKT', 'UMD'])\n",
    "df_ts.rename(columns = {'f_1':'beta_MKT', 'f_2':'beta_UMD'}, inplace = True)\n",
    "df_ts"
   ]
  },
  {
   "cell_type": "code",
   "execution_count": 39,
   "metadata": {},
   "outputs": [
    {
     "name": "stdout",
     "output_type": "stream",
     "text": [
      "MAE:- 0.05892\n"
     ]
    }
   ],
   "source": [
    "### MAE\n",
    "print('MAE:-',round(df_ts['alpha'].abs().mean(),5))"
   ]
  },
  {
   "cell_type": "code",
   "execution_count": 40,
   "metadata": {},
   "outputs": [
    {
     "name": "stdout",
     "output_type": "stream",
     "text": [
      "Mean r-squared:- 0.05875\n"
     ]
    }
   ],
   "source": [
    "### Mean r-squared\n",
    "print('Mean r-squared:-',round(df_ts['r_2'].mean(),5))"
   ]
  },
  {
   "cell_type": "markdown",
   "metadata": {},
   "source": [
    "ANS 3.1(b) If the pricing model worked perfectly:\n",
    "- The Alpha for each asset would be zero as we expect the factors to explain most of the expected returns of the portfolios.\n",
    "- Based on the expectation of alphas to be zero we would be expect the MAE to be near zero as well.\n",
    "- Nothing could be said about the R-Squared as in the TimeSeries test we do not care about high R-Squared. Thus, the average R-Squared statistic would be unrestricted\n",
    "- Nothing needs to be said about the regression $\\beta$, as they would vary with the exposure to the respective factor and would vary with each asset"
   ]
  },
  {
   "cell_type": "markdown",
   "metadata": {},
   "source": [
    "### Q3.2 Estimate the cross-sectional test of the pricing model."
   ]
  },
  {
   "cell_type": "code",
   "execution_count": 41,
   "metadata": {},
   "outputs": [],
   "source": [
    "def cross_regression(asset_df, factors_df, factors, intercept=True, annualization=12):\n",
    "    \n",
    "    res = pd.DataFrame(data = None, index = factors, columns = ['cs_premia'])\n",
    "    \n",
    "    factors_df = factors_df.iloc[:,1:(len(factors)+1)]\n",
    "    \n",
    "    y = asset_df.mean() * annualization\n",
    "    if intercept == True:\n",
    "        X = sm.add_constant(factors_df[factors].astype(float))\n",
    "    else:\n",
    "        X = factors_df[factors].astype(float)\n",
    "    model = sm.OLS(y, X).fit()\n",
    "    if intercept:\n",
    "        alpha = model.params[0]\n",
    "        mae = model.resid.abs().mean()\n",
    "        for i in range(len(factors)):\n",
    "            res.loc[factors[i]] = model.params[i+1]\n",
    "        predicted_premia = np.matrix(factors_df[factors].astype(float)) @ np.matrix(res.astype(float))\n",
    "        \n",
    "    else:\n",
    "        alpha = None\n",
    "        mae = model.resid.abs().mean()\n",
    "        for i in range(len(factors)):\n",
    "            res.loc[factors[i]] = model.params[i]\n",
    "        predicted_premia = np.matrix(factors_df[factors].astype(float)) @ np.matrix(res.astype(float))\n",
    "        \n",
    "    predicted_premia = pd.DataFrame(predicted_premia, columns = ['Cross-Section Premia'], index = factors_df.index)\n",
    "    if intercept:\n",
    "        return predicted_premia,res, f'r-squared = {round(model.rsquared, 4)}', f'alpha = {round(alpha, 4)}', f'mae = {round(mae, 4)}'\n",
    "    else:\n",
    "        return predicted_premia,res, f'r-squared = {round(model.rsquared, 4)}', f'mae = {round(mae, 4)}'"
   ]
  },
  {
   "cell_type": "code",
   "execution_count": 42,
   "metadata": {},
   "outputs": [],
   "source": [
    "\n",
    "predicted_premia,cs_premia,r2,alpha,mae = cross_regression(futures, df_ts, ['beta_MKT', 'beta_UMD'], intercept=True)"
   ]
  },
  {
   "cell_type": "markdown",
   "metadata": {},
   "source": [
    "annualized intercept"
   ]
  },
  {
   "cell_type": "code",
   "execution_count": 43,
   "metadata": {},
   "outputs": [
    {
     "data": {
      "text/plain": [
       "'alpha = 0.0611'"
      ]
     },
     "execution_count": 43,
     "metadata": {},
     "output_type": "execute_result"
    }
   ],
   "source": [
    "alpha"
   ]
  },
  {
   "cell_type": "markdown",
   "metadata": {},
   "source": [
    "annualized factor premia"
   ]
  },
  {
   "cell_type": "code",
   "execution_count": 44,
   "metadata": {},
   "outputs": [
    {
     "data": {
      "text/html": [
       "<div>\n",
       "<style scoped>\n",
       "    .dataframe tbody tr th:only-of-type {\n",
       "        vertical-align: middle;\n",
       "    }\n",
       "\n",
       "    .dataframe tbody tr th {\n",
       "        vertical-align: top;\n",
       "    }\n",
       "\n",
       "    .dataframe thead th {\n",
       "        text-align: right;\n",
       "    }\n",
       "</style>\n",
       "<table border=\"1\" class=\"dataframe\">\n",
       "  <thead>\n",
       "    <tr style=\"text-align: right;\">\n",
       "      <th></th>\n",
       "      <th>cs_premia</th>\n",
       "    </tr>\n",
       "  </thead>\n",
       "  <tbody>\n",
       "    <tr>\n",
       "      <th>beta_MKT</th>\n",
       "      <td>0.06197</td>\n",
       "    </tr>\n",
       "    <tr>\n",
       "      <th>beta_UMD</th>\n",
       "      <td>0.0735</td>\n",
       "    </tr>\n",
       "  </tbody>\n",
       "</table>\n",
       "</div>"
      ],
      "text/plain": [
       "         cs_premia\n",
       "beta_MKT   0.06197\n",
       "beta_UMD    0.0735"
      ]
     },
     "execution_count": 44,
     "metadata": {},
     "output_type": "execute_result"
    }
   ],
   "source": [
    "cs_premia"
   ]
  },
  {
   "cell_type": "markdown",
   "metadata": {},
   "source": [
    "r-squared."
   ]
  },
  {
   "cell_type": "code",
   "execution_count": 45,
   "metadata": {},
   "outputs": [
    {
     "data": {
      "text/plain": [
       "'r-squared = 0.3914'"
      ]
     },
     "execution_count": 45,
     "metadata": {},
     "output_type": "execute_result"
    }
   ],
   "source": [
    "r2"
   ]
  },
  {
   "cell_type": "markdown",
   "metadata": {},
   "source": [
    "annualized mean-absolute error."
   ]
  },
  {
   "cell_type": "code",
   "execution_count": 46,
   "metadata": {},
   "outputs": [
    {
     "data": {
      "text/plain": [
       "'mae = 0.018'"
      ]
     },
     "execution_count": 46,
     "metadata": {},
     "output_type": "execute_result"
    }
   ],
   "source": [
    "mae"
   ]
  },
  {
   "cell_type": "markdown",
   "metadata": {},
   "source": [
    "#### ANs 3.2(b)"
   ]
  },
  {
   "cell_type": "markdown",
   "metadata": {},
   "source": [
    "If the pricing model worked perfectly:\n",
    "- The R-squared would be near 1 as the factors would explain most of the expected returns of the portfolios.\n",
    "- We expect Mae to be near zero.\n",
    "- We would expect the Alpha for the cross-sectional regression to be zero if we measured the risk-free rate (in building the excess returns). A non-zero cross-sectional intercept means the model pricing is off by a fixed amount, potentially due to risk-free rate mismeasurment.\n",
    "- We cannot say anything specific about the factor premia as the cross-sectional regression provides the freedom for the factor premia to be anything and is derived as the regression coefficient."
   ]
  },
  {
   "cell_type": "markdown",
   "metadata": {},
   "source": [
    "### Q3.3Compare the factor premia across the cross-sectional and time-series estimations."
   ]
  },
  {
   "cell_type": "code",
   "execution_count": 47,
   "metadata": {},
   "outputs": [],
   "source": [
    "#Calculate mean, standard deviation and sharpe ratio\n",
    "def mean_vol_sharpe(df,ann=12):\n",
    "    mean = df.mean() * ann\n",
    "    volatility = df.std() * np.sqrt(ann)\n",
    "    sharpe_ratio = mean/volatility\n",
    "    return pd.DataFrame({'mean': mean, 'volatility': volatility, 'sharpe_ratio': sharpe_ratio})"
   ]
  },
  {
   "cell_type": "code",
   "execution_count": 52,
   "metadata": {},
   "outputs": [],
   "source": [
    "def ts_premia(df_ts, factor_mean):\n",
    "    #multiply factor premium row wise to each f_1 an f_2 in factor and sum\n",
    "    premia = pd.DataFrame(data = None, index = df_ts.index, columns = ['TS Premia'])\n",
    "    for row in df_ts.index:\n",
    "        a = df_ts.loc[row, 'beta_MKT']* factor_mean[0]\n",
    "        b = df_ts.loc[row, 'beta_UMD']* factor_mean[1]\n",
    "        premia.loc[row] = a + b\n",
    "        \n",
    "    return premia"
   ]
  },
  {
   "cell_type": "code",
   "execution_count": 56,
   "metadata": {},
   "outputs": [],
   "source": [
    "factor_mean = mean_vol_sharpe(factors).iloc[:,0]\n",
    "ts_premia_1 = ts_premia(df_ts, factor_mean)\n",
    "#ts_premia_1"
   ]
  },
  {
   "cell_type": "code",
   "execution_count": 55,
   "metadata": {},
   "outputs": [],
   "source": [
    "predicted_premia.rename(columns={'predicted_premia':'cross section premia'}, inplace=True)\n",
    "#predicted_premia"
   ]
  },
  {
   "cell_type": "code",
   "execution_count": 57,
   "metadata": {},
   "outputs": [
    {
     "data": {
      "text/html": [
       "<div>\n",
       "<style scoped>\n",
       "    .dataframe tbody tr th:only-of-type {\n",
       "        vertical-align: middle;\n",
       "    }\n",
       "\n",
       "    .dataframe tbody tr th {\n",
       "        vertical-align: top;\n",
       "    }\n",
       "\n",
       "    .dataframe thead th {\n",
       "        text-align: right;\n",
       "    }\n",
       "</style>\n",
       "<table border=\"1\" class=\"dataframe\">\n",
       "  <thead>\n",
       "    <tr style=\"text-align: right;\">\n",
       "      <th></th>\n",
       "      <th>TS Premia</th>\n",
       "      <th>Cross-Section Premia</th>\n",
       "    </tr>\n",
       "  </thead>\n",
       "  <tbody>\n",
       "    <tr>\n",
       "      <th>NG1</th>\n",
       "      <td>0.03203</td>\n",
       "      <td>0.04997</td>\n",
       "    </tr>\n",
       "    <tr>\n",
       "      <th>KC1</th>\n",
       "      <td>0.02175</td>\n",
       "      <td>0.01751</td>\n",
       "    </tr>\n",
       "    <tr>\n",
       "      <th>CC1</th>\n",
       "      <td>0.01398</td>\n",
       "      <td>0.01022</td>\n",
       "    </tr>\n",
       "    <tr>\n",
       "      <th>LB1</th>\n",
       "      <td>0.06645</td>\n",
       "      <td>0.05803</td>\n",
       "    </tr>\n",
       "    <tr>\n",
       "      <th>CT1</th>\n",
       "      <td>0.03233</td>\n",
       "      <td>0.01812</td>\n",
       "    </tr>\n",
       "    <tr>\n",
       "      <th>SB1</th>\n",
       "      <td>-0.00178</td>\n",
       "      <td>-0.01987</td>\n",
       "    </tr>\n",
       "    <tr>\n",
       "      <th>LC1</th>\n",
       "      <td>0.01415</td>\n",
       "      <td>0.01620</td>\n",
       "    </tr>\n",
       "    <tr>\n",
       "      <th>W1</th>\n",
       "      <td>0.02152</td>\n",
       "      <td>0.02017</td>\n",
       "    </tr>\n",
       "    <tr>\n",
       "      <th>S1</th>\n",
       "      <td>0.02872</td>\n",
       "      <td>0.02676</td>\n",
       "    </tr>\n",
       "    <tr>\n",
       "      <th>C1</th>\n",
       "      <td>0.02519</td>\n",
       "      <td>0.02566</td>\n",
       "    </tr>\n",
       "    <tr>\n",
       "      <th>GC1</th>\n",
       "      <td>0.01203</td>\n",
       "      <td>0.01909</td>\n",
       "    </tr>\n",
       "    <tr>\n",
       "      <th>SI1</th>\n",
       "      <td>0.03881</td>\n",
       "      <td>0.04233</td>\n",
       "    </tr>\n",
       "    <tr>\n",
       "      <th>HG1</th>\n",
       "      <td>0.04623</td>\n",
       "      <td>0.03260</td>\n",
       "    </tr>\n",
       "    <tr>\n",
       "      <th>PA1</th>\n",
       "      <td>0.05013</td>\n",
       "      <td>0.05392</td>\n",
       "    </tr>\n",
       "  </tbody>\n",
       "</table>\n",
       "</div>"
      ],
      "text/plain": [
       "    TS Premia  Cross-Section Premia\n",
       "NG1   0.03203               0.04997\n",
       "KC1   0.02175               0.01751\n",
       "CC1   0.01398               0.01022\n",
       "LB1   0.06645               0.05803\n",
       "CT1   0.03233               0.01812\n",
       "SB1  -0.00178              -0.01987\n",
       "LC1   0.01415               0.01620\n",
       "W1    0.02152               0.02017\n",
       "S1    0.02872               0.02676\n",
       "C1    0.02519               0.02566\n",
       "GC1   0.01203               0.01909\n",
       "SI1   0.03881               0.04233\n",
       "HG1   0.04623               0.03260\n",
       "PA1   0.05013               0.05392"
      ]
     },
     "execution_count": 57,
     "metadata": {},
     "output_type": "execute_result"
    }
   ],
   "source": [
    "premia_all = pd.concat([ts_premia_1, predicted_premia], axis=1)\n",
    "premia_all"
   ]
  },
  {
   "cell_type": "markdown",
   "metadata": {},
   "source": [
    "# 4 Forecasting (50pts)"
   ]
  },
  {
   "cell_type": "code",
   "execution_count": 58,
   "metadata": {},
   "outputs": [
    {
     "data": {
      "text/html": [
       "<div>\n",
       "<style scoped>\n",
       "    .dataframe tbody tr th:only-of-type {\n",
       "        vertical-align: middle;\n",
       "    }\n",
       "\n",
       "    .dataframe tbody tr th {\n",
       "        vertical-align: top;\n",
       "    }\n",
       "\n",
       "    .dataframe thead th {\n",
       "        text-align: right;\n",
       "    }\n",
       "</style>\n",
       "<table border=\"1\" class=\"dataframe\">\n",
       "  <thead>\n",
       "    <tr style=\"text-align: right;\">\n",
       "      <th></th>\n",
       "      <th>GLD</th>\n",
       "      <th>Tbill rate</th>\n",
       "      <th>Tbill change</th>\n",
       "    </tr>\n",
       "    <tr>\n",
       "      <th>Date</th>\n",
       "      <th></th>\n",
       "      <th></th>\n",
       "      <th></th>\n",
       "    </tr>\n",
       "  </thead>\n",
       "  <tbody>\n",
       "    <tr>\n",
       "      <th>2009-04-19</th>\n",
       "      <td>-0.01263</td>\n",
       "      <td>0.130</td>\n",
       "      <td>-0.045</td>\n",
       "    </tr>\n",
       "    <tr>\n",
       "      <th>2009-04-26</th>\n",
       "      <td>0.05280</td>\n",
       "      <td>0.095</td>\n",
       "      <td>-0.035</td>\n",
       "    </tr>\n",
       "    <tr>\n",
       "      <th>2009-05-03</th>\n",
       "      <td>-0.03087</td>\n",
       "      <td>0.145</td>\n",
       "      <td>0.050</td>\n",
       "    </tr>\n",
       "    <tr>\n",
       "      <th>2009-05-10</th>\n",
       "      <td>0.03485</td>\n",
       "      <td>0.165</td>\n",
       "      <td>0.020</td>\n",
       "    </tr>\n",
       "    <tr>\n",
       "      <th>2009-05-17</th>\n",
       "      <td>0.01745</td>\n",
       "      <td>0.155</td>\n",
       "      <td>-0.010</td>\n",
       "    </tr>\n",
       "  </tbody>\n",
       "</table>\n",
       "</div>"
      ],
      "text/plain": [
       "                GLD  Tbill rate  Tbill change\n",
       "Date                                         \n",
       "2009-04-19 -0.01263       0.130        -0.045\n",
       "2009-04-26  0.05280       0.095        -0.035\n",
       "2009-05-03 -0.03087       0.145         0.050\n",
       "2009-05-10  0.03485       0.165         0.020\n",
       "2009-05-17  0.01745       0.155        -0.010"
      ]
     },
     "execution_count": 58,
     "metadata": {},
     "output_type": "execute_result"
    }
   ],
   "source": [
    "forecast.head()"
   ]
  },
  {
   "cell_type": "code",
   "execution_count": 82,
   "metadata": {},
   "outputs": [],
   "source": [
    "## Regress [SPY] or anything against a list of factors to estimate. Lagged Regression\n",
    "## you can decide the weight\n",
    "def lagged_reg(df, y_col, X_col, weight=100, lag=1, intercept = True, annual_fac=12):\n",
    "    y = df[y_col]\n",
    "    if intercept == True:\n",
    "        X = sm.add_constant(df[X_col].shift(lag))\n",
    "    else:\n",
    "        X = df[X_col].shift(lag)\n",
    "    \n",
    "    model = sm.OLS(y, X, missing = 'drop').fit()\n",
    "    reg_df = model.params.to_frame('Regression Parameters')\n",
    "    reg_df.loc['r-squared'] = model.rsquared\n",
    "    \n",
    "    if intercept == True:\n",
    "        reg_df.loc['const'] *= annual_fac\n",
    "        final = reg_df.loc['const'][0]/12\n",
    "    else:\n",
    "        final = 0\n",
    "    \n",
    "    reg_df = reg_df.drop('const')\n",
    "    reg_df = reg_df.drop('r-squared')\n",
    "    \n",
    "    for i in reg_df.index:\n",
    "        final += reg_df.loc[i][0] * df[i]\n",
    "    \n",
    "    weight = 0.2 + 80 * final.shift().dropna()\n",
    "    \n",
    "    final = final.shift().dropna()\n",
    "    \n",
    "    final_series = (weight * df[y_col]).dropna()\n",
    "    \n",
    "    return model, final, final_series"
   ]
  },
  {
   "cell_type": "markdown",
   "metadata": {},
   "source": [
    "## Q4.1"
   ]
  },
  {
   "cell_type": "code",
   "execution_count": 84,
   "metadata": {},
   "outputs": [],
   "source": [
    "reg, a, b = lagged_reg(forecast, 'GLD', ['Tbill rate','Tbill change'], weight=100, lag=1, intercept = True, annual_fac=12)"
   ]
  },
  {
   "cell_type": "code",
   "execution_count": 85,
   "metadata": {},
   "outputs": [
    {
     "data": {
      "text/html": [
       "<div>\n",
       "<style scoped>\n",
       "    .dataframe tbody tr th:only-of-type {\n",
       "        vertical-align: middle;\n",
       "    }\n",
       "\n",
       "    .dataframe tbody tr th {\n",
       "        vertical-align: top;\n",
       "    }\n",
       "\n",
       "    .dataframe thead th {\n",
       "        text-align: right;\n",
       "    }\n",
       "</style>\n",
       "<table border=\"1\" class=\"dataframe\">\n",
       "  <thead>\n",
       "    <tr style=\"text-align: right;\">\n",
       "      <th></th>\n",
       "      <th>Active</th>\n",
       "    </tr>\n",
       "    <tr>\n",
       "      <th>Date</th>\n",
       "      <th></th>\n",
       "    </tr>\n",
       "  </thead>\n",
       "  <tbody>\n",
       "    <tr>\n",
       "      <th>2009-04-26</th>\n",
       "      <td>0.00100</td>\n",
       "    </tr>\n",
       "    <tr>\n",
       "      <th>2009-05-03</th>\n",
       "      <td>0.00100</td>\n",
       "    </tr>\n",
       "    <tr>\n",
       "      <th>2009-05-10</th>\n",
       "      <td>0.00105</td>\n",
       "    </tr>\n",
       "    <tr>\n",
       "      <th>2009-05-17</th>\n",
       "      <td>0.00104</td>\n",
       "    </tr>\n",
       "    <tr>\n",
       "      <th>2009-05-24</th>\n",
       "      <td>0.00103</td>\n",
       "    </tr>\n",
       "    <tr>\n",
       "      <th>...</th>\n",
       "      <td>...</td>\n",
       "    </tr>\n",
       "    <tr>\n",
       "      <th>2022-11-06</th>\n",
       "      <td>0.00202</td>\n",
       "    </tr>\n",
       "    <tr>\n",
       "      <th>2022-11-13</th>\n",
       "      <td>0.00202</td>\n",
       "    </tr>\n",
       "    <tr>\n",
       "      <th>2022-11-20</th>\n",
       "      <td>0.00203</td>\n",
       "    </tr>\n",
       "    <tr>\n",
       "      <th>2022-11-27</th>\n",
       "      <td>0.00206</td>\n",
       "    </tr>\n",
       "    <tr>\n",
       "      <th>2022-12-04</th>\n",
       "      <td>0.00206</td>\n",
       "    </tr>\n",
       "  </tbody>\n",
       "</table>\n",
       "<p>711 rows × 1 columns</p>\n",
       "</div>"
      ],
      "text/plain": [
       "             Active\n",
       "Date               \n",
       "2009-04-26  0.00100\n",
       "2009-05-03  0.00100\n",
       "2009-05-10  0.00105\n",
       "2009-05-17  0.00104\n",
       "2009-05-24  0.00103\n",
       "...             ...\n",
       "2022-11-06  0.00202\n",
       "2022-11-13  0.00202\n",
       "2022-11-20  0.00203\n",
       "2022-11-27  0.00206\n",
       "2022-12-04  0.00206\n",
       "\n",
       "[711 rows x 1 columns]"
      ]
     },
     "execution_count": 85,
     "metadata": {},
     "output_type": "execute_result"
    }
   ],
   "source": [
    "a = a.to_frame('Active')\n",
    "a"
   ]
  },
  {
   "cell_type": "code",
   "execution_count": 86,
   "metadata": {},
   "outputs": [
    {
     "data": {
      "text/html": [
       "<table class=\"simpletable\">\n",
       "<caption>OLS Regression Results</caption>\n",
       "<tr>\n",
       "  <th>Dep. Variable:</th>           <td>GLD</td>       <th>  R-squared:         </th> <td>   0.000</td>\n",
       "</tr>\n",
       "<tr>\n",
       "  <th>Model:</th>                   <td>OLS</td>       <th>  Adj. R-squared:    </th> <td>  -0.003</td>\n",
       "</tr>\n",
       "<tr>\n",
       "  <th>Method:</th>             <td>Least Squares</td>  <th>  F-statistic:       </th> <td> 0.03771</td>\n",
       "</tr>\n",
       "<tr>\n",
       "  <th>Date:</th>             <td>Mon, 05 Dec 2022</td> <th>  Prob (F-statistic):</th>  <td> 0.963</td> \n",
       "</tr>\n",
       "<tr>\n",
       "  <th>Time:</th>                 <td>19:23:57</td>     <th>  Log-Likelihood:    </th> <td>  1734.1</td>\n",
       "</tr>\n",
       "<tr>\n",
       "  <th>No. Observations:</th>      <td>   711</td>      <th>  AIC:               </th> <td>  -3462.</td>\n",
       "</tr>\n",
       "<tr>\n",
       "  <th>Df Residuals:</th>          <td>   708</td>      <th>  BIC:               </th> <td>  -3449.</td>\n",
       "</tr>\n",
       "<tr>\n",
       "  <th>Df Model:</th>              <td>     2</td>      <th>                     </th>     <td> </td>   \n",
       "</tr>\n",
       "<tr>\n",
       "  <th>Covariance Type:</th>      <td>nonrobust</td>    <th>                     </th>     <td> </td>   \n",
       "</tr>\n",
       "</table>\n",
       "<table class=\"simpletable\">\n",
       "<tr>\n",
       "        <td></td>          <th>coef</th>     <th>std err</th>      <th>t</th>      <th>P>|t|</th>  <th>[0.025</th>    <th>0.975]</th>  \n",
       "</tr>\n",
       "<tr>\n",
       "  <th>const</th>        <td>    0.0010</td> <td>    0.001</td> <td>    1.044</td> <td> 0.297</td> <td>   -0.001</td> <td>    0.003</td>\n",
       "</tr>\n",
       "<tr>\n",
       "  <th>Tbill rate</th>   <td>    0.0003</td> <td>    0.001</td> <td>    0.259</td> <td> 0.796</td> <td>   -0.002</td> <td>    0.002</td>\n",
       "</tr>\n",
       "<tr>\n",
       "  <th>Tbill change</th> <td>    0.0005</td> <td>    0.015</td> <td>    0.031</td> <td> 0.975</td> <td>   -0.029</td> <td>    0.029</td>\n",
       "</tr>\n",
       "</table>\n",
       "<table class=\"simpletable\">\n",
       "<tr>\n",
       "  <th>Omnibus:</th>       <td>32.369</td> <th>  Durbin-Watson:     </th> <td>   1.952</td>\n",
       "</tr>\n",
       "<tr>\n",
       "  <th>Prob(Omnibus):</th> <td> 0.000</td> <th>  Jarque-Bera (JB):  </th> <td>  70.408</td>\n",
       "</tr>\n",
       "<tr>\n",
       "  <th>Skew:</th>          <td>-0.247</td> <th>  Prob(JB):          </th> <td>5.14e-16</td>\n",
       "</tr>\n",
       "<tr>\n",
       "  <th>Kurtosis:</th>      <td> 4.460</td> <th>  Cond. No.          </th> <td>    23.3</td>\n",
       "</tr>\n",
       "</table><br/><br/>Notes:<br/>[1] Standard Errors assume that the covariance matrix of the errors is correctly specified."
      ],
      "text/plain": [
       "<class 'statsmodels.iolib.summary.Summary'>\n",
       "\"\"\"\n",
       "                            OLS Regression Results                            \n",
       "==============================================================================\n",
       "Dep. Variable:                    GLD   R-squared:                       0.000\n",
       "Model:                            OLS   Adj. R-squared:                 -0.003\n",
       "Method:                 Least Squares   F-statistic:                   0.03771\n",
       "Date:                Mon, 05 Dec 2022   Prob (F-statistic):              0.963\n",
       "Time:                        19:23:57   Log-Likelihood:                 1734.1\n",
       "No. Observations:                 711   AIC:                            -3462.\n",
       "Df Residuals:                     708   BIC:                            -3449.\n",
       "Df Model:                           2                                         \n",
       "Covariance Type:            nonrobust                                         \n",
       "================================================================================\n",
       "                   coef    std err          t      P>|t|      [0.025      0.975]\n",
       "--------------------------------------------------------------------------------\n",
       "const            0.0010      0.001      1.044      0.297      -0.001       0.003\n",
       "Tbill rate       0.0003      0.001      0.259      0.796      -0.002       0.002\n",
       "Tbill change     0.0005      0.015      0.031      0.975      -0.029       0.029\n",
       "==============================================================================\n",
       "Omnibus:                       32.369   Durbin-Watson:                   1.952\n",
       "Prob(Omnibus):                  0.000   Jarque-Bera (JB):               70.408\n",
       "Skew:                          -0.247   Prob(JB):                     5.14e-16\n",
       "Kurtosis:                       4.460   Cond. No.                         23.3\n",
       "==============================================================================\n",
       "\n",
       "Notes:\n",
       "[1] Standard Errors assume that the covariance matrix of the errors is correctly specified.\n",
       "\"\"\""
      ]
     },
     "execution_count": 86,
     "metadata": {},
     "output_type": "execute_result"
    }
   ],
   "source": [
    "reg.summary()\n",
    "# Alpha Beta and R-squared below"
   ]
  },
  {
   "cell_type": "markdown",
   "metadata": {},
   "source": [
    "# 4.2"
   ]
  },
  {
   "cell_type": "code",
   "execution_count": 88,
   "metadata": {},
   "outputs": [
    {
     "data": {
      "text/html": [
       "<div>\n",
       "<style scoped>\n",
       "    .dataframe tbody tr th:only-of-type {\n",
       "        vertical-align: middle;\n",
       "    }\n",
       "\n",
       "    .dataframe tbody tr th {\n",
       "        vertical-align: top;\n",
       "    }\n",
       "\n",
       "    .dataframe thead th {\n",
       "        text-align: right;\n",
       "    }\n",
       "</style>\n",
       "<table border=\"1\" class=\"dataframe\">\n",
       "  <thead>\n",
       "    <tr style=\"text-align: right;\">\n",
       "      <th></th>\n",
       "      <th>Active</th>\n",
       "    </tr>\n",
       "    <tr>\n",
       "      <th>Date</th>\n",
       "      <th></th>\n",
       "    </tr>\n",
       "  </thead>\n",
       "  <tbody>\n",
       "    <tr>\n",
       "      <th>2009-04-26</th>\n",
       "      <td>0.01480</td>\n",
       "    </tr>\n",
       "    <tr>\n",
       "      <th>2009-05-03</th>\n",
       "      <td>-0.00865</td>\n",
       "    </tr>\n",
       "    <tr>\n",
       "      <th>2009-05-10</th>\n",
       "      <td>0.00990</td>\n",
       "    </tr>\n",
       "    <tr>\n",
       "      <th>2009-05-17</th>\n",
       "      <td>0.00495</td>\n",
       "    </tr>\n",
       "    <tr>\n",
       "      <th>2009-05-24</th>\n",
       "      <td>0.00801</td>\n",
       "    </tr>\n",
       "    <tr>\n",
       "      <th>...</th>\n",
       "      <td>...</td>\n",
       "    </tr>\n",
       "    <tr>\n",
       "      <th>2022-11-06</th>\n",
       "      <td>0.00782</td>\n",
       "    </tr>\n",
       "    <tr>\n",
       "      <th>2022-11-13</th>\n",
       "      <td>0.01868</td>\n",
       "    </tr>\n",
       "    <tr>\n",
       "      <th>2022-11-20</th>\n",
       "      <td>-0.00390</td>\n",
       "    </tr>\n",
       "    <tr>\n",
       "      <th>2022-11-27</th>\n",
       "      <td>0.00096</td>\n",
       "    </tr>\n",
       "    <tr>\n",
       "      <th>2022-12-04</th>\n",
       "      <td>-0.00109</td>\n",
       "    </tr>\n",
       "  </tbody>\n",
       "</table>\n",
       "<p>711 rows × 1 columns</p>\n",
       "</div>"
      ],
      "text/plain": [
       "             Active\n",
       "Date               \n",
       "2009-04-26  0.01480\n",
       "2009-05-03 -0.00865\n",
       "2009-05-10  0.00990\n",
       "2009-05-17  0.00495\n",
       "2009-05-24  0.00801\n",
       "...             ...\n",
       "2022-11-06  0.00782\n",
       "2022-11-13  0.01868\n",
       "2022-11-20 -0.00390\n",
       "2022-11-27  0.00096\n",
       "2022-12-04 -0.00109\n",
       "\n",
       "[711 rows x 1 columns]"
      ]
     },
     "execution_count": 88,
     "metadata": {},
     "output_type": "execute_result"
    }
   ],
   "source": [
    "b = b.to_frame('Active')\n",
    "b"
   ]
  },
  {
   "cell_type": "markdown",
   "metadata": {},
   "source": [
    "# 4.3"
   ]
  },
  {
   "cell_type": "code",
   "execution_count": 91,
   "metadata": {},
   "outputs": [
    {
     "data": {
      "text/html": [
       "<div>\n",
       "<style scoped>\n",
       "    .dataframe tbody tr th:only-of-type {\n",
       "        vertical-align: middle;\n",
       "    }\n",
       "\n",
       "    .dataframe tbody tr th {\n",
       "        vertical-align: top;\n",
       "    }\n",
       "\n",
       "    .dataframe thead th {\n",
       "        text-align: right;\n",
       "    }\n",
       "</style>\n",
       "<table border=\"1\" class=\"dataframe\">\n",
       "  <thead>\n",
       "    <tr style=\"text-align: right;\">\n",
       "      <th></th>\n",
       "      <th>mean</th>\n",
       "      <th>volatility</th>\n",
       "      <th>sharpe_ratio</th>\n",
       "    </tr>\n",
       "  </thead>\n",
       "  <tbody>\n",
       "    <tr>\n",
       "      <th>GLD</th>\n",
       "      <td>0.01337</td>\n",
       "      <td>0.07316</td>\n",
       "      <td>0.18281</td>\n",
       "    </tr>\n",
       "    <tr>\n",
       "      <th>active</th>\n",
       "      <td>0.00400</td>\n",
       "      <td>0.02093</td>\n",
       "      <td>0.19113</td>\n",
       "    </tr>\n",
       "  </tbody>\n",
       "</table>\n",
       "</div>"
      ],
      "text/plain": [
       "           mean  volatility  sharpe_ratio\n",
       "GLD     0.01337     0.07316       0.18281\n",
       "active  0.00400     0.02093       0.19113"
      ]
     },
     "execution_count": 91,
     "metadata": {},
     "output_type": "execute_result"
    }
   ],
   "source": [
    "forecast_gld['active'] = b\n",
    "mean_vol_sharpe(forecast_gld)"
   ]
  },
  {
   "cell_type": "code",
   "execution_count": 92,
   "metadata": {},
   "outputs": [],
   "source": [
    "## Var, skewness, kurtosis, expected shortfall, maximum drawdown\n",
    "def risk_stats(data, q=0.05):\n",
    "    df = data.copy()\n",
    "    df.index = data.index.date\n",
    "    report = pd.DataFrame(columns = df.columns)\n",
    "    \n",
    "    report.loc['Skewness'] = df.skew()\n",
    "    report.loc['Excess Kurtosis'] = df.kurtosis()\n",
    "    report.loc['VaR (negated)'] = -df.quantile(q)\n",
    "    report.loc['Expected Shortfall (negated)'] = -df[df < df.quantile(q)].mean()\n",
    "    \n",
    "    cum_ret = (1 + df).cumprod()\n",
    "    rolling_max = cum_ret.cummax()\n",
    "    drawdown = (cum_ret - rolling_max) / rolling_max\n",
    "    report.loc['Max Drawdown'] = drawdown.min()\n",
    "    report.loc['MDD Start'] = None\n",
    "    report.loc['MDD End'] = drawdown.idxmin()\n",
    "    report.loc['Recovery Date'] = None\n",
    "    \n",
    "    for col in df.columns:\n",
    "        report.loc['MDD Start', col] = (rolling_max.loc[:report.loc['MDD End', col]])[col].idxmax()\n",
    "        recovery_df = (drawdown.loc[report.loc['MDD End', col]:])[col]\n",
    "        \n",
    "        try:\n",
    "            report.loc['Recovery Date', col] = recovery_df[recovery_df >= 0].index[0]\n",
    "\n",
    "        except:\n",
    "            report.loc['Recovery Date', col] = None\n",
    "            report.loc['Recovery period (days)'] = None\n",
    "    report.loc['Recovery period (days)'] = (report.loc['Recovery Date'] - report.loc['MDD Start']).dt.days\n",
    "    return round(report,4)\n",
    "\n",
    "#risk_stats(ltcm_ex).iloc[:3,1:4].T"
   ]
  },
  {
   "cell_type": "code",
   "execution_count": 96,
   "metadata": {},
   "outputs": [
    {
     "data": {
      "text/html": [
       "<div>\n",
       "<style scoped>\n",
       "    .dataframe tbody tr th:only-of-type {\n",
       "        vertical-align: middle;\n",
       "    }\n",
       "\n",
       "    .dataframe tbody tr th {\n",
       "        vertical-align: top;\n",
       "    }\n",
       "\n",
       "    .dataframe thead th {\n",
       "        text-align: right;\n",
       "    }\n",
       "</style>\n",
       "<table border=\"1\" class=\"dataframe\">\n",
       "  <thead>\n",
       "    <tr style=\"text-align: right;\">\n",
       "      <th></th>\n",
       "      <th>GLD</th>\n",
       "      <th>active</th>\n",
       "    </tr>\n",
       "  </thead>\n",
       "  <tbody>\n",
       "    <tr>\n",
       "      <th>Max Drawdown</th>\n",
       "      <td>-0.44745</td>\n",
       "      <td>-0.14257</td>\n",
       "    </tr>\n",
       "    <tr>\n",
       "      <th>MDD Start</th>\n",
       "      <td>2011-09-04</td>\n",
       "      <td>2011-09-04</td>\n",
       "    </tr>\n",
       "    <tr>\n",
       "      <th>MDD End</th>\n",
       "      <td>2015-11-29</td>\n",
       "      <td>2015-11-29</td>\n",
       "    </tr>\n",
       "    <tr>\n",
       "      <th>Recovery Date</th>\n",
       "      <td>2020-08-02</td>\n",
       "      <td>2020-05-17</td>\n",
       "    </tr>\n",
       "    <tr>\n",
       "      <th>Recovery period (days)</th>\n",
       "      <td>3255</td>\n",
       "      <td>3178</td>\n",
       "    </tr>\n",
       "  </tbody>\n",
       "</table>\n",
       "</div>"
      ],
      "text/plain": [
       "                               GLD      active\n",
       "Max Drawdown              -0.44745    -0.14257\n",
       "MDD Start               2011-09-04  2011-09-04\n",
       "MDD End                 2015-11-29  2015-11-29\n",
       "Recovery Date           2020-08-02  2020-05-17\n",
       "Recovery period (days)        3255        3178"
      ]
     },
     "execution_count": 96,
     "metadata": {},
     "output_type": "execute_result"
    }
   ],
   "source": [
    "risk_stats(forecast_gld).iloc[4:,:]"
   ]
  },
  {
   "cell_type": "markdown",
   "metadata": {},
   "source": [
    "# 4.4"
   ]
  },
  {
   "cell_type": "code",
   "execution_count": 152,
   "metadata": {},
   "outputs": [],
   "source": [
    "## SIMPLE REGRESSION\n",
    "\n",
    "def regress(y, X, intercept = True, annual_fac=12):\n",
    "    if intercept == True:\n",
    "        X_ = sm.add_constant(X)\n",
    "        reg = sm.OLS(y, X_).fit()\n",
    "        reg_df = reg.params.to_frame('Regression Parameters')\n",
    "        reg_df.loc['r-squared'] = reg.rsquared\n",
    "        reg_df.loc['const'] *= annual_fac\n",
    "        reg_df.loc['treynor ratio'] = y.mean()/reg_df.loc['GLD'][0]\n",
    "        reg_df.loc['information ratio'] = reg.params[0] * np.sqrt(annual_fac) / reg.resid.std()\n",
    "    else:\n",
    "        reg = sm.OLS(y, X).fit()\n",
    "        reg_df = reg.params.to_frame('Regression Parameters')\n",
    "        reg_df.loc['r-squared'] = reg.rsquared\n",
    "        reg_df.loc['treynor'] = reg_df.loc['const'][0]/reg_df.loc['const'][1]\n",
    "    \n",
    "    return reg_df"
   ]
  },
  {
   "cell_type": "code",
   "execution_count": 153,
   "metadata": {},
   "outputs": [
    {
     "data": {
      "text/html": [
       "<div>\n",
       "<style scoped>\n",
       "    .dataframe tbody tr th:only-of-type {\n",
       "        vertical-align: middle;\n",
       "    }\n",
       "\n",
       "    .dataframe tbody tr th {\n",
       "        vertical-align: top;\n",
       "    }\n",
       "\n",
       "    .dataframe thead th {\n",
       "        text-align: right;\n",
       "    }\n",
       "</style>\n",
       "<table border=\"1\" class=\"dataframe\">\n",
       "  <thead>\n",
       "    <tr style=\"text-align: right;\">\n",
       "      <th></th>\n",
       "      <th>Regression Parameters</th>\n",
       "    </tr>\n",
       "  </thead>\n",
       "  <tbody>\n",
       "    <tr>\n",
       "      <th>const</th>\n",
       "      <td>0.00012</td>\n",
       "    </tr>\n",
       "    <tr>\n",
       "      <th>GLD</th>\n",
       "      <td>0.28560</td>\n",
       "    </tr>\n",
       "    <tr>\n",
       "      <th>r-squared</th>\n",
       "      <td>0.99713</td>\n",
       "    </tr>\n",
       "    <tr>\n",
       "      <th>treynor ratio</th>\n",
       "      <td>0.00117</td>\n",
       "    </tr>\n",
       "    <tr>\n",
       "      <th>information ratio</th>\n",
       "      <td>0.10256</td>\n",
       "    </tr>\n",
       "  </tbody>\n",
       "</table>\n",
       "</div>"
      ],
      "text/plain": [
       "                   Regression Parameters\n",
       "const                            0.00012\n",
       "GLD                              0.28560\n",
       "r-squared                        0.99713\n",
       "treynor ratio                    0.00117\n",
       "information ratio                0.10256"
      ]
     },
     "execution_count": 153,
     "metadata": {},
     "output_type": "execute_result"
    }
   ],
   "source": [
    "# regress active on GLD\n",
    "forecast_gld = forecast_gld.dropna()\n",
    "regress(forecast_gld['active'], forecast_gld['GLD'], intercept = True, annual_fac=12)"
   ]
  },
  {
   "cell_type": "markdown",
   "metadata": {},
   "source": [
    "#### 4.5 Suppose we were going to forecast GLD using just one of our two signals. Which of the signals would likely lead to a result where the long-term forecast compounds the effect over long horizons, as we saw for forecasting SPY using dividend-price ratios? Explain."
   ]
  },
  {
   "cell_type": "markdown",
   "metadata": {},
   "source": [
    "The T-bill rate will compound over time as it is a constant rate. The change in T-bill will not compound over time."
   ]
  },
  {
   "cell_type": "markdown",
   "metadata": {},
   "source": [
    "## 4.6"
   ]
  },
  {
   "cell_type": "code",
   "execution_count": 160,
   "metadata": {},
   "outputs": [],
   "source": [
    "sigs = forecast[['Tbill rate','Tbill change']]\n",
    "\n",
    "sigs_lag = sigs.shift().dropna()\n",
    "\n",
    "sigs_lag, spy_aligned = sigs_lag.align(forecast[['GLD']], join='inner',axis=0)\n",
    "spy = pd.DataFrame(forecast['GLD'])\n",
    "spy = spy.loc[sigs_lag.index]"
   ]
  },
  {
   "cell_type": "code",
   "execution_count": 161,
   "metadata": {},
   "outputs": [
    {
     "data": {
      "text/html": [
       "<div>\n",
       "<style scoped>\n",
       "    .dataframe tbody tr th:only-of-type {\n",
       "        vertical-align: middle;\n",
       "    }\n",
       "\n",
       "    .dataframe tbody tr th {\n",
       "        vertical-align: top;\n",
       "    }\n",
       "\n",
       "    .dataframe thead th {\n",
       "        text-align: right;\n",
       "    }\n",
       "</style>\n",
       "<table border=\"1\" class=\"dataframe\">\n",
       "  <thead>\n",
       "    <tr style=\"text-align: right;\">\n",
       "      <th></th>\n",
       "      <th>Mean</th>\n",
       "      <th>Forecast</th>\n",
       "    </tr>\n",
       "    <tr>\n",
       "      <th>Date</th>\n",
       "      <th></th>\n",
       "      <th></th>\n",
       "    </tr>\n",
       "  </thead>\n",
       "  <tbody>\n",
       "    <tr>\n",
       "      <th>2009-05-03</th>\n",
       "      <td>0.05280</td>\n",
       "      <td>0.05280</td>\n",
       "    </tr>\n",
       "    <tr>\n",
       "      <th>2009-05-10</th>\n",
       "      <td>0.01097</td>\n",
       "      <td>0.02596</td>\n",
       "    </tr>\n",
       "    <tr>\n",
       "      <th>2009-05-17</th>\n",
       "      <td>0.01893</td>\n",
       "      <td>0.09583</td>\n",
       "    </tr>\n",
       "    <tr>\n",
       "      <th>2009-05-24</th>\n",
       "      <td>0.01856</td>\n",
       "      <td>0.04338</td>\n",
       "    </tr>\n",
       "    <tr>\n",
       "      <th>2009-05-31</th>\n",
       "      <td>0.02053</td>\n",
       "      <td>0.04850</td>\n",
       "    </tr>\n",
       "    <tr>\n",
       "      <th>...</th>\n",
       "      <td>...</td>\n",
       "      <td>...</td>\n",
       "    </tr>\n",
       "    <tr>\n",
       "      <th>2022-11-06</th>\n",
       "      <td>0.00105</td>\n",
       "      <td>0.00056</td>\n",
       "    </tr>\n",
       "    <tr>\n",
       "      <th>2022-11-13</th>\n",
       "      <td>0.00108</td>\n",
       "      <td>0.00111</td>\n",
       "    </tr>\n",
       "    <tr>\n",
       "      <th>2022-11-20</th>\n",
       "      <td>0.00115</td>\n",
       "      <td>0.00252</td>\n",
       "    </tr>\n",
       "    <tr>\n",
       "      <th>2022-11-27</th>\n",
       "      <td>0.00114</td>\n",
       "      <td>0.00219</td>\n",
       "    </tr>\n",
       "    <tr>\n",
       "      <th>2022-12-04</th>\n",
       "      <td>0.00114</td>\n",
       "      <td>0.00220</td>\n",
       "    </tr>\n",
       "  </tbody>\n",
       "</table>\n",
       "<p>710 rows × 2 columns</p>\n",
       "</div>"
      ],
      "text/plain": [
       "               Mean  Forecast\n",
       "Date                         \n",
       "2009-05-03  0.05280   0.05280\n",
       "2009-05-10  0.01097   0.02596\n",
       "2009-05-17  0.01893   0.09583\n",
       "2009-05-24  0.01856   0.04338\n",
       "2009-05-31  0.02053   0.04850\n",
       "...             ...       ...\n",
       "2022-11-06  0.00105   0.00056\n",
       "2022-11-13  0.00108   0.00111\n",
       "2022-11-20  0.00115   0.00252\n",
       "2022-11-27  0.00114   0.00219\n",
       "2022-12-04  0.00114   0.00220\n",
       "\n",
       "[710 rows x 2 columns]"
      ]
     },
     "execution_count": 161,
     "metadata": {},
     "output_type": "execute_result"
    }
   ],
   "source": [
    "# start predict one period earlier than we want the first forecast\n",
    "START_PREDICT = pd.to_datetime('1999-12-31')\n",
    "\n",
    "forecasts_OOS = pd.DataFrame(columns=['Forecast'],index=spy_aligned.index, dtype='float64')\n",
    "\n",
    "est = LinearRegression()\n",
    "\n",
    "Xlag = sigs_lag\n",
    "X = sigs\n",
    "y = spy_aligned\n",
    "\n",
    "for t in spy_aligned.loc[START_PREDICT:,:].index:\n",
    "    yt = y.loc[:t].values.reshape(-1,1)\n",
    "    Xlag_t = Xlag.loc[:t,:].values\n",
    "    x_t = X.loc[t,:].values.reshape(1,-1)\n",
    "\n",
    "    est.fit(Xlag_t,yt);\n",
    "    predval = est.predict(x_t)[0,0]\n",
    "\n",
    "    # this timing is assigning forecast to datestamp of info used to make the forecast\n",
    "    forecasts_OOS.loc[t,'Forecast'] = predval\n",
    "\n",
    "# make sure expanded mean (baseline forecast) uses all spy data, (spy, not spy_aligned)\n",
    "forecasts_OOS.insert(0,'Mean', spy.expanding().mean().dropna())\n",
    "\n",
    "# more convenient to have datestamp reflect date of the forecasted value\n",
    "forecasts_OOS = forecasts_OOS.shift(1).dropna()\n",
    "forecasts_OOS"
   ]
  },
  {
   "cell_type": "markdown",
   "metadata": {},
   "source": [
    "## 4.7 Report the out-of-sample R2, relative to a baseline forecast which is simply the mean of GLD up to the point the forecast is made."
   ]
  },
  {
   "cell_type": "code",
   "execution_count": 162,
   "metadata": {},
   "outputs": [],
   "source": [
    "def oos_rsquared(data,forecasts,null=None):\n",
    "    data = data.copy()\n",
    "    forecasts = forecasts.copy()\n",
    "    null = null.copy()\n",
    "    \n",
    "    # if no Null forecast given, use expanding mean\n",
    "    if null is None:\n",
    "        null = data.expanding().mean().shift()\n",
    "\n",
    "    # label Data and Null accordingly--input may be series or dataframe\n",
    "    if isinstance(null, pd.DataFrame):\n",
    "        null.columns = ['Null']\n",
    "    elif isinstance(null,pd.Series):\n",
    "        null.name = 'Null'\n",
    "    if isinstance(data, pd.DataFrame):\n",
    "        data.columns = ['Data']\n",
    "    elif isinstance(data,pd.Series):\n",
    "        data.name = 'Data'\n",
    "\n",
    "    # double check data is aligned and no NaN (null will have NaN in first value by default)\n",
    "    alldata = forecasts.join(data,how='inner',rsuffix='_Data').join(null,how='inner',rsuffix='_Null').dropna(axis=0)\n",
    "    null = alldata[['Null']]\n",
    "    data = alldata[['Data']]\n",
    "    forecasts = alldata.drop(columns=['Data','Null'])\n",
    "\n",
    "\n",
    "    # Forecast MSE\n",
    "    err_forecast = forecasts.subtract(data.values)\n",
    "    mse_forecast = (err_forecast**2).sum()\n",
    "\n",
    "    # Null MSE\n",
    "    err_null = null.subtract(data.values)\n",
    "    mse_null = (err_null**2).sum()\n",
    "\n",
    "    # OOS R-squared\n",
    "    r2oos = (1 - mse_forecast/mse_null.values).to_frame().T\n",
    "    r2oos.index = ['OOS-Rsquared']\n",
    "\n",
    "    return r2oos"
   ]
  },
  {
   "cell_type": "code",
   "execution_count": 163,
   "metadata": {},
   "outputs": [
    {
     "data": {
      "text/html": [
       "<div>\n",
       "<style scoped>\n",
       "    .dataframe tbody tr th:only-of-type {\n",
       "        vertical-align: middle;\n",
       "    }\n",
       "\n",
       "    .dataframe tbody tr th {\n",
       "        vertical-align: top;\n",
       "    }\n",
       "\n",
       "    .dataframe thead th {\n",
       "        text-align: right;\n",
       "    }\n",
       "</style>\n",
       "<table border=\"1\" class=\"dataframe\">\n",
       "  <thead>\n",
       "    <tr style=\"text-align: right;\">\n",
       "      <th></th>\n",
       "      <th>Mean</th>\n",
       "      <th>Forecast</th>\n",
       "    </tr>\n",
       "  </thead>\n",
       "  <tbody>\n",
       "    <tr>\n",
       "      <th>OOS-Rsquared</th>\n",
       "      <td>0.0</td>\n",
       "      <td>-0.08837</td>\n",
       "    </tr>\n",
       "  </tbody>\n",
       "</table>\n",
       "</div>"
      ],
      "text/plain": [
       "              Mean  Forecast\n",
       "OOS-Rsquared   0.0  -0.08837"
      ]
     },
     "execution_count": 163,
     "metadata": {},
     "output_type": "execute_result"
    }
   ],
   "source": [
    "spy_OOS, _ = spy.align(forecasts_OOS, join='right', axis=0)\n",
    "\n",
    "oos_rsquared(spy_OOS,forecasts_OOS,forecasts_OOS[['Mean']])"
   ]
  },
  {
   "cell_type": "markdown",
   "metadata": {},
   "source": [
    "### 4.8 Report the correlation between the two forecasts of SPY (regression based and the baseline forecast) with the actual realized value of SPY."
   ]
  },
  {
   "cell_type": "markdown",
   "metadata": {},
   "source": [
    "No neither of the forecast positively correlates. <br>\n",
    "This is more informative and the R-squared was close to 1"
   ]
  },
  {
   "cell_type": "code",
   "execution_count": 166,
   "metadata": {},
   "outputs": [
    {
     "data": {
      "text/html": [
       "<div>\n",
       "<style scoped>\n",
       "    .dataframe tbody tr th:only-of-type {\n",
       "        vertical-align: middle;\n",
       "    }\n",
       "\n",
       "    .dataframe tbody tr th {\n",
       "        vertical-align: top;\n",
       "    }\n",
       "\n",
       "    .dataframe thead th {\n",
       "        text-align: right;\n",
       "    }\n",
       "</style>\n",
       "<table border=\"1\" class=\"dataframe\">\n",
       "  <thead>\n",
       "    <tr style=\"text-align: right;\">\n",
       "      <th></th>\n",
       "      <th>Corr. to GLD</th>\n",
       "    </tr>\n",
       "  </thead>\n",
       "  <tbody>\n",
       "    <tr>\n",
       "      <th>Mean</th>\n",
       "      <td>-0.00566</td>\n",
       "    </tr>\n",
       "    <tr>\n",
       "      <th>Forecast</th>\n",
       "      <td>-0.00565</td>\n",
       "    </tr>\n",
       "  </tbody>\n",
       "</table>\n",
       "</div>"
      ],
      "text/plain": [
       "          Corr. to GLD\n",
       "Mean          -0.00566\n",
       "Forecast      -0.00565"
      ]
     },
     "execution_count": 166,
     "metadata": {},
     "output_type": "execute_result"
    }
   ],
   "source": [
    "corr_val = forecasts_OOS.corrwith(spy_OOS['GLD'])\n",
    "corr_val.to_frame('Corr. to GLD')"
   ]
  },
  {
   "cell_type": "markdown",
   "metadata": {},
   "source": [
    "## 4.9"
   ]
  },
  {
   "cell_type": "code",
   "execution_count": 167,
   "metadata": {},
   "outputs": [
    {
     "data": {
      "text/html": [
       "<div>\n",
       "<style scoped>\n",
       "    .dataframe tbody tr th:only-of-type {\n",
       "        vertical-align: middle;\n",
       "    }\n",
       "\n",
       "    .dataframe tbody tr th {\n",
       "        vertical-align: top;\n",
       "    }\n",
       "\n",
       "    .dataframe thead th {\n",
       "        text-align: right;\n",
       "    }\n",
       "</style>\n",
       "<table border=\"1\" class=\"dataframe\">\n",
       "  <thead>\n",
       "    <tr style=\"text-align: right;\">\n",
       "      <th></th>\n",
       "      <th>Passive</th>\n",
       "      <th>Mean</th>\n",
       "      <th>Forecast</th>\n",
       "    </tr>\n",
       "    <tr>\n",
       "      <th>Date</th>\n",
       "      <th></th>\n",
       "      <th></th>\n",
       "      <th></th>\n",
       "    </tr>\n",
       "  </thead>\n",
       "  <tbody>\n",
       "    <tr>\n",
       "      <th>2009-05-03</th>\n",
       "      <td>-0.03087</td>\n",
       "      <td>-0.13660</td>\n",
       "      <td>-0.13660</td>\n",
       "    </tr>\n",
       "    <tr>\n",
       "      <th>2009-05-10</th>\n",
       "      <td>0.03485</td>\n",
       "      <td>0.03754</td>\n",
       "      <td>0.07935</td>\n",
       "    </tr>\n",
       "    <tr>\n",
       "      <th>2009-05-17</th>\n",
       "      <td>0.01745</td>\n",
       "      <td>0.02991</td>\n",
       "      <td>0.13725</td>\n",
       "    </tr>\n",
       "    <tr>\n",
       "      <th>2009-05-24</th>\n",
       "      <td>0.02840</td>\n",
       "      <td>0.04784</td>\n",
       "      <td>0.10423</td>\n",
       "    </tr>\n",
       "    <tr>\n",
       "      <th>2009-05-31</th>\n",
       "      <td>0.02177</td>\n",
       "      <td>0.04011</td>\n",
       "      <td>0.08883</td>\n",
       "    </tr>\n",
       "    <tr>\n",
       "      <th>...</th>\n",
       "      <td>...</td>\n",
       "      <td>...</td>\n",
       "      <td>...</td>\n",
       "    </tr>\n",
       "    <tr>\n",
       "      <th>2022-11-06</th>\n",
       "      <td>0.02161</td>\n",
       "      <td>0.00614</td>\n",
       "      <td>0.00529</td>\n",
       "    </tr>\n",
       "    <tr>\n",
       "      <th>2022-11-13</th>\n",
       "      <td>0.05170</td>\n",
       "      <td>0.01482</td>\n",
       "      <td>0.01494</td>\n",
       "    </tr>\n",
       "    <tr>\n",
       "      <th>2022-11-20</th>\n",
       "      <td>-0.01076</td>\n",
       "      <td>-0.00314</td>\n",
       "      <td>-0.00432</td>\n",
       "    </tr>\n",
       "    <tr>\n",
       "      <th>2022-11-27</th>\n",
       "      <td>0.00264</td>\n",
       "      <td>0.00077</td>\n",
       "      <td>0.00099</td>\n",
       "    </tr>\n",
       "    <tr>\n",
       "      <th>2022-12-04</th>\n",
       "      <td>-0.00300</td>\n",
       "      <td>-0.00087</td>\n",
       "      <td>-0.00113</td>\n",
       "    </tr>\n",
       "  </tbody>\n",
       "</table>\n",
       "<p>710 rows × 3 columns</p>\n",
       "</div>"
      ],
      "text/plain": [
       "            Passive     Mean  Forecast\n",
       "Date                                  \n",
       "2009-05-03 -0.03087 -0.13660  -0.13660\n",
       "2009-05-10  0.03485  0.03754   0.07935\n",
       "2009-05-17  0.01745  0.02991   0.13725\n",
       "2009-05-24  0.02840  0.04784   0.10423\n",
       "2009-05-31  0.02177  0.04011   0.08883\n",
       "...             ...      ...       ...\n",
       "2022-11-06  0.02161  0.00614   0.00529\n",
       "2022-11-13  0.05170  0.01482   0.01494\n",
       "2022-11-20 -0.01076 -0.00314  -0.00432\n",
       "2022-11-27  0.00264  0.00077   0.00099\n",
       "2022-12-04 -0.00300 -0.00087  -0.00113\n",
       "\n",
       "[710 rows x 3 columns]"
      ]
     },
     "execution_count": 167,
     "metadata": {},
     "output_type": "execute_result"
    }
   ],
   "source": [
    "wts_OOS = 0.2 + 80 * forecasts_OOS\n",
    "fund_returns_OOS = wts_OOS * spy_OOS.values\n",
    "fund_returns_OOS.insert(0,'Passive', spy_OOS)\n",
    "fund_returns_OOS"
   ]
  },
  {
   "cell_type": "code",
   "execution_count": 168,
   "metadata": {},
   "outputs": [
    {
     "data": {
      "text/html": [
       "<div>\n",
       "<style scoped>\n",
       "    .dataframe tbody tr th:only-of-type {\n",
       "        vertical-align: middle;\n",
       "    }\n",
       "\n",
       "    .dataframe tbody tr th {\n",
       "        vertical-align: top;\n",
       "    }\n",
       "\n",
       "    .dataframe thead th {\n",
       "        text-align: right;\n",
       "    }\n",
       "</style>\n",
       "<table border=\"1\" class=\"dataframe\">\n",
       "  <thead>\n",
       "    <tr style=\"text-align: right;\">\n",
       "      <th></th>\n",
       "      <th>mean</th>\n",
       "      <th>volatility</th>\n",
       "      <th>sharpe_ratio</th>\n",
       "    </tr>\n",
       "  </thead>\n",
       "  <tbody>\n",
       "    <tr>\n",
       "      <th>Passive</th>\n",
       "      <td>0.01273</td>\n",
       "      <td>0.07293</td>\n",
       "      <td>0.17459</td>\n",
       "    </tr>\n",
       "    <tr>\n",
       "      <th>Mean</th>\n",
       "      <td>0.00484</td>\n",
       "      <td>0.03878</td>\n",
       "      <td>0.12468</td>\n",
       "    </tr>\n",
       "    <tr>\n",
       "      <th>Forecast</th>\n",
       "      <td>0.00559</td>\n",
       "      <td>0.07708</td>\n",
       "      <td>0.07249</td>\n",
       "    </tr>\n",
       "  </tbody>\n",
       "</table>\n",
       "</div>"
      ],
      "text/plain": [
       "             mean  volatility  sharpe_ratio\n",
       "Passive   0.01273     0.07293       0.17459\n",
       "Mean      0.00484     0.03878       0.12468\n",
       "Forecast  0.00559     0.07708       0.07249"
      ]
     },
     "execution_count": 168,
     "metadata": {},
     "output_type": "execute_result"
    }
   ],
   "source": [
    "mean_vol_sharpe(fund_returns_OOS)"
   ]
  },
  {
   "cell_type": "code",
   "execution_count": 170,
   "metadata": {},
   "outputs": [
    {
     "data": {
      "text/html": [
       "<div>\n",
       "<style scoped>\n",
       "    .dataframe tbody tr th:only-of-type {\n",
       "        vertical-align: middle;\n",
       "    }\n",
       "\n",
       "    .dataframe tbody tr th {\n",
       "        vertical-align: top;\n",
       "    }\n",
       "\n",
       "    .dataframe thead th {\n",
       "        text-align: right;\n",
       "    }\n",
       "</style>\n",
       "<table border=\"1\" class=\"dataframe\">\n",
       "  <thead>\n",
       "    <tr style=\"text-align: right;\">\n",
       "      <th></th>\n",
       "      <th>Passive</th>\n",
       "      <th>Mean</th>\n",
       "      <th>Forecast</th>\n",
       "    </tr>\n",
       "  </thead>\n",
       "  <tbody>\n",
       "    <tr>\n",
       "      <th>Max Drawdown</th>\n",
       "      <td>-0.44745</td>\n",
       "      <td>-0.23135</td>\n",
       "      <td>-0.45</td>\n",
       "    </tr>\n",
       "    <tr>\n",
       "      <th>MDD Start</th>\n",
       "      <td>2011-09-04</td>\n",
       "      <td>2011-09-04</td>\n",
       "      <td>2020-03-08</td>\n",
       "    </tr>\n",
       "    <tr>\n",
       "      <th>MDD End</th>\n",
       "      <td>2015-11-29</td>\n",
       "      <td>2015-11-29</td>\n",
       "      <td>2022-10-16</td>\n",
       "    </tr>\n",
       "    <tr>\n",
       "      <th>Recovery Date</th>\n",
       "      <td>2020-08-02</td>\n",
       "      <td>None</td>\n",
       "      <td>None</td>\n",
       "    </tr>\n",
       "    <tr>\n",
       "      <th>Recovery period (days)</th>\n",
       "      <td>3255.0</td>\n",
       "      <td>NaN</td>\n",
       "      <td>NaN</td>\n",
       "    </tr>\n",
       "  </tbody>\n",
       "</table>\n",
       "</div>"
      ],
      "text/plain": [
       "                           Passive        Mean    Forecast\n",
       "Max Drawdown              -0.44745    -0.23135       -0.45\n",
       "MDD Start               2011-09-04  2011-09-04  2020-03-08\n",
       "MDD End                 2015-11-29  2015-11-29  2022-10-16\n",
       "Recovery Date           2020-08-02        None        None\n",
       "Recovery period (days)      3255.0         NaN         NaN"
      ]
     },
     "execution_count": 170,
     "metadata": {},
     "output_type": "execute_result"
    }
   ],
   "source": [
    "risk_stats(fund_returns_OOS).iloc[4:,:]"
   ]
  },
  {
   "cell_type": "code",
   "execution_count": 172,
   "metadata": {},
   "outputs": [],
   "source": [
    "## SIMPLE REGRESSION\n",
    "\n",
    "def regress(y, X, intercept = True, annual_fac=12):\n",
    "    if intercept == True:\n",
    "        X_ = sm.add_constant(X)\n",
    "        reg = sm.OLS(y, X_).fit()\n",
    "        reg_df = reg.params.to_frame('Regression Parameters')\n",
    "        reg_df.loc['r-squared'] = reg.rsquared\n",
    "        reg_df.loc['const'] *= annual_fac\n",
    "        reg_df.loc['treynor ratio'] = y.mean()/reg.params[1]\n",
    "        reg_df.loc['information ratio'] = reg.params[0] * np.sqrt(annual_fac) / reg.resid.std()\n",
    "    else:\n",
    "        reg = sm.OLS(y, X).fit()\n",
    "        reg_df = reg.params.to_frame('Regression Parameters')\n",
    "        reg_df.loc['r-squared'] = reg.rsquared\n",
    "        reg_df.loc['treynor'] = reg_df.loc['const'][0]/reg_df.loc['const'][1]\n",
    "    \n",
    "    return reg_df"
   ]
  },
  {
   "cell_type": "code",
   "execution_count": 173,
   "metadata": {},
   "outputs": [
    {
     "data": {
      "text/html": [
       "<div>\n",
       "<style scoped>\n",
       "    .dataframe tbody tr th:only-of-type {\n",
       "        vertical-align: middle;\n",
       "    }\n",
       "\n",
       "    .dataframe tbody tr th {\n",
       "        vertical-align: top;\n",
       "    }\n",
       "\n",
       "    .dataframe thead th {\n",
       "        text-align: right;\n",
       "    }\n",
       "</style>\n",
       "<table border=\"1\" class=\"dataframe\">\n",
       "  <thead>\n",
       "    <tr style=\"text-align: right;\">\n",
       "      <th></th>\n",
       "      <th>Regression Parameters</th>\n",
       "    </tr>\n",
       "  </thead>\n",
       "  <tbody>\n",
       "    <tr>\n",
       "      <th>const</th>\n",
       "      <td>-2.68385e-17</td>\n",
       "    </tr>\n",
       "    <tr>\n",
       "      <th>Passive</th>\n",
       "      <td>1.00000e+00</td>\n",
       "    </tr>\n",
       "    <tr>\n",
       "      <th>Mean</th>\n",
       "      <td>1.34346e-15</td>\n",
       "    </tr>\n",
       "    <tr>\n",
       "      <th>Forecast</th>\n",
       "      <td>2.19745e-16</td>\n",
       "    </tr>\n",
       "    <tr>\n",
       "      <th>r-squared</th>\n",
       "      <td>1.00000e+00</td>\n",
       "    </tr>\n",
       "    <tr>\n",
       "      <th>treynor ratio</th>\n",
       "      <td>NaN</td>\n",
       "    </tr>\n",
       "    <tr>\n",
       "      <th>information ratio</th>\n",
       "      <td>-2.17610e-01</td>\n",
       "    </tr>\n",
       "  </tbody>\n",
       "</table>\n",
       "</div>"
      ],
      "text/plain": [
       "                   Regression Parameters\n",
       "const                       -2.68385e-17\n",
       "Passive                      1.00000e+00\n",
       "Mean                         1.34346e-15\n",
       "Forecast                     2.19745e-16\n",
       "r-squared                    1.00000e+00\n",
       "treynor ratio                        NaN\n",
       "information ratio           -2.17610e-01"
      ]
     },
     "execution_count": 173,
     "metadata": {},
     "output_type": "execute_result"
    }
   ],
   "source": [
    "regress(spy_OOS,fund_returns_OOS, intercept = True, annual_fac=12)"
   ]
  },
  {
   "cell_type": "markdown",
   "metadata": {},
   "source": [
    "# Question 5 FX Carry (40pts)"
   ]
  },
  {
   "cell_type": "code",
   "execution_count": 103,
   "metadata": {},
   "outputs": [
    {
     "data": {
      "text/html": [
       "<div>\n",
       "<style scoped>\n",
       "    .dataframe tbody tr th:only-of-type {\n",
       "        vertical-align: middle;\n",
       "    }\n",
       "\n",
       "    .dataframe tbody tr th {\n",
       "        vertical-align: top;\n",
       "    }\n",
       "\n",
       "    .dataframe thead th {\n",
       "        text-align: right;\n",
       "    }\n",
       "</style>\n",
       "<table border=\"1\" class=\"dataframe\">\n",
       "  <thead>\n",
       "    <tr style=\"text-align: right;\">\n",
       "      <th></th>\n",
       "      <th>GBP</th>\n",
       "      <th>SOFR</th>\n",
       "      <th>SONIA</th>\n",
       "    </tr>\n",
       "    <tr>\n",
       "      <th>DATE</th>\n",
       "      <th></th>\n",
       "      <th></th>\n",
       "      <th></th>\n",
       "    </tr>\n",
       "  </thead>\n",
       "  <tbody>\n",
       "    <tr>\n",
       "      <th>2018-04-03</th>\n",
       "      <td>1.4068</td>\n",
       "      <td>0.0183</td>\n",
       "      <td>0.00465</td>\n",
       "    </tr>\n",
       "    <tr>\n",
       "      <th>2018-04-04</th>\n",
       "      <td>1.4076</td>\n",
       "      <td>0.0174</td>\n",
       "      <td>0.00462</td>\n",
       "    </tr>\n",
       "    <tr>\n",
       "      <th>2018-04-05</th>\n",
       "      <td>1.3991</td>\n",
       "      <td>0.0175</td>\n",
       "      <td>0.00465</td>\n",
       "    </tr>\n",
       "    <tr>\n",
       "      <th>2018-04-06</th>\n",
       "      <td>1.4088</td>\n",
       "      <td>0.0175</td>\n",
       "      <td>0.00467</td>\n",
       "    </tr>\n",
       "    <tr>\n",
       "      <th>2018-04-09</th>\n",
       "      <td>1.4136</td>\n",
       "      <td>0.0175</td>\n",
       "      <td>0.00465</td>\n",
       "    </tr>\n",
       "  </tbody>\n",
       "</table>\n",
       "</div>"
      ],
      "text/plain": [
       "               GBP    SOFR    SONIA\n",
       "DATE                               \n",
       "2018-04-03  1.4068  0.0183  0.00465\n",
       "2018-04-04  1.4076  0.0174  0.00462\n",
       "2018-04-05  1.3991  0.0175  0.00465\n",
       "2018-04-06  1.4088  0.0175  0.00467\n",
       "2018-04-09  1.4136  0.0175  0.00465"
      ]
     },
     "execution_count": 103,
     "metadata": {},
     "output_type": "execute_result"
    }
   ],
   "source": [
    "fx = pd.read_excel('final_exam_data.xlsx',3, index_col=0)\n",
    "fx.head()"
   ]
  },
  {
   "cell_type": "markdown",
   "metadata": {},
   "source": [
    "## 5.1"
   ]
  },
  {
   "cell_type": "code",
   "execution_count": 105,
   "metadata": {},
   "outputs": [
    {
     "data": {
      "text/html": [
       "<div>\n",
       "<style scoped>\n",
       "    .dataframe tbody tr th:only-of-type {\n",
       "        vertical-align: middle;\n",
       "    }\n",
       "\n",
       "    .dataframe tbody tr th {\n",
       "        vertical-align: top;\n",
       "    }\n",
       "\n",
       "    .dataframe thead th {\n",
       "        text-align: right;\n",
       "    }\n",
       "</style>\n",
       "<table border=\"1\" class=\"dataframe\">\n",
       "  <thead>\n",
       "    <tr style=\"text-align: right;\">\n",
       "      <th></th>\n",
       "      <th>GBP</th>\n",
       "    </tr>\n",
       "    <tr>\n",
       "      <th>DATE</th>\n",
       "      <th></th>\n",
       "    </tr>\n",
       "  </thead>\n",
       "  <tbody>\n",
       "    <tr>\n",
       "      <th>2018-04-03</th>\n",
       "      <td>0.34132</td>\n",
       "    </tr>\n",
       "    <tr>\n",
       "      <th>2018-04-04</th>\n",
       "      <td>0.34189</td>\n",
       "    </tr>\n",
       "    <tr>\n",
       "      <th>2018-04-05</th>\n",
       "      <td>0.33583</td>\n",
       "    </tr>\n",
       "    <tr>\n",
       "      <th>2018-04-06</th>\n",
       "      <td>0.34274</td>\n",
       "    </tr>\n",
       "    <tr>\n",
       "      <th>2018-04-09</th>\n",
       "      <td>0.34614</td>\n",
       "    </tr>\n",
       "    <tr>\n",
       "      <th>...</th>\n",
       "      <td>...</td>\n",
       "    </tr>\n",
       "    <tr>\n",
       "      <th>2022-11-18</th>\n",
       "      <td>0.17412</td>\n",
       "    </tr>\n",
       "    <tr>\n",
       "      <th>2022-11-21</th>\n",
       "      <td>0.16424</td>\n",
       "    </tr>\n",
       "    <tr>\n",
       "      <th>2022-11-22</th>\n",
       "      <td>0.17227</td>\n",
       "    </tr>\n",
       "    <tr>\n",
       "      <th>2022-11-23</th>\n",
       "      <td>0.18565</td>\n",
       "    </tr>\n",
       "    <tr>\n",
       "      <th>2022-11-25</th>\n",
       "      <td>0.19079</td>\n",
       "    </tr>\n",
       "  </tbody>\n",
       "</table>\n",
       "<p>1129 rows × 1 columns</p>\n",
       "</div>"
      ],
      "text/plain": [
       "                GBP\n",
       "DATE               \n",
       "2018-04-03  0.34132\n",
       "2018-04-04  0.34189\n",
       "2018-04-05  0.33583\n",
       "2018-04-06  0.34274\n",
       "2018-04-09  0.34614\n",
       "...             ...\n",
       "2022-11-18  0.17412\n",
       "2022-11-21  0.16424\n",
       "2022-11-22  0.17227\n",
       "2022-11-23  0.18565\n",
       "2022-11-25  0.19079\n",
       "\n",
       "[1129 rows x 1 columns]"
      ]
     },
     "execution_count": 105,
     "metadata": {},
     "output_type": "execute_result"
    }
   ],
   "source": [
    "fx_1 = pd.DataFrame(fx['GBP'])\n",
    "log_fx = np.log(fx_1)\n",
    "\n",
    "rf = pd.DataFrame(fx[['SOFR','SONIA']])\n",
    "log_rf = np.log(1+rf)\n"
   ]
  },
  {
   "cell_type": "code",
   "execution_count": 106,
   "metadata": {},
   "outputs": [
    {
     "data": {
      "text/html": [
       "<div>\n",
       "<style scoped>\n",
       "    .dataframe tbody tr th:only-of-type {\n",
       "        vertical-align: middle;\n",
       "    }\n",
       "\n",
       "    .dataframe tbody tr th {\n",
       "        vertical-align: top;\n",
       "    }\n",
       "\n",
       "    .dataframe thead th {\n",
       "        text-align: right;\n",
       "    }\n",
       "</style>\n",
       "<table border=\"1\" class=\"dataframe\">\n",
       "  <thead>\n",
       "    <tr style=\"text-align: right;\">\n",
       "      <th></th>\n",
       "      <th>Mean</th>\n",
       "    </tr>\n",
       "  </thead>\n",
       "  <tbody>\n",
       "    <tr>\n",
       "      <th>GBP</th>\n",
       "      <td>0.26008</td>\n",
       "    </tr>\n",
       "    <tr>\n",
       "      <th>SOFR</th>\n",
       "      <td>0.01135</td>\n",
       "    </tr>\n",
       "    <tr>\n",
       "      <th>SONIA</th>\n",
       "      <td>0.00531</td>\n",
       "    </tr>\n",
       "  </tbody>\n",
       "</table>\n",
       "</div>"
      ],
      "text/plain": [
       "          Mean\n",
       "GBP    0.26008\n",
       "SOFR   0.01135\n",
       "SONIA  0.00531"
      ]
     },
     "execution_count": 106,
     "metadata": {},
     "output_type": "execute_result"
    }
   ],
   "source": [
    "# Display the mean of all three series.\n",
    "log_fx.mean().to_frame('Mean').append(log_rf.mean().to_frame('Mean'))"
   ]
  },
  {
   "cell_type": "markdown",
   "metadata": {},
   "source": [
    "#### 5.2 (3pts) If we assume the Uncovered Interest Parity to hold true, what would you expect from the (static, passive) return to GBP?\n",
    "\n",
    "Ans 5.2 - Proving UIP (Uncovered interest Parity) works\n",
    "  - example $ S_{t+1} - S_{t} = \\alpha + \\beta (r^\\$ - r^{foregin})  + \\epsilon $\n",
    "  - we expect $\\alpha$ to be 0 and $\\beta$ to be 1. and epsilon is $N(0,1)$\n",
    "  - It not true, can do trading strategy involving the two currencies, called the CARRY TRADE.\n",
    "  - Carry Trade\n",
    "  - At time t: Borrow at the risk-free rate in USD. Convert USD to GBP. Buy risk-free assets in GBP\n",
    "  - At time t+1: Close risk-free assets in GBP, convert GBP to USD, return the borrowed amount"
   ]
  },
  {
   "cell_type": "markdown",
   "metadata": {},
   "source": [
    "#### 5.3 Calculate the excess log return to a USD investor of holding GBP. Report the following annualized stats..."
   ]
  },
  {
   "cell_type": "code",
   "execution_count": 111,
   "metadata": {},
   "outputs": [
    {
     "data": {
      "text/html": [
       "<div>\n",
       "<style scoped>\n",
       "    .dataframe tbody tr th:only-of-type {\n",
       "        vertical-align: middle;\n",
       "    }\n",
       "\n",
       "    .dataframe tbody tr th {\n",
       "        vertical-align: top;\n",
       "    }\n",
       "\n",
       "    .dataframe thead th {\n",
       "        text-align: right;\n",
       "    }\n",
       "</style>\n",
       "<table border=\"1\" class=\"dataframe\">\n",
       "  <thead>\n",
       "    <tr style=\"text-align: right;\">\n",
       "      <th></th>\n",
       "      <th>mean</th>\n",
       "      <th>volatility</th>\n",
       "      <th>sharpe_ratio</th>\n",
       "    </tr>\n",
       "  </thead>\n",
       "  <tbody>\n",
       "    <tr>\n",
       "      <th>GBP excess return</th>\n",
       "      <td>-0.07411</td>\n",
       "      <td>0.03281</td>\n",
       "      <td>-2.25846</td>\n",
       "    </tr>\n",
       "  </tbody>\n",
       "</table>\n",
       "</div>"
      ],
      "text/plain": [
       "                      mean  volatility  sharpe_ratio\n",
       "GBP excess return -0.07411     0.03281      -2.25846"
      ]
     },
     "execution_count": 111,
     "metadata": {},
     "output_type": "execute_result"
    }
   ],
   "source": [
    "logrfspread = (log_rf['SOFR'] - log_rf['SONIA']).shift(1).rename('RF spread')\n",
    "logfxgrowth = log_fx['GBP'].diff().rename('GBP Growth')\n",
    "\n",
    "logrx = (logfxgrowth - logrfspread).to_frame('GBP excess return')\n",
    "\n",
    "mean_vol_sharpe(logrx)"
   ]
  },
  {
   "cell_type": "markdown",
   "metadata": {},
   "source": [
    "#### 5.4 Over the sample, was it better to be long or short GBP relative to USD?"
   ]
  },
  {
   "cell_type": "code",
   "execution_count": 112,
   "metadata": {},
   "outputs": [
    {
     "data": {
      "text/plain": [
       "GBP Growth          -0.00013\n",
       "RF spread            0.00604\n",
       "GBP excess return   -0.00618\n",
       "dtype: float64"
      ]
     },
     "execution_count": 112,
     "metadata": {},
     "output_type": "execute_result"
    }
   ],
   "source": [
    "fxcomponents = pd.concat([logfxgrowth, logrfspread, logrx], axis=1)\n",
    "fxcomponents.mean()"
   ]
  },
  {
   "cell_type": "markdown",
   "metadata": {},
   "source": [
    "And 5.4\n",
    "- We see negative GBP excess returns. The GBP-USD rf spread is postive on average, which indicates GBP rates are higher on average. The interest spread did not help enough as we still see negative GBP excess returns.\n",
    "- Also, the GBP growth was negative on average, which means the USD was appreciating against the GBP."
   ]
  },
  {
   "cell_type": "markdown",
   "metadata": {},
   "source": [
    "### 5.5"
   ]
  },
  {
   "cell_type": "code",
   "execution_count": 115,
   "metadata": {},
   "outputs": [
    {
     "data": {
      "text/html": [
       "<style type=\"text/css\">\n",
       "</style>\n",
       "<table id=\"T_16636_\">\n",
       "  <thead>\n",
       "    <tr>\n",
       "      <th class=\"blank level0\" >&nbsp;</th>\n",
       "      <th class=\"col_heading level0 col0\" >RfUSD</th>\n",
       "    </tr>\n",
       "  </thead>\n",
       "  <tbody>\n",
       "    <tr>\n",
       "      <th id=\"T_16636_level0_row0\" class=\"row_heading level0 row0\" >Probability of Underperforming</th>\n",
       "      <td id=\"T_16636_row0_col0\" class=\"data row0 col0\" >100.00%</td>\n",
       "    </tr>\n",
       "  </tbody>\n",
       "</table>\n"
      ],
      "text/plain": [
       "<pandas.io.formats.style.Styler at 0x14ae328e0>"
      ]
     },
     "execution_count": 115,
     "metadata": {},
     "output_type": "execute_result"
    }
   ],
   "source": [
    "import scipy.stats as scistats\n",
    "\n",
    "YRS = 5\n",
    "PERYR = 12\n",
    "\n",
    "mu_tilde = logrx.mean()\n",
    "sigma_tilde = logrx.std()\n",
    "prob_rx = scistats.norm.cdf(-np.sqrt(YRS*PERYR)*(mu_tilde/sigma_tilde))[0]\n",
    "underperform = pd.DataFrame(prob_rx, columns=['RfUSD'],index=['Probability of Underperforming'])\n",
    "underperform.style.format('{:.2%}')"
   ]
  },
  {
   "cell_type": "markdown",
   "metadata": {},
   "source": [
    "# 5.6"
   ]
  },
  {
   "cell_type": "code",
   "execution_count": 117,
   "metadata": {},
   "outputs": [
    {
     "data": {
      "text/html": [
       "<div>\n",
       "<style scoped>\n",
       "    .dataframe tbody tr th:only-of-type {\n",
       "        vertical-align: middle;\n",
       "    }\n",
       "\n",
       "    .dataframe tbody tr th {\n",
       "        vertical-align: top;\n",
       "    }\n",
       "\n",
       "    .dataframe thead th {\n",
       "        text-align: right;\n",
       "    }\n",
       "</style>\n",
       "<table border=\"1\" class=\"dataframe\">\n",
       "  <thead>\n",
       "    <tr style=\"text-align: right;\">\n",
       "      <th></th>\n",
       "      <th>alpha</th>\n",
       "      <th>beta</th>\n",
       "      <th>r-squared</th>\n",
       "    </tr>\n",
       "  </thead>\n",
       "  <tbody>\n",
       "    <tr>\n",
       "      <th>GBP Growth</th>\n",
       "      <td>-0.00007</td>\n",
       "      <td>-0.01064</td>\n",
       "      <td>0.00016</td>\n",
       "    </tr>\n",
       "  </tbody>\n",
       "</table>\n",
       "</div>"
      ],
      "text/plain": [
       "              alpha     beta  r-squared\n",
       "GBP Growth -0.00007 -0.01064    0.00016"
      ]
     },
     "execution_count": 117,
     "metadata": {},
     "output_type": "execute_result"
    }
   ],
   "source": [
    "y, X  = logfxgrowth.to_frame().dropna().align(logrfspread.to_frame().dropna(),join='inner',axis=0)\n",
    "mod = LinearRegression().fit(X,y)\n",
    "\n",
    "FXpredictOLS = pd.DataFrame(\n",
    "    {'alpha':mod.intercept_[0],\n",
    "     'beta':mod.coef_[0,0],\n",
    "     'r-squared':mod.score(X,y)},\n",
    "    index=['GBP Growth'])\n",
    "\n",
    "FXpredictOLS"
   ]
  },
  {
   "cell_type": "markdown",
   "metadata": {},
   "source": [
    "### 5.7 If we assume the Uncovered Interest Parity to hold true, what would you expect to be true of the regression estimates?"
   ]
  },
  {
   "cell_type": "markdown",
   "metadata": {},
   "source": [
    " $ S_{t+1} - S_{t} = \\alpha + \\beta (r^\\$ - r^{foregin})  + \\epsilon $\n",
    "  - we expect $\\alpha$ to be 0 and $\\beta$ to be 1\n",
    "  - It not true, can do trading strategy involving the two currencies."
   ]
  },
  {
   "cell_type": "markdown",
   "metadata": {},
   "source": [
    "### 5.8 Based on the regression results, if we observe an increase in the interest rate on GBP relative to USD, should we expect the USD to get stronger (appreciate) or weaker (depreciate)?"
   ]
  },
  {
   "cell_type": "markdown",
   "metadata": {},
   "source": [
    "Ans 5.8 If regressor goes down ($r^\\$ - r^{foreign}$), then\n",
    "GBP (negative $\\beta$) increase relative to US. That is the USD should depreciate."
   ]
  },
  {
   "cell_type": "markdown",
   "metadata": {},
   "source": [
    "### 5.9 If the risk free rates in USD increase relative to risk-free rates in GBP, we expect the forward exchange rate to be higher than the spot exchange rate?"
   ]
  },
  {
   "cell_type": "markdown",
   "metadata": {},
   "source": [
    "Ans 5.9 - If the risk free rates in USD increase relative to risk-free rates in GBP, we expect the forward exchange rate to be higher than the spot exchange rate. This is because the forward exchange rate is the spot exchange rate plus the interest rate differential. If the interest rate differential increases, then the forward exchange rate will increase."
   ]
  },
  {
   "cell_type": "markdown",
   "metadata": {},
   "source": [
    "#### 5.10 Based on the regression results, construct an in-sample forecast of the excess log return to holding GBP. Report the forecasted values for the first 5 and last 5 dates."
   ]
  }
 ],
 "metadata": {
  "kernelspec": {
   "display_name": "Python 3.9.7 ('base')",
   "language": "python",
   "name": "python3"
  },
  "language_info": {
   "codemirror_mode": {
    "name": "ipython",
    "version": 3
   },
   "file_extension": ".py",
   "mimetype": "text/x-python",
   "name": "python",
   "nbconvert_exporter": "python",
   "pygments_lexer": "ipython3",
   "version": "3.9.7"
  },
  "orig_nbformat": 4,
  "vscode": {
   "interpreter": {
    "hash": "5e62c483ecf48ad4e1bb5f903abeb626d4ffc56eab47e05d9eff835eeb907be7"
   }
  }
 },
 "nbformat": 4,
 "nbformat_minor": 2
}
