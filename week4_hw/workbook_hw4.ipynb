{
 "cells": [
  {
   "cell_type": "code",
   "execution_count": 1,
   "metadata": {},
   "outputs": [],
   "source": [
    "import pandas as pd\n",
    "import numpy as np\n",
    "import matplotlib.pyplot as plt\n",
    "import statsmodels.api as sm\n",
    "from sklearn import linear_model\n",
    "import scipy.stats as stats\n",
    "import seaborn as sns\n",
    "import warnings\n",
    "warnings.filterwarnings(\"ignore\")\n",
    "pd.set_option(\"display.precision\", 4)"
   ]
  },
  {
   "cell_type": "code",
   "execution_count": 11,
   "metadata": {},
   "outputs": [],
   "source": [
    "def mean_vol_sharpe_var(df,ann=12):\n",
    "    mean = df.mean() * ann\n",
    "    volatility = df.std() * np.sqrt(ann)\n",
    "    sharpe_ratio = mean/volatility\n",
    "    var = df.quantile(0.05)\n",
    "    return pd.DataFrame({'mean': mean, 'volatility': volatility, 'sharpe_ratio': sharpe_ratio, 'var': var})"
   ]
  },
  {
   "cell_type": "code",
   "execution_count": 26,
   "metadata": {},
   "outputs": [
    {
     "data": {
      "text/html": [
       "<div>\n",
       "<style scoped>\n",
       "    .dataframe tbody tr th:only-of-type {\n",
       "        vertical-align: middle;\n",
       "    }\n",
       "\n",
       "    .dataframe tbody tr th {\n",
       "        vertical-align: top;\n",
       "    }\n",
       "\n",
       "    .dataframe thead th {\n",
       "        text-align: right;\n",
       "    }\n",
       "</style>\n",
       "<table border=\"1\" class=\"dataframe\">\n",
       "  <thead>\n",
       "    <tr style=\"text-align: right;\">\n",
       "      <th></th>\n",
       "      <th>Name</th>\n",
       "      <th>Unit</th>\n",
       "      <th>Construction</th>\n",
       "      <th>Description</th>\n",
       "    </tr>\n",
       "  </thead>\n",
       "  <tbody>\n",
       "    <tr>\n",
       "      <th>Mkt-RF</th>\n",
       "      <td>Market</td>\n",
       "      <td>Excess Return</td>\n",
       "      <td>Market-cap-weighted</td>\n",
       "      <td>US Equities</td>\n",
       "    </tr>\n",
       "    <tr>\n",
       "      <th>SMB</th>\n",
       "      <td>Size</td>\n",
       "      <td>Excess Return</td>\n",
       "      <td>Small Minus Big</td>\n",
       "      <td>Long small stocks and short big stocks</td>\n",
       "    </tr>\n",
       "    <tr>\n",
       "      <th>HML</th>\n",
       "      <td>Value</td>\n",
       "      <td>Excess Return</td>\n",
       "      <td>High Minus Low</td>\n",
       "      <td>Long value (high book-to-market) stocks and sh...</td>\n",
       "    </tr>\n",
       "    <tr>\n",
       "      <th>RF</th>\n",
       "      <td>Risk-free rate</td>\n",
       "      <td>Total Return</td>\n",
       "      <td>Tbills</td>\n",
       "      <td>NaN</td>\n",
       "    </tr>\n",
       "  </tbody>\n",
       "</table>\n",
       "</div>"
      ],
      "text/plain": [
       "                  Name           Unit         Construction  \\\n",
       "Mkt-RF          Market  Excess Return  Market-cap-weighted   \n",
       "SMB               Size  Excess Return      Small Minus Big   \n",
       "HML              Value  Excess Return       High Minus Low   \n",
       "RF      Risk-free rate   Total Return               Tbills   \n",
       "\n",
       "                                              Description  \n",
       "Mkt-RF                                        US Equities  \n",
       "SMB                Long small stocks and short big stocks  \n",
       "HML     Long value (high book-to-market) stocks and sh...  \n",
       "RF                                                    NaN  "
      ]
     },
     "execution_count": 26,
     "metadata": {},
     "output_type": "execute_result"
    }
   ],
   "source": [
    "df_desc = pd.read_excel(\"dfa_analysis_data.xlsx\",0, index_col=0)\n",
    "df_desc"
   ]
  },
  {
   "cell_type": "code",
   "execution_count": 13,
   "metadata": {},
   "outputs": [
    {
     "data": {
      "text/html": [
       "<div>\n",
       "<style scoped>\n",
       "    .dataframe tbody tr th:only-of-type {\n",
       "        vertical-align: middle;\n",
       "    }\n",
       "\n",
       "    .dataframe tbody tr th {\n",
       "        vertical-align: top;\n",
       "    }\n",
       "\n",
       "    .dataframe thead th {\n",
       "        text-align: right;\n",
       "    }\n",
       "</style>\n",
       "<table border=\"1\" class=\"dataframe\">\n",
       "  <thead>\n",
       "    <tr style=\"text-align: right;\">\n",
       "      <th></th>\n",
       "      <th>Mkt-RF</th>\n",
       "      <th>SMB</th>\n",
       "      <th>HML</th>\n",
       "      <th>RF</th>\n",
       "    </tr>\n",
       "    <tr>\n",
       "      <th>Date</th>\n",
       "      <th></th>\n",
       "      <th></th>\n",
       "      <th></th>\n",
       "      <th></th>\n",
       "    </tr>\n",
       "  </thead>\n",
       "  <tbody>\n",
       "    <tr>\n",
       "      <th>2022-07-31</th>\n",
       "      <td>0.0957</td>\n",
       "      <td>0.0281</td>\n",
       "      <td>-0.0410</td>\n",
       "      <td>0.0008</td>\n",
       "    </tr>\n",
       "    <tr>\n",
       "      <th>2022-08-31</th>\n",
       "      <td>-0.0378</td>\n",
       "      <td>0.0139</td>\n",
       "      <td>0.0031</td>\n",
       "      <td>0.0019</td>\n",
       "    </tr>\n",
       "  </tbody>\n",
       "</table>\n",
       "</div>"
      ],
      "text/plain": [
       "            Mkt-RF     SMB     HML      RF\n",
       "Date                                      \n",
       "2022-07-31  0.0957  0.0281 -0.0410  0.0008\n",
       "2022-08-31 -0.0378  0.0139  0.0031  0.0019"
      ]
     },
     "execution_count": 13,
     "metadata": {},
     "output_type": "execute_result"
    }
   ],
   "source": [
    "df = pd.read_excel(\"dfa_analysis_data.xlsx\",1, index_col=0)\n",
    "df.index = pd.to_datetime(df.index)\n",
    "df.tail(2)"
   ]
  },
  {
   "cell_type": "code",
   "execution_count": 32,
   "metadata": {},
   "outputs": [
    {
     "data": {
      "text/html": [
       "<div>\n",
       "<style scoped>\n",
       "    .dataframe tbody tr th:only-of-type {\n",
       "        vertical-align: middle;\n",
       "    }\n",
       "\n",
       "    .dataframe tbody tr th {\n",
       "        vertical-align: top;\n",
       "    }\n",
       "\n",
       "    .dataframe thead th {\n",
       "        text-align: right;\n",
       "    }\n",
       "</style>\n",
       "<table border=\"1\" class=\"dataframe\">\n",
       "  <thead>\n",
       "    <tr style=\"text-align: right;\">\n",
       "      <th></th>\n",
       "      <th>Mkt-RF</th>\n",
       "      <th>SMB</th>\n",
       "      <th>HML</th>\n",
       "    </tr>\n",
       "    <tr>\n",
       "      <th>Date</th>\n",
       "      <th></th>\n",
       "      <th></th>\n",
       "      <th></th>\n",
       "    </tr>\n",
       "  </thead>\n",
       "  <tbody>\n",
       "    <tr>\n",
       "      <th>1926-07-31</th>\n",
       "      <td>0.0296</td>\n",
       "      <td>-0.0256</td>\n",
       "      <td>-0.0243</td>\n",
       "    </tr>\n",
       "    <tr>\n",
       "      <th>1926-08-31</th>\n",
       "      <td>0.0264</td>\n",
       "      <td>-0.0117</td>\n",
       "      <td>0.0382</td>\n",
       "    </tr>\n",
       "  </tbody>\n",
       "</table>\n",
       "</div>"
      ],
      "text/plain": [
       "            Mkt-RF     SMB     HML\n",
       "Date                              \n",
       "1926-07-31  0.0296 -0.0256 -0.0243\n",
       "1926-08-31  0.0264 -0.0117  0.0382"
      ]
     },
     "execution_count": 32,
     "metadata": {},
     "output_type": "execute_result"
    }
   ],
   "source": [
    "factor = df.drop(['RF'],axis=1)\n",
    "factor.head(2)"
   ]
  },
  {
   "cell_type": "markdown",
   "metadata": {},
   "source": [
    "# 2 The Factors"
   ]
  },
  {
   "cell_type": "markdown",
   "metadata": {},
   "source": [
    "#### DFA believes certain stocks have higher expected excess returns. In addition to the overall market equity premium, DFA believes that there is a premium attached to a “size” and “value” factor. Note that these three factors are already listed as excess returns.1\n",
    "#### Use the data found in ‘dfa analysis data.xlsx’.\n",
    "- **FACTORS**: Monthly excess return data for the overall equity market, r ̃m. The sheet also contains data on two additional factors, SMB and HML, as well as the risk-free rate. You do not need any of these columns for the homework. Just use the MKT column, which is excess market returns. (So no need to subtract the risk-free rate.)"
   ]
  },
  {
   "cell_type": "markdown",
   "metadata": {},
   "source": [
    "### 2.1 The Factors. Calculate their univariate performance statistics:"
   ]
  },
  {
   "cell_type": "markdown",
   "metadata": {},
   "source": [
    "Report these for the following three subsamples: <br>\n",
    "- **Beginning - 1980**"
   ]
  },
  {
   "cell_type": "code",
   "execution_count": 34,
   "metadata": {},
   "outputs": [
    {
     "data": {
      "text/html": [
       "<div>\n",
       "<style scoped>\n",
       "    .dataframe tbody tr th:only-of-type {\n",
       "        vertical-align: middle;\n",
       "    }\n",
       "\n",
       "    .dataframe tbody tr th {\n",
       "        vertical-align: top;\n",
       "    }\n",
       "\n",
       "    .dataframe thead th {\n",
       "        text-align: right;\n",
       "    }\n",
       "</style>\n",
       "<table border=\"1\" class=\"dataframe\">\n",
       "  <thead>\n",
       "    <tr style=\"text-align: right;\">\n",
       "      <th></th>\n",
       "      <th>mean</th>\n",
       "      <th>volatility</th>\n",
       "      <th>sharpe_ratio</th>\n",
       "      <th>var</th>\n",
       "    </tr>\n",
       "  </thead>\n",
       "  <tbody>\n",
       "    <tr>\n",
       "      <th>Mkt-RF</th>\n",
       "      <td>0.0811</td>\n",
       "      <td>0.2051</td>\n",
       "      <td>0.3957</td>\n",
       "      <td>-0.0840</td>\n",
       "    </tr>\n",
       "    <tr>\n",
       "      <th>SMB</th>\n",
       "      <td>0.0340</td>\n",
       "      <td>0.1146</td>\n",
       "      <td>0.2966</td>\n",
       "      <td>-0.0434</td>\n",
       "    </tr>\n",
       "    <tr>\n",
       "      <th>HML</th>\n",
       "      <td>0.0495</td>\n",
       "      <td>0.1338</td>\n",
       "      <td>0.3697</td>\n",
       "      <td>-0.0429</td>\n",
       "    </tr>\n",
       "  </tbody>\n",
       "</table>\n",
       "</div>"
      ],
      "text/plain": [
       "          mean  volatility  sharpe_ratio     var\n",
       "Mkt-RF  0.0811      0.2051        0.3957 -0.0840\n",
       "SMB     0.0340      0.1146        0.2966 -0.0434\n",
       "HML     0.0495      0.1338        0.3697 -0.0429"
      ]
     },
     "execution_count": 34,
     "metadata": {},
     "output_type": "execute_result"
    }
   ],
   "source": [
    "mean_vol_sharpe_var(factor[:'1980'])"
   ]
  },
  {
   "cell_type": "markdown",
   "metadata": {},
   "source": [
    "- **1981 - 2001**"
   ]
  },
  {
   "cell_type": "code",
   "execution_count": 35,
   "metadata": {},
   "outputs": [
    {
     "data": {
      "text/html": [
       "<div>\n",
       "<style scoped>\n",
       "    .dataframe tbody tr th:only-of-type {\n",
       "        vertical-align: middle;\n",
       "    }\n",
       "\n",
       "    .dataframe tbody tr th {\n",
       "        vertical-align: top;\n",
       "    }\n",
       "\n",
       "    .dataframe thead th {\n",
       "        text-align: right;\n",
       "    }\n",
       "</style>\n",
       "<table border=\"1\" class=\"dataframe\">\n",
       "  <thead>\n",
       "    <tr style=\"text-align: right;\">\n",
       "      <th></th>\n",
       "      <th>mean</th>\n",
       "      <th>volatility</th>\n",
       "      <th>sharpe_ratio</th>\n",
       "      <th>var</th>\n",
       "    </tr>\n",
       "  </thead>\n",
       "  <tbody>\n",
       "    <tr>\n",
       "      <th>Mkt-RF</th>\n",
       "      <td>0.0773</td>\n",
       "      <td>0.1574</td>\n",
       "      <td>0.4908</td>\n",
       "      <td>-0.0645</td>\n",
       "    </tr>\n",
       "    <tr>\n",
       "      <th>SMB</th>\n",
       "      <td>-0.0009</td>\n",
       "      <td>0.1184</td>\n",
       "      <td>-0.0074</td>\n",
       "      <td>-0.0466</td>\n",
       "    </tr>\n",
       "    <tr>\n",
       "      <th>HML</th>\n",
       "      <td>0.0637</td>\n",
       "      <td>0.1113</td>\n",
       "      <td>0.5727</td>\n",
       "      <td>-0.0418</td>\n",
       "    </tr>\n",
       "  </tbody>\n",
       "</table>\n",
       "</div>"
      ],
      "text/plain": [
       "          mean  volatility  sharpe_ratio     var\n",
       "Mkt-RF  0.0773      0.1574        0.4908 -0.0645\n",
       "SMB    -0.0009      0.1184       -0.0074 -0.0466\n",
       "HML     0.0637      0.1113        0.5727 -0.0418"
      ]
     },
     "execution_count": 35,
     "metadata": {},
     "output_type": "execute_result"
    }
   ],
   "source": [
    "mean_vol_sharpe_var(factor['1981':'2001'])"
   ]
  },
  {
   "cell_type": "markdown",
   "metadata": {},
   "source": [
    "- **2002 - End**"
   ]
  },
  {
   "cell_type": "code",
   "execution_count": 36,
   "metadata": {},
   "outputs": [
    {
     "data": {
      "text/html": [
       "<div>\n",
       "<style scoped>\n",
       "    .dataframe tbody tr th:only-of-type {\n",
       "        vertical-align: middle;\n",
       "    }\n",
       "\n",
       "    .dataframe tbody tr th {\n",
       "        vertical-align: top;\n",
       "    }\n",
       "\n",
       "    .dataframe thead th {\n",
       "        text-align: right;\n",
       "    }\n",
       "</style>\n",
       "<table border=\"1\" class=\"dataframe\">\n",
       "  <thead>\n",
       "    <tr style=\"text-align: right;\">\n",
       "      <th></th>\n",
       "      <th>mean</th>\n",
       "      <th>volatility</th>\n",
       "      <th>sharpe_ratio</th>\n",
       "      <th>var</th>\n",
       "    </tr>\n",
       "  </thead>\n",
       "  <tbody>\n",
       "    <tr>\n",
       "      <th>Mkt-RF</th>\n",
       "      <td>0.0833</td>\n",
       "      <td>0.1540</td>\n",
       "      <td>0.5409</td>\n",
       "      <td>-0.0788</td>\n",
       "    </tr>\n",
       "    <tr>\n",
       "      <th>SMB</th>\n",
       "      <td>0.0196</td>\n",
       "      <td>0.0858</td>\n",
       "      <td>0.2288</td>\n",
       "      <td>-0.0378</td>\n",
       "    </tr>\n",
       "    <tr>\n",
       "      <th>HML</th>\n",
       "      <td>0.0017</td>\n",
       "      <td>0.1045</td>\n",
       "      <td>0.0161</td>\n",
       "      <td>-0.0410</td>\n",
       "    </tr>\n",
       "  </tbody>\n",
       "</table>\n",
       "</div>"
      ],
      "text/plain": [
       "          mean  volatility  sharpe_ratio     var\n",
       "Mkt-RF  0.0833      0.1540        0.5409 -0.0788\n",
       "SMB     0.0196      0.0858        0.2288 -0.0378\n",
       "HML     0.0017      0.1045        0.0161 -0.0410"
      ]
     },
     "execution_count": 36,
     "metadata": {},
     "output_type": "execute_result"
    }
   ],
   "source": [
    "mean_vol_sharpe_var(factor['2002':])"
   ]
  },
  {
   "cell_type": "markdown",
   "metadata": {},
   "source": [
    "### 2.2 Based on the factor statistics above, answer the following."
   ]
  },
  {
   "cell_type": "markdown",
   "metadata": {},
   "source": [
    "\n",
    "#### (a) Does each factor have a premium (positive expected excess return) in each subsample?\n"
   ]
  },
  {
   "cell_type": "markdown",
   "metadata": {},
   "source": [
    "No, the SMB factor has a negative expected excess return in the 1981-2001 subsample."
   ]
  },
  {
   "cell_type": "markdown",
   "metadata": {},
   "source": [
    "#### (b) Does the premium to the size factor get smaller after 1980?"
   ]
  },
  {
   "cell_type": "markdown",
   "metadata": {},
   "source": [
    "**Answer-** Yes, the premium to the size factor gets smaller after 1980. In fact, the premium to the size factor is negative in the 1981-2001 subsample. Furthermore, we see a smaller mean excess return of 2.76% in the 2001-end subsample compared to the 3.4% excess in Beginning-1980."
   ]
  },
  {
   "cell_type": "markdown",
   "metadata": {},
   "source": [
    "#### (c) Does the premium to the value factor get smaller during the 1990’s?"
   ]
  },
  {
   "cell_type": "markdown",
   "metadata": {},
   "source": [
    "**Answer-** Premium to value factor, also called value premium or HML(High-Minus-Low) increases during the 1990’s. But it gets smaller after 2001."
   ]
  },
  {
   "cell_type": "markdown",
   "metadata": {},
   "source": [
    "#### (d) How have the factors performed since the time of the case, (2002-present)?"
   ]
  },
  {
   "cell_type": "markdown",
   "metadata": {},
   "source": [
    "**Answer-** The market has hands down outperformed the value and size factors. The market has a mean excess return of 8.33% in the 2002-present subsample, while the value factor has a mean excess return of 0.17% and the size factor has a mean excess return of 1.96%. The HML/value factor has performed very poorly while the SMB/size factor has performed better than the past decade."
   ]
  },
  {
   "cell_type": "markdown",
   "metadata": {},
   "source": [
    "### 2.3 The factors are constructed in such a way as to reduce correlation between them.\n",
    "### Report the correlation matrix across the three factors. Does the construction method succeed in keeping correlations small? Does it achieve this in each subsample?"
   ]
  },
  {
   "cell_type": "markdown",
   "metadata": {},
   "source": [
    "**Answer-** Correlation before 1980's (31%-47%) is higher than that after 1980's. Overall the correlations are quite small, and the construction method succeeds in keeping correlations small."
   ]
  },
  {
   "cell_type": "code",
   "execution_count": 30,
   "metadata": {},
   "outputs": [
    {
     "data": {
      "text/plain": [
       "<AxesSubplot:>"
      ]
     },
     "execution_count": 30,
     "metadata": {},
     "output_type": "execute_result"
    },
    {
     "data": {
      "image/png": "[encoded data removed]",
      "text/plain": [
       "<Figure size 432x288 with 2 Axes>"
      ]
     },
     "metadata": {
      "needs_background": "light"
     },
     "output_type": "display_data"
    }
   ],
   "source": [
    "corr = factor.corr()\n",
    "sns.heatmap(corr, annot=True, cmap='coolwarm')"
   ]
  },
  {
   "cell_type": "code",
   "execution_count": 37,
   "metadata": {},
   "outputs": [
    {
     "data": {
      "text/plain": [
       "<AxesSubplot:>"
      ]
     },
     "execution_count": 37,
     "metadata": {},
     "output_type": "execute_result"
    },
    {
     "data": {
      "image/png": "[encoded data removed]",
      "text/plain": [
       "<Figure size 432x288 with 2 Axes>"
      ]
     },
     "metadata": {
      "needs_background": "light"
     },
     "output_type": "display_data"
    }
   ],
   "source": [
    "corr_1980 = factor[:'1980'].corr()\n",
    "sns.heatmap(corr_1980, annot=True, cmap='coolwarm')"
   ]
  },
  {
   "cell_type": "code",
   "execution_count": 38,
   "metadata": {},
   "outputs": [
    {
     "data": {
      "text/plain": [
       "<AxesSubplot:>"
      ]
     },
     "execution_count": 38,
     "metadata": {},
     "output_type": "execute_result"
    },
    {
     "data": {
      "image/png": "[encoded data removed]",
      "text/plain": [
       "<Figure size 432x288 with 2 Axes>"
      ]
     },
     "metadata": {
      "needs_background": "light"
     },
     "output_type": "display_data"
    }
   ],
   "source": [
    "corr_2001 = factor['1981':'2001'].corr()\n",
    "sns.heatmap(corr_2001, annot=True, cmap='coolwarm')"
   ]
  },
  {
   "cell_type": "code",
   "execution_count": 39,
   "metadata": {},
   "outputs": [
    {
     "data": {
      "text/plain": [
       "<AxesSubplot:>"
      ]
     },
     "execution_count": 39,
     "metadata": {},
     "output_type": "execute_result"
    },
    {
     "data": {
      "image/png": "[encoded data removed]",
      "text/plain": [
       "<Figure size 432x288 with 2 Axes>"
      ]
     },
     "metadata": {
      "needs_background": "light"
     },
     "output_type": "display_data"
    }
   ],
   "source": [
    "corr_2022 = factor['2002':].corr()\n",
    "sns.heatmap(corr_2022, annot=True, cmap='coolwarm')"
   ]
  },
  {
   "cell_type": "markdown",
   "metadata": {},
   "source": [
    "### 2.4 Plot the cumulative returns of the three factors. Create plots for the 1981-2001 subsample as well as the 2002-Present subsample."
   ]
  },
  {
   "cell_type": "code",
   "execution_count": 46,
   "metadata": {},
   "outputs": [
    {
     "data": {
      "text/plain": [
       "Text(0.5, 1.0, 'Full Sample')"
      ]
     },
     "execution_count": 46,
     "metadata": {},
     "output_type": "execute_result"
    },
    {
     "data": {
      "image/png": "[encoded data removed]",
      "text/plain": [
       "<Figure size 720x432 with 1 Axes>"
      ]
     },
     "metadata": {
      "needs_background": "light"
     },
     "output_type": "display_data"
    }
   ],
   "source": [
    "cumulative_return = (1+factor).cumprod()\n",
    "cumulative_return.plot(figsize=(10,6))\n",
    "plt.title(\"Full Sample\")"
   ]
  },
  {
   "cell_type": "code",
   "execution_count": 47,
   "metadata": {},
   "outputs": [
    {
     "data": {
      "text/plain": [
       "Text(0.5, 1.0, '1981-2001')"
      ]
     },
     "execution_count": 47,
     "metadata": {},
     "output_type": "execute_result"
    },
    {
     "data": {
      "image/png": "[encoded data removed]",
      "text/plain": [
       "<Figure size 720x432 with 1 Axes>"
      ]
     },
     "metadata": {
      "needs_background": "light"
     },
     "output_type": "display_data"
    }
   ],
   "source": [
    "cumulative_return['1981':'2001'].plot(figsize=(10,6))\n",
    "plt.title(\"1981-2001\")"
   ]
  },
  {
   "cell_type": "code",
   "execution_count": 48,
   "metadata": {},
   "outputs": [
    {
     "data": {
      "text/plain": [
       "Text(0.5, 1.0, '2002-Present')"
      ]
     },
     "execution_count": 48,
     "metadata": {},
     "output_type": "execute_result"
    },
    {
     "data": {
      "image/png": "[encoded data removed]",
      "text/plain": [
       "<Figure size 720x432 with 1 Axes>"
      ]
     },
     "metadata": {
      "needs_background": "light"
     },
     "output_type": "display_data"
    }
   ],
   "source": [
    "cumulative_return['2002':].plot(figsize=(10,6))\n",
    "plt.title(\"2002-Present\")"
   ]
  },
  {
   "cell_type": "markdown",
   "metadata": {},
   "source": [
    "### 2.5 Does it appear that all three factors were valuable in 1981-2001? And post-2001? Would you advise DFA to continue emphasizing all three factors?"
   ]
  },
  {
   "cell_type": "markdown",
   "metadata": {},
   "source": [
    "The size factor SMB is not valuable in 1981-2001, infact its negative. Post 2001, the SMB factor gives a small mean return, but is still underperforming the market. The value factor HML is valuable from Beginning-2001 and then the premium reaches very low levels. The market is the best performer in all the three subsamples."
   ]
  },
  {
   "cell_type": "markdown",
   "metadata": {},
   "source": [
    "# 3 CAPM"
   ]
  },
  {
   "cell_type": "markdown",
   "metadata": {},
   "source": [
    "DFA believes that premia in stocks and stock portfolios is related to the three factors. <br> Let’s test 25 equity portfolios that span a wide range of size and value measures.\n",
    "- PORTFOLIOS: Monthly total return data on 25 equity portfolios sorted by their size-value characteristics. Denote these as $r^i$, for $n = 1, . . . , 25$.\n",
    "- Note that while the factors were given as excess returns, the portfolios are total returns.\n",
    "- For this entire problem, focus on the 1981-Present subsample.\n"
   ]
  },
  {
   "cell_type": "code",
   "execution_count": 65,
   "metadata": {},
   "outputs": [
    {
     "data": {
      "text/html": [
       "<div>\n",
       "<style scoped>\n",
       "    .dataframe tbody tr th:only-of-type {\n",
       "        vertical-align: middle;\n",
       "    }\n",
       "\n",
       "    .dataframe tbody tr th {\n",
       "        vertical-align: top;\n",
       "    }\n",
       "\n",
       "    .dataframe thead th {\n",
       "        text-align: right;\n",
       "    }\n",
       "</style>\n",
       "<table border=\"1\" class=\"dataframe\">\n",
       "  <thead>\n",
       "    <tr style=\"text-align: right;\">\n",
       "      <th></th>\n",
       "      <th>SMALL LoBM</th>\n",
       "      <th>ME1 BM2</th>\n",
       "      <th>ME1 BM3</th>\n",
       "      <th>ME1 BM4</th>\n",
       "      <th>SMALL HiBM</th>\n",
       "      <th>ME2 BM1</th>\n",
       "      <th>ME2 BM2</th>\n",
       "      <th>ME2 BM3</th>\n",
       "      <th>ME2 BM4</th>\n",
       "      <th>ME2 BM5</th>\n",
       "      <th>...</th>\n",
       "      <th>ME4 BM1</th>\n",
       "      <th>ME4 BM2</th>\n",
       "      <th>ME4 BM3</th>\n",
       "      <th>ME4 BM4</th>\n",
       "      <th>ME4 BM5</th>\n",
       "      <th>BIG LoBM</th>\n",
       "      <th>ME5 BM2</th>\n",
       "      <th>ME5 BM3</th>\n",
       "      <th>ME5 BM4</th>\n",
       "      <th>BIG HiBM</th>\n",
       "    </tr>\n",
       "    <tr>\n",
       "      <th>Date</th>\n",
       "      <th></th>\n",
       "      <th></th>\n",
       "      <th></th>\n",
       "      <th></th>\n",
       "      <th></th>\n",
       "      <th></th>\n",
       "      <th></th>\n",
       "      <th></th>\n",
       "      <th></th>\n",
       "      <th></th>\n",
       "      <th></th>\n",
       "      <th></th>\n",
       "      <th></th>\n",
       "      <th></th>\n",
       "      <th></th>\n",
       "      <th></th>\n",
       "      <th></th>\n",
       "      <th></th>\n",
       "      <th></th>\n",
       "      <th></th>\n",
       "      <th></th>\n",
       "    </tr>\n",
       "  </thead>\n",
       "  <tbody>\n",
       "    <tr>\n",
       "      <th>1981-01-31</th>\n",
       "      <td>-0.0549</td>\n",
       "      <td>-0.0149</td>\n",
       "      <td>0.0099</td>\n",
       "      <td>0.0059</td>\n",
       "      <td>0.0211</td>\n",
       "      <td>-0.0597</td>\n",
       "      <td>-0.0107</td>\n",
       "      <td>-0.0127</td>\n",
       "      <td>0.0076</td>\n",
       "      <td>0.0206</td>\n",
       "      <td>...</td>\n",
       "      <td>-0.0770</td>\n",
       "      <td>-0.0449</td>\n",
       "      <td>-0.0129</td>\n",
       "      <td>-0.0055</td>\n",
       "      <td>0.0039</td>\n",
       "      <td>-0.0717</td>\n",
       "      <td>-0.0836</td>\n",
       "      <td>-0.0743</td>\n",
       "      <td>-0.0100</td>\n",
       "      <td>0.0095</td>\n",
       "    </tr>\n",
       "    <tr>\n",
       "      <th>1981-02-28</th>\n",
       "      <td>-0.0447</td>\n",
       "      <td>-0.0105</td>\n",
       "      <td>0.0014</td>\n",
       "      <td>0.0092</td>\n",
       "      <td>0.0144</td>\n",
       "      <td>-0.0145</td>\n",
       "      <td>0.0051</td>\n",
       "      <td>0.0174</td>\n",
       "      <td>0.0244</td>\n",
       "      <td>0.0279</td>\n",
       "      <td>...</td>\n",
       "      <td>0.0026</td>\n",
       "      <td>0.0147</td>\n",
       "      <td>0.0347</td>\n",
       "      <td>0.0027</td>\n",
       "      <td>0.0272</td>\n",
       "      <td>0.0219</td>\n",
       "      <td>0.0094</td>\n",
       "      <td>-0.0164</td>\n",
       "      <td>0.0204</td>\n",
       "      <td>-0.0169</td>\n",
       "    </tr>\n",
       "  </tbody>\n",
       "</table>\n",
       "<p>2 rows × 25 columns</p>\n",
       "</div>"
      ],
      "text/plain": [
       "            SMALL LoBM  ME1 BM2  ME1 BM3  ME1 BM4  SMALL HiBM  ME2 BM1  \\\n",
       "Date                                                                     \n",
       "1981-01-31     -0.0549  -0.0149   0.0099   0.0059      0.0211  -0.0597   \n",
       "1981-02-28     -0.0447  -0.0105   0.0014   0.0092      0.0144  -0.0145   \n",
       "\n",
       "            ME2 BM2  ME2 BM3  ME2 BM4  ME2 BM5  ...  ME4 BM1  ME4 BM2  \\\n",
       "Date                                            ...                     \n",
       "1981-01-31  -0.0107  -0.0127   0.0076   0.0206  ...  -0.0770  -0.0449   \n",
       "1981-02-28   0.0051   0.0174   0.0244   0.0279  ...   0.0026   0.0147   \n",
       "\n",
       "            ME4 BM3  ME4 BM4  ME4 BM5  BIG LoBM  ME5 BM2  ME5 BM3  ME5 BM4  \\\n",
       "Date                                                                         \n",
       "1981-01-31  -0.0129  -0.0055   0.0039   -0.0717  -0.0836  -0.0743  -0.0100   \n",
       "1981-02-28   0.0347   0.0027   0.0272    0.0219   0.0094  -0.0164   0.0204   \n",
       "\n",
       "            BIG HiBM  \n",
       "Date                  \n",
       "1981-01-31    0.0095  \n",
       "1981-02-28   -0.0169  \n",
       "\n",
       "[2 rows x 25 columns]"
      ]
     },
     "execution_count": 65,
     "metadata": {},
     "output_type": "execute_result"
    }
   ],
   "source": [
    "portfolios = pd.read_excel(\"dfa_analysis_data.xlsx\",2, index_col=0)\n",
    "portfolios.index = pd.to_datetime(portfolios.index)\n",
    "portfolios_excess = portfolios.subtract(df['RF'],axis=0)\n",
    "portfolios_excess_1981 = portfolios_excess['1981':]\n",
    "portfolios_excess_1981.head(2)"
   ]
  },
  {
   "cell_type": "markdown",
   "metadata": {},
   "source": [
    "### 3.1 Summary Statistics.\n",
    "#### For each portfolio,\n",
    "- Use the Risk-Free rate column in the factors tab to convert these total returns to excess returns.\n",
    "- Calculate the (annualized) univariate statistics from 1.1."
   ]
  },
  {
   "cell_type": "code",
   "execution_count": 67,
   "metadata": {},
   "outputs": [
    {
     "data": {
      "text/html": [
       "<div>\n",
       "<style scoped>\n",
       "    .dataframe tbody tr th:only-of-type {\n",
       "        vertical-align: middle;\n",
       "    }\n",
       "\n",
       "    .dataframe tbody tr th {\n",
       "        vertical-align: top;\n",
       "    }\n",
       "\n",
       "    .dataframe thead th {\n",
       "        text-align: right;\n",
       "    }\n",
       "</style>\n",
       "<table border=\"1\" class=\"dataframe\">\n",
       "  <thead>\n",
       "    <tr style=\"text-align: right;\">\n",
       "      <th></th>\n",
       "      <th>SMALL LoBM</th>\n",
       "      <th>ME1 BM2</th>\n",
       "      <th>ME1 BM3</th>\n",
       "      <th>ME1 BM4</th>\n",
       "      <th>SMALL HiBM</th>\n",
       "      <th>ME2 BM1</th>\n",
       "      <th>ME2 BM2</th>\n",
       "      <th>ME2 BM3</th>\n",
       "      <th>ME2 BM4</th>\n",
       "      <th>ME2 BM5</th>\n",
       "      <th>...</th>\n",
       "      <th>ME4 BM1</th>\n",
       "      <th>ME4 BM2</th>\n",
       "      <th>ME4 BM3</th>\n",
       "      <th>ME4 BM4</th>\n",
       "      <th>ME4 BM5</th>\n",
       "      <th>BIG LoBM</th>\n",
       "      <th>ME5 BM2</th>\n",
       "      <th>ME5 BM3</th>\n",
       "      <th>ME5 BM4</th>\n",
       "      <th>BIG HiBM</th>\n",
       "    </tr>\n",
       "  </thead>\n",
       "  <tbody>\n",
       "    <tr>\n",
       "      <th>mean</th>\n",
       "      <td>0.0105</td>\n",
       "      <td>0.0957</td>\n",
       "      <td>0.0929</td>\n",
       "      <td>0.1200</td>\n",
       "      <td>0.1321</td>\n",
       "      <td>0.0603</td>\n",
       "      <td>0.1006</td>\n",
       "      <td>0.1066</td>\n",
       "      <td>0.1077</td>\n",
       "      <td>0.1181</td>\n",
       "      <td>...</td>\n",
       "      <td>0.0927</td>\n",
       "      <td>0.0945</td>\n",
       "      <td>0.0936</td>\n",
       "      <td>0.0998</td>\n",
       "      <td>0.1120</td>\n",
       "      <td>0.0889</td>\n",
       "      <td>0.0816</td>\n",
       "      <td>0.0811</td>\n",
       "      <td>0.0671</td>\n",
       "      <td>0.0963</td>\n",
       "    </tr>\n",
       "    <tr>\n",
       "      <th>volatility</th>\n",
       "      <td>0.2724</td>\n",
       "      <td>0.2359</td>\n",
       "      <td>0.1972</td>\n",
       "      <td>0.1914</td>\n",
       "      <td>0.2077</td>\n",
       "      <td>0.2457</td>\n",
       "      <td>0.2032</td>\n",
       "      <td>0.1831</td>\n",
       "      <td>0.1792</td>\n",
       "      <td>0.2120</td>\n",
       "      <td>...</td>\n",
       "      <td>0.2036</td>\n",
       "      <td>0.1770</td>\n",
       "      <td>0.1733</td>\n",
       "      <td>0.1733</td>\n",
       "      <td>0.1968</td>\n",
       "      <td>0.1632</td>\n",
       "      <td>0.1549</td>\n",
       "      <td>0.1523</td>\n",
       "      <td>0.1703</td>\n",
       "      <td>0.2058</td>\n",
       "    </tr>\n",
       "    <tr>\n",
       "      <th>sharpe_ratio</th>\n",
       "      <td>0.0384</td>\n",
       "      <td>0.4058</td>\n",
       "      <td>0.4711</td>\n",
       "      <td>0.6270</td>\n",
       "      <td>0.6361</td>\n",
       "      <td>0.2453</td>\n",
       "      <td>0.4953</td>\n",
       "      <td>0.5824</td>\n",
       "      <td>0.6012</td>\n",
       "      <td>0.5571</td>\n",
       "      <td>...</td>\n",
       "      <td>0.4551</td>\n",
       "      <td>0.5341</td>\n",
       "      <td>0.5402</td>\n",
       "      <td>0.5756</td>\n",
       "      <td>0.5693</td>\n",
       "      <td>0.5447</td>\n",
       "      <td>0.5271</td>\n",
       "      <td>0.5324</td>\n",
       "      <td>0.3943</td>\n",
       "      <td>0.4681</td>\n",
       "    </tr>\n",
       "    <tr>\n",
       "      <th>var</th>\n",
       "      <td>-0.1165</td>\n",
       "      <td>-0.0976</td>\n",
       "      <td>-0.0864</td>\n",
       "      <td>-0.0752</td>\n",
       "      <td>-0.0883</td>\n",
       "      <td>-0.1046</td>\n",
       "      <td>-0.0840</td>\n",
       "      <td>-0.0787</td>\n",
       "      <td>-0.0764</td>\n",
       "      <td>-0.0942</td>\n",
       "      <td>...</td>\n",
       "      <td>-0.0839</td>\n",
       "      <td>-0.0734</td>\n",
       "      <td>-0.0756</td>\n",
       "      <td>-0.0693</td>\n",
       "      <td>-0.0833</td>\n",
       "      <td>-0.0753</td>\n",
       "      <td>-0.0656</td>\n",
       "      <td>-0.0704</td>\n",
       "      <td>-0.0756</td>\n",
       "      <td>-0.0985</td>\n",
       "    </tr>\n",
       "  </tbody>\n",
       "</table>\n",
       "<p>4 rows × 25 columns</p>\n",
       "</div>"
      ],
      "text/plain": [
       "              SMALL LoBM  ME1 BM2  ME1 BM3  ME1 BM4  SMALL HiBM  ME2 BM1  \\\n",
       "mean              0.0105   0.0957   0.0929   0.1200      0.1321   0.0603   \n",
       "volatility        0.2724   0.2359   0.1972   0.1914      0.2077   0.2457   \n",
       "sharpe_ratio      0.0384   0.4058   0.4711   0.6270      0.6361   0.2453   \n",
       "var              -0.1165  -0.0976  -0.0864  -0.0752     -0.0883  -0.1046   \n",
       "\n",
       "              ME2 BM2  ME2 BM3  ME2 BM4  ME2 BM5  ...  ME4 BM1  ME4 BM2  \\\n",
       "mean           0.1006   0.1066   0.1077   0.1181  ...   0.0927   0.0945   \n",
       "volatility     0.2032   0.1831   0.1792   0.2120  ...   0.2036   0.1770   \n",
       "sharpe_ratio   0.4953   0.5824   0.6012   0.5571  ...   0.4551   0.5341   \n",
       "var           -0.0840  -0.0787  -0.0764  -0.0942  ...  -0.0839  -0.0734   \n",
       "\n",
       "              ME4 BM3  ME4 BM4  ME4 BM5  BIG LoBM  ME5 BM2  ME5 BM3  ME5 BM4  \\\n",
       "mean           0.0936   0.0998   0.1120    0.0889   0.0816   0.0811   0.0671   \n",
       "volatility     0.1733   0.1733   0.1968    0.1632   0.1549   0.1523   0.1703   \n",
       "sharpe_ratio   0.5402   0.5756   0.5693    0.5447   0.5271   0.5324   0.3943   \n",
       "var           -0.0756  -0.0693  -0.0833   -0.0753  -0.0656  -0.0704  -0.0756   \n",
       "\n",
       "              BIG HiBM  \n",
       "mean            0.0963  \n",
       "volatility      0.2058  \n",
       "sharpe_ratio    0.4681  \n",
       "var            -0.0985  \n",
       "\n",
       "[4 rows x 25 columns]"
      ]
     },
     "execution_count": 67,
     "metadata": {},
     "output_type": "execute_result"
    }
   ],
   "source": [
    "mean_vol_sharpe_var(portfolios_excess_1981).T"
   ]
  },
  {
   "cell_type": "markdown",
   "metadata": {},
   "source": [
    "#### - Can the difference in mean excess returns of the portfolios be explained by differences in their volatilities? Or by their VaR(.05) statistics?"
   ]
  },
  {
   "cell_type": "markdown",
   "metadata": {},
   "source": [
    "**Answer-** After observing the scatter plots below, the mean excess return do not seem to have any relation with the volatilities or VaR(.05) statistics."
   ]
  },
  {
   "cell_type": "code",
   "execution_count": 75,
   "metadata": {},
   "outputs": [
    {
     "data": {
      "text/plain": [
       "Text(0.5, 0, 'Volatility')"
      ]
     },
     "execution_count": 75,
     "metadata": {},
     "output_type": "execute_result"
    },
    {
     "data": {
      "image/png": "[encoded data removed]",
      "text/plain": [
       "<Figure size 432x288 with 1 Axes>"
      ]
     },
     "metadata": {
      "needs_background": "light"
     },
     "output_type": "display_data"
    }
   ],
   "source": [
    "plt.scatter(mean_vol_sharpe_var(portfolios_excess_1981)['volatility'], mean_vol_sharpe_var(portfolios_excess_1981)['mean'])\n",
    "plt.ylabel('Mean')\n",
    "plt.xlabel('Volatility')"
   ]
  },
  {
   "cell_type": "code",
   "execution_count": 73,
   "metadata": {},
   "outputs": [
    {
     "data": {
      "text/plain": [
       "Text(0.5, 0, 'VaR')"
      ]
     },
     "execution_count": 73,
     "metadata": {},
     "output_type": "execute_result"
    },
    {
     "data": {
      "image/png": "[encoded data removed]",
      "text/plain": [
       "<Figure size 432x288 with 1 Axes>"
      ]
     },
     "metadata": {
      "needs_background": "light"
     },
     "output_type": "display_data"
    }
   ],
   "source": [
    "plt.scatter(mean_vol_sharpe_var(portfolios_excess_1981)['var'], mean_vol_sharpe_var(portfolios_excess_1981)['mean'])\n",
    "plt.ylabel('Mean')\n",
    "plt.xlabel('VaR')"
   ]
  },
  {
   "cell_type": "markdown",
   "metadata": {},
   "source": [
    "### 3.2 CAPM\n",
    "The Capital Asset Pricing Model (CAPM) asserts that an asset (or portfolio’s) expected excess return is completely a function of its beta to the equity market index (SPY, or in this case, MKT.) <br>\n",
    "\n",
    "Specifically, it asserts that, for any excess return, $\\tilde{r}^{i}$ , its mean is proportional to the mean excess\n",
    "return of the market, $\\tilde{r}^{m}$ , where the proporitonality is the regression beta of $\\tilde{r}^{i}$ on $\\tilde{r}^{m}$ . <br>\n",
    "\n",
    "$\\mathbf{E}[\\tilde{r}^{i}_{t}] = \\beta^{i,m} \\mathbf{E}[\\tilde{r}^{m}_{t}]$ \n",
    "\n",
    "Let’s examine whether that seems plausible."
   ]
  },
  {
   "cell_type": "markdown",
   "metadata": {},
   "source": [
    "### 3.2(a) For each of the n = 25 test portfolios, run the CAPM time-series regression: <br> $ \\tilde{r}_{t} = \\alpha^{i} + \\beta^{i,m}  \\tilde{r}^{m}_{t} + \\epsilon^{i}_{t} $ \n",
    "\n",
    "So you are running 25 separate regressions, each using the T-sized sample of time-series data.\n",
    "\n",
    "### 3.2(b) Report the estimated $ \\beta_{i,m} $, Treynor Ratio, $ \\alpha_{i} $, and Information Ratio for each of the n regressions."
   ]
  },
  {
   "cell_type": "code",
   "execution_count": 122,
   "metadata": {},
   "outputs": [
    {
     "data": {
      "text/plain": [
       "(500, 25)"
      ]
     },
     "execution_count": 122,
     "metadata": {},
     "output_type": "execute_result"
    }
   ],
   "source": [
    "portfolios_excess_1981.shape"
   ]
  },
  {
   "cell_type": "code",
   "execution_count": 88,
   "metadata": {},
   "outputs": [
    {
     "data": {
      "text/plain": [
       "(500, 1)"
      ]
     },
     "execution_count": 88,
     "metadata": {},
     "output_type": "execute_result"
    }
   ],
   "source": [
    "factor_mkt = pd.DataFrame(factor['1981':]['Mkt-RF'], columns=['Mkt-RF'])\n",
    "factor_mkt.shape"
   ]
  },
  {
   "cell_type": "code",
   "execution_count": 111,
   "metadata": {},
   "outputs": [
    {
     "data": {
      "text/html": [
       "<div>\n",
       "<style scoped>\n",
       "    .dataframe tbody tr th:only-of-type {\n",
       "        vertical-align: middle;\n",
       "    }\n",
       "\n",
       "    .dataframe tbody tr th {\n",
       "        vertical-align: top;\n",
       "    }\n",
       "\n",
       "    .dataframe thead th {\n",
       "        text-align: right;\n",
       "    }\n",
       "</style>\n",
       "<table border=\"1\" class=\"dataframe\">\n",
       "  <thead>\n",
       "    <tr style=\"text-align: right;\">\n",
       "      <th></th>\n",
       "      <th>alpha</th>\n",
       "      <th>beta</th>\n",
       "      <th>treynor ratio</th>\n",
       "      <th>info ratio</th>\n",
       "    </tr>\n",
       "  </thead>\n",
       "  <tbody>\n",
       "    <tr>\n",
       "      <th>SMALL LoBM</th>\n",
       "      <td>-0.0987</td>\n",
       "      <td>1.3600</td>\n",
       "      <td>0.0077</td>\n",
       "      <td>-0.5750</td>\n",
       "    </tr>\n",
       "    <tr>\n",
       "      <th>ME1 BM2</th>\n",
       "      <td>0.0018</td>\n",
       "      <td>1.1702</td>\n",
       "      <td>0.0818</td>\n",
       "      <td>0.0122</td>\n",
       "    </tr>\n",
       "    <tr>\n",
       "      <th>ME1 BM3</th>\n",
       "      <td>0.0097</td>\n",
       "      <td>1.0365</td>\n",
       "      <td>0.0896</td>\n",
       "      <td>0.0857</td>\n",
       "    </tr>\n",
       "    <tr>\n",
       "      <th>ME1 BM4</th>\n",
       "      <td>0.0425</td>\n",
       "      <td>0.9652</td>\n",
       "      <td>0.1243</td>\n",
       "      <td>0.3585</td>\n",
       "    </tr>\n",
       "    <tr>\n",
       "      <th>SMALL HiBM</th>\n",
       "      <td>0.0526</td>\n",
       "      <td>0.9907</td>\n",
       "      <td>0.1333</td>\n",
       "      <td>0.3778</td>\n",
       "    </tr>\n",
       "    <tr>\n",
       "      <th>ME2 BM1</th>\n",
       "      <td>-0.0475</td>\n",
       "      <td>1.3433</td>\n",
       "      <td>0.0449</td>\n",
       "      <td>-0.3677</td>\n",
       "    </tr>\n",
       "    <tr>\n",
       "      <th>ME2 BM2</th>\n",
       "      <td>0.0101</td>\n",
       "      <td>1.1286</td>\n",
       "      <td>0.0892</td>\n",
       "      <td>0.0984</td>\n",
       "    </tr>\n",
       "    <tr>\n",
       "      <th>ME2 BM3</th>\n",
       "      <td>0.0248</td>\n",
       "      <td>1.0193</td>\n",
       "      <td>0.1046</td>\n",
       "      <td>0.2712</td>\n",
       "    </tr>\n",
       "    <tr>\n",
       "      <th>ME2 BM4</th>\n",
       "      <td>0.0303</td>\n",
       "      <td>0.9654</td>\n",
       "      <td>0.1116</td>\n",
       "      <td>0.3094</td>\n",
       "    </tr>\n",
       "    <tr>\n",
       "      <th>ME2 BM5</th>\n",
       "      <td>0.0292</td>\n",
       "      <td>1.1086</td>\n",
       "      <td>0.1066</td>\n",
       "      <td>0.2363</td>\n",
       "    </tr>\n",
       "    <tr>\n",
       "      <th>ME3 BM1</th>\n",
       "      <td>-0.0316</td>\n",
       "      <td>1.2767</td>\n",
       "      <td>0.0555</td>\n",
       "      <td>-0.2936</td>\n",
       "    </tr>\n",
       "    <tr>\n",
       "      <th>ME3 BM2</th>\n",
       "      <td>0.0204</td>\n",
       "      <td>1.0896</td>\n",
       "      <td>0.0990</td>\n",
       "      <td>0.2549</td>\n",
       "    </tr>\n",
       "    <tr>\n",
       "      <th>ME3 BM3</th>\n",
       "      <td>0.0136</td>\n",
       "      <td>0.9743</td>\n",
       "      <td>0.0942</td>\n",
       "      <td>0.1754</td>\n",
       "    </tr>\n",
       "    <tr>\n",
       "      <th>ME3 BM4</th>\n",
       "      <td>0.0294</td>\n",
       "      <td>0.9797</td>\n",
       "      <td>0.1102</td>\n",
       "      <td>0.3253</td>\n",
       "    </tr>\n",
       "    <tr>\n",
       "      <th>ME3 BM5</th>\n",
       "      <td>0.0413</td>\n",
       "      <td>1.0407</td>\n",
       "      <td>0.1200</td>\n",
       "      <td>0.3586</td>\n",
       "    </tr>\n",
       "    <tr>\n",
       "      <th>ME4 BM1</th>\n",
       "      <td>-0.0030</td>\n",
       "      <td>1.1919</td>\n",
       "      <td>0.0778</td>\n",
       "      <td>-0.0353</td>\n",
       "    </tr>\n",
       "    <tr>\n",
       "      <th>ME4 BM2</th>\n",
       "      <td>0.0093</td>\n",
       "      <td>1.0615</td>\n",
       "      <td>0.0890</td>\n",
       "      <td>0.1465</td>\n",
       "    </tr>\n",
       "    <tr>\n",
       "      <th>ME4 BM3</th>\n",
       "      <td>0.0135</td>\n",
       "      <td>0.9989</td>\n",
       "      <td>0.0937</td>\n",
       "      <td>0.1753</td>\n",
       "    </tr>\n",
       "    <tr>\n",
       "      <th>ME4 BM4</th>\n",
       "      <td>0.0215</td>\n",
       "      <td>0.9749</td>\n",
       "      <td>0.1023</td>\n",
       "      <td>0.2566</td>\n",
       "    </tr>\n",
       "    <tr>\n",
       "      <th>ME4 BM5</th>\n",
       "      <td>0.0285</td>\n",
       "      <td>1.0410</td>\n",
       "      <td>0.1076</td>\n",
       "      <td>0.2548</td>\n",
       "    </tr>\n",
       "    <tr>\n",
       "      <th>BIG LoBM</th>\n",
       "      <td>0.0092</td>\n",
       "      <td>0.9934</td>\n",
       "      <td>0.0895</td>\n",
       "      <td>0.1748</td>\n",
       "    </tr>\n",
       "    <tr>\n",
       "      <th>ME5 BM2</th>\n",
       "      <td>0.0071</td>\n",
       "      <td>0.9289</td>\n",
       "      <td>0.0879</td>\n",
       "      <td>0.1270</td>\n",
       "    </tr>\n",
       "    <tr>\n",
       "      <th>ME5 BM3</th>\n",
       "      <td>0.0112</td>\n",
       "      <td>0.8712</td>\n",
       "      <td>0.0931</td>\n",
       "      <td>0.1607</td>\n",
       "    </tr>\n",
       "    <tr>\n",
       "      <th>ME5 BM4</th>\n",
       "      <td>-0.0052</td>\n",
       "      <td>0.9010</td>\n",
       "      <td>0.0745</td>\n",
       "      <td>-0.0533</td>\n",
       "    </tr>\n",
       "    <tr>\n",
       "      <th>BIG HiBM</th>\n",
       "      <td>0.0149</td>\n",
       "      <td>1.0150</td>\n",
       "      <td>0.0949</td>\n",
       "      <td>0.1127</td>\n",
       "    </tr>\n",
       "  </tbody>\n",
       "</table>\n",
       "</div>"
      ],
      "text/plain": [
       "             alpha    beta  treynor ratio  info ratio\n",
       "SMALL LoBM -0.0987  1.3600         0.0077     -0.5750\n",
       "ME1 BM2     0.0018  1.1702         0.0818      0.0122\n",
       "ME1 BM3     0.0097  1.0365         0.0896      0.0857\n",
       "ME1 BM4     0.0425  0.9652         0.1243      0.3585\n",
       "SMALL HiBM  0.0526  0.9907         0.1333      0.3778\n",
       "ME2 BM1    -0.0475  1.3433         0.0449     -0.3677\n",
       "ME2 BM2     0.0101  1.1286         0.0892      0.0984\n",
       "ME2 BM3     0.0248  1.0193         0.1046      0.2712\n",
       "ME2 BM4     0.0303  0.9654         0.1116      0.3094\n",
       "ME2 BM5     0.0292  1.1086         0.1066      0.2363\n",
       "ME3 BM1    -0.0316  1.2767         0.0555     -0.2936\n",
       "ME3 BM2     0.0204  1.0896         0.0990      0.2549\n",
       "ME3 BM3     0.0136  0.9743         0.0942      0.1754\n",
       "ME3 BM4     0.0294  0.9797         0.1102      0.3253\n",
       "ME3 BM5     0.0413  1.0407         0.1200      0.3586\n",
       "ME4 BM1    -0.0030  1.1919         0.0778     -0.0353\n",
       "ME4 BM2     0.0093  1.0615         0.0890      0.1465\n",
       "ME4 BM3     0.0135  0.9989         0.0937      0.1753\n",
       "ME4 BM4     0.0215  0.9749         0.1023      0.2566\n",
       "ME4 BM5     0.0285  1.0410         0.1076      0.2548\n",
       "BIG LoBM    0.0092  0.9934         0.0895      0.1748\n",
       "ME5 BM2     0.0071  0.9289         0.0879      0.1270\n",
       "ME5 BM3     0.0112  0.8712         0.0931      0.1607\n",
       "ME5 BM4    -0.0052  0.9010         0.0745     -0.0533\n",
       "BIG HiBM    0.0149  1.0150         0.0949      0.1127"
      ]
     },
     "execution_count": 111,
     "metadata": {},
     "output_type": "execute_result"
    }
   ],
   "source": [
    "regression_report = pd.DataFrame(index=portfolios_excess_1981.columns)\n",
    "x = sm.add_constant(factor_mkt)\n",
    "\n",
    "for i in portfolios_excess_1981.columns:\n",
    "    y = portfolios_excess_1981[i]\n",
    "    model = sm.OLS(y,x,missing='drop').fit()\n",
    "    regression_report.loc[i,'alpha'] = model.params['const'] * 12\n",
    "    regression_report.loc[i,'beta'] = model.params['Mkt-RF']\n",
    "    regression_report.loc[i,'treynor ratio'] = portfolios_excess_1981[i].mean() * 12 / model.params[1]\n",
    "    regression_report.loc[i,'info ratio'] = model.params[0] * np.sqrt(12) / model.resid.std()\n",
    "    \n",
    "regression_report\n",
    "    "
   ]
  },
  {
   "cell_type": "markdown",
   "metadata": {},
   "source": [
    "### 3.2(c) If (CAPM) were true, what would be true of the Treynor Ratios, alphas, and Information Ratios?"
   ]
  },
  {
   "cell_type": "markdown",
   "metadata": {},
   "source": [
    "CAPM states that the expected excess return of a portfolio is proportional to the expected excess return of the market. The Alpha and Information Ratio should be equal to zero. As a consequence, the Treynor Ratio should be equal to mean excess return of the market."
   ]
  },
  {
   "cell_type": "markdown",
   "metadata": {},
   "source": [
    "### 3.3 Cross-sectional Estimation\n",
    "**Let’s test (CAPM) directly. We already have what we need:**\n",
    "- The dependent variable, (y): mean excess returns from each of the n = 25 portfolios.\n",
    "- The regressor, (x): the market beta from each of the n = 25 time-series regressions.\n",
    "\n",
    "$ \\mathbf{E}[\\tilde{r}^{i}] = \\eta + \\beta^{i,m}; \\lambda_{m} + \\nu $\n",
    "\n",
    "- Note that we use sample means as estimates of $ \\mathbf{E}[\\tilde{r}^{i}] $.\n",
    "- This is a weird regression! The regressors are the betas from the time-series regressions we\n",
    "already ran!\n",
    "- This is a single regression, where we are combining evidence across all n = 25 series. Thus, it is a cross-sectional regression!\n",
    "- The notation is trying to emphasize that the intercept is different than the time-series $ \\alpha $ and that the regressor coefficient is different than the time-series betas."
   ]
  },
  {
   "cell_type": "code",
   "execution_count": 116,
   "metadata": {},
   "outputs": [
    {
     "data": {
      "text/html": [
       "<table class=\"simpletable\">\n",
       "<caption>OLS Regression Results</caption>\n",
       "<tr>\n",
       "  <th>Dep. Variable:</th>            <td>y</td>        <th>  R-squared:         </th> <td>   0.258</td>\n",
       "</tr>\n",
       "<tr>\n",
       "  <th>Model:</th>                   <td>OLS</td>       <th>  Adj. R-squared:    </th> <td>   0.226</td>\n",
       "</tr>\n",
       "<tr>\n",
       "  <th>Method:</th>             <td>Least Squares</td>  <th>  F-statistic:       </th> <td>   8.008</td>\n",
       "</tr>\n",
       "<tr>\n",
       "  <th>Date:</th>             <td>Sun, 23 Oct 2022</td> <th>  Prob (F-statistic):</th>  <td>0.00950</td>\n",
       "</tr>\n",
       "<tr>\n",
       "  <th>Time:</th>                 <td>17:04:42</td>     <th>  Log-Likelihood:    </th> <td>  123.51</td>\n",
       "</tr>\n",
       "<tr>\n",
       "  <th>No. Observations:</th>      <td>    25</td>      <th>  AIC:               </th> <td>  -243.0</td>\n",
       "</tr>\n",
       "<tr>\n",
       "  <th>Df Residuals:</th>          <td>    23</td>      <th>  BIC:               </th> <td>  -240.6</td>\n",
       "</tr>\n",
       "<tr>\n",
       "  <th>Df Model:</th>              <td>     1</td>      <th>                     </th>     <td> </td>   \n",
       "</tr>\n",
       "<tr>\n",
       "  <th>Covariance Type:</th>      <td>nonrobust</td>    <th>                     </th>     <td> </td>   \n",
       "</tr>\n",
       "</table>\n",
       "<table class=\"simpletable\">\n",
       "<tr>\n",
       "    <td></td>       <th>coef</th>     <th>std err</th>      <th>t</th>      <th>P>|t|</th>  <th>[0.025</th>    <th>0.975]</th>  \n",
       "</tr>\n",
       "<tr>\n",
       "  <th>const</th> <td>    0.0165</td> <td>    0.003</td> <td>    5.362</td> <td> 0.000</td> <td>    0.010</td> <td>    0.023</td>\n",
       "</tr>\n",
       "<tr>\n",
       "  <th>beta</th>  <td>   -0.0082</td> <td>    0.003</td> <td>   -2.830</td> <td> 0.009</td> <td>   -0.014</td> <td>   -0.002</td>\n",
       "</tr>\n",
       "</table>\n",
       "<table class=\"simpletable\">\n",
       "<tr>\n",
       "  <th>Omnibus:</th>       <td> 4.531</td> <th>  Durbin-Watson:     </th> <td>   1.311</td>\n",
       "</tr>\n",
       "<tr>\n",
       "  <th>Prob(Omnibus):</th> <td> 0.104</td> <th>  Jarque-Bera (JB):  </th> <td>   2.975</td>\n",
       "</tr>\n",
       "<tr>\n",
       "  <th>Skew:</th>          <td>-0.820</td> <th>  Prob(JB):          </th> <td>   0.226</td>\n",
       "</tr>\n",
       "<tr>\n",
       "  <th>Kurtosis:</th>      <td> 3.408</td> <th>  Cond. No.          </th> <td>    17.0</td>\n",
       "</tr>\n",
       "</table><br/><br/>Notes:<br/>[1] Standard Errors assume that the covariance matrix of the errors is correctly specified."
      ],
      "text/plain": [
       "<class 'statsmodels.iolib.summary.Summary'>\n",
       "\"\"\"\n",
       "                            OLS Regression Results                            \n",
       "==============================================================================\n",
       "Dep. Variable:                      y   R-squared:                       0.258\n",
       "Model:                            OLS   Adj. R-squared:                  0.226\n",
       "Method:                 Least Squares   F-statistic:                     8.008\n",
       "Date:                Sun, 23 Oct 2022   Prob (F-statistic):            0.00950\n",
       "Time:                        17:04:42   Log-Likelihood:                 123.51\n",
       "No. Observations:                  25   AIC:                            -243.0\n",
       "Df Residuals:                      23   BIC:                            -240.6\n",
       "Df Model:                           1                                         \n",
       "Covariance Type:            nonrobust                                         \n",
       "==============================================================================\n",
       "                 coef    std err          t      P>|t|      [0.025      0.975]\n",
       "------------------------------------------------------------------------------\n",
       "const          0.0165      0.003      5.362      0.000       0.010       0.023\n",
       "beta          -0.0082      0.003     -2.830      0.009      -0.014      -0.002\n",
       "==============================================================================\n",
       "Omnibus:                        4.531   Durbin-Watson:                   1.311\n",
       "Prob(Omnibus):                  0.104   Jarque-Bera (JB):                2.975\n",
       "Skew:                          -0.820   Prob(JB):                        0.226\n",
       "Kurtosis:                       3.408   Cond. No.                         17.0\n",
       "==============================================================================\n",
       "\n",
       "Notes:\n",
       "[1] Standard Errors assume that the covariance matrix of the errors is correctly specified.\n",
       "\"\"\""
      ]
     },
     "execution_count": 116,
     "metadata": {},
     "output_type": "execute_result"
    }
   ],
   "source": [
    "y = portfolios_excess_1981.mean()\n",
    "X = sm.add_constant(regression_report['beta'])\n",
    "\n",
    "model_2 = sm.OLS(y,X,missing='drop').fit()\n",
    "model_2.summary()"
   ]
  },
  {
   "cell_type": "markdown",
   "metadata": {},
   "source": [
    "#### 3.3(a) Report the R-squared of this regression."
   ]
  },
  {
   "cell_type": "code",
   "execution_count": 125,
   "metadata": {},
   "outputs": [
    {
     "data": {
      "text/plain": [
       "0.258245119213633"
      ]
     },
     "execution_count": 125,
     "metadata": {},
     "output_type": "execute_result"
    }
   ],
   "source": [
    "model_2.rsquared"
   ]
  },
  {
   "cell_type": "markdown",
   "metadata": {},
   "source": [
    "#### 3.3(b) Report the intercept, $ \\eta $"
   ]
  },
  {
   "cell_type": "code",
   "execution_count": 124,
   "metadata": {},
   "outputs": [
    {
     "data": {
      "text/plain": [
       "0.19798077049490959"
      ]
     },
     "execution_count": 124,
     "metadata": {},
     "output_type": "execute_result"
    }
   ],
   "source": [
    "model_2.params[0] * 12 #annualized alpha"
   ]
  },
  {
   "cell_type": "markdown",
   "metadata": {},
   "source": [
    "#### 3.3(c) Report the regression coefficient, $ \\lambda_{m} $."
   ]
  },
  {
   "cell_type": "code",
   "execution_count": 123,
   "metadata": {},
   "outputs": [
    {
     "data": {
      "text/plain": [
       "-0.008179800316649432"
      ]
     },
     "execution_count": 123,
     "metadata": {},
     "output_type": "execute_result"
    }
   ],
   "source": [
    "model_2.params[1] #beta"
   ]
  },
  {
   "cell_type": "markdown",
   "metadata": {},
   "source": [
    "#### What would these three statistics be if (CAPM) were true?\n",
    "- If CAPM were true, the intercept would be equal to zero. The regression coefficient would be equal to the mean excess return of the market. The R-squared would be equal to one."
   ]
  },
  {
   "cell_type": "markdown",
   "metadata": {},
   "source": [
    "#### 3.4 Broadly speaking, do these results support DFA’s belief in size and value portfolios containing premia unrelated to the CAPM?\n",
    "- "
   ]
  }
 ],
 "metadata": {
  "kernelspec": {
   "display_name": "Python 3.9.7 ('base')",
   "language": "python",
   "name": "python3"
  },
  "language_info": {
   "codemirror_mode": {
    "name": "ipython",
    "version": 3
   },
   "file_extension": ".py",
   "mimetype": "text/x-python",
   "name": "python",
   "nbconvert_exporter": "python",
   "pygments_lexer": "ipython3",
   "version": "3.9.7"
  },
  "orig_nbformat": 4,
  "vscode": {
   "interpreter": {
    "hash": "5e62c483ecf48ad4e1bb5f903abeb626d4ffc56eab47e05d9eff835eeb907be7"
   }
  }
 },
 "nbformat": 4,
 "nbformat_minor": 2
}
