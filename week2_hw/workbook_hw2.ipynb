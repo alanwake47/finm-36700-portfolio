{
 "cells": [
  {
   "cell_type": "markdown",
   "metadata": {},
   "source": [
    "# 1 The ProShares ETF Product\n",
    "\n",
    "### 1. “Alternative ETFs”\n",
    "Describe the two types of investments referenced by this term.\n",
    "- alternative asset classes (giving\n",
    "exposure to nonmainstream assets) and\n",
    "- alternative strategies (pursuing investment\n",
    "processes that were not constrained and could\n",
    "use leverage, shorting, and derivatives)."
   ]
  },
  {
   "cell_type": "markdown",
   "metadata": {},
   "source": [
    "### 2. Hedge Funds.\n",
    "\n",
    "#### (a) Using just the information in the case, what are two measures by which hedge funds are an attractive investment?\n",
    "- "
   ]
  },
  {
   "cell_type": "code",
   "execution_count": 229,
   "metadata": {},
   "outputs": [],
   "source": [
    "import pandas as pd\n",
    "import numpy as np\n",
    "import statsmodels.api as sm\n",
    "from statsmodels.regression.rolling import RollingOLS\n",
    "from sklearn.linear_model import LinearRegression\n",
    "import matplotlib.pyplot as plt\n",
    "\n",
    "import seaborn as sns\n",
    "import warnings\n",
    "warnings.filterwarnings(\"ignore\")"
   ]
  },
  {
   "cell_type": "markdown",
   "metadata": {},
   "source": [
    "## 2 Analyzing the Data\n",
    "\n",
    "#### Use the data found on Canvas, in ‘proshares analysis data.xlsx’. It has monthly data on financial indexes and ETFs from Aug 2011 through Sep 2021."
   ]
  },
  {
   "cell_type": "code",
   "execution_count": 230,
   "metadata": {},
   "outputs": [
    {
     "data": {
      "text/html": [
       "<div>\n",
       "<style scoped>\n",
       "    .dataframe tbody tr th:only-of-type {\n",
       "        vertical-align: middle;\n",
       "    }\n",
       "\n",
       "    .dataframe tbody tr th {\n",
       "        vertical-align: top;\n",
       "    }\n",
       "\n",
       "    .dataframe thead th {\n",
       "        text-align: right;\n",
       "    }\n",
       "</style>\n",
       "<table border=\"1\" class=\"dataframe\">\n",
       "  <thead>\n",
       "    <tr style=\"text-align: right;\">\n",
       "      <th></th>\n",
       "      <th>HFRIFWI Index</th>\n",
       "      <th>MLEIFCTR Index</th>\n",
       "      <th>MLEIFCTX Index</th>\n",
       "      <th>HDG US Equity</th>\n",
       "      <th>QAI US Equity</th>\n",
       "    </tr>\n",
       "  </thead>\n",
       "  <tbody>\n",
       "    <tr>\n",
       "      <th>2011-08-31</th>\n",
       "      <td>-0.032149</td>\n",
       "      <td>-0.025588</td>\n",
       "      <td>-0.025689</td>\n",
       "      <td>-0.027035</td>\n",
       "      <td>-0.006489</td>\n",
       "    </tr>\n",
       "    <tr>\n",
       "      <th>2011-09-30</th>\n",
       "      <td>-0.038903</td>\n",
       "      <td>-0.032414</td>\n",
       "      <td>-0.032593</td>\n",
       "      <td>-0.032465</td>\n",
       "      <td>-0.022144</td>\n",
       "    </tr>\n",
       "    <tr>\n",
       "      <th>2011-10-31</th>\n",
       "      <td>0.026858</td>\n",
       "      <td>0.043593</td>\n",
       "      <td>0.043320</td>\n",
       "      <td>0.050530</td>\n",
       "      <td>0.025241</td>\n",
       "    </tr>\n",
       "    <tr>\n",
       "      <th>2011-11-30</th>\n",
       "      <td>-0.013453</td>\n",
       "      <td>-0.012142</td>\n",
       "      <td>-0.012431</td>\n",
       "      <td>-0.028606</td>\n",
       "      <td>-0.007965</td>\n",
       "    </tr>\n",
       "    <tr>\n",
       "      <th>2011-12-31</th>\n",
       "      <td>-0.004479</td>\n",
       "      <td>0.001938</td>\n",
       "      <td>0.001796</td>\n",
       "      <td>0.012875</td>\n",
       "      <td>0.001823</td>\n",
       "    </tr>\n",
       "  </tbody>\n",
       "</table>\n",
       "</div>"
      ],
      "text/plain": [
       "            HFRIFWI Index  MLEIFCTR Index  MLEIFCTX Index  HDG US Equity  \\\n",
       "2011-08-31      -0.032149       -0.025588       -0.025689      -0.027035   \n",
       "2011-09-30      -0.038903       -0.032414       -0.032593      -0.032465   \n",
       "2011-10-31       0.026858        0.043593        0.043320       0.050530   \n",
       "2011-11-30      -0.013453       -0.012142       -0.012431      -0.028606   \n",
       "2011-12-31      -0.004479        0.001938        0.001796       0.012875   \n",
       "\n",
       "            QAI US Equity  \n",
       "2011-08-31      -0.006489  \n",
       "2011-09-30      -0.022144  \n",
       "2011-10-31       0.025241  \n",
       "2011-11-30      -0.007965  \n",
       "2011-12-31       0.001823  "
      ]
     },
     "execution_count": 230,
     "metadata": {},
     "output_type": "execute_result"
    }
   ],
   "source": [
    "hf = pd.read_excel('proshares_analysis_data.xlsx', index_col=0, sheet_name='hedge_fund_series')\n",
    "ml = pd.read_excel('proshares_analysis_data.xlsx', index_col=0, sheet_name='merrill_factors')\n",
    "hf.index = pd.to_datetime(hf.index)\n",
    "hf.head()"
   ]
  },
  {
   "cell_type": "code",
   "execution_count": 231,
   "metadata": {},
   "outputs": [],
   "source": [
    "def stats(df):\n",
    "    mean = df.mean() * 12\n",
    "    volatility = df.std() * np.sqrt(12)\n",
    "    sharpe_ratio = mean/volatility\n",
    "    return pd.DataFrame({'mean': mean, 'volatility': volatility, 'sharpe_ratio': sharpe_ratio})"
   ]
  },
  {
   "cell_type": "code",
   "execution_count": 232,
   "metadata": {},
   "outputs": [],
   "source": [
    "def risk_stats(data, q):\n",
    "    df = data.copy()\n",
    "    df.index = data.index.date\n",
    "    report = pd.DataFrame(columns = df.columns)\n",
    "    \n",
    "    report.loc['Skewness'] = df.skew()\n",
    "    report.loc['Excess Kurtosis'] = df.kurtosis()\n",
    "    report.loc['VaR (negated)'] = -df.quantile(q)\n",
    "    report.loc['Expected Shortfall (negated)'] = -df[df < df.quantile(q)].mean()\n",
    "    \n",
    "    cum_ret = (1 + df).cumprod()\n",
    "    rolling_max = cum_ret.cummax()\n",
    "    drawdown = (cum_ret - rolling_max) / rolling_max\n",
    "    report.loc['Max Drawdown'] = drawdown.min()\n",
    "    report.loc['MDD Start'] = None\n",
    "    report.loc['MDD End'] = drawdown.idxmin()\n",
    "    report.loc['Recovery Date'] = None\n",
    "    \n",
    "    for col in df.columns:\n",
    "        report.loc['MDD Start', col] = (rolling_max.loc[:report.loc['MDD End', col]])[col].idxmax()\n",
    "        recovery_df = (drawdown.loc[report.loc['MDD End', col]:])[col]\n",
    "        # modify the threshold for recovery from 0 to 0.001\n",
    "        try:\n",
    "            report.loc['Recovery Date', col] = recovery_df[recovery_df >= 0].index[0]\n",
    "\n",
    "        except:\n",
    "            report.loc['Recovery Date', col] = None\n",
    "            report.loc['Recovery period (days)'] = None\n",
    "    report.loc['Recovery period (days)'] = (report.loc['Recovery Date'] - report.loc['MDD Start']).dt.days\n",
    "    return round(report,4)"
   ]
  },
  {
   "cell_type": "code",
   "execution_count": 233,
   "metadata": {},
   "outputs": [],
   "source": [
    "def regression(df):\n",
    "    reg_stats_df = pd.DataFrame(index = df.columns, columns = ['Beta', 'Treynor Ratio', 'Information Ratio'])\n",
    "    for col in df.columns:\n",
    "        if col == 'SPY':\n",
    "            continue\n",
    "        # Drop the NAs in y\n",
    "        y = df[col].dropna()\n",
    "        # Align the X with y \n",
    "        X = sm.add_constant(hf['SPY'].loc[y.index])\n",
    "        reg = sm.OLS(y, X).fit()\n",
    "        reg_stats_df.loc[col, 'Beta'] = reg.params[1]\n",
    "        reg_stats_df.loc[col, 'Treynor Ratio'] = df[col].mean() * 12 / reg.params[1]\n",
    "        reg_stats_df.loc[col, 'Information Ratio'] = (reg.params[0] / reg.resid.std()) * np.sqrt(12)\n",
    "    return reg_stats_df[:-1]"
   ]
  },
  {
   "cell_type": "markdown",
   "metadata": {},
   "source": [
    "### 2.1 For the series in the “hedge fund series” tab, report the following summary statistics:1\n",
    "- (a) Mean\n",
    "- (b) Volatility\n",
    "- (c) Sharpe ratio Annualize these statistics."
   ]
  },
  {
   "cell_type": "code",
   "execution_count": 234,
   "metadata": {},
   "outputs": [],
   "source": [
    "hf['SPY'] = ml['SPY US Equity']"
   ]
  },
  {
   "cell_type": "code",
   "execution_count": 235,
   "metadata": {},
   "outputs": [
    {
     "data": {
      "text/html": [
       "<div>\n",
       "<style scoped>\n",
       "    .dataframe tbody tr th:only-of-type {\n",
       "        vertical-align: middle;\n",
       "    }\n",
       "\n",
       "    .dataframe tbody tr th {\n",
       "        vertical-align: top;\n",
       "    }\n",
       "\n",
       "    .dataframe thead th {\n",
       "        text-align: right;\n",
       "    }\n",
       "</style>\n",
       "<table border=\"1\" class=\"dataframe\">\n",
       "  <thead>\n",
       "    <tr style=\"text-align: right;\">\n",
       "      <th></th>\n",
       "      <th>mean</th>\n",
       "      <th>volatility</th>\n",
       "      <th>sharpe_ratio</th>\n",
       "    </tr>\n",
       "  </thead>\n",
       "  <tbody>\n",
       "    <tr>\n",
       "      <th>HFRIFWI Index</th>\n",
       "      <td>0.042867</td>\n",
       "      <td>0.060912</td>\n",
       "      <td>0.703758</td>\n",
       "    </tr>\n",
       "    <tr>\n",
       "      <th>MLEIFCTR Index</th>\n",
       "      <td>0.025665</td>\n",
       "      <td>0.056867</td>\n",
       "      <td>0.451308</td>\n",
       "    </tr>\n",
       "    <tr>\n",
       "      <th>MLEIFCTX Index</th>\n",
       "      <td>0.024278</td>\n",
       "      <td>0.056685</td>\n",
       "      <td>0.428294</td>\n",
       "    </tr>\n",
       "    <tr>\n",
       "      <th>HDG US Equity</th>\n",
       "      <td>0.014007</td>\n",
       "      <td>0.059239</td>\n",
       "      <td>0.236455</td>\n",
       "    </tr>\n",
       "    <tr>\n",
       "      <th>QAI US Equity</th>\n",
       "      <td>0.011576</td>\n",
       "      <td>0.048915</td>\n",
       "      <td>0.236649</td>\n",
       "    </tr>\n",
       "    <tr>\n",
       "      <th>SPY</th>\n",
       "      <td>0.121257</td>\n",
       "      <td>0.145613</td>\n",
       "      <td>0.832741</td>\n",
       "    </tr>\n",
       "  </tbody>\n",
       "</table>\n",
       "</div>"
      ],
      "text/plain": [
       "                    mean  volatility  sharpe_ratio\n",
       "HFRIFWI Index   0.042867    0.060912      0.703758\n",
       "MLEIFCTR Index  0.025665    0.056867      0.451308\n",
       "MLEIFCTX Index  0.024278    0.056685      0.428294\n",
       "HDG US Equity   0.014007    0.059239      0.236455\n",
       "QAI US Equity   0.011576    0.048915      0.236649\n",
       "SPY             0.121257    0.145613      0.832741"
      ]
     },
     "execution_count": 235,
     "metadata": {},
     "output_type": "execute_result"
    }
   ],
   "source": [
    "stats(hf)"
   ]
  },
  {
   "cell_type": "markdown",
   "metadata": {},
   "source": [
    "### 2.2 For the series in the “hedge fund series” tab, , calculate the following statistics related to tail- risk.\n",
    "- (a) Skewness\n",
    "- (b) Excess Kurtosis (in excess of 3)\n",
    "- (c) VaR (.05) - the fifth quantile of historic returns\n",
    "- (d) CVaR (.05) - the mean of the returns at or below the fifth quantile\n",
    "- (e) Maximumdrawdown-include the dates of the max/min/recovery within the maxdrawdown period."
   ]
  },
  {
   "cell_type": "code",
   "execution_count": 249,
   "metadata": {},
   "outputs": [
    {
     "name": "stdout",
     "output_type": "stream",
     "text": [
      "VaR and ES have been reported as positive as per Investopedia conventions\n"
     ]
    }
   ],
   "source": [
    "print('VaR and ES have been reported as positive as per Investopedia conventions')\n",
    "risk_stats(hf, 0.05)\n"
   ]
  },
  {
   "cell_type": "markdown",
   "metadata": {},
   "source": [
    "### 2.3 For the series in the “hedge fund series” tab, run a regression of each against SPY (found in the “merrill factors” tab.) Include an intercept. Report the following regression-based statistics:\n",
    "\n",
    "- (a) Market Beta\n",
    "- (b) Treynor Ratio\n",
    "- (c) Information ratio\n",
    "Annualize these three statistics as appropriate."
   ]
  },
  {
   "cell_type": "code",
   "execution_count": 237,
   "metadata": {},
   "outputs": [
    {
     "data": {
      "text/html": [
       "<div>\n",
       "<style scoped>\n",
       "    .dataframe tbody tr th:only-of-type {\n",
       "        vertical-align: middle;\n",
       "    }\n",
       "\n",
       "    .dataframe tbody tr th {\n",
       "        vertical-align: top;\n",
       "    }\n",
       "\n",
       "    .dataframe thead th {\n",
       "        text-align: right;\n",
       "    }\n",
       "</style>\n",
       "<table border=\"1\" class=\"dataframe\">\n",
       "  <thead>\n",
       "    <tr style=\"text-align: right;\">\n",
       "      <th></th>\n",
       "      <th>Beta</th>\n",
       "      <th>Treynor Ratio</th>\n",
       "      <th>Information Ratio</th>\n",
       "    </tr>\n",
       "  </thead>\n",
       "  <tbody>\n",
       "    <tr>\n",
       "      <th>HFRIFWI Index</th>\n",
       "      <td>0.349957</td>\n",
       "      <td>0.122493</td>\n",
       "      <td>0.012954</td>\n",
       "    </tr>\n",
       "    <tr>\n",
       "      <th>MLEIFCTR Index</th>\n",
       "      <td>0.354876</td>\n",
       "      <td>0.07232</td>\n",
       "      <td>-0.731515</td>\n",
       "    </tr>\n",
       "    <tr>\n",
       "      <th>MLEIFCTX Index</th>\n",
       "      <td>0.353605</td>\n",
       "      <td>0.068658</td>\n",
       "      <td>-0.784565</td>\n",
       "    </tr>\n",
       "    <tr>\n",
       "      <th>HDG US Equity</th>\n",
       "      <td>0.363099</td>\n",
       "      <td>0.038577</td>\n",
       "      <td>-1.123684</td>\n",
       "    </tr>\n",
       "    <tr>\n",
       "      <th>QAI US Equity</th>\n",
       "      <td>0.291895</td>\n",
       "      <td>0.039657</td>\n",
       "      <td>-0.983817</td>\n",
       "    </tr>\n",
       "  </tbody>\n",
       "</table>\n",
       "</div>"
      ],
      "text/plain": [
       "                    Beta Treynor Ratio Information Ratio\n",
       "HFRIFWI Index   0.349957      0.122493          0.012954\n",
       "MLEIFCTR Index  0.354876       0.07232         -0.731515\n",
       "MLEIFCTX Index  0.353605      0.068658         -0.784565\n",
       "HDG US Equity   0.363099      0.038577         -1.123684\n",
       "QAI US Equity   0.291895      0.039657         -0.983817"
      ]
     },
     "execution_count": 237,
     "metadata": {},
     "output_type": "execute_result"
    }
   ],
   "source": [
    "regression(hf)"
   ]
  },
  {
   "cell_type": "markdown",
   "metadata": {},
   "source": [
    "\n",
    "### 2.4 Relative Performance\n",
    "Discuss the previous statistics, and what they tell us about...\n",
    "- (a) the differences between SPY and the hedge-fund series?\n",
    "  - SPY has higher mean, vol and sharpe ratio as seen below compared to rest of HFs. SPY has the highest MDD compared to rest of the HFs.\n",
    "- (b) which performs better between HDG and QAI.\n",
    "  - QAI is better than HDG as it has higher Treynor and Information Ratios. Also QAI has lower VaR and CVaR numbers.\n",
    "- (c) whether HDG and the ML series capture the most notable properties of HFRI.\n",
    "  - HDG and ML dont capture the very high Kurtosis (6.16) and Skewness metrics of HFRI. Additionally, the sharpe (mean /vol) for HFRI is higher than ML and HDG."
   ]
  },
  {
   "cell_type": "code",
   "execution_count": 238,
   "metadata": {},
   "outputs": [
    {
     "data": {
      "text/html": [
       "<div>\n",
       "<style scoped>\n",
       "    .dataframe tbody tr th:only-of-type {\n",
       "        vertical-align: middle;\n",
       "    }\n",
       "\n",
       "    .dataframe tbody tr th {\n",
       "        vertical-align: top;\n",
       "    }\n",
       "\n",
       "    .dataframe thead th {\n",
       "        text-align: right;\n",
       "    }\n",
       "</style>\n",
       "<table border=\"1\" class=\"dataframe\">\n",
       "  <thead>\n",
       "    <tr style=\"text-align: right;\">\n",
       "      <th></th>\n",
       "      <th>mean</th>\n",
       "      <th>volatility</th>\n",
       "      <th>sharpe_ratio</th>\n",
       "    </tr>\n",
       "  </thead>\n",
       "  <tbody>\n",
       "    <tr>\n",
       "      <th>HFRIFWI Index</th>\n",
       "      <td>0.042867</td>\n",
       "      <td>0.060912</td>\n",
       "      <td>0.703758</td>\n",
       "    </tr>\n",
       "    <tr>\n",
       "      <th>MLEIFCTR Index</th>\n",
       "      <td>0.025665</td>\n",
       "      <td>0.056867</td>\n",
       "      <td>0.451308</td>\n",
       "    </tr>\n",
       "    <tr>\n",
       "      <th>MLEIFCTX Index</th>\n",
       "      <td>0.024278</td>\n",
       "      <td>0.056685</td>\n",
       "      <td>0.428294</td>\n",
       "    </tr>\n",
       "    <tr>\n",
       "      <th>HDG US Equity</th>\n",
       "      <td>0.014007</td>\n",
       "      <td>0.059239</td>\n",
       "      <td>0.236455</td>\n",
       "    </tr>\n",
       "    <tr>\n",
       "      <th>QAI US Equity</th>\n",
       "      <td>0.011576</td>\n",
       "      <td>0.048915</td>\n",
       "      <td>0.236649</td>\n",
       "    </tr>\n",
       "    <tr>\n",
       "      <th>SPY</th>\n",
       "      <td>0.121257</td>\n",
       "      <td>0.145613</td>\n",
       "      <td>0.832741</td>\n",
       "    </tr>\n",
       "  </tbody>\n",
       "</table>\n",
       "</div>"
      ],
      "text/plain": [
       "                    mean  volatility  sharpe_ratio\n",
       "HFRIFWI Index   0.042867    0.060912      0.703758\n",
       "MLEIFCTR Index  0.025665    0.056867      0.451308\n",
       "MLEIFCTX Index  0.024278    0.056685      0.428294\n",
       "HDG US Equity   0.014007    0.059239      0.236455\n",
       "QAI US Equity   0.011576    0.048915      0.236649\n",
       "SPY             0.121257    0.145613      0.832741"
      ]
     },
     "execution_count": 238,
     "metadata": {},
     "output_type": "execute_result"
    }
   ],
   "source": [
    "stats(hf)"
   ]
  },
  {
   "cell_type": "markdown",
   "metadata": {},
   "source": [
    "### 2.5 Report the correlation matrix for these assets.\n",
    "- (a) Show the correlations as a heat map.\n",
    "- (b) Which series have the highest and lowest correlations?"
   ]
  },
  {
   "cell_type": "code",
   "execution_count": 239,
   "metadata": {},
   "outputs": [
    {
     "data": {
      "text/plain": [
       "<AxesSubplot:>"
      ]
     },
     "execution_count": 239,
     "metadata": {},
     "output_type": "execute_result"
    },
    {
     "data": {
      "image/png": "[encoded data removed]",
      "text/plain": [
       "<Figure size 432x288 with 2 Axes>"
      ]
     },
     "metadata": {
      "needs_background": "light"
     },
     "output_type": "display_data"
    }
   ],
   "source": [
    "#correlation as heatmap\n",
    "sns.heatmap(hf.corr(), annot=True, cmap='coolwarm')"
   ]
  },
  {
   "cell_type": "code",
   "execution_count": 240,
   "metadata": {},
   "outputs": [
    {
     "name": "stdout",
     "output_type": "stream",
     "text": [
      "The lowest correlation is between SPY and HFRIFWI Index\n",
      "The highest correlation is between MLEIFCTR Index and MLEIFCTX Index\n"
     ]
    }
   ],
   "source": [
    "from sympy import asec\n",
    "\n",
    "\n",
    "correl = hf.corr()\n",
    "print('The lowest correlation is between {} and {}'.format(correl.idxmin().values[0], correl.idxmin().index[0]))\n",
    "for i in range(len(correl)):\n",
    "    correl.iloc[i,i] = 0\n",
    "    \n",
    "corr_rank = correl.unstack().sort_values(ascending=False)\n",
    "\n",
    "print('The highest correlation is between {} and {}'.format(corr_rank.index[0][0], corr_rank.index[0][1]))\n"
   ]
  },
  {
   "cell_type": "markdown",
   "metadata": {},
   "source": [
    "### 2.6 Replicate HFRI with the six factors listed on the “merrill factors” tab. Include a constant, and run the unrestricted regression"
   ]
  },
  {
   "cell_type": "markdown",
   "metadata": {},
   "source": [
    "- (a) Report the intercept and betas.\n",
    "  - See table below\n",
    "- (b) Are the betas realistic position sizes, or do they require huge long-short positions?\n",
    "  - The betas look realistic.\n",
    "- (c) Report the R-squared.\n",
    "  - 0.821 (from table)\n",
    "- (d) Report the volatility of $ε^merr$, (the tracking error.)\n",
    "  - 0.0257"
   ]
  },
  {
   "cell_type": "code",
   "execution_count": 241,
   "metadata": {},
   "outputs": [
    {
     "name": "stdout",
     "output_type": "stream",
     "text": [
      "Residuals std dev annuallized:  0.025750747622352327\n"
     ]
    },
    {
     "data": {
      "text/html": [
       "<table class=\"simpletable\">\n",
       "<caption>OLS Regression Results</caption>\n",
       "<tr>\n",
       "  <th>Dep. Variable:</th>      <td>HFRIFWI Index</td>  <th>  R-squared:         </th> <td>   0.821</td>\n",
       "</tr>\n",
       "<tr>\n",
       "  <th>Model:</th>                   <td>OLS</td>       <th>  Adj. R-squared:    </th> <td>   0.813</td>\n",
       "</tr>\n",
       "<tr>\n",
       "  <th>Method:</th>             <td>Least Squares</td>  <th>  F-statistic:       </th> <td>   97.27</td>\n",
       "</tr>\n",
       "<tr>\n",
       "  <th>Date:</th>             <td>Mon, 10 Oct 2022</td> <th>  Prob (F-statistic):</th> <td>4.68e-45</td>\n",
       "</tr>\n",
       "<tr>\n",
       "  <th>Time:</th>                 <td>12:49:39</td>     <th>  Log-Likelihood:    </th> <td>  467.20</td>\n",
       "</tr>\n",
       "<tr>\n",
       "  <th>No. Observations:</th>      <td>   134</td>      <th>  AIC:               </th> <td>  -920.4</td>\n",
       "</tr>\n",
       "<tr>\n",
       "  <th>Df Residuals:</th>          <td>   127</td>      <th>  BIC:               </th> <td>  -900.1</td>\n",
       "</tr>\n",
       "<tr>\n",
       "  <th>Df Model:</th>              <td>     6</td>      <th>                     </th>     <td> </td>   \n",
       "</tr>\n",
       "<tr>\n",
       "  <th>Covariance Type:</th>      <td>nonrobust</td>    <th>                     </th>     <td> </td>   \n",
       "</tr>\n",
       "</table>\n",
       "<table class=\"simpletable\">\n",
       "<tr>\n",
       "        <td></td>           <th>coef</th>     <th>std err</th>      <th>t</th>      <th>P>|t|</th>  <th>[0.025</th>    <th>0.975]</th>  \n",
       "</tr>\n",
       "<tr>\n",
       "  <th>const</th>         <td>    0.0011</td> <td>    0.001</td> <td>    1.314</td> <td> 0.191</td> <td>   -0.001</td> <td>    0.003</td>\n",
       "</tr>\n",
       "<tr>\n",
       "  <th>SPY US Equity</th> <td>    0.0256</td> <td>    0.042</td> <td>    0.607</td> <td> 0.545</td> <td>   -0.058</td> <td>    0.109</td>\n",
       "</tr>\n",
       "<tr>\n",
       "  <th>USGG3M Index</th>  <td>    0.8346</td> <td>    0.948</td> <td>    0.880</td> <td> 0.381</td> <td>   -1.042</td> <td>    2.711</td>\n",
       "</tr>\n",
       "<tr>\n",
       "  <th>EEM US Equity</th> <td>    0.0741</td> <td>    0.024</td> <td>    3.050</td> <td> 0.003</td> <td>    0.026</td> <td>    0.122</td>\n",
       "</tr>\n",
       "<tr>\n",
       "  <th>EFA US Equity</th> <td>    0.1056</td> <td>    0.041</td> <td>    2.585</td> <td> 0.011</td> <td>    0.025</td> <td>    0.186</td>\n",
       "</tr>\n",
       "<tr>\n",
       "  <th>EUO US Equity</th> <td>    0.0232</td> <td>    0.019</td> <td>    1.211</td> <td> 0.228</td> <td>   -0.015</td> <td>    0.061</td>\n",
       "</tr>\n",
       "<tr>\n",
       "  <th>IWM US Equity</th> <td>    0.1474</td> <td>    0.026</td> <td>    5.569</td> <td> 0.000</td> <td>    0.095</td> <td>    0.200</td>\n",
       "</tr>\n",
       "</table>\n",
       "<table class=\"simpletable\">\n",
       "<tr>\n",
       "  <th>Omnibus:</th>       <td>19.616</td> <th>  Durbin-Watson:     </th> <td>   1.711</td>\n",
       "</tr>\n",
       "<tr>\n",
       "  <th>Prob(Omnibus):</th> <td> 0.000</td> <th>  Jarque-Bera (JB):  </th> <td>  96.415</td>\n",
       "</tr>\n",
       "<tr>\n",
       "  <th>Skew:</th>          <td> 0.095</td> <th>  Prob(JB):          </th> <td>1.16e-21</td>\n",
       "</tr>\n",
       "<tr>\n",
       "  <th>Kurtosis:</th>      <td> 7.151</td> <th>  Cond. No.          </th> <td>1.44e+03</td>\n",
       "</tr>\n",
       "</table><br/><br/>Notes:<br/>[1] Standard Errors assume that the covariance matrix of the errors is correctly specified.<br/>[2] The condition number is large, 1.44e+03. This might indicate that there are<br/>strong multicollinearity or other numerical problems."
      ],
      "text/plain": [
       "<class 'statsmodels.iolib.summary.Summary'>\n",
       "\"\"\"\n",
       "                            OLS Regression Results                            \n",
       "==============================================================================\n",
       "Dep. Variable:          HFRIFWI Index   R-squared:                       0.821\n",
       "Model:                            OLS   Adj. R-squared:                  0.813\n",
       "Method:                 Least Squares   F-statistic:                     97.27\n",
       "Date:                Mon, 10 Oct 2022   Prob (F-statistic):           4.68e-45\n",
       "Time:                        12:49:39   Log-Likelihood:                 467.20\n",
       "No. Observations:                 134   AIC:                            -920.4\n",
       "Df Residuals:                     127   BIC:                            -900.1\n",
       "Df Model:                           6                                         \n",
       "Covariance Type:            nonrobust                                         \n",
       "=================================================================================\n",
       "                    coef    std err          t      P>|t|      [0.025      0.975]\n",
       "---------------------------------------------------------------------------------\n",
       "const             0.0011      0.001      1.314      0.191      -0.001       0.003\n",
       "SPY US Equity     0.0256      0.042      0.607      0.545      -0.058       0.109\n",
       "USGG3M Index      0.8346      0.948      0.880      0.381      -1.042       2.711\n",
       "EEM US Equity     0.0741      0.024      3.050      0.003       0.026       0.122\n",
       "EFA US Equity     0.1056      0.041      2.585      0.011       0.025       0.186\n",
       "EUO US Equity     0.0232      0.019      1.211      0.228      -0.015       0.061\n",
       "IWM US Equity     0.1474      0.026      5.569      0.000       0.095       0.200\n",
       "==============================================================================\n",
       "Omnibus:                       19.616   Durbin-Watson:                   1.711\n",
       "Prob(Omnibus):                  0.000   Jarque-Bera (JB):               96.415\n",
       "Skew:                           0.095   Prob(JB):                     1.16e-21\n",
       "Kurtosis:                       7.151   Cond. No.                     1.44e+03\n",
       "==============================================================================\n",
       "\n",
       "Notes:\n",
       "[1] Standard Errors assume that the covariance matrix of the errors is correctly specified.\n",
       "[2] The condition number is large, 1.44e+03. This might indicate that there are\n",
       "strong multicollinearity or other numerical problems.\n",
       "\"\"\""
      ]
     },
     "execution_count": 241,
     "metadata": {},
     "output_type": "execute_result"
    }
   ],
   "source": [
    "y = hf['HFRIFWI Index']\n",
    "X = sm.add_constant(ml)\n",
    "reg = sm.OLS(y, X).fit()\n",
    "print(\"Residuals std dev annuallized: \", reg.resid.std() * np.sqrt(12))\n",
    "reg.summary()"
   ]
  },
  {
   "cell_type": "markdown",
   "metadata": {},
   "source": [
    "### 2.7 Let’s examine the replication out-of-sample.\n",
    "\n",
    "<div>\n",
    "<img src=\"screenshot.png\" width=\"700\"/>\n",
    "</div>"
   ]
  },
  {
   "cell_type": "code",
   "execution_count": 242,
   "metadata": {},
   "outputs": [
    {
     "data": {
      "text/html": [
       "<div>\n",
       "<style scoped>\n",
       "    .dataframe tbody tr th:only-of-type {\n",
       "        vertical-align: middle;\n",
       "    }\n",
       "\n",
       "    .dataframe tbody tr th {\n",
       "        vertical-align: top;\n",
       "    }\n",
       "\n",
       "    .dataframe thead th {\n",
       "        text-align: right;\n",
       "    }\n",
       "</style>\n",
       "<table border=\"1\" class=\"dataframe\">\n",
       "  <thead>\n",
       "    <tr style=\"text-align: right;\">\n",
       "      <th></th>\n",
       "      <th>const</th>\n",
       "      <th>SPY US Equity</th>\n",
       "      <th>USGG3M Index</th>\n",
       "      <th>EEM US Equity</th>\n",
       "      <th>EFA US Equity</th>\n",
       "      <th>EUO US Equity</th>\n",
       "      <th>IWM US Equity</th>\n",
       "    </tr>\n",
       "  </thead>\n",
       "  <tbody>\n",
       "    <tr>\n",
       "      <th>2022-05-31</th>\n",
       "      <td>0.004084</td>\n",
       "      <td>0.014981</td>\n",
       "      <td>-2.033076</td>\n",
       "      <td>0.108451</td>\n",
       "      <td>0.115181</td>\n",
       "      <td>0.033973</td>\n",
       "      <td>0.175357</td>\n",
       "    </tr>\n",
       "    <tr>\n",
       "      <th>2022-06-30</th>\n",
       "      <td>0.004204</td>\n",
       "      <td>0.011314</td>\n",
       "      <td>-2.009264</td>\n",
       "      <td>0.106422</td>\n",
       "      <td>0.111324</td>\n",
       "      <td>0.028605</td>\n",
       "      <td>0.181174</td>\n",
       "    </tr>\n",
       "    <tr>\n",
       "      <th>2022-07-31</th>\n",
       "      <td>0.004532</td>\n",
       "      <td>0.001035</td>\n",
       "      <td>-2.399443</td>\n",
       "      <td>0.118317</td>\n",
       "      <td>0.107350</td>\n",
       "      <td>0.020165</td>\n",
       "      <td>0.176503</td>\n",
       "    </tr>\n",
       "    <tr>\n",
       "      <th>2022-08-31</th>\n",
       "      <td>0.004210</td>\n",
       "      <td>-0.001067</td>\n",
       "      <td>-1.796845</td>\n",
       "      <td>0.128498</td>\n",
       "      <td>0.076688</td>\n",
       "      <td>0.018624</td>\n",
       "      <td>0.189947</td>\n",
       "    </tr>\n",
       "    <tr>\n",
       "      <th>2022-09-30</th>\n",
       "      <td>0.003941</td>\n",
       "      <td>-0.045773</td>\n",
       "      <td>-0.356888</td>\n",
       "      <td>0.086782</td>\n",
       "      <td>0.090389</td>\n",
       "      <td>0.005495</td>\n",
       "      <td>0.224953</td>\n",
       "    </tr>\n",
       "  </tbody>\n",
       "</table>\n",
       "</div>"
      ],
      "text/plain": [
       "               const  SPY US Equity  USGG3M Index  EEM US Equity  \\\n",
       "2022-05-31  0.004084       0.014981     -2.033076       0.108451   \n",
       "2022-06-30  0.004204       0.011314     -2.009264       0.106422   \n",
       "2022-07-31  0.004532       0.001035     -2.399443       0.118317   \n",
       "2022-08-31  0.004210      -0.001067     -1.796845       0.128498   \n",
       "2022-09-30  0.003941      -0.045773     -0.356888       0.086782   \n",
       "\n",
       "            EFA US Equity  EUO US Equity  IWM US Equity  \n",
       "2022-05-31       0.115181       0.033973       0.175357  \n",
       "2022-06-30       0.111324       0.028605       0.181174  \n",
       "2022-07-31       0.107350       0.020165       0.176503  \n",
       "2022-08-31       0.076688       0.018624       0.189947  \n",
       "2022-09-30       0.090389       0.005495       0.224953  "
      ]
     },
     "execution_count": 242,
     "metadata": {},
     "output_type": "execute_result"
    }
   ],
   "source": [
    "model_60 = RollingOLS(y, X, window=60)\n",
    "model_60_beta = model_60.fit().params.copy()\n",
    "model_60.fit().params.tail(5)"
   ]
  },
  {
   "cell_type": "code",
   "execution_count": 243,
   "metadata": {},
   "outputs": [
    {
     "data": {
      "text/html": [
       "<div>\n",
       "<style scoped>\n",
       "    .dataframe tbody tr th:only-of-type {\n",
       "        vertical-align: middle;\n",
       "    }\n",
       "\n",
       "    .dataframe tbody tr th {\n",
       "        vertical-align: top;\n",
       "    }\n",
       "\n",
       "    .dataframe thead th {\n",
       "        text-align: right;\n",
       "    }\n",
       "</style>\n",
       "<table border=\"1\" class=\"dataframe\">\n",
       "  <thead>\n",
       "    <tr style=\"text-align: right;\">\n",
       "      <th></th>\n",
       "      <th>in_sample</th>\n",
       "      <th>out_sample</th>\n",
       "      <th>HFRIFWI Index</th>\n",
       "      <th>static</th>\n",
       "    </tr>\n",
       "  </thead>\n",
       "  <tbody>\n",
       "    <tr>\n",
       "      <th>in_sample</th>\n",
       "      <td>1.000000</td>\n",
       "      <td>0.993332</td>\n",
       "      <td>0.930242</td>\n",
       "      <td>0.990015</td>\n",
       "    </tr>\n",
       "    <tr>\n",
       "      <th>out_sample</th>\n",
       "      <td>0.993332</td>\n",
       "      <td>1.000000</td>\n",
       "      <td>0.887358</td>\n",
       "      <td>0.986613</td>\n",
       "    </tr>\n",
       "    <tr>\n",
       "      <th>HFRIFWI Index</th>\n",
       "      <td>0.930242</td>\n",
       "      <td>0.887358</td>\n",
       "      <td>1.000000</td>\n",
       "      <td>0.906244</td>\n",
       "    </tr>\n",
       "    <tr>\n",
       "      <th>static</th>\n",
       "      <td>0.990015</td>\n",
       "      <td>0.986613</td>\n",
       "      <td>0.906244</td>\n",
       "      <td>1.000000</td>\n",
       "    </tr>\n",
       "  </tbody>\n",
       "</table>\n",
       "</div>"
      ],
      "text/plain": [
       "               in_sample  out_sample  HFRIFWI Index    static\n",
       "in_sample       1.000000    0.993332       0.930242  0.990015\n",
       "out_sample      0.993332    1.000000       0.887358  0.986613\n",
       "HFRIFWI Index   0.930242    0.887358       1.000000  0.906244\n",
       "static          0.990015    0.986613       0.906244  1.000000"
      ]
     },
     "execution_count": 243,
     "metadata": {},
     "output_type": "execute_result"
    }
   ],
   "source": [
    "#In-sample replication for t=61\n",
    "is_replication = (model_60_beta * X).sum(axis=1, skipna=False)\n",
    "out_replication = (model_60_beta.shift(1) * X).sum(axis=1, skipna=False)\n",
    "\n",
    "rep_df = pd.DataFrame({'in_sample': is_replication, 'out_sample': out_replication, 'HFRIFWI Index': y, 'static':reg.fittedvalues})\n",
    "rep_df.corr()"
   ]
  },
  {
   "cell_type": "code",
   "execution_count": 244,
   "metadata": {},
   "outputs": [
    {
     "data": {
      "text/plain": [
       "<AxesSubplot:>"
      ]
     },
     "execution_count": 244,
     "metadata": {},
     "output_type": "execute_result"
    },
    {
     "data": {
      "image/png": "[encoded data removed]",
      "text/plain": [
       "<Figure size 1080x576 with 1 Axes>"
      ]
     },
     "metadata": {
      "needs_background": "light"
     },
     "output_type": "display_data"
    }
   ],
   "source": [
    "rep_df[['out_sample','HFRIFWI Index']].plot(figsize=(15,8))"
   ]
  },
  {
   "cell_type": "markdown",
   "metadata": {},
   "source": [
    "\n",
    "### 2.7 How well does the out-of-sample replication perform with respect to the target?\n",
    "- The out of sample is well correlated with the Index and seems to trace the target well."
   ]
  },
  {
   "cell_type": "markdown",
   "metadata": {},
   "source": [
    "### 2.8 We estimated the replications using an intercept. Try the full-sample estimation, but this time without an intercept.\n",
    "Report\n",
    "- (a) the regression beta. How does it compare to the estimated beta with an intercept $ \\hat{\\beta}^{merr} $\n",
    "  - Beta in 3-month T-bills are quite high compared to the model with an intercept. Probably due to T-bill being the safest product in our list, they act as flat payoffs, i.e. an intercept.\n"
   ]
  },
  {
   "cell_type": "code",
   "execution_count": 245,
   "metadata": {},
   "outputs": [
    {
     "data": {
      "text/html": [
       "<table class=\"simpletable\">\n",
       "<caption>OLS Regression Results</caption>\n",
       "<tr>\n",
       "  <th>Dep. Variable:</th>      <td>HFRIFWI Index</td>  <th>  R-squared (uncentered):</th>      <td>   0.826</td>\n",
       "</tr>\n",
       "<tr>\n",
       "  <th>Model:</th>                   <td>OLS</td>       <th>  Adj. R-squared (uncentered):</th> <td>   0.818</td>\n",
       "</tr>\n",
       "<tr>\n",
       "  <th>Method:</th>             <td>Least Squares</td>  <th>  F-statistic:       </th>          <td>   101.3</td>\n",
       "</tr>\n",
       "<tr>\n",
       "  <th>Date:</th>             <td>Mon, 10 Oct 2022</td> <th>  Prob (F-statistic):</th>          <td>3.55e-46</td>\n",
       "</tr>\n",
       "<tr>\n",
       "  <th>Time:</th>                 <td>12:49:39</td>     <th>  Log-Likelihood:    </th>          <td>  466.29</td>\n",
       "</tr>\n",
       "<tr>\n",
       "  <th>No. Observations:</th>      <td>   134</td>      <th>  AIC:               </th>          <td>  -920.6</td>\n",
       "</tr>\n",
       "<tr>\n",
       "  <th>Df Residuals:</th>          <td>   128</td>      <th>  BIC:               </th>          <td>  -903.2</td>\n",
       "</tr>\n",
       "<tr>\n",
       "  <th>Df Model:</th>              <td>     6</td>      <th>                     </th>              <td> </td>   \n",
       "</tr>\n",
       "<tr>\n",
       "  <th>Covariance Type:</th>      <td>nonrobust</td>    <th>                     </th>              <td> </td>   \n",
       "</tr>\n",
       "</table>\n",
       "<table class=\"simpletable\">\n",
       "<tr>\n",
       "        <td></td>           <th>coef</th>     <th>std err</th>      <th>t</th>      <th>P>|t|</th>  <th>[0.025</th>    <th>0.975]</th>  \n",
       "</tr>\n",
       "<tr>\n",
       "  <th>SPY US Equity</th> <td>    0.0404</td> <td>    0.041</td> <td>    0.993</td> <td> 0.323</td> <td>   -0.040</td> <td>    0.121</td>\n",
       "</tr>\n",
       "<tr>\n",
       "  <th>USGG3M Index</th>  <td>    1.5517</td> <td>    0.778</td> <td>    1.995</td> <td> 0.048</td> <td>    0.013</td> <td>    3.091</td>\n",
       "</tr>\n",
       "<tr>\n",
       "  <th>EEM US Equity</th> <td>    0.0731</td> <td>    0.024</td> <td>    2.998</td> <td> 0.003</td> <td>    0.025</td> <td>    0.121</td>\n",
       "</tr>\n",
       "<tr>\n",
       "  <th>EFA US Equity</th> <td>    0.1008</td> <td>    0.041</td> <td>    2.470</td> <td> 0.015</td> <td>    0.020</td> <td>    0.181</td>\n",
       "</tr>\n",
       "<tr>\n",
       "  <th>EUO US Equity</th> <td>    0.0249</td> <td>    0.019</td> <td>    1.297</td> <td> 0.197</td> <td>   -0.013</td> <td>    0.063</td>\n",
       "</tr>\n",
       "<tr>\n",
       "  <th>IWM US Equity</th> <td>    0.1444</td> <td>    0.026</td> <td>    5.460</td> <td> 0.000</td> <td>    0.092</td> <td>    0.197</td>\n",
       "</tr>\n",
       "</table>\n",
       "<table class=\"simpletable\">\n",
       "<tr>\n",
       "  <th>Omnibus:</th>       <td>17.937</td> <th>  Durbin-Watson:     </th> <td>   1.677</td>\n",
       "</tr>\n",
       "<tr>\n",
       "  <th>Prob(Omnibus):</th> <td> 0.000</td> <th>  Jarque-Bera (JB):  </th> <td>  78.442</td>\n",
       "</tr>\n",
       "<tr>\n",
       "  <th>Skew:</th>          <td> 0.085</td> <th>  Prob(JB):          </th> <td>9.26e-18</td>\n",
       "</tr>\n",
       "<tr>\n",
       "  <th>Kurtosis:</th>      <td> 6.744</td> <th>  Cond. No.          </th> <td>    110.</td>\n",
       "</tr>\n",
       "</table><br/><br/>Notes:<br/>[1] R² is computed without centering (uncentered) since the model does not contain a constant.<br/>[2] Standard Errors assume that the covariance matrix of the errors is correctly specified."
      ],
      "text/plain": [
       "<class 'statsmodels.iolib.summary.Summary'>\n",
       "\"\"\"\n",
       "                                 OLS Regression Results                                \n",
       "=======================================================================================\n",
       "Dep. Variable:          HFRIFWI Index   R-squared (uncentered):                   0.826\n",
       "Model:                            OLS   Adj. R-squared (uncentered):              0.818\n",
       "Method:                 Least Squares   F-statistic:                              101.3\n",
       "Date:                Mon, 10 Oct 2022   Prob (F-statistic):                    3.55e-46\n",
       "Time:                        12:49:39   Log-Likelihood:                          466.29\n",
       "No. Observations:                 134   AIC:                                     -920.6\n",
       "Df Residuals:                     128   BIC:                                     -903.2\n",
       "Df Model:                           6                                                  \n",
       "Covariance Type:            nonrobust                                                  \n",
       "=================================================================================\n",
       "                    coef    std err          t      P>|t|      [0.025      0.975]\n",
       "---------------------------------------------------------------------------------\n",
       "SPY US Equity     0.0404      0.041      0.993      0.323      -0.040       0.121\n",
       "USGG3M Index      1.5517      0.778      1.995      0.048       0.013       3.091\n",
       "EEM US Equity     0.0731      0.024      2.998      0.003       0.025       0.121\n",
       "EFA US Equity     0.1008      0.041      2.470      0.015       0.020       0.181\n",
       "EUO US Equity     0.0249      0.019      1.297      0.197      -0.013       0.063\n",
       "IWM US Equity     0.1444      0.026      5.460      0.000       0.092       0.197\n",
       "==============================================================================\n",
       "Omnibus:                       17.937   Durbin-Watson:                   1.677\n",
       "Prob(Omnibus):                  0.000   Jarque-Bera (JB):               78.442\n",
       "Skew:                           0.085   Prob(JB):                     9.26e-18\n",
       "Kurtosis:                       6.744   Cond. No.                         110.\n",
       "==============================================================================\n",
       "\n",
       "Notes:\n",
       "[1] R² is computed without centering (uncentered) since the model does not contain a constant.\n",
       "[2] Standard Errors assume that the covariance matrix of the errors is correctly specified.\n",
       "\"\"\""
      ]
     },
     "execution_count": 245,
     "metadata": {},
     "output_type": "execute_result"
    }
   ],
   "source": [
    "y = hf['HFRIFWI Index']\n",
    "X = ml\n",
    "reg_no_int = sm.OLS(y, X).fit()\n",
    "reg_no_int.summary()"
   ]
  },
  {
   "cell_type": "code",
   "execution_count": 246,
   "metadata": {},
   "outputs": [
    {
     "data": {
      "text/html": [
       "<div>\n",
       "<style scoped>\n",
       "    .dataframe tbody tr th:only-of-type {\n",
       "        vertical-align: middle;\n",
       "    }\n",
       "\n",
       "    .dataframe tbody tr th {\n",
       "        vertical-align: top;\n",
       "    }\n",
       "\n",
       "    .dataframe thead th {\n",
       "        text-align: right;\n",
       "    }\n",
       "</style>\n",
       "<table border=\"1\" class=\"dataframe\">\n",
       "  <thead>\n",
       "    <tr style=\"text-align: right;\">\n",
       "      <th></th>\n",
       "      <th>no_intercept</th>\n",
       "      <th>with_intercept</th>\n",
       "    </tr>\n",
       "  </thead>\n",
       "  <tbody>\n",
       "    <tr>\n",
       "      <th>SPY US Equity</th>\n",
       "      <td>0.040448</td>\n",
       "      <td>0.025589</td>\n",
       "    </tr>\n",
       "    <tr>\n",
       "      <th>USGG3M Index</th>\n",
       "      <td>1.551706</td>\n",
       "      <td>0.834569</td>\n",
       "    </tr>\n",
       "    <tr>\n",
       "      <th>EEM US Equity</th>\n",
       "      <td>0.073052</td>\n",
       "      <td>0.074135</td>\n",
       "    </tr>\n",
       "    <tr>\n",
       "      <th>EFA US Equity</th>\n",
       "      <td>0.100760</td>\n",
       "      <td>0.105604</td>\n",
       "    </tr>\n",
       "    <tr>\n",
       "      <th>EUO US Equity</th>\n",
       "      <td>0.024909</td>\n",
       "      <td>0.023240</td>\n",
       "    </tr>\n",
       "    <tr>\n",
       "      <th>IWM US Equity</th>\n",
       "      <td>0.144352</td>\n",
       "      <td>0.147375</td>\n",
       "    </tr>\n",
       "  </tbody>\n",
       "</table>\n",
       "</div>"
      ],
      "text/plain": [
       "               no_intercept  with_intercept\n",
       "SPY US Equity      0.040448        0.025589\n",
       "USGG3M Index       1.551706        0.834569\n",
       "EEM US Equity      0.073052        0.074135\n",
       "EFA US Equity      0.100760        0.105604\n",
       "EUO US Equity      0.024909        0.023240\n",
       "IWM US Equity      0.144352        0.147375"
      ]
     },
     "execution_count": 246,
     "metadata": {},
     "output_type": "execute_result"
    }
   ],
   "source": [
    "compare_beta = pd.DataFrame(data=reg_no_int.params, index=X.columns, columns=['no_intercept'])\n",
    "compare_beta['with_intercept'] = reg.params[1:]\n",
    "compare_beta"
   ]
  },
  {
   "cell_type": "markdown",
   "metadata": {},
   "source": [
    "- (b) the mean of the fitted value, $ \\hat{r}^{hfri}_{t} $ . How does it compare to the mean of the HFRI?\n",
    "  - Mean of the fitted values is less than the annuallized mean of HFRI. This is because the intercept is not present in the model."
   ]
  },
  {
   "cell_type": "code",
   "execution_count": 247,
   "metadata": {},
   "outputs": [
    {
     "name": "stdout",
     "output_type": "stream",
     "text": [
      "HFRI Index annuallized mean is  0.0429\n",
      "fitted values annuallized mean is  0.035\n"
     ]
    }
   ],
   "source": [
    "print(\"HFRI Index annuallized mean is \",round(hf['HFRIFWI Index'].mean() * 12, 4))\n",
    "print(\"fitted values annuallized mean is \",round(reg_no_int.fittedvalues.mean() * 12, 4))"
   ]
  },
  {
   "cell_type": "markdown",
   "metadata": {},
   "source": [
    "- (c) the correlations of the fitted values, $ \\hat{r}^{hfri}_{t} $ to the HFRI. How does the correlation compare to that of the fitted values with an intercept?\n",
    "  - The correlation is slightly lower than the in-sample model with an intercept. This is because the intercept is not present in this model."
   ]
  },
  {
   "cell_type": "code",
   "execution_count": 248,
   "metadata": {},
   "outputs": [
    {
     "data": {
      "text/html": [
       "<div>\n",
       "<style scoped>\n",
       "    .dataframe tbody tr th:only-of-type {\n",
       "        vertical-align: middle;\n",
       "    }\n",
       "\n",
       "    .dataframe tbody tr th {\n",
       "        vertical-align: top;\n",
       "    }\n",
       "\n",
       "    .dataframe thead th {\n",
       "        text-align: right;\n",
       "    }\n",
       "</style>\n",
       "<table border=\"1\" class=\"dataframe\">\n",
       "  <thead>\n",
       "    <tr style=\"text-align: right;\">\n",
       "      <th></th>\n",
       "      <th>in_sample</th>\n",
       "      <th>out_sample</th>\n",
       "      <th>HFRIFWI Index</th>\n",
       "      <th>static</th>\n",
       "      <th>no_intercept</th>\n",
       "    </tr>\n",
       "  </thead>\n",
       "  <tbody>\n",
       "    <tr>\n",
       "      <th>in_sample</th>\n",
       "      <td>1.000000</td>\n",
       "      <td>0.993332</td>\n",
       "      <td>0.930242</td>\n",
       "      <td>0.990015</td>\n",
       "      <td>0.987919</td>\n",
       "    </tr>\n",
       "    <tr>\n",
       "      <th>out_sample</th>\n",
       "      <td>0.993332</td>\n",
       "      <td>1.000000</td>\n",
       "      <td>0.887358</td>\n",
       "      <td>0.986613</td>\n",
       "      <td>0.984103</td>\n",
       "    </tr>\n",
       "    <tr>\n",
       "      <th>HFRIFWI Index</th>\n",
       "      <td>0.930242</td>\n",
       "      <td>0.887358</td>\n",
       "      <td>1.000000</td>\n",
       "      <td>0.906244</td>\n",
       "      <td>0.905696</td>\n",
       "    </tr>\n",
       "    <tr>\n",
       "      <th>static</th>\n",
       "      <td>0.990015</td>\n",
       "      <td>0.986613</td>\n",
       "      <td>0.906244</td>\n",
       "      <td>1.000000</td>\n",
       "      <td>0.999395</td>\n",
       "    </tr>\n",
       "    <tr>\n",
       "      <th>no_intercept</th>\n",
       "      <td>0.987919</td>\n",
       "      <td>0.984103</td>\n",
       "      <td>0.905696</td>\n",
       "      <td>0.999395</td>\n",
       "      <td>1.000000</td>\n",
       "    </tr>\n",
       "  </tbody>\n",
       "</table>\n",
       "</div>"
      ],
      "text/plain": [
       "               in_sample  out_sample  HFRIFWI Index    static  no_intercept\n",
       "in_sample       1.000000    0.993332       0.930242  0.990015      0.987919\n",
       "out_sample      0.993332    1.000000       0.887358  0.986613      0.984103\n",
       "HFRIFWI Index   0.930242    0.887358       1.000000  0.906244      0.905696\n",
       "static          0.990015    0.986613       0.906244  1.000000      0.999395\n",
       "no_intercept    0.987919    0.984103       0.905696  0.999395      1.000000"
      ]
     },
     "execution_count": 248,
     "metadata": {},
     "output_type": "execute_result"
    }
   ],
   "source": [
    "rep_df['no_intercept'] = reg_no_int.fittedvalues\n",
    "rep_df.corr()"
   ]
  },
  {
   "cell_type": "markdown",
   "metadata": {},
   "source": [
    "### Do you think Merrill and ProShares fit their replicators with an intercept or not?\n",
    "- We think that Merrill and Proshares are not fitting their replicators with an intercept, as these replicators are ETFs trying to deliver the same returns as HF index. Having said that an intercept wouldn't be appropriate as the returns need to match that of the HF index and not have a spread.\n",
    "- If we were trying to hedge two portfolios, like for example a call option using a short position on the stock, then a spread in the returns would be acceptable since it can we covered using a constant yield instrument."
   ]
  }
 ],
 "metadata": {
  "kernelspec": {
   "display_name": "Python 3.9.7 ('base')",
   "language": "python",
   "name": "python3"
  },
  "language_info": {
   "codemirror_mode": {
    "name": "ipython",
    "version": 3
   },
   "file_extension": ".py",
   "mimetype": "text/x-python",
   "name": "python",
   "nbconvert_exporter": "python",
   "pygments_lexer": "ipython3",
   "version": "3.9.7"
  },
  "orig_nbformat": 4,
  "vscode": {
   "interpreter": {
    "hash": "5e62c483ecf48ad4e1bb5f903abeb626d4ffc56eab47e05d9eff835eeb907be7"
   }
  }
 },
 "nbformat": 4,
 "nbformat_minor": 2
}
